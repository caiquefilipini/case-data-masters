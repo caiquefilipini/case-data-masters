{
 "cells": [
  {
   "cell_type": "markdown",
   "id": "59e910e5-6d41-428b-aa53-22c3f482d565",
   "metadata": {},
   "source": [
    "***\n",
    "<!-- <img src=\"../images/santander-logo-png.png\" alt=\"alt text\" width=\"70\"/> -->"
   ]
  },
  {
   "cell_type": "markdown",
   "id": "5b52a939-3a2d-4214-9c84-f6ad90ab81db",
   "metadata": {},
   "source": [
    "# <font color='red' size=10>Case Data Masters - Santander </font>"
   ]
  },
  {
   "cell_type": "markdown",
   "id": "60a351c6-fe62-47b0-8a50-f06353bc852f",
   "metadata": {},
   "source": [
    "Link do Projeto no GitHub: https://github.com/caiquefilipini/case-data-masters"
   ]
  },
  {
   "cell_type": "markdown",
   "id": "95dc5b84-4efb-4596-bbb3-f5f641182448",
   "metadata": {},
   "source": [
    "___"
   ]
  },
  {
   "cell_type": "markdown",
   "id": "3e33decf-b975-46d1-ba28-a3b9ed844c34",
   "metadata": {},
   "source": [
    "# <font color=green>Sumário</font>"
   ]
  },
  {
   "cell_type": "markdown",
   "id": "2549b44d-aa09-490d-8fb8-697182812fe4",
   "metadata": {},
   "source": [
    "<!-- <font size=3> -->\n",
    "[1. Enunciado Geral](#1.-Enunciado-Geral)<br>\n",
    "\n",
    "[2. Questão A](#2.-Questão-A)\n",
    "- [2.1. Enunciado](#2.1.-Enunciado)\n",
    "- [2.2. Solução](#2.2.-Solução)\n",
    "    - [2.2.1. Imports & Configs](#2.2.1.-Imports-&-Configs)\n",
    "    - [2.2.2. Carregando os Dados](#2.2.2.-Carregando-os-Dados)\n",
    "    - [2.2.3. Informações sobre os Dados](#2.2.3.-Informações-sobre-os-Dados)\n",
    "    - [2.2.4. Divisão da base em Treino e Teste](#2.2.4.-Divisão-da-base-em-Treino-e-Teste)\n",
    "    - [2.2.5. Separando a base em Treino e Validação](#2.2.5.-Separando-a-base-em-Treino-e-Validação)\n",
    "    - [2.2.6. Definindo a Função Objetivo](#2.2.6.-Definindo-a-Função-Objetivo)\n",
    "    - [2.2.7. Criando um Baseline](#2.2.7.-Criando-um-Baseline)\n",
    "    - [2.2.8. Data Prep & Modelagem](#2.2.8.-Data-Prep-&-Modelagem)\n",
    "    - [2.2.9. Ajustando o Modelo nos Dados de Treino e Validação](#2.2.9.-Ajustando-o-Modelo-nos-Dados-de-Treino-e-Validação)\n",
    "    - [2.2.10. Escorando o Modelo na Base de Teste](#2.2.10.-Escorando-o-Modelo-na-Base-de-Teste)\n",
    "    - [2.2.11. Calculando a Perfomance do Modelo](#2.2.11.-Calculando-a-Perfomance-do-Modelo)\n",
    "    - [2.2.12. Ajustando o Modelo em todo o Conjunto de Dados](#2.2.12.-Ajustando-o-Modelo-em-todo-o-Conjunto-de-Dados)\n",
    "    - [2.2.13. Salvando o Modelo que será colocado em Produção](#2.2.13.-Salvando-o-Modelo-que-será-colocado-em-Produção)\n",
    "    - [2.2.14. Criando uma função que Escora a Base](#2.2.14.-Criando-uma-função-que-Escora-a-Base)\n",
    "    - [2.2.15. Possíveis melhorias para a V2](#2.2.15.-Possíveis-melhorias-para-a-V2)\n",
    "\n",
    "[3. Questão B](#3.-Questão-B)\n",
    "- [3.1. Enunciado](#3.1.-Enunciado)\n",
    "- [3.2. Solução](#3.2.-Solução)\n",
    "    - [3.2.1. Definindo o Ponto de Corte Ótimo](#3.2.1.-Definindo-o-Ponto-de-Corte-Ótimo)\n",
    "    - [3.2.2. Atribuindo as Notas na Base de Teste](#3.2.2.-Atribuindo-as-Notas-na-Base-de-Teste)\n",
    "    - [3.2.3. Calculando o Benefício Esperado da Ação de Retenção](#3.2.3.-Calculando-o-Benefício-Esperado-da-Ação-de-Retenção)\n",
    "    - [3.2.4. Possíveis melhorias para a V2](#3.2.4.-Possíveis-melhorias-para-a-V2)\n",
    "\n",
    "[4. Questão C](#4.-Questão-C)\n",
    "- [4.1. Enunciado](#4.1.-Enunciado)\n",
    "- [4.2. Solução](#4.2.-Solução)\n",
    "    - [4.2.1. Escalonando os Dados](#4.2.1.-Escalonando-os-Dados)\n",
    "    - [4.2.2. Definindo a Quantidade Ideal de Clusters](#4.2.2.-Definindo-a-Quantidade-Ideal-de-Clusters)\n",
    "    - [4.2.3. Ajustando o Modelo Final](#4.2.3.-Ajustando-o-Modelo-Final)\n",
    "    - [4.2.4. Calculando o Lucro Esperado por Cliente de Cada Cluster](#4.2.4.-Calculando-o-Lucro-Esperado-por-Cliente-de-Cada-Cluster)\n",
    "    - [4.2.5. Adaptando a Função para Escorar os Clusters](#4.2.5.-Adaptando-a-Função-para-Escorar-os-Clusters)\n",
    "    - [4.2.6. Possíveis melhorias para a V2](#4.2.6.-Possíveis-melhorias-para-a-V2)\n",
    "    \n",
    "\n",
    "\n",
    "<!-- <\\font> -->"
   ]
  },
  {
   "cell_type": "markdown",
   "id": "a2fc4fbd-2945-479f-a36a-c187f814930f",
   "metadata": {},
   "source": [
    "\n",
    "***"
   ]
  },
  {
   "cell_type": "markdown",
   "id": "1432f171-1ec8-4fed-90d5-57831e2c498c",
   "metadata": {},
   "source": [
    "# <font color=green>1. Enunciado Geral</font>"
   ]
  },
  {
   "cell_type": "markdown",
   "id": "e5741e79-d47b-4814-91d7-cb998a52432e",
   "metadata": {},
   "source": [
    "Para resolver este case você usará um conjunto de dados sintéticos contendo um grande núero de variáveis numéricas. A coluna 'TARGET' é a variável resposta. Ela é igual:\n",
    "\n",
    "> 1 para clientes insatisfeitos<br>\n",
    "> 0 para clientes satisfeitos\n",
    "\n",
    "Duas bases são dadas, uma para treino e uma para avaliação. Três são a tarefas a serem realizadas.\n",
    "<br><br>\n",
    "BASES: As bases (train e test) podem ser encontradas aqui: https://www.kaggle.com/c/santander-customer-satisfaction/data"
   ]
  },
  {
   "cell_type": "markdown",
   "id": "6f307e0b-91e0-4cef-9dae-3a7de3aea1fe",
   "metadata": {},
   "source": [
    "[Sumário](#Sumário)"
   ]
  },
  {
   "cell_type": "markdown",
   "id": "3b1334e0-1ba0-4924-b7a2-3b68d46ff994",
   "metadata": {},
   "source": [
    "***"
   ]
  },
  {
   "cell_type": "markdown",
   "id": "b7eff821-fa54-49e8-93cd-cc68d8ef25d9",
   "metadata": {
    "tags": []
   },
   "source": [
    "# <font color=green>2. Questão A</font>"
   ]
  },
  {
   "cell_type": "markdown",
   "id": "204961f6-41e9-4864-bbf1-417e63c16363",
   "metadata": {},
   "source": [
    "## 2.1. Enunciado"
   ]
  },
  {
   "cell_type": "markdown",
   "id": "ac0bf267-8614-4c68-9bc3-860779eee1db",
   "metadata": {},
   "source": [
    "Um falso positivo ocorre quando classificamos um cliente como insatisfeito, mas ele não se comporta como tal. Neste caso, o custo de preparar e executar uma ação de retenção é um valor fixo de 10 reais por cliente. Nada é ganho pois a ação de retenção não é capaz de mudar o comportamento do cliente.\n",
    "<br><br>\n",
    "Um falso negativo ocorre quando um cliente é previsto como satisfeito, ma na verdade ele estava insatisfeito. Neste caso, nenhum dinheiro foi gasto e nada foi ganho.\n",
    "<br><br>\n",
    "Um verdadeiro positivo é um cliente que estava insatisfeito e foi alvo de uma ação de retenção. O benefício neste caso é o lucro da ação (100 reais) menos os custos relacionados à ação de retenção (10 reais)\n",
    "<br><br>\n",
    "Por fim, um verdadeiro negativo é um cliente insatisfeito que não é alvo de nenhuma ação. O benefício neste caso é zero, isto é, nenhum custo, mas nenhum lucro.\n",
    "<br><br>\n",
    "A primeira tarefa deste case é maximizar o lucro esperado por cliente considerando o contexto descrito no parágrafo acima."
   ]
  },
  {
   "cell_type": "markdown",
   "id": "c23dc6ff-1979-4c2a-82a2-efeeb0d31df9",
   "metadata": {},
   "source": [
    "[Sumário](#Sumário)"
   ]
  },
  {
   "cell_type": "markdown",
   "id": "78823637-a186-4aad-80cf-cefb3ede37af",
   "metadata": {},
   "source": [
    "***"
   ]
  },
  {
   "cell_type": "markdown",
   "id": "07350998-075c-4829-a0c9-5cc290432a1a",
   "metadata": {},
   "source": [
    "## 2.2. Solução"
   ]
  },
  {
   "cell_type": "markdown",
   "id": "3d2e44e9-977c-4cfc-bbb0-19b83b25263b",
   "metadata": {},
   "source": [
    "Podemos traduzir o parágrafo do exercício pela seguinte tabela:"
   ]
  },
  {
   "cell_type": "markdown",
   "id": "f41deae3-1f5e-4c79-8e6e-c744390d2b02",
   "metadata": {},
   "source": [
    "|Caso|Custo|Receita|\n",
    "|---|---|---|\n",
    "|Falso Positivo|10|0|\n",
    "|Falso Negativo|0|0|\n",
    "|Verdadeiro Positivo|10|100|\n",
    "|Verdadeiro Negativo|0|0|"
   ]
  },
  {
   "cell_type": "markdown",
   "id": "f3e40d5c-d22b-4add-a524-54d3ea25217c",
   "metadata": {},
   "source": [
    "Essa tabela guiará o desenvolvimento do nosso modelo, pois através desses números é que saberemos se nosso modelo é lucrativo ou não."
   ]
  },
  {
   "cell_type": "markdown",
   "id": "92a0e39b-f800-4558-8488-346fcefbf072",
   "metadata": {},
   "source": [
    "[Sumário](#Sumário)"
   ]
  },
  {
   "cell_type": "markdown",
   "id": "0b8d0948-397a-4269-827a-919b11d966e8",
   "metadata": {},
   "source": [
    "### 2.2.1. Imports & Configs"
   ]
  },
  {
   "cell_type": "code",
   "execution_count": 782,
   "id": "ce12d536-0f61-4f1a-b7e3-b6cf63be6618",
   "metadata": {
    "tags": []
   },
   "outputs": [],
   "source": [
    "# Basics\n",
    "import os\n",
    "import numpy as np\n",
    "import pandas as pd\n",
    "from scipy.stats import variation\n",
    "import datetime\n",
    "\n",
    "# Plots\n",
    "import matplotlib.pyplot as plt\n",
    "\n",
    "# Data Prep\n",
    "from sklearn.preprocessing import StandardScaler\n",
    "from imblearn.over_sampling import SMOTE\n",
    "from sklearn.pipeline import Pipeline\n",
    "from sklearn.base import BaseEstimator, TransformerMixin\n",
    "from sklearn.model_selection import train_test_split\n",
    "from imblearn.pipeline import make_pipeline, Pipeline\n",
    "\n",
    "# ML\n",
    "from sklearn.metrics import make_scorer\n",
    "from sklearn.model_selection import StratifiedKFold, GridSearchCV\n",
    "from sklearn.ensemble import RandomForestClassifier\n",
    "from sklearn.cluster import KMeans\n",
    "import pickle\n",
    "\n",
    "# Metrics\n",
    "from sklearn.metrics import confusion_matrix, classification_report, silhouette_score"
   ]
  },
  {
   "cell_type": "code",
   "execution_count": 488,
   "id": "b111a16b-2861-4452-8609-470ca3ce2d4a",
   "metadata": {},
   "outputs": [],
   "source": [
    "# Names & Paths\n",
    "ROOT = os.path.dirname(os.getcwd())\n",
    "DATA = os.path.join(ROOT, 'data')\n",
    "NOTEBOOKS = os.path.join(ROOT, 'notebooks')\n",
    "TRAIN_DATA = os.path.join(DATA, 'train.csv')\n",
    "TEST_DATA = os.path.join(DATA, 'test.csv')\n",
    "MODELS = os.path.join(ROOT, 'models')\n",
    "DATA_OUTPUT = os.path.join(DATA, 'output')"
   ]
  },
  {
   "cell_type": "code",
   "execution_count": 4,
   "id": "c28bd545-006d-4022-9e37-b43dc8d03db5",
   "metadata": {},
   "outputs": [],
   "source": [
    "# Configs\n",
    "import warnings\n",
    "warnings.filterwarnings('ignore')\n",
    "\n",
    "pd.set_option('display.max_columns', 30)\n",
    "\n",
    "plt.rcParams[\"figure.figsize\"] = (15, 10)"
   ]
  },
  {
   "cell_type": "markdown",
   "id": "c20d0af3-04ec-4a36-b07f-4a1dc9b2b2ab",
   "metadata": {},
   "source": [
    "[Sumário](#Sumário)"
   ]
  },
  {
   "cell_type": "markdown",
   "id": "10add9ae-f4c4-47a6-b199-670606a9d097",
   "metadata": {},
   "source": [
    "### 2.2.2. Carregando os Dados"
   ]
  },
  {
   "cell_type": "code",
   "execution_count": 5,
   "id": "fcc65d8a-1b0e-4199-b2e0-f5f7ac1b602d",
   "metadata": {},
   "outputs": [],
   "source": [
    "df_train = pd.read_csv(TRAIN_DATA)"
   ]
  },
  {
   "cell_type": "code",
   "execution_count": 6,
   "id": "ec052b39-784f-4d7a-9919-a9d9bbeca50e",
   "metadata": {},
   "outputs": [],
   "source": [
    "df_test = pd.read_csv(TEST_DATA)"
   ]
  },
  {
   "cell_type": "code",
   "execution_count": 7,
   "id": "716c4171-7ec0-4cec-941e-9f3347106e05",
   "metadata": {},
   "outputs": [
    {
     "data": {
      "text/html": [
       "<div>\n",
       "<style scoped>\n",
       "    .dataframe tbody tr th:only-of-type {\n",
       "        vertical-align: middle;\n",
       "    }\n",
       "\n",
       "    .dataframe tbody tr th {\n",
       "        vertical-align: top;\n",
       "    }\n",
       "\n",
       "    .dataframe thead th {\n",
       "        text-align: right;\n",
       "    }\n",
       "</style>\n",
       "<table border=\"1\" class=\"dataframe\">\n",
       "  <thead>\n",
       "    <tr style=\"text-align: right;\">\n",
       "      <th></th>\n",
       "      <th>ID</th>\n",
       "      <th>var3</th>\n",
       "      <th>var15</th>\n",
       "      <th>imp_ent_var16_ult1</th>\n",
       "      <th>imp_op_var39_comer_ult1</th>\n",
       "      <th>imp_op_var39_comer_ult3</th>\n",
       "      <th>imp_op_var40_comer_ult1</th>\n",
       "      <th>imp_op_var40_comer_ult3</th>\n",
       "      <th>imp_op_var40_efect_ult1</th>\n",
       "      <th>imp_op_var40_efect_ult3</th>\n",
       "      <th>imp_op_var40_ult1</th>\n",
       "      <th>imp_op_var41_comer_ult1</th>\n",
       "      <th>imp_op_var41_comer_ult3</th>\n",
       "      <th>imp_op_var41_efect_ult1</th>\n",
       "      <th>imp_op_var41_efect_ult3</th>\n",
       "      <th>...</th>\n",
       "      <th>saldo_medio_var17_ult3</th>\n",
       "      <th>saldo_medio_var29_hace2</th>\n",
       "      <th>saldo_medio_var29_hace3</th>\n",
       "      <th>saldo_medio_var29_ult1</th>\n",
       "      <th>saldo_medio_var29_ult3</th>\n",
       "      <th>saldo_medio_var33_hace2</th>\n",
       "      <th>saldo_medio_var33_hace3</th>\n",
       "      <th>saldo_medio_var33_ult1</th>\n",
       "      <th>saldo_medio_var33_ult3</th>\n",
       "      <th>saldo_medio_var44_hace2</th>\n",
       "      <th>saldo_medio_var44_hace3</th>\n",
       "      <th>saldo_medio_var44_ult1</th>\n",
       "      <th>saldo_medio_var44_ult3</th>\n",
       "      <th>var38</th>\n",
       "      <th>TARGET</th>\n",
       "    </tr>\n",
       "  </thead>\n",
       "  <tbody>\n",
       "    <tr>\n",
       "      <th>0</th>\n",
       "      <td>1</td>\n",
       "      <td>2</td>\n",
       "      <td>23</td>\n",
       "      <td>0.0</td>\n",
       "      <td>0.0</td>\n",
       "      <td>0.0</td>\n",
       "      <td>0.0</td>\n",
       "      <td>0.0</td>\n",
       "      <td>0.0</td>\n",
       "      <td>0.0</td>\n",
       "      <td>0.0</td>\n",
       "      <td>0.0</td>\n",
       "      <td>0.0</td>\n",
       "      <td>0.0</td>\n",
       "      <td>0.0</td>\n",
       "      <td>...</td>\n",
       "      <td>0.0</td>\n",
       "      <td>0.0</td>\n",
       "      <td>0.0</td>\n",
       "      <td>0.0</td>\n",
       "      <td>0.0</td>\n",
       "      <td>0.0</td>\n",
       "      <td>0.0</td>\n",
       "      <td>0.0</td>\n",
       "      <td>0.0</td>\n",
       "      <td>0.0</td>\n",
       "      <td>0.0</td>\n",
       "      <td>0.0</td>\n",
       "      <td>0.0</td>\n",
       "      <td>39205.170000</td>\n",
       "      <td>0</td>\n",
       "    </tr>\n",
       "    <tr>\n",
       "      <th>1</th>\n",
       "      <td>3</td>\n",
       "      <td>2</td>\n",
       "      <td>34</td>\n",
       "      <td>0.0</td>\n",
       "      <td>0.0</td>\n",
       "      <td>0.0</td>\n",
       "      <td>0.0</td>\n",
       "      <td>0.0</td>\n",
       "      <td>0.0</td>\n",
       "      <td>0.0</td>\n",
       "      <td>0.0</td>\n",
       "      <td>0.0</td>\n",
       "      <td>0.0</td>\n",
       "      <td>0.0</td>\n",
       "      <td>0.0</td>\n",
       "      <td>...</td>\n",
       "      <td>0.0</td>\n",
       "      <td>0.0</td>\n",
       "      <td>0.0</td>\n",
       "      <td>0.0</td>\n",
       "      <td>0.0</td>\n",
       "      <td>0.0</td>\n",
       "      <td>0.0</td>\n",
       "      <td>0.0</td>\n",
       "      <td>0.0</td>\n",
       "      <td>0.0</td>\n",
       "      <td>0.0</td>\n",
       "      <td>0.0</td>\n",
       "      <td>0.0</td>\n",
       "      <td>49278.030000</td>\n",
       "      <td>0</td>\n",
       "    </tr>\n",
       "    <tr>\n",
       "      <th>2</th>\n",
       "      <td>4</td>\n",
       "      <td>2</td>\n",
       "      <td>23</td>\n",
       "      <td>0.0</td>\n",
       "      <td>0.0</td>\n",
       "      <td>0.0</td>\n",
       "      <td>0.0</td>\n",
       "      <td>0.0</td>\n",
       "      <td>0.0</td>\n",
       "      <td>0.0</td>\n",
       "      <td>0.0</td>\n",
       "      <td>0.0</td>\n",
       "      <td>0.0</td>\n",
       "      <td>0.0</td>\n",
       "      <td>0.0</td>\n",
       "      <td>...</td>\n",
       "      <td>0.0</td>\n",
       "      <td>0.0</td>\n",
       "      <td>0.0</td>\n",
       "      <td>0.0</td>\n",
       "      <td>0.0</td>\n",
       "      <td>0.0</td>\n",
       "      <td>0.0</td>\n",
       "      <td>0.0</td>\n",
       "      <td>0.0</td>\n",
       "      <td>0.0</td>\n",
       "      <td>0.0</td>\n",
       "      <td>0.0</td>\n",
       "      <td>0.0</td>\n",
       "      <td>67333.770000</td>\n",
       "      <td>0</td>\n",
       "    </tr>\n",
       "    <tr>\n",
       "      <th>3</th>\n",
       "      <td>8</td>\n",
       "      <td>2</td>\n",
       "      <td>37</td>\n",
       "      <td>0.0</td>\n",
       "      <td>195.0</td>\n",
       "      <td>195.0</td>\n",
       "      <td>0.0</td>\n",
       "      <td>0.0</td>\n",
       "      <td>0.0</td>\n",
       "      <td>0.0</td>\n",
       "      <td>0.0</td>\n",
       "      <td>195.0</td>\n",
       "      <td>195.0</td>\n",
       "      <td>0.0</td>\n",
       "      <td>0.0</td>\n",
       "      <td>...</td>\n",
       "      <td>0.0</td>\n",
       "      <td>0.0</td>\n",
       "      <td>0.0</td>\n",
       "      <td>0.0</td>\n",
       "      <td>0.0</td>\n",
       "      <td>0.0</td>\n",
       "      <td>0.0</td>\n",
       "      <td>0.0</td>\n",
       "      <td>0.0</td>\n",
       "      <td>0.0</td>\n",
       "      <td>0.0</td>\n",
       "      <td>0.0</td>\n",
       "      <td>0.0</td>\n",
       "      <td>64007.970000</td>\n",
       "      <td>0</td>\n",
       "    </tr>\n",
       "    <tr>\n",
       "      <th>4</th>\n",
       "      <td>10</td>\n",
       "      <td>2</td>\n",
       "      <td>39</td>\n",
       "      <td>0.0</td>\n",
       "      <td>0.0</td>\n",
       "      <td>0.0</td>\n",
       "      <td>0.0</td>\n",
       "      <td>0.0</td>\n",
       "      <td>0.0</td>\n",
       "      <td>0.0</td>\n",
       "      <td>0.0</td>\n",
       "      <td>0.0</td>\n",
       "      <td>0.0</td>\n",
       "      <td>0.0</td>\n",
       "      <td>0.0</td>\n",
       "      <td>...</td>\n",
       "      <td>0.0</td>\n",
       "      <td>0.0</td>\n",
       "      <td>0.0</td>\n",
       "      <td>0.0</td>\n",
       "      <td>0.0</td>\n",
       "      <td>0.0</td>\n",
       "      <td>0.0</td>\n",
       "      <td>0.0</td>\n",
       "      <td>0.0</td>\n",
       "      <td>0.0</td>\n",
       "      <td>0.0</td>\n",
       "      <td>0.0</td>\n",
       "      <td>0.0</td>\n",
       "      <td>117310.979016</td>\n",
       "      <td>0</td>\n",
       "    </tr>\n",
       "  </tbody>\n",
       "</table>\n",
       "<p>5 rows × 371 columns</p>\n",
       "</div>"
      ],
      "text/plain": [
       "   ID  var3  var15  imp_ent_var16_ult1  imp_op_var39_comer_ult1  \\\n",
       "0   1     2     23                 0.0                      0.0   \n",
       "1   3     2     34                 0.0                      0.0   \n",
       "2   4     2     23                 0.0                      0.0   \n",
       "3   8     2     37                 0.0                    195.0   \n",
       "4  10     2     39                 0.0                      0.0   \n",
       "\n",
       "   imp_op_var39_comer_ult3  imp_op_var40_comer_ult1  imp_op_var40_comer_ult3  \\\n",
       "0                      0.0                      0.0                      0.0   \n",
       "1                      0.0                      0.0                      0.0   \n",
       "2                      0.0                      0.0                      0.0   \n",
       "3                    195.0                      0.0                      0.0   \n",
       "4                      0.0                      0.0                      0.0   \n",
       "\n",
       "   imp_op_var40_efect_ult1  imp_op_var40_efect_ult3  imp_op_var40_ult1  \\\n",
       "0                      0.0                      0.0                0.0   \n",
       "1                      0.0                      0.0                0.0   \n",
       "2                      0.0                      0.0                0.0   \n",
       "3                      0.0                      0.0                0.0   \n",
       "4                      0.0                      0.0                0.0   \n",
       "\n",
       "   imp_op_var41_comer_ult1  imp_op_var41_comer_ult3  imp_op_var41_efect_ult1  \\\n",
       "0                      0.0                      0.0                      0.0   \n",
       "1                      0.0                      0.0                      0.0   \n",
       "2                      0.0                      0.0                      0.0   \n",
       "3                    195.0                    195.0                      0.0   \n",
       "4                      0.0                      0.0                      0.0   \n",
       "\n",
       "   imp_op_var41_efect_ult3  ...  saldo_medio_var17_ult3  \\\n",
       "0                      0.0  ...                     0.0   \n",
       "1                      0.0  ...                     0.0   \n",
       "2                      0.0  ...                     0.0   \n",
       "3                      0.0  ...                     0.0   \n",
       "4                      0.0  ...                     0.0   \n",
       "\n",
       "   saldo_medio_var29_hace2  saldo_medio_var29_hace3  saldo_medio_var29_ult1  \\\n",
       "0                      0.0                      0.0                     0.0   \n",
       "1                      0.0                      0.0                     0.0   \n",
       "2                      0.0                      0.0                     0.0   \n",
       "3                      0.0                      0.0                     0.0   \n",
       "4                      0.0                      0.0                     0.0   \n",
       "\n",
       "   saldo_medio_var29_ult3  saldo_medio_var33_hace2  saldo_medio_var33_hace3  \\\n",
       "0                     0.0                      0.0                      0.0   \n",
       "1                     0.0                      0.0                      0.0   \n",
       "2                     0.0                      0.0                      0.0   \n",
       "3                     0.0                      0.0                      0.0   \n",
       "4                     0.0                      0.0                      0.0   \n",
       "\n",
       "   saldo_medio_var33_ult1  saldo_medio_var33_ult3  saldo_medio_var44_hace2  \\\n",
       "0                     0.0                     0.0                      0.0   \n",
       "1                     0.0                     0.0                      0.0   \n",
       "2                     0.0                     0.0                      0.0   \n",
       "3                     0.0                     0.0                      0.0   \n",
       "4                     0.0                     0.0                      0.0   \n",
       "\n",
       "   saldo_medio_var44_hace3  saldo_medio_var44_ult1  saldo_medio_var44_ult3  \\\n",
       "0                      0.0                     0.0                     0.0   \n",
       "1                      0.0                     0.0                     0.0   \n",
       "2                      0.0                     0.0                     0.0   \n",
       "3                      0.0                     0.0                     0.0   \n",
       "4                      0.0                     0.0                     0.0   \n",
       "\n",
       "           var38  TARGET  \n",
       "0   39205.170000       0  \n",
       "1   49278.030000       0  \n",
       "2   67333.770000       0  \n",
       "3   64007.970000       0  \n",
       "4  117310.979016       0  \n",
       "\n",
       "[5 rows x 371 columns]"
      ]
     },
     "execution_count": 7,
     "metadata": {},
     "output_type": "execute_result"
    }
   ],
   "source": [
    "df_train.head()"
   ]
  },
  {
   "cell_type": "markdown",
   "id": "9dc86885-e066-4a9f-bfeb-e6297072af22",
   "metadata": {},
   "source": [
    "[Sumário](#Sumário)"
   ]
  },
  {
   "cell_type": "markdown",
   "id": "1708e9fc-ef19-4741-938a-e7060d74aee6",
   "metadata": {},
   "source": [
    "### 2.2.3. Informações sobre os Dados"
   ]
  },
  {
   "cell_type": "code",
   "execution_count": 8,
   "id": "e8b630de-7d5d-424e-9727-418a4e0e7170",
   "metadata": {},
   "outputs": [
    {
     "data": {
      "text/plain": [
       "((76020, 371), (75818, 370))"
      ]
     },
     "execution_count": 8,
     "metadata": {},
     "output_type": "execute_result"
    }
   ],
   "source": [
    "df_train.shape, df_test.shape"
   ]
  },
  {
   "cell_type": "code",
   "execution_count": 9,
   "id": "980fdcb1-759b-4215-bbcf-234eb07c717c",
   "metadata": {},
   "outputs": [
    {
     "data": {
      "text/plain": [
       "Index(['ID', 'var3', 'var15', 'imp_ent_var16_ult1', 'imp_op_var39_comer_ult1',\n",
       "       'imp_op_var39_comer_ult3', 'imp_op_var40_comer_ult1',\n",
       "       'imp_op_var40_comer_ult3', 'imp_op_var40_efect_ult1',\n",
       "       'imp_op_var40_efect_ult3',\n",
       "       ...\n",
       "       'saldo_medio_var29_ult3', 'saldo_medio_var33_hace2',\n",
       "       'saldo_medio_var33_hace3', 'saldo_medio_var33_ult1',\n",
       "       'saldo_medio_var33_ult3', 'saldo_medio_var44_hace2',\n",
       "       'saldo_medio_var44_hace3', 'saldo_medio_var44_ult1',\n",
       "       'saldo_medio_var44_ult3', 'var38'],\n",
       "      dtype='object', length=370)"
      ]
     },
     "execution_count": 9,
     "metadata": {},
     "output_type": "execute_result"
    }
   ],
   "source": [
    "df_test.columns"
   ]
  },
  {
   "cell_type": "markdown",
   "id": "b4d11b7c-f674-42b3-9ad8-30992e5dc957",
   "metadata": {},
   "source": [
    "A base de teste não possui a variável TARGET."
   ]
  },
  {
   "cell_type": "code",
   "execution_count": 10,
   "id": "26dd2914-d108-4db7-86c2-caff53c17dac",
   "metadata": {},
   "outputs": [
    {
     "name": "stdout",
     "output_type": "stream",
     "text": [
      "<class 'pandas.core.frame.DataFrame'>\n",
      "RangeIndex: 76020 entries, 0 to 76019\n",
      "Columns: 371 entries, ID to TARGET\n",
      "dtypes: float64(111), int64(260)\n",
      "memory usage: 215.2 MB\n"
     ]
    }
   ],
   "source": [
    "df_train.info()"
   ]
  },
  {
   "cell_type": "markdown",
   "id": "aca8fb86-70f4-459f-9462-b516ad0ced4a",
   "metadata": {},
   "source": [
    "A base de treino possui 369 features (todas numéricas) + o ID do cliente + a variável TARGET"
   ]
  },
  {
   "cell_type": "code",
   "execution_count": 11,
   "id": "fdc5d658-31a1-4d68-841c-b98b2ec90089",
   "metadata": {},
   "outputs": [
    {
     "data": {
      "text/plain": [
       "array([0, 1], dtype=int64)"
      ]
     },
     "execution_count": 11,
     "metadata": {},
     "output_type": "execute_result"
    }
   ],
   "source": [
    "df_train['TARGET'].unique() # Target Binária"
   ]
  },
  {
   "cell_type": "code",
   "execution_count": 12,
   "id": "d0ec6fbf-5d91-479e-b308-d30d92ae0696",
   "metadata": {},
   "outputs": [
    {
     "data": {
      "text/plain": [
       "0    96.043147\n",
       "1     3.956853\n",
       "Name: TARGET, dtype: float64"
      ]
     },
     "execution_count": 12,
     "metadata": {},
     "output_type": "execute_result"
    }
   ],
   "source": [
    "df_train['TARGET'].value_counts(normalize=True) * 100"
   ]
  },
  {
   "cell_type": "markdown",
   "id": "d301b09d-bca2-47c5-8191-08eb61bd021d",
   "metadata": {},
   "source": [
    "A target possui o forte desbalanceamento, com apenas 4% dos clientes insatisfeitos. Precisaremos cuidar deste ponto mais tarde."
   ]
  },
  {
   "cell_type": "code",
   "execution_count": 13,
   "id": "f87de4de-bd56-47ce-be8d-7398a557a26d",
   "metadata": {},
   "outputs": [
    {
     "name": "stdout",
     "output_type": "stream",
     "text": [
      "qtd nulos (train): 0\n",
      "qtd nulos (test): 0\n"
     ]
    }
   ],
   "source": [
    "# Missings\n",
    "print(f'qtd nulos (train): {df_train.isnull().sum().sum()}')\n",
    "print(f'qtd nulos (test): {df_test.isnull().sum().sum()}')"
   ]
  },
  {
   "cell_type": "markdown",
   "id": "bde2791a-183f-49c1-b03c-4b85004b523c",
   "metadata": {},
   "source": [
    "Não há valores nulos (nan) nas bases de treino e teste."
   ]
  },
  {
   "cell_type": "markdown",
   "id": "0d07f67d-1217-484d-a07d-542789439d19",
   "metadata": {},
   "source": [
    "[Sumário](#Sumário)"
   ]
  },
  {
   "cell_type": "markdown",
   "id": "492ce4e4-3b9e-4628-a139-47a41355b207",
   "metadata": {},
   "source": [
    "### 2.2.4. Divisão da base em Treino e Teste"
   ]
  },
  {
   "cell_type": "markdown",
   "id": "e77567ff-9ea2-474c-a57d-a7d0aabf3930",
   "metadata": {},
   "source": [
    "Como a base de teste não possui a target, não conseguiremos validar nosso modelo por meio dela. Isso significa que podemos interpretá-la como a base que teremos quando o modelo estiver em produção, pois realmente desconhecemos as targets.<br><br>\n",
    "\n",
    "Desta forma, vamos separar um conjunto da nossa base de treino para utilizá-la como **teste**. Isso significa que esse conjunto de dados ficará separado até o final da modelagem, isto é, até termos nosso modelo pronto. Não poderemos utilizar esse subset para absolutamente nada, nem para uma simples análise exploratória. Isso porque quando testarmos nosso modelo, devemos procurar refletir da forma mais fiel possível o cenário em produção.<br><br>\n",
    "\n",
    "Também não é correto otimizarmos nosso modelo com base na perfomance nos dados de teste. Fazendo isso, estaríamos, mesmo que de forma indireta, overfittando nosso algoritmo.<br><br>\n",
    "\n",
    "Dito isso, utilizaremos a base de teste apenas após o nosso algoritmo estiver otimizado (nos dados de **validação**), para calcular, da maneira mais fiel possível, a performance do nosso modelo no ambiente de produção.<br><br>\n",
    "\n",
    "Para separar a base de teste, uma boa prática é utilizar a técnica de estratificação, procurando manter as proporções, a fim de que (de novo) nossa performance seja mais fiel possível ao cenário em produção. Neste caso, vamos estratificar apenas pela target, porém isso poderia ser (e geralmente é) feito com outras variáveis também.<br><br>"
   ]
  },
  {
   "cell_type": "code",
   "execution_count": 14,
   "id": "9d35834c-afa0-42ac-b301-75bdb3215b71",
   "metadata": {},
   "outputs": [],
   "source": [
    "df = df_train.copy()"
   ]
  },
  {
   "cell_type": "code",
   "execution_count": 15,
   "id": "41276104-8386-48a7-b67b-72e112c10850",
   "metadata": {},
   "outputs": [],
   "source": [
    "perc_train = .7"
   ]
  },
  {
   "cell_type": "markdown",
   "id": "a9c9a13a-e731-4479-8d3c-a3419527c4ab",
   "metadata": {},
   "source": [
    "Resolvi deixar 30% dos dados para teste. É importante termos um bom volume de dados para treinar, mas tão importante quanto é termos uma quantidade significativa de dados para testar nosso modelo. E lembrando que aqui temos uma base desbalanceada. Se deixarmos pouca massa para teste, teremos um número insuficiente de casos da classe minoritária, o que pode causar uma alta variância na perfomance do nosso modelo (ser muito alta ou muito baixa), afetando negativamente nossa interpretação sobre o modelo."
   ]
  },
  {
   "cell_type": "markdown",
   "id": "e268f03f-4ecc-400c-8b8d-547320b07b9c",
   "metadata": {},
   "source": [
    "***Sem Estratificação***"
   ]
  },
  {
   "cell_type": "code",
   "execution_count": 19,
   "id": "ca3bd9af-a1c8-4e87-9378-a71fe0437edc",
   "metadata": {},
   "outputs": [],
   "source": [
    "n_train = int(perc_train * len(df))\n",
    "n_test = len(df) - n_train"
   ]
  },
  {
   "cell_type": "code",
   "execution_count": 20,
   "id": "ea8bc3e1-2a41-425b-96e0-183bbfe727f2",
   "metadata": {},
   "outputs": [
    {
     "data": {
      "text/plain": [
       "True"
      ]
     },
     "execution_count": 20,
     "metadata": {},
     "output_type": "execute_result"
    }
   ],
   "source": [
    "n_train + n_test == len(df)"
   ]
  },
  {
   "cell_type": "code",
   "execution_count": 21,
   "id": "0e67df26-06af-4669-8ef0-2a4830e1b874",
   "metadata": {},
   "outputs": [
    {
     "data": {
      "text/plain": [
       "(53214, 22806)"
      ]
     },
     "execution_count": 21,
     "metadata": {},
     "output_type": "execute_result"
    }
   ],
   "source": [
    "n_train, n_test"
   ]
  },
  {
   "cell_type": "code",
   "execution_count": 22,
   "id": "56e19b87-d348-49a0-be71-bd477de17137",
   "metadata": {},
   "outputs": [],
   "source": [
    "np.random.seed()\n",
    "df_train = df.sample(n_train).reset_index(drop=True)\n",
    "df_test = df.sample(n_test).reset_index(drop=True)"
   ]
  },
  {
   "cell_type": "code",
   "execution_count": 23,
   "id": "2814adcb-2bba-4e66-9860-31118c8d1829",
   "metadata": {},
   "outputs": [
    {
     "data": {
      "text/plain": [
       "((53214, 371), (22806, 371))"
      ]
     },
     "execution_count": 23,
     "metadata": {},
     "output_type": "execute_result"
    }
   ],
   "source": [
    "df_train.shape, df_test.shape"
   ]
  },
  {
   "cell_type": "code",
   "execution_count": 24,
   "id": "c6e021a2-979e-4958-92a9-d612385202f6",
   "metadata": {},
   "outputs": [
    {
     "data": {
      "text/plain": [
       "0    96.068704\n",
       "1     3.931296\n",
       "Name: TARGET, dtype: float64"
      ]
     },
     "execution_count": 24,
     "metadata": {},
     "output_type": "execute_result"
    }
   ],
   "source": [
    "df_train['TARGET'].value_counts(normalize=True) * 100"
   ]
  },
  {
   "cell_type": "code",
   "execution_count": 25,
   "id": "ee1a072d-c875-444a-bf87-431228324561",
   "metadata": {},
   "outputs": [
    {
     "data": {
      "text/plain": [
       "0    96.237832\n",
       "1     3.762168\n",
       "Name: TARGET, dtype: float64"
      ]
     },
     "execution_count": 25,
     "metadata": {},
     "output_type": "execute_result"
    }
   ],
   "source": [
    "df_test['TARGET'].value_counts(normalize=True) * 100"
   ]
  },
  {
   "cell_type": "markdown",
   "id": "1ff15bca-46a4-4142-8584-2cbdec0dccff",
   "metadata": {},
   "source": [
    "Perceba que, ao separar os dados com a técnica aleatória simples, as proporções da TARGET são diferentes. Logo, vamos precisar utilizar uma função/lib que faça a estratificação pela TARGET."
   ]
  },
  {
   "cell_type": "markdown",
   "id": "c750510b-9ca3-4443-a04f-90d6791fd5e9",
   "metadata": {},
   "source": [
    "***Com Estratificação***"
   ]
  },
  {
   "cell_type": "code",
   "execution_count": 26,
   "id": "794fd0bf-41ae-417f-bd56-10d430b5a3eb",
   "metadata": {},
   "outputs": [],
   "source": [
    "df_train, df_test = train_test_split(\n",
    "    df, train_size=perc_train, random_state=123, shuffle=True, stratify=df['TARGET']\n",
    ")"
   ]
  },
  {
   "cell_type": "code",
   "execution_count": 27,
   "id": "63645a7d-4b64-4980-a966-75434f6e4b33",
   "metadata": {},
   "outputs": [
    {
     "data": {
      "text/plain": [
       "0    96.042395\n",
       "1     3.957605\n",
       "Name: TARGET, dtype: float64"
      ]
     },
     "execution_count": 27,
     "metadata": {},
     "output_type": "execute_result"
    }
   ],
   "source": [
    "df_train['TARGET'].value_counts(normalize=True) * 100"
   ]
  },
  {
   "cell_type": "code",
   "execution_count": 28,
   "id": "2ead21e0-68cb-4f5a-8e2c-46f04fcbe822",
   "metadata": {},
   "outputs": [
    {
     "data": {
      "text/plain": [
       "0    96.0449\n",
       "1     3.9551\n",
       "Name: TARGET, dtype: float64"
      ]
     },
     "execution_count": 28,
     "metadata": {},
     "output_type": "execute_result"
    }
   ],
   "source": [
    "df_test['TARGET'].value_counts(normalize=True) * 100"
   ]
  },
  {
   "cell_type": "markdown",
   "id": "0855cf51-9ed2-44e9-8dff-a1c801168847",
   "metadata": {},
   "source": [
    "Agora sim. Temos as mesmas proporções de TARGET nos dados de treino e teste."
   ]
  },
  {
   "cell_type": "code",
   "execution_count": 29,
   "id": "ec82076a-91db-4e33-b825-8b0283987a95",
   "metadata": {},
   "outputs": [],
   "source": [
    "# Escrevendo os dados\n",
    "df_train.to_csv(os.path.join(DATA, 'train_caique.csv'), index=False)\n",
    "df_test.to_csv(os.path.join(DATA, 'test_caique.csv'), index=False)"
   ]
  },
  {
   "cell_type": "code",
   "execution_count": 30,
   "id": "763e316b-b205-4be1-b4d8-55521cb1bdde",
   "metadata": {},
   "outputs": [
    {
     "data": {
      "text/html": [
       "<div>\n",
       "<style scoped>\n",
       "    .dataframe tbody tr th:only-of-type {\n",
       "        vertical-align: middle;\n",
       "    }\n",
       "\n",
       "    .dataframe tbody tr th {\n",
       "        vertical-align: top;\n",
       "    }\n",
       "\n",
       "    .dataframe thead th {\n",
       "        text-align: right;\n",
       "    }\n",
       "</style>\n",
       "<table border=\"1\" class=\"dataframe\">\n",
       "  <thead>\n",
       "    <tr style=\"text-align: right;\">\n",
       "      <th></th>\n",
       "      <th>ID</th>\n",
       "      <th>var3</th>\n",
       "      <th>var15</th>\n",
       "      <th>imp_ent_var16_ult1</th>\n",
       "      <th>imp_op_var39_comer_ult1</th>\n",
       "      <th>imp_op_var39_comer_ult3</th>\n",
       "      <th>imp_op_var40_comer_ult1</th>\n",
       "      <th>imp_op_var40_comer_ult3</th>\n",
       "      <th>imp_op_var40_efect_ult1</th>\n",
       "      <th>imp_op_var40_efect_ult3</th>\n",
       "      <th>imp_op_var40_ult1</th>\n",
       "      <th>imp_op_var41_comer_ult1</th>\n",
       "      <th>imp_op_var41_comer_ult3</th>\n",
       "      <th>imp_op_var41_efect_ult1</th>\n",
       "      <th>imp_op_var41_efect_ult3</th>\n",
       "      <th>...</th>\n",
       "      <th>saldo_medio_var17_ult3</th>\n",
       "      <th>saldo_medio_var29_hace2</th>\n",
       "      <th>saldo_medio_var29_hace3</th>\n",
       "      <th>saldo_medio_var29_ult1</th>\n",
       "      <th>saldo_medio_var29_ult3</th>\n",
       "      <th>saldo_medio_var33_hace2</th>\n",
       "      <th>saldo_medio_var33_hace3</th>\n",
       "      <th>saldo_medio_var33_ult1</th>\n",
       "      <th>saldo_medio_var33_ult3</th>\n",
       "      <th>saldo_medio_var44_hace2</th>\n",
       "      <th>saldo_medio_var44_hace3</th>\n",
       "      <th>saldo_medio_var44_ult1</th>\n",
       "      <th>saldo_medio_var44_ult3</th>\n",
       "      <th>var38</th>\n",
       "      <th>TARGET</th>\n",
       "    </tr>\n",
       "  </thead>\n",
       "  <tbody>\n",
       "    <tr>\n",
       "      <th>65891</th>\n",
       "      <td>131559</td>\n",
       "      <td>2</td>\n",
       "      <td>36</td>\n",
       "      <td>0.0</td>\n",
       "      <td>0.0</td>\n",
       "      <td>57.33</td>\n",
       "      <td>0.0</td>\n",
       "      <td>0.0</td>\n",
       "      <td>0.0</td>\n",
       "      <td>0.0</td>\n",
       "      <td>0.0</td>\n",
       "      <td>0.0</td>\n",
       "      <td>57.33</td>\n",
       "      <td>0.0</td>\n",
       "      <td>0.0</td>\n",
       "      <td>...</td>\n",
       "      <td>0.0</td>\n",
       "      <td>0.0</td>\n",
       "      <td>0.0</td>\n",
       "      <td>0.0</td>\n",
       "      <td>0.0</td>\n",
       "      <td>0.0</td>\n",
       "      <td>0.0</td>\n",
       "      <td>0.0</td>\n",
       "      <td>0.0</td>\n",
       "      <td>0.0</td>\n",
       "      <td>0.0</td>\n",
       "      <td>0.0</td>\n",
       "      <td>0.0</td>\n",
       "      <td>291260.700000</td>\n",
       "      <td>0</td>\n",
       "    </tr>\n",
       "    <tr>\n",
       "      <th>62390</th>\n",
       "      <td>124579</td>\n",
       "      <td>2</td>\n",
       "      <td>38</td>\n",
       "      <td>0.0</td>\n",
       "      <td>0.0</td>\n",
       "      <td>0.00</td>\n",
       "      <td>0.0</td>\n",
       "      <td>0.0</td>\n",
       "      <td>0.0</td>\n",
       "      <td>0.0</td>\n",
       "      <td>0.0</td>\n",
       "      <td>0.0</td>\n",
       "      <td>0.00</td>\n",
       "      <td>0.0</td>\n",
       "      <td>0.0</td>\n",
       "      <td>...</td>\n",
       "      <td>0.0</td>\n",
       "      <td>0.0</td>\n",
       "      <td>0.0</td>\n",
       "      <td>0.0</td>\n",
       "      <td>0.0</td>\n",
       "      <td>0.0</td>\n",
       "      <td>0.0</td>\n",
       "      <td>0.0</td>\n",
       "      <td>0.0</td>\n",
       "      <td>0.0</td>\n",
       "      <td>0.0</td>\n",
       "      <td>0.0</td>\n",
       "      <td>0.0</td>\n",
       "      <td>117310.979016</td>\n",
       "      <td>0</td>\n",
       "    </tr>\n",
       "    <tr>\n",
       "      <th>23274</th>\n",
       "      <td>46536</td>\n",
       "      <td>2</td>\n",
       "      <td>27</td>\n",
       "      <td>0.0</td>\n",
       "      <td>0.0</td>\n",
       "      <td>0.00</td>\n",
       "      <td>0.0</td>\n",
       "      <td>0.0</td>\n",
       "      <td>0.0</td>\n",
       "      <td>0.0</td>\n",
       "      <td>0.0</td>\n",
       "      <td>0.0</td>\n",
       "      <td>0.00</td>\n",
       "      <td>0.0</td>\n",
       "      <td>0.0</td>\n",
       "      <td>...</td>\n",
       "      <td>0.0</td>\n",
       "      <td>0.0</td>\n",
       "      <td>0.0</td>\n",
       "      <td>0.0</td>\n",
       "      <td>0.0</td>\n",
       "      <td>0.0</td>\n",
       "      <td>0.0</td>\n",
       "      <td>0.0</td>\n",
       "      <td>0.0</td>\n",
       "      <td>0.0</td>\n",
       "      <td>0.0</td>\n",
       "      <td>0.0</td>\n",
       "      <td>0.0</td>\n",
       "      <td>104330.460000</td>\n",
       "      <td>0</td>\n",
       "    </tr>\n",
       "    <tr>\n",
       "      <th>50111</th>\n",
       "      <td>100068</td>\n",
       "      <td>2</td>\n",
       "      <td>23</td>\n",
       "      <td>0.0</td>\n",
       "      <td>0.0</td>\n",
       "      <td>0.00</td>\n",
       "      <td>0.0</td>\n",
       "      <td>0.0</td>\n",
       "      <td>0.0</td>\n",
       "      <td>0.0</td>\n",
       "      <td>0.0</td>\n",
       "      <td>0.0</td>\n",
       "      <td>0.00</td>\n",
       "      <td>0.0</td>\n",
       "      <td>0.0</td>\n",
       "      <td>...</td>\n",
       "      <td>0.0</td>\n",
       "      <td>0.0</td>\n",
       "      <td>0.0</td>\n",
       "      <td>0.0</td>\n",
       "      <td>0.0</td>\n",
       "      <td>0.0</td>\n",
       "      <td>0.0</td>\n",
       "      <td>0.0</td>\n",
       "      <td>0.0</td>\n",
       "      <td>0.0</td>\n",
       "      <td>0.0</td>\n",
       "      <td>0.0</td>\n",
       "      <td>0.0</td>\n",
       "      <td>117310.979016</td>\n",
       "      <td>0</td>\n",
       "    </tr>\n",
       "    <tr>\n",
       "      <th>50402</th>\n",
       "      <td>100640</td>\n",
       "      <td>2</td>\n",
       "      <td>23</td>\n",
       "      <td>0.0</td>\n",
       "      <td>0.0</td>\n",
       "      <td>0.00</td>\n",
       "      <td>0.0</td>\n",
       "      <td>0.0</td>\n",
       "      <td>0.0</td>\n",
       "      <td>0.0</td>\n",
       "      <td>0.0</td>\n",
       "      <td>0.0</td>\n",
       "      <td>0.00</td>\n",
       "      <td>0.0</td>\n",
       "      <td>0.0</td>\n",
       "      <td>...</td>\n",
       "      <td>0.0</td>\n",
       "      <td>0.0</td>\n",
       "      <td>0.0</td>\n",
       "      <td>0.0</td>\n",
       "      <td>0.0</td>\n",
       "      <td>0.0</td>\n",
       "      <td>0.0</td>\n",
       "      <td>0.0</td>\n",
       "      <td>0.0</td>\n",
       "      <td>0.0</td>\n",
       "      <td>0.0</td>\n",
       "      <td>0.0</td>\n",
       "      <td>0.0</td>\n",
       "      <td>150614.760000</td>\n",
       "      <td>0</td>\n",
       "    </tr>\n",
       "  </tbody>\n",
       "</table>\n",
       "<p>5 rows × 371 columns</p>\n",
       "</div>"
      ],
      "text/plain": [
       "           ID  var3  var15  imp_ent_var16_ult1  imp_op_var39_comer_ult1  \\\n",
       "65891  131559     2     36                 0.0                      0.0   \n",
       "62390  124579     2     38                 0.0                      0.0   \n",
       "23274   46536     2     27                 0.0                      0.0   \n",
       "50111  100068     2     23                 0.0                      0.0   \n",
       "50402  100640     2     23                 0.0                      0.0   \n",
       "\n",
       "       imp_op_var39_comer_ult3  imp_op_var40_comer_ult1  \\\n",
       "65891                    57.33                      0.0   \n",
       "62390                     0.00                      0.0   \n",
       "23274                     0.00                      0.0   \n",
       "50111                     0.00                      0.0   \n",
       "50402                     0.00                      0.0   \n",
       "\n",
       "       imp_op_var40_comer_ult3  imp_op_var40_efect_ult1  \\\n",
       "65891                      0.0                      0.0   \n",
       "62390                      0.0                      0.0   \n",
       "23274                      0.0                      0.0   \n",
       "50111                      0.0                      0.0   \n",
       "50402                      0.0                      0.0   \n",
       "\n",
       "       imp_op_var40_efect_ult3  imp_op_var40_ult1  imp_op_var41_comer_ult1  \\\n",
       "65891                      0.0                0.0                      0.0   \n",
       "62390                      0.0                0.0                      0.0   \n",
       "23274                      0.0                0.0                      0.0   \n",
       "50111                      0.0                0.0                      0.0   \n",
       "50402                      0.0                0.0                      0.0   \n",
       "\n",
       "       imp_op_var41_comer_ult3  imp_op_var41_efect_ult1  \\\n",
       "65891                    57.33                      0.0   \n",
       "62390                     0.00                      0.0   \n",
       "23274                     0.00                      0.0   \n",
       "50111                     0.00                      0.0   \n",
       "50402                     0.00                      0.0   \n",
       "\n",
       "       imp_op_var41_efect_ult3  ...  saldo_medio_var17_ult3  \\\n",
       "65891                      0.0  ...                     0.0   \n",
       "62390                      0.0  ...                     0.0   \n",
       "23274                      0.0  ...                     0.0   \n",
       "50111                      0.0  ...                     0.0   \n",
       "50402                      0.0  ...                     0.0   \n",
       "\n",
       "       saldo_medio_var29_hace2  saldo_medio_var29_hace3  \\\n",
       "65891                      0.0                      0.0   \n",
       "62390                      0.0                      0.0   \n",
       "23274                      0.0                      0.0   \n",
       "50111                      0.0                      0.0   \n",
       "50402                      0.0                      0.0   \n",
       "\n",
       "       saldo_medio_var29_ult1  saldo_medio_var29_ult3  \\\n",
       "65891                     0.0                     0.0   \n",
       "62390                     0.0                     0.0   \n",
       "23274                     0.0                     0.0   \n",
       "50111                     0.0                     0.0   \n",
       "50402                     0.0                     0.0   \n",
       "\n",
       "       saldo_medio_var33_hace2  saldo_medio_var33_hace3  \\\n",
       "65891                      0.0                      0.0   \n",
       "62390                      0.0                      0.0   \n",
       "23274                      0.0                      0.0   \n",
       "50111                      0.0                      0.0   \n",
       "50402                      0.0                      0.0   \n",
       "\n",
       "       saldo_medio_var33_ult1  saldo_medio_var33_ult3  \\\n",
       "65891                     0.0                     0.0   \n",
       "62390                     0.0                     0.0   \n",
       "23274                     0.0                     0.0   \n",
       "50111                     0.0                     0.0   \n",
       "50402                     0.0                     0.0   \n",
       "\n",
       "       saldo_medio_var44_hace2  saldo_medio_var44_hace3  \\\n",
       "65891                      0.0                      0.0   \n",
       "62390                      0.0                      0.0   \n",
       "23274                      0.0                      0.0   \n",
       "50111                      0.0                      0.0   \n",
       "50402                      0.0                      0.0   \n",
       "\n",
       "       saldo_medio_var44_ult1  saldo_medio_var44_ult3          var38  TARGET  \n",
       "65891                     0.0                     0.0  291260.700000       0  \n",
       "62390                     0.0                     0.0  117310.979016       0  \n",
       "23274                     0.0                     0.0  104330.460000       0  \n",
       "50111                     0.0                     0.0  117310.979016       0  \n",
       "50402                     0.0                     0.0  150614.760000       0  \n",
       "\n",
       "[5 rows x 371 columns]"
      ]
     },
     "execution_count": 30,
     "metadata": {},
     "output_type": "execute_result"
    }
   ],
   "source": [
    "df_train.head()"
   ]
  },
  {
   "cell_type": "code",
   "execution_count": 31,
   "id": "d7c07f3e-80a2-4728-bd8c-18971d0a472b",
   "metadata": {},
   "outputs": [],
   "source": [
    "# Resetando os índices\n",
    "df_train.reset_index(drop=True, inplace=True)\n",
    "df_test.reset_index(drop=True, inplace=True)"
   ]
  },
  {
   "cell_type": "markdown",
   "id": "00e55403-3a9b-4106-9f9c-7fb45915f06e",
   "metadata": {},
   "source": [
    "Pronto! Temos nossas bases separadas em treino e teste. Vou apagar a base de teste por enquanto, para evitar qualquer tipo de \"vasculhada\" (nem sei se existe essa palava)."
   ]
  },
  {
   "cell_type": "code",
   "execution_count": 32,
   "id": "c7c5a249-ae1f-4ccd-b117-f9fecf0080c9",
   "metadata": {},
   "outputs": [],
   "source": [
    "del df_test"
   ]
  },
  {
   "cell_type": "markdown",
   "id": "e86360c3-099e-42d7-949f-8e10598936a3",
   "metadata": {},
   "source": [
    "[Sumário](#Sumário)"
   ]
  },
  {
   "cell_type": "markdown",
   "id": "8c5ba04a-9b9e-419a-bb42-121ad2ab2d9e",
   "metadata": {},
   "source": [
    "### 2.2.5. Separando a base em Treino e Validação"
   ]
  },
  {
   "cell_type": "markdown",
   "id": "b287bada-5a03-4c68-9754-819c577a5915",
   "metadata": {},
   "source": [
    "Vamos utilizar a técnica Holdout novamente (fizemos isso quando separamos o conjunto de teste) para criar um subset de validação. Esse conjunto servirá para validarmos a perfomance dos nossos modelos e guiará a otimização dos hiperparâmetros.<br><br>\n",
    "\n",
    "Aliás, um adendo rápido sobre esse ponto...\n",
    "\n",
    "É muito comum vermos a separação apenas em treino e teste. Nesses casos, o algoritmo é ajustado na base treino e escorado na base de teste. Ao final, o algoritmo que teve a melhor performance na base de teste é escolhido para ser colocado em produção.<br><br>\n",
    "\n",
    "O problema dessa abordagem é que, mesmo escorando o modelo nos dados de teste que não foram vistos no treinamento, de certa forma, mesmo que indiretamente, há um vazamento de dados (*data leakage*) para a etapa de treinamento. Isso porque a escolha dos hiperparâmetros foi enviesada pela performance no conjunto de teste. De alguma forma você utilizou informações do teste para guiar seu treinamento.<br><br>\n",
    "\n",
    "Isso não costuma ser um GRANDE problema na prática, mas pode sim superestimar um pouco a performance do modelo, e com isso inflar o cálculo de benefício esperado do projeto."
   ]
  },
  {
   "cell_type": "code",
   "execution_count": 39,
   "id": "49348119-010a-4f16-893f-464d1b2d2afb",
   "metadata": {},
   "outputs": [
    {
     "data": {
      "text/html": [
       "<div>\n",
       "<style scoped>\n",
       "    .dataframe tbody tr th:only-of-type {\n",
       "        vertical-align: middle;\n",
       "    }\n",
       "\n",
       "    .dataframe tbody tr th {\n",
       "        vertical-align: top;\n",
       "    }\n",
       "\n",
       "    .dataframe thead th {\n",
       "        text-align: right;\n",
       "    }\n",
       "</style>\n",
       "<table border=\"1\" class=\"dataframe\">\n",
       "  <thead>\n",
       "    <tr style=\"text-align: right;\">\n",
       "      <th></th>\n",
       "      <th>ID</th>\n",
       "      <th>var3</th>\n",
       "      <th>var15</th>\n",
       "      <th>imp_ent_var16_ult1</th>\n",
       "      <th>imp_op_var39_comer_ult1</th>\n",
       "      <th>imp_op_var39_comer_ult3</th>\n",
       "      <th>imp_op_var40_comer_ult1</th>\n",
       "      <th>imp_op_var40_comer_ult3</th>\n",
       "      <th>imp_op_var40_efect_ult1</th>\n",
       "      <th>imp_op_var40_efect_ult3</th>\n",
       "      <th>imp_op_var40_ult1</th>\n",
       "      <th>imp_op_var41_comer_ult1</th>\n",
       "      <th>imp_op_var41_comer_ult3</th>\n",
       "      <th>imp_op_var41_efect_ult1</th>\n",
       "      <th>imp_op_var41_efect_ult3</th>\n",
       "      <th>...</th>\n",
       "      <th>saldo_medio_var17_ult3</th>\n",
       "      <th>saldo_medio_var29_hace2</th>\n",
       "      <th>saldo_medio_var29_hace3</th>\n",
       "      <th>saldo_medio_var29_ult1</th>\n",
       "      <th>saldo_medio_var29_ult3</th>\n",
       "      <th>saldo_medio_var33_hace2</th>\n",
       "      <th>saldo_medio_var33_hace3</th>\n",
       "      <th>saldo_medio_var33_ult1</th>\n",
       "      <th>saldo_medio_var33_ult3</th>\n",
       "      <th>saldo_medio_var44_hace2</th>\n",
       "      <th>saldo_medio_var44_hace3</th>\n",
       "      <th>saldo_medio_var44_ult1</th>\n",
       "      <th>saldo_medio_var44_ult3</th>\n",
       "      <th>var38</th>\n",
       "      <th>TARGET</th>\n",
       "    </tr>\n",
       "  </thead>\n",
       "  <tbody>\n",
       "    <tr>\n",
       "      <th>0</th>\n",
       "      <td>131559</td>\n",
       "      <td>2</td>\n",
       "      <td>36</td>\n",
       "      <td>0.0</td>\n",
       "      <td>0.0</td>\n",
       "      <td>57.33</td>\n",
       "      <td>0.0</td>\n",
       "      <td>0.0</td>\n",
       "      <td>0.0</td>\n",
       "      <td>0.0</td>\n",
       "      <td>0.0</td>\n",
       "      <td>0.0</td>\n",
       "      <td>57.33</td>\n",
       "      <td>0.0</td>\n",
       "      <td>0.0</td>\n",
       "      <td>...</td>\n",
       "      <td>0.0</td>\n",
       "      <td>0.0</td>\n",
       "      <td>0.0</td>\n",
       "      <td>0.0</td>\n",
       "      <td>0.0</td>\n",
       "      <td>0.0</td>\n",
       "      <td>0.0</td>\n",
       "      <td>0.0</td>\n",
       "      <td>0.0</td>\n",
       "      <td>0.0</td>\n",
       "      <td>0.0</td>\n",
       "      <td>0.0</td>\n",
       "      <td>0.0</td>\n",
       "      <td>291260.700000</td>\n",
       "      <td>0</td>\n",
       "    </tr>\n",
       "    <tr>\n",
       "      <th>1</th>\n",
       "      <td>124579</td>\n",
       "      <td>2</td>\n",
       "      <td>38</td>\n",
       "      <td>0.0</td>\n",
       "      <td>0.0</td>\n",
       "      <td>0.00</td>\n",
       "      <td>0.0</td>\n",
       "      <td>0.0</td>\n",
       "      <td>0.0</td>\n",
       "      <td>0.0</td>\n",
       "      <td>0.0</td>\n",
       "      <td>0.0</td>\n",
       "      <td>0.00</td>\n",
       "      <td>0.0</td>\n",
       "      <td>0.0</td>\n",
       "      <td>...</td>\n",
       "      <td>0.0</td>\n",
       "      <td>0.0</td>\n",
       "      <td>0.0</td>\n",
       "      <td>0.0</td>\n",
       "      <td>0.0</td>\n",
       "      <td>0.0</td>\n",
       "      <td>0.0</td>\n",
       "      <td>0.0</td>\n",
       "      <td>0.0</td>\n",
       "      <td>0.0</td>\n",
       "      <td>0.0</td>\n",
       "      <td>0.0</td>\n",
       "      <td>0.0</td>\n",
       "      <td>117310.979016</td>\n",
       "      <td>0</td>\n",
       "    </tr>\n",
       "    <tr>\n",
       "      <th>2</th>\n",
       "      <td>46536</td>\n",
       "      <td>2</td>\n",
       "      <td>27</td>\n",
       "      <td>0.0</td>\n",
       "      <td>0.0</td>\n",
       "      <td>0.00</td>\n",
       "      <td>0.0</td>\n",
       "      <td>0.0</td>\n",
       "      <td>0.0</td>\n",
       "      <td>0.0</td>\n",
       "      <td>0.0</td>\n",
       "      <td>0.0</td>\n",
       "      <td>0.00</td>\n",
       "      <td>0.0</td>\n",
       "      <td>0.0</td>\n",
       "      <td>...</td>\n",
       "      <td>0.0</td>\n",
       "      <td>0.0</td>\n",
       "      <td>0.0</td>\n",
       "      <td>0.0</td>\n",
       "      <td>0.0</td>\n",
       "      <td>0.0</td>\n",
       "      <td>0.0</td>\n",
       "      <td>0.0</td>\n",
       "      <td>0.0</td>\n",
       "      <td>0.0</td>\n",
       "      <td>0.0</td>\n",
       "      <td>0.0</td>\n",
       "      <td>0.0</td>\n",
       "      <td>104330.460000</td>\n",
       "      <td>0</td>\n",
       "    </tr>\n",
       "    <tr>\n",
       "      <th>3</th>\n",
       "      <td>100068</td>\n",
       "      <td>2</td>\n",
       "      <td>23</td>\n",
       "      <td>0.0</td>\n",
       "      <td>0.0</td>\n",
       "      <td>0.00</td>\n",
       "      <td>0.0</td>\n",
       "      <td>0.0</td>\n",
       "      <td>0.0</td>\n",
       "      <td>0.0</td>\n",
       "      <td>0.0</td>\n",
       "      <td>0.0</td>\n",
       "      <td>0.00</td>\n",
       "      <td>0.0</td>\n",
       "      <td>0.0</td>\n",
       "      <td>...</td>\n",
       "      <td>0.0</td>\n",
       "      <td>0.0</td>\n",
       "      <td>0.0</td>\n",
       "      <td>0.0</td>\n",
       "      <td>0.0</td>\n",
       "      <td>0.0</td>\n",
       "      <td>0.0</td>\n",
       "      <td>0.0</td>\n",
       "      <td>0.0</td>\n",
       "      <td>0.0</td>\n",
       "      <td>0.0</td>\n",
       "      <td>0.0</td>\n",
       "      <td>0.0</td>\n",
       "      <td>117310.979016</td>\n",
       "      <td>0</td>\n",
       "    </tr>\n",
       "    <tr>\n",
       "      <th>4</th>\n",
       "      <td>100640</td>\n",
       "      <td>2</td>\n",
       "      <td>23</td>\n",
       "      <td>0.0</td>\n",
       "      <td>0.0</td>\n",
       "      <td>0.00</td>\n",
       "      <td>0.0</td>\n",
       "      <td>0.0</td>\n",
       "      <td>0.0</td>\n",
       "      <td>0.0</td>\n",
       "      <td>0.0</td>\n",
       "      <td>0.0</td>\n",
       "      <td>0.00</td>\n",
       "      <td>0.0</td>\n",
       "      <td>0.0</td>\n",
       "      <td>...</td>\n",
       "      <td>0.0</td>\n",
       "      <td>0.0</td>\n",
       "      <td>0.0</td>\n",
       "      <td>0.0</td>\n",
       "      <td>0.0</td>\n",
       "      <td>0.0</td>\n",
       "      <td>0.0</td>\n",
       "      <td>0.0</td>\n",
       "      <td>0.0</td>\n",
       "      <td>0.0</td>\n",
       "      <td>0.0</td>\n",
       "      <td>0.0</td>\n",
       "      <td>0.0</td>\n",
       "      <td>150614.760000</td>\n",
       "      <td>0</td>\n",
       "    </tr>\n",
       "  </tbody>\n",
       "</table>\n",
       "<p>5 rows × 371 columns</p>\n",
       "</div>"
      ],
      "text/plain": [
       "       ID  var3  var15  imp_ent_var16_ult1  imp_op_var39_comer_ult1  \\\n",
       "0  131559     2     36                 0.0                      0.0   \n",
       "1  124579     2     38                 0.0                      0.0   \n",
       "2   46536     2     27                 0.0                      0.0   \n",
       "3  100068     2     23                 0.0                      0.0   \n",
       "4  100640     2     23                 0.0                      0.0   \n",
       "\n",
       "   imp_op_var39_comer_ult3  imp_op_var40_comer_ult1  imp_op_var40_comer_ult3  \\\n",
       "0                    57.33                      0.0                      0.0   \n",
       "1                     0.00                      0.0                      0.0   \n",
       "2                     0.00                      0.0                      0.0   \n",
       "3                     0.00                      0.0                      0.0   \n",
       "4                     0.00                      0.0                      0.0   \n",
       "\n",
       "   imp_op_var40_efect_ult1  imp_op_var40_efect_ult3  imp_op_var40_ult1  \\\n",
       "0                      0.0                      0.0                0.0   \n",
       "1                      0.0                      0.0                0.0   \n",
       "2                      0.0                      0.0                0.0   \n",
       "3                      0.0                      0.0                0.0   \n",
       "4                      0.0                      0.0                0.0   \n",
       "\n",
       "   imp_op_var41_comer_ult1  imp_op_var41_comer_ult3  imp_op_var41_efect_ult1  \\\n",
       "0                      0.0                    57.33                      0.0   \n",
       "1                      0.0                     0.00                      0.0   \n",
       "2                      0.0                     0.00                      0.0   \n",
       "3                      0.0                     0.00                      0.0   \n",
       "4                      0.0                     0.00                      0.0   \n",
       "\n",
       "   imp_op_var41_efect_ult3  ...  saldo_medio_var17_ult3  \\\n",
       "0                      0.0  ...                     0.0   \n",
       "1                      0.0  ...                     0.0   \n",
       "2                      0.0  ...                     0.0   \n",
       "3                      0.0  ...                     0.0   \n",
       "4                      0.0  ...                     0.0   \n",
       "\n",
       "   saldo_medio_var29_hace2  saldo_medio_var29_hace3  saldo_medio_var29_ult1  \\\n",
       "0                      0.0                      0.0                     0.0   \n",
       "1                      0.0                      0.0                     0.0   \n",
       "2                      0.0                      0.0                     0.0   \n",
       "3                      0.0                      0.0                     0.0   \n",
       "4                      0.0                      0.0                     0.0   \n",
       "\n",
       "   saldo_medio_var29_ult3  saldo_medio_var33_hace2  saldo_medio_var33_hace3  \\\n",
       "0                     0.0                      0.0                      0.0   \n",
       "1                     0.0                      0.0                      0.0   \n",
       "2                     0.0                      0.0                      0.0   \n",
       "3                     0.0                      0.0                      0.0   \n",
       "4                     0.0                      0.0                      0.0   \n",
       "\n",
       "   saldo_medio_var33_ult1  saldo_medio_var33_ult3  saldo_medio_var44_hace2  \\\n",
       "0                     0.0                     0.0                      0.0   \n",
       "1                     0.0                     0.0                      0.0   \n",
       "2                     0.0                     0.0                      0.0   \n",
       "3                     0.0                     0.0                      0.0   \n",
       "4                     0.0                     0.0                      0.0   \n",
       "\n",
       "   saldo_medio_var44_hace3  saldo_medio_var44_ult1  saldo_medio_var44_ult3  \\\n",
       "0                      0.0                     0.0                     0.0   \n",
       "1                      0.0                     0.0                     0.0   \n",
       "2                      0.0                     0.0                     0.0   \n",
       "3                      0.0                     0.0                     0.0   \n",
       "4                      0.0                     0.0                     0.0   \n",
       "\n",
       "           var38  TARGET  \n",
       "0  291260.700000       0  \n",
       "1  117310.979016       0  \n",
       "2  104330.460000       0  \n",
       "3  117310.979016       0  \n",
       "4  150614.760000       0  \n",
       "\n",
       "[5 rows x 371 columns]"
      ]
     },
     "execution_count": 39,
     "metadata": {},
     "output_type": "execute_result"
    }
   ],
   "source": [
    "df_train.head()"
   ]
  },
  {
   "cell_type": "code",
   "execution_count": 40,
   "id": "fba4c7f5-b5d5-44b4-97d9-c7399cd5b990",
   "metadata": {},
   "outputs": [
    {
     "data": {
      "text/plain": [
       "(53214, 371)"
      ]
     },
     "execution_count": 40,
     "metadata": {},
     "output_type": "execute_result"
    }
   ],
   "source": [
    "df_train.shape"
   ]
  },
  {
   "cell_type": "code",
   "execution_count": 41,
   "id": "670c0ebb-77f5-422b-af04-16aba33cfd34",
   "metadata": {},
   "outputs": [
    {
     "data": {
      "text/plain": [
       "(39910.5, 13303.5)"
      ]
     },
     "execution_count": 41,
     "metadata": {},
     "output_type": "execute_result"
    }
   ],
   "source": [
    "df_train.shape[0] * .75, df_train.shape[0] * .25"
   ]
  },
  {
   "cell_type": "markdown",
   "id": "5c055b06-c0c1-4088-857e-b097630bf7d2",
   "metadata": {},
   "source": [
    "Nessa etapa, poderíamos ter utilizado a validação cruzada, ao invés do Holdout. Porém, como os dados estão desbalanceados, quando fizéssemos o resampling (under ou over) das classes, teríamos que fazê-lo apenas nos folds de treinamento, caso contrário teríamos dois problemas:\n",
    "\n",
    "1. Vazamento de dados. Ao fazer o resampling de toda a base antes de dividir os folds de treino e validação, você acaba utilizando informações dos dados de validação para criar o resampling.\n",
    "2. Sua perfomance seria ilusória e incomparável com os dados de teste. Isso porque você está validando seu modelo num fold balanceado, que não reflete o cenário real, isto é, aquele que o modelo enfrentará em produção.\n",
    "\n",
    "Para fazer isso, precisaríamos construir uma função que tivesse essa dinâmica na separação dos folds. Para simplificar e também assumindo que já estou sendo bem rigoroso com o tratamento dos dados, resolvi utilizar a simples técnica Holdout nesta etapa também."
   ]
  },
  {
   "cell_type": "code",
   "execution_count": 42,
   "id": "33bac405-339f-4419-a836-0718365707cf",
   "metadata": {},
   "outputs": [],
   "source": [
    "df_t, df_v = train_test_split(\n",
    "    df_train, train_size=.75, random_state=123, shuffle=True, stratify=df_train['TARGET']\n",
    ")"
   ]
  },
  {
   "cell_type": "code",
   "execution_count": 43,
   "id": "68e0152a-45db-442d-a2e9-a8323b3fceea",
   "metadata": {},
   "outputs": [
    {
     "data": {
      "text/plain": [
       "((39910, 371), (13304, 371))"
      ]
     },
     "execution_count": 43,
     "metadata": {},
     "output_type": "execute_result"
    }
   ],
   "source": [
    "df_t.shape, df_v.shape"
   ]
  },
  {
   "cell_type": "code",
   "execution_count": 44,
   "id": "cf60ce29-3a92-4460-a19e-505bc5aa62d4",
   "metadata": {},
   "outputs": [],
   "source": [
    "df_t.reset_index(drop=True, inplace=True)\n",
    "df_v.reset_index(drop=True, inplace=True)"
   ]
  },
  {
   "cell_type": "markdown",
   "id": "14ddb5ea-a371-41e0-91e1-835944c6329e",
   "metadata": {},
   "source": [
    "Pronto! Temos uma base de treino e uma de validação. Agora podemos iniciar a modelagem..."
   ]
  },
  {
   "cell_type": "markdown",
   "id": "2f43642f-cbcd-4fa6-bae8-0778bd1dfdb6",
   "metadata": {},
   "source": [
    "[Sumário](#Sumário)"
   ]
  },
  {
   "cell_type": "markdown",
   "id": "bc97836b-96b3-46ad-8eff-b0dc57d857ae",
   "metadata": {},
   "source": [
    "### 2.2.6. Definindo a Função Objetivo"
   ]
  },
  {
   "cell_type": "markdown",
   "id": "c830e3d5-2bd5-4acb-a477-cd7f296c1929",
   "metadata": {},
   "source": [
    "Antes de sair ajustando os modelos, precisamos definir a função que queremos otimizar com nosso algoritmo. Como vimos na conceituação do problema, apenas os *Falsos Positivos* e os *Verdadeiros Positivos* afetam o cálculo do lucro. Nos outros dois casos, a receita e a despesa são iguais a 0."
   ]
  },
  {
   "cell_type": "markdown",
   "id": "a7e51ef0-6f72-4bd7-a166-b661f5bc71b5",
   "metadata": {},
   "source": [
    "|Caso|Custo|Receita|\n",
    "|---|---|---|\n",
    "|Falso Positivo|10|0|\n",
    "|Falso Negativo|0|0|\n",
    "|Verdadeiro Positivo|10|100|\n",
    "|Verdadeiro Negativo|0|0|"
   ]
  },
  {
   "cell_type": "markdown",
   "id": "00a82a41-6866-4b78-8ead-ab8c80f4cef9",
   "metadata": {},
   "source": [
    "Isso não significa que podemos ter *Falsos Negativos* e *Verdadeiros Negativos* à vontade. Pois tudo que deixamos de ganhar, também pode ser considerado como perda (o famoso \"custo de oportunidade\")."
   ]
  },
  {
   "cell_type": "code",
   "execution_count": 33,
   "id": "1c008be4-a8a7-4e0c-9a76-eea2edd33c07",
   "metadata": {},
   "outputs": [
    {
     "data": {
      "text/plain": [
       "array([[2, 1],\n",
       "       [2, 2]], dtype=int64)"
      ]
     },
     "execution_count": 33,
     "metadata": {},
     "output_type": "execute_result"
    }
   ],
   "source": [
    "confusion_matrix([0, 1, 1, 0, 0, 1, 1], [1, 0, 1, 0, 0, 0, 1])"
   ]
  },
  {
   "cell_type": "code",
   "execution_count": 34,
   "id": "46253eba-9f9b-487a-80b0-4274e3a9fb95",
   "metadata": {},
   "outputs": [
    {
     "data": {
      "text/plain": [
       "array([2, 1], dtype=int64)"
      ]
     },
     "execution_count": 34,
     "metadata": {},
     "output_type": "execute_result"
    }
   ],
   "source": [
    "confusion_matrix([0, 1, 1, 0, 0, 1, 1], [1, 0, 1, 0, 0, 0, 1])[0]"
   ]
  },
  {
   "cell_type": "code",
   "execution_count": 35,
   "id": "1e1c598d-e7af-4190-8d9f-1c689cff3bcd",
   "metadata": {
    "tags": []
   },
   "outputs": [],
   "source": [
    "# Posições\n",
    "\n",
    "# [0][0] --> Verdadeiros Negativos\n",
    "# [0][1] --> Falsos Positivos\n",
    "# [1][0] --> Falsos Negativos\n",
    "# [1][1] --> Verdadeiros Positivos"
   ]
  },
  {
   "cell_type": "code",
   "execution_count": 228,
   "id": "abd6ccb9-2b90-49f9-864b-0c7cb1300c68",
   "metadata": {},
   "outputs": [],
   "source": [
    "def cost(y_true, y_pred):\n",
    "    \n",
    "    y_true = list(y_true)\n",
    "    y_pred = list(y_pred)\n",
    "    \n",
    "    cm = confusion_matrix(y_true, y_pred)\n",
    "    fp = cm[0][1] # 0 - 10 = -10 lucro\n",
    "    tp = cm[1][1] # 100 - 10 = 90 lucro\n",
    "    \n",
    "    profit = 90 * int(tp) - 10 * int(fp)\n",
    "    \n",
    "    return profit"
   ]
  },
  {
   "cell_type": "code",
   "execution_count": 37,
   "id": "8390da71-bba1-43f7-8967-c722159d80df",
   "metadata": {},
   "outputs": [],
   "source": [
    "y_true = df_train['TARGET']"
   ]
  },
  {
   "cell_type": "code",
   "execution_count": 38,
   "id": "a4a4d487-6acf-46d5-9b10-48663dc29481",
   "metadata": {},
   "outputs": [
    {
     "data": {
      "text/plain": [
       "189540"
      ]
     },
     "execution_count": 38,
     "metadata": {},
     "output_type": "execute_result"
    }
   ],
   "source": [
    "cost(y_true, y_true)"
   ]
  },
  {
   "cell_type": "markdown",
   "id": "f08aaec2-947f-4bc8-99cb-f47bb9debe48",
   "metadata": {},
   "source": [
    "Função objetivo definida com sucesso!"
   ]
  },
  {
   "cell_type": "markdown",
   "id": "b8f1ab39-c827-4c7c-80ad-111050a613dc",
   "metadata": {},
   "source": [
    "[Sumário](#Sumário)"
   ]
  },
  {
   "cell_type": "markdown",
   "id": "dc623a00-d1d7-4fc1-841f-4f25be0a7e74",
   "metadata": {
    "tags": []
   },
   "source": [
    "### 2.2.7. Criando um Baseline"
   ]
  },
  {
   "cell_type": "markdown",
   "id": "d45a52bb-19f3-411e-b6e2-0fa857db01e5",
   "metadata": {},
   "source": [
    "Antes de começar a explorar os dados ou até mesmo modelar, é importante criarmos um *baseline*. O baseline será uma performance base, obtida com o modelo mais simples e rápido que pudermos de fazer. Ele servirá para nos dar uma referência de métrica. Isto é, se nosso modelo *ultra max power nitro 8* tiver uma performance similar ou até pior ao nosso baseline, não vale a pena colocá-lo em produção, pois a complexidade e o custo computacional não serão compensados por perfomance.<br><br>\n",
    "\n",
    "Por outro lado, se nosso modelo apresentar uma perfomance muito superior ao baseline, isso nos mostrará que de fato conseguimos extrair padrões \"escondidos\" e mais complexos nos dados, algo que um modelo simples não foi capaz de fazer."
   ]
  },
  {
   "cell_type": "code",
   "execution_count": 45,
   "id": "383a33ec-a8ff-4c7a-b15f-b90200919510",
   "metadata": {},
   "outputs": [
    {
     "data": {
      "text/plain": [
       "RandomForestClassifier(random_state=123)"
      ]
     },
     "execution_count": 45,
     "metadata": {},
     "output_type": "execute_result"
    }
   ],
   "source": [
    "# Fitando o modelo\n",
    "rf_baseline = RandomForestClassifier(random_state=123)\n",
    "rf_baseline.fit(df_t.drop(['ID', 'TARGET'], axis=1), df_t['TARGET'])"
   ]
  },
  {
   "cell_type": "code",
   "execution_count": 46,
   "id": "97d37b0a-a955-42c6-a9eb-821161195c54",
   "metadata": {},
   "outputs": [
    {
     "data": {
      "text/plain": [
       "760"
      ]
     },
     "execution_count": 46,
     "metadata": {},
     "output_type": "execute_result"
    }
   ],
   "source": [
    "# Calculando a perfomance\n",
    "cost(df_v['TARGET'], rf_baseline.predict(df_v.drop(['ID', 'TARGET'], axis=1)))"
   ]
  },
  {
   "cell_type": "code",
   "execution_count": 47,
   "id": "2c3dd615-dafa-45f4-82ef-55abe25e0a08",
   "metadata": {},
   "outputs": [
    {
     "data": {
      "text/plain": [
       "(39910, 371)"
      ]
     },
     "execution_count": 47,
     "metadata": {},
     "output_type": "execute_result"
    }
   ],
   "source": [
    "df_t.shape"
   ]
  },
  {
   "cell_type": "markdown",
   "id": "859bf004-f5bd-43c8-b296-f59d1d55b319",
   "metadata": {},
   "source": [
    "Pois é! 760 reais de lucro com o modelo mais basicão que poderíamos construir. Mas e agora? Será que esse valor é bom ou ruim? Se tivéssemos um modelo perfeito, que acertasse perfeitamente todos os casos, quanto teríamos de lucro?"
   ]
  },
  {
   "cell_type": "code",
   "execution_count": 48,
   "id": "58fe69c3-4f33-45b0-b8fa-0b2e4c4d4104",
   "metadata": {},
   "outputs": [
    {
     "data": {
      "text/plain": [
       "47430"
      ]
     },
     "execution_count": 48,
     "metadata": {},
     "output_type": "execute_result"
    }
   ],
   "source": [
    "cost(df_v['TARGET'], df_v['TARGET'])"
   ]
  },
  {
   "cell_type": "code",
   "execution_count": 49,
   "id": "6782f9e5-30b9-4587-8d7f-70fb5e4fed45",
   "metadata": {},
   "outputs": [
    {
     "data": {
      "text/plain": [
       "'1.60%'"
      ]
     },
     "execution_count": 49,
     "metadata": {},
     "output_type": "execute_result"
    }
   ],
   "source": [
    "f'{(760 / 47430) * 100:.2f}%'"
   ]
  },
  {
   "cell_type": "markdown",
   "id": "58d39bc0-fa9f-4fec-ad2e-49bec31dcbbc",
   "metadata": {},
   "source": [
    "É meus amigos... Mais de 47 mil reais. Ou seja, esse modelo basicão que treinamos representa pouco mais de 1% do lucro \"possível\". Mas tudo bem... esse é apenas um baseline. É o trabalho mais \"nas coxas\" que poderíamos ter feito. Então, não desanimemos..."
   ]
  },
  {
   "cell_type": "markdown",
   "id": "2f156b3f-5ab5-4e8c-8bf2-ccf5374dd42e",
   "metadata": {},
   "source": [
    "Para efeito de comparação, vou criar aqui rapidamente um modelo que atribui aleatoriamente 0 ou 1 para cada instância e vamos ver o que acontece..."
   ]
  },
  {
   "cell_type": "code",
   "execution_count": 50,
   "id": "1dbfd3a3-5d88-4c69-86b1-4d6db0fa04ec",
   "metadata": {},
   "outputs": [
    {
     "data": {
      "text/plain": [
       "-39630"
      ]
     },
     "execution_count": 50,
     "metadata": {},
     "output_type": "execute_result"
    }
   ],
   "source": [
    "np.random.seed(123)\n",
    "cost(df_v['TARGET'], np.random.randint(2, size=len(df_v['TARGET'])))"
   ]
  },
  {
   "cell_type": "markdown",
   "id": "1df155b0-8ac3-429d-b988-70e5a69e4e36",
   "metadata": {},
   "source": [
    "Vish... vimos aqui que se deixarmos na mão do aleatório, vamos perder uma bela grana... Isso também nos mostra que o modelo basicão já conseguiu capturar alguns padrões e já consegue ser lucrativo, ainda que timidamente."
   ]
  },
  {
   "cell_type": "markdown",
   "id": "21824a13-de2d-44dd-8151-0a96f6710c11",
   "metadata": {},
   "source": [
    "Um último teste que quero fazer aqui é... Bom, vimos que o lucro do *Verdadeiro Positivo* é 90 e o *Falso Positivo* tem um prejuízo de 10. Os outros não geram nem receita nem despesa. Pois bem... e se nosso modelo prever *Positivo* para todo mundo? Qual seria o resultado? Boravê..."
   ]
  },
  {
   "cell_type": "code",
   "execution_count": 51,
   "id": "ae8facea-0c5e-4ceb-bcf3-c4be0eb5cbe6",
   "metadata": {},
   "outputs": [
    {
     "data": {
      "text/plain": [
       "-80340"
      ]
     },
     "execution_count": 51,
     "metadata": {},
     "output_type": "execute_result"
    }
   ],
   "source": [
    "cost(df_v['TARGET'], np.ones(len(df_v['TARGET'])))"
   ]
  },
  {
   "cell_type": "markdown",
   "id": "f83d1e5c-a5b0-4958-9730-ea3eb9ae366f",
   "metadata": {},
   "source": [
    "Eita... pior que o modelo aleatório... E faz sentido... Na real, aqui nem precisaríamos de modelo. Poderíamos apenas multiplicar a quantidade de casos da classe 1 por 90 e subtrair (10 * quantidade de casos da classe 0). O ponto aqui é que mesmo tendo um lucro muito maior por cada caso positivo que acertamos, temos um volume muito maior de casos da outra classe."
   ]
  },
  {
   "cell_type": "markdown",
   "id": "4eddbff7-9a5f-4644-aaa1-865e1916106d",
   "metadata": {},
   "source": [
    "Certo... Temos nosso baseline! Vamos considerar que conseguimos atingir 1.6% do lucro \"possível\" e tentar melhorar essa perfomance com técnicas mais avançadas."
   ]
  },
  {
   "cell_type": "markdown",
   "id": "4cc574c3-c2b0-4983-89e4-10ec2283f0be",
   "metadata": {},
   "source": [
    "[Sumário](#Sumário)"
   ]
  },
  {
   "cell_type": "markdown",
   "id": "50d9140c-011a-42fd-9446-1a45f40dc874",
   "metadata": {},
   "source": [
    "### 2.2.8. Data Prep & Modelagem"
   ]
  },
  {
   "cell_type": "markdown",
   "id": "a83779c2-7be6-493b-a9ba-eb4a39a00622",
   "metadata": {},
   "source": [
    "**Feature Selection**"
   ]
  },
  {
   "cell_type": "markdown",
   "id": "9ed3762d-4dfd-42b5-87af-3650f2763020",
   "metadata": {},
   "source": [
    "Bom... temos um grande número de features. Vamos começar por reduzir um pouco a dimensionalidade dos dados, jogando fora features irrelevantes, que não possuem poder preditivo e podem mais atrapalhar do que ajudar.<br><br>\n",
    "\n",
    "Vamos utilizar algumas estratégias para fazer isso..."
   ]
  },
  {
   "cell_type": "markdown",
   "id": "3eac314a-1f90-4cf6-801e-2fbcc349a350",
   "metadata": {},
   "source": [
    "1. Eliminar features que não fazem sentido do ponto de vista de negócio.\n",
    "\n",
    "    - Como as features estão mascaradas, não conseguimos saber o significado \"semântico\" delas. Por isso, acaba sendo imprudente julgar se uma feature faz ou não sentido apenas analisando seus valores. Portanto, vamos dar um *bypass* nessa estratégia e seguir para a próxima."
   ]
  },
  {
   "cell_type": "markdown",
   "id": "0993eabc-99c1-49cf-a87b-a7b590886ce1",
   "metadata": {},
   "source": [
    "2. Eliminar features com pouca variância."
   ]
  },
  {
   "cell_type": "markdown",
   "id": "ffebb09b-85cf-4271-9629-6fe729999823",
   "metadata": {},
   "source": [
    "A princípio, vamos utilizar o coeficiência de variação, que é o desvio padrão / média."
   ]
  },
  {
   "cell_type": "code",
   "execution_count": 52,
   "id": "32f3dc6a-a7d8-4b84-8675-3e03bd421913",
   "metadata": {},
   "outputs": [],
   "source": [
    "cv_features = [variation(df_t[f]) for f in df_t.columns]"
   ]
  },
  {
   "cell_type": "code",
   "execution_count": 53,
   "id": "63c3e14d-9396-4a7f-a32a-a8dbb10f7c16",
   "metadata": {},
   "outputs": [],
   "source": [
    "cv_features_pd = pd.DataFrame(data=cv_features, index=df_t.columns, columns=['cv']).sort_values(by='cv', ascending=True)"
   ]
  },
  {
   "cell_type": "code",
   "execution_count": 54,
   "id": "cf673928-367f-4f0f-bafb-842ac9ebdce6",
   "metadata": {},
   "outputs": [
    {
     "data": {
      "text/html": [
       "<div>\n",
       "<style scoped>\n",
       "    .dataframe tbody tr th:only-of-type {\n",
       "        vertical-align: middle;\n",
       "    }\n",
       "\n",
       "    .dataframe tbody tr th {\n",
       "        vertical-align: top;\n",
       "    }\n",
       "\n",
       "    .dataframe thead th {\n",
       "        text-align: right;\n",
       "    }\n",
       "</style>\n",
       "<table border=\"1\" class=\"dataframe\">\n",
       "  <thead>\n",
       "    <tr style=\"text-align: right;\">\n",
       "      <th></th>\n",
       "      <th>cv</th>\n",
       "    </tr>\n",
       "  </thead>\n",
       "  <tbody>\n",
       "    <tr>\n",
       "      <th>delta_imp_trasp_var33_in_1y3</th>\n",
       "      <td>-89.336443</td>\n",
       "    </tr>\n",
       "    <tr>\n",
       "      <th>delta_num_trasp_var33_in_1y3</th>\n",
       "      <td>-89.336443</td>\n",
       "    </tr>\n",
       "    <tr>\n",
       "      <th>delta_num_aport_var33_1y3</th>\n",
       "      <td>-71.714403</td>\n",
       "    </tr>\n",
       "    <tr>\n",
       "      <th>delta_imp_aport_var33_1y3</th>\n",
       "      <td>-58.095613</td>\n",
       "    </tr>\n",
       "    <tr>\n",
       "      <th>var3</th>\n",
       "      <td>-25.604550</td>\n",
       "    </tr>\n",
       "  </tbody>\n",
       "</table>\n",
       "</div>"
      ],
      "text/plain": [
       "                                     cv\n",
       "delta_imp_trasp_var33_in_1y3 -89.336443\n",
       "delta_num_trasp_var33_in_1y3 -89.336443\n",
       "delta_num_aport_var33_1y3    -71.714403\n",
       "delta_imp_aport_var33_1y3    -58.095613\n",
       "var3                         -25.604550"
      ]
     },
     "execution_count": 54,
     "metadata": {},
     "output_type": "execute_result"
    }
   ],
   "source": [
    "cv_features_pd.head()"
   ]
  },
  {
   "cell_type": "code",
   "execution_count": 55,
   "id": "3ede5a71-d025-4cf2-a52d-b5ada3f94253",
   "metadata": {},
   "outputs": [
    {
     "data": {
      "text/html": [
       "<div>\n",
       "<style scoped>\n",
       "    .dataframe tbody tr th:only-of-type {\n",
       "        vertical-align: middle;\n",
       "    }\n",
       "\n",
       "    .dataframe tbody tr th {\n",
       "        vertical-align: top;\n",
       "    }\n",
       "\n",
       "    .dataframe thead th {\n",
       "        text-align: right;\n",
       "    }\n",
       "</style>\n",
       "<table border=\"1\" class=\"dataframe\">\n",
       "  <thead>\n",
       "    <tr style=\"text-align: right;\">\n",
       "      <th></th>\n",
       "      <th>cv</th>\n",
       "    </tr>\n",
       "  </thead>\n",
       "  <tbody>\n",
       "    <tr>\n",
       "      <th>num_trasp_var33_out_hace3</th>\n",
       "      <td>NaN</td>\n",
       "    </tr>\n",
       "    <tr>\n",
       "      <th>num_trasp_var33_out_ult1</th>\n",
       "      <td>NaN</td>\n",
       "    </tr>\n",
       "    <tr>\n",
       "      <th>saldo_var2_ult1</th>\n",
       "      <td>NaN</td>\n",
       "    </tr>\n",
       "    <tr>\n",
       "      <th>saldo_medio_var13_medio_hace3</th>\n",
       "      <td>NaN</td>\n",
       "    </tr>\n",
       "    <tr>\n",
       "      <th>saldo_medio_var29_hace3</th>\n",
       "      <td>NaN</td>\n",
       "    </tr>\n",
       "  </tbody>\n",
       "</table>\n",
       "</div>"
      ],
      "text/plain": [
       "                               cv\n",
       "num_trasp_var33_out_hace3     NaN\n",
       "num_trasp_var33_out_ult1      NaN\n",
       "saldo_var2_ult1               NaN\n",
       "saldo_medio_var13_medio_hace3 NaN\n",
       "saldo_medio_var29_hace3       NaN"
      ]
     },
     "execution_count": 55,
     "metadata": {},
     "output_type": "execute_result"
    }
   ],
   "source": [
    "cv_features_pd.tail()"
   ]
  },
  {
   "cell_type": "markdown",
   "id": "b8c649e7-a043-4df5-8c8d-b545fbaf16ab",
   "metadata": {},
   "source": [
    "Temos algo a princípio estranho: features com 'cvs' negativos e features com 'cvs' nulos... Vamos investigar isso..."
   ]
  },
  {
   "cell_type": "code",
   "execution_count": 56,
   "id": "245ba445-bcf4-412c-8434-d65417f844b6",
   "metadata": {},
   "outputs": [
    {
     "data": {
      "text/plain": [
       " 0.000000    53200\n",
       "-1.000000        9\n",
       "-0.940476        1\n",
       "-0.916000        1\n",
       "-0.950000        1\n",
       "-0.666667        1\n",
       "-0.700000        1\n",
       "Name: delta_imp_aport_var33_1y3, dtype: int64"
      ]
     },
     "execution_count": 56,
     "metadata": {},
     "output_type": "execute_result"
    }
   ],
   "source": [
    "df_train['delta_imp_aport_var33_1y3'].value_counts()"
   ]
  },
  {
   "cell_type": "markdown",
   "id": "6ab867de-dd53-4588-a184-57e5a5660542",
   "metadata": {},
   "source": [
    "Certo... As features que possuem valores de cv negativo claramente possuem a média negativa, já que o desvio padrão é sempre positivo. Mas isso também nos levanta um alerta! Pode ser que existam variáveis em que o cv foi positivo (por conta de a média ser positiva), mas podem possuir valores negativos, o que inviabilizaria a utilização do cv."
   ]
  },
  {
   "cell_type": "markdown",
   "id": "89c04fd7-4f24-4661-a720-10aed801eae6",
   "metadata": {},
   "source": [
    "Vamos ver se as variáveis com valores negativos possuem APENAS valores negativos. Se sim, podemos transformá-las em positivas sem perder a escala dos dados."
   ]
  },
  {
   "cell_type": "markdown",
   "id": "40e61157-7ca3-4d62-a02d-dcb0ca029ae0",
   "metadata": {},
   "source": [
    "Primeiro, vamos coletar todas as variáveis que possuem valores negativos."
   ]
  },
  {
   "cell_type": "code",
   "execution_count": 57,
   "id": "032f2cba-8549-485c-90d5-50b68eed7718",
   "metadata": {
    "tags": []
   },
   "outputs": [
    {
     "data": {
      "text/plain": [
       "var3                           -999999.00\n",
       "saldo_var5                       -2895.72\n",
       "saldo_var8                        -843.39\n",
       "saldo_var30                      -2895.72\n",
       "saldo_var42                      -2895.72\n",
       "delta_imp_aport_var13_1y3           -1.00\n",
       "delta_imp_aport_var17_1y3           -1.00\n",
       "delta_imp_aport_var33_1y3           -1.00\n",
       "delta_imp_compra_var44_1y3          -1.00\n",
       "delta_imp_reemb_var17_1y3           -1.00\n",
       "delta_imp_trasp_var33_in_1y3        -1.00\n",
       "delta_imp_venta_var44_1y3           -1.00\n",
       "delta_num_aport_var13_1y3           -1.00\n",
       "delta_num_aport_var17_1y3           -1.00\n",
       "delta_num_aport_var33_1y3           -1.00\n",
       "delta_num_compra_var44_1y3          -1.00\n",
       "delta_num_reemb_var17_1y3           -1.00\n",
       "delta_num_trasp_var33_in_1y3        -1.00\n",
       "delta_num_venta_var44_1y3           -1.00\n",
       "saldo_medio_var5_hace2            -128.37\n",
       "saldo_medio_var5_hace3              -8.04\n",
       "saldo_medio_var5_ult1             -922.38\n",
       "saldo_medio_var5_ult3             -476.07\n",
       "saldo_medio_var8_hace2            -151.95\n",
       "saldo_medio_var8_ult1             -705.96\n",
       "saldo_medio_var8_ult3             -292.47\n",
       "saldo_medio_var17_hace2             -0.03\n",
       "dtype: float64"
      ]
     },
     "execution_count": 57,
     "metadata": {},
     "output_type": "execute_result"
    }
   ],
   "source": [
    "df_t.min()[df_t.min() < 0]"
   ]
  },
  {
   "cell_type": "code",
   "execution_count": 58,
   "id": "ddab45e5-bfbe-490c-b555-c1beb2b57a94",
   "metadata": {},
   "outputs": [
    {
     "name": "stdout",
     "output_type": "stream",
     "text": [
      "[238, 600450.0, 240045.0, 3458077.32, 3008077.32, 9999999999.0, 9999999999.0, 0.0, 9999999999.0, 9999999999, 0, 9999999999.0, 9999999999.0, 9999999999.0, 0.0, 9999999999.0, 9999999999, 0, 9999999999.0, 600450.0, 1542339.36, 600450.0, 544365.57, 96405.63, 163151.52, 129161.7, 4210084.23]\n"
     ]
    }
   ],
   "source": [
    "print([df_t[c].max() for c in df_t.min()[df_t.min() < 0].index]) # Vendo os valores máximos das colunas que possuem valores negativos"
   ]
  },
  {
   "cell_type": "markdown",
   "id": "b2488afd-aa4f-412e-9331-976db72d3a77",
   "metadata": {},
   "source": [
    "Pois é... Aqui vemos que as variáveis possuem valores positivos também... Vamos precisar adotar uma abordagem alternativa..."
   ]
  },
  {
   "cell_type": "markdown",
   "id": "6eadba68-4c7b-4077-ba8c-9b71584d38ca",
   "metadata": {},
   "source": [
    "Adotando uma abordagem alternativa..."
   ]
  },
  {
   "cell_type": "markdown",
   "id": "97c72b9c-fa52-43d8-8df7-4a1a122e79db",
   "metadata": {},
   "source": [
    "Vamos ver qual a representatividade da moda de cada coluna..."
   ]
  },
  {
   "cell_type": "code",
   "execution_count": 59,
   "id": "8f7f47e9-045b-4b7f-b349-a5bc4e3926a0",
   "metadata": {},
   "outputs": [],
   "source": [
    "perc_moda = [int(df_t[c].value_counts(normalize=True).iloc[0] * 100) for c in df_t.columns]"
   ]
  },
  {
   "cell_type": "code",
   "execution_count": 60,
   "id": "3e95ce55-67a1-4e2b-9eec-214cad5a50b1",
   "metadata": {},
   "outputs": [],
   "source": [
    "perc_moda_pd = pd.DataFrame(data=perc_moda, index=df_t.columns, columns=['perc_moda']).sort_values('perc_moda')"
   ]
  },
  {
   "cell_type": "code",
   "execution_count": 61,
   "id": "127596b8-f52c-46eb-aab7-b21ac9ecf232",
   "metadata": {},
   "outputs": [
    {
     "data": {
      "text/plain": [
       "perc_moda\n",
       "99           168\n",
       "100           50\n",
       "97            26\n",
       "95            22\n",
       "98            15\n",
       "93            10\n",
       "dtype: int64"
      ]
     },
     "execution_count": 61,
     "metadata": {},
     "output_type": "execute_result"
    }
   ],
   "source": [
    "perc_moda_pd.value_counts().head(6)"
   ]
  },
  {
   "cell_type": "markdown",
   "id": "a604cf52-12e9-4dd0-a134-98336edc536f",
   "metadata": {},
   "source": [
    "Temos 168 colunas em que a moda representa 99% dos valores da coluna e 50 colunas com a moda equivalente a 100% (ou seja, constante)."
   ]
  },
  {
   "cell_type": "code",
   "execution_count": 62,
   "id": "d843bcfb-9e45-434f-b73c-a4cda1178878",
   "metadata": {},
   "outputs": [
    {
     "data": {
      "text/plain": [
       "291"
      ]
     },
     "execution_count": 62,
     "metadata": {},
     "output_type": "execute_result"
    }
   ],
   "source": [
    "perc_moda_pd.value_counts().head(6).sum()"
   ]
  },
  {
   "cell_type": "markdown",
   "id": "bf700aad-6679-40a0-a875-4ac2e521fc49",
   "metadata": {},
   "source": [
    "Mesmo as demais colunas (95% a 98%) tem uma variancia muito baixa. Mas aqui precisamos tomar um cuidado importante: nossa base é desbalanceada. Aproximadamente 4% das instâncias são da classe positiva. Não é prudente excluirmos as colunas sem avaliarmos se as distribuições destes valores são iguais nas duas classes."
   ]
  },
  {
   "cell_type": "markdown",
   "id": "f0ffc418-46fd-484a-872a-94dd9d723cac",
   "metadata": {},
   "source": [
    "Considerando as variáveis com representativade da moda acima de 95%, temos o total de 291 colunas. Mas antes de excluí-las do nosso dataset, vamos verificar se essa representatividade acontece nas duas classes."
   ]
  },
  {
   "cell_type": "code",
   "execution_count": 63,
   "id": "3eb3e0f1-e102-49f9-af66-d00a8813af3a",
   "metadata": {},
   "outputs": [],
   "source": [
    "cols_mode_95 = perc_moda_pd[perc_moda_pd['perc_moda'] >= 95].index"
   ]
  },
  {
   "cell_type": "code",
   "execution_count": 64,
   "id": "c03e7d96-f722-435b-af18-258d06baad91",
   "metadata": {},
   "outputs": [
    {
     "name": "stdout",
     "output_type": "stream",
     "text": [
      "Index(['num_ent_var16_ult1', 'saldo_medio_var13_corto_ult3',\n",
      "       'imp_ent_var16_ult1', 'saldo_medio_var13_corto_ult1', 'num_var13_corto',\n",
      "       'num_var13_corto_0', 'saldo_var12', 'num_var12',\n",
      "       'saldo_medio_var12_ult3', 'ind_var13_corto_0',\n",
      "       ...\n",
      "       'num_trasp_var17_out_hace3', 'saldo_var18', 'num_reemb_var33_hace3',\n",
      "       'saldo_var28', 'saldo_var27', 'saldo_var41', 'ind_var18_0', 'ind_var18',\n",
      "       'num_trasp_var17_in_hace3', 'imp_reemb_var33_hace3'],\n",
      "      dtype='object', length=288)\n"
     ]
    }
   ],
   "source": [
    "print(cols_mode_95)"
   ]
  },
  {
   "cell_type": "code",
   "execution_count": 65,
   "id": "17c7bb92-ce25-4968-896b-b7d3909e0a83",
   "metadata": {},
   "outputs": [],
   "source": [
    "cols_mode_95_tgt_0 = pd.Series([int(df_t[df_t['TARGET'] == 0][c].value_counts(normalize=True).iloc[0] * 100) for c in cols_mode_95])\n",
    "cols_mode_95_tgt_1 = pd.Series([int(df_t[df_t['TARGET'] == 1][c].value_counts(normalize=True).iloc[0] * 100) for c in cols_mode_95])"
   ]
  },
  {
   "cell_type": "code",
   "execution_count": 66,
   "id": "043c25a3-ab3c-4ab5-ab55-b3c14af57e90",
   "metadata": {},
   "outputs": [],
   "source": [
    "perc_moda_pd_cols_mode_95 = perc_moda_pd[perc_moda_pd['perc_moda'] >= 95].reset_index()"
   ]
  },
  {
   "cell_type": "code",
   "execution_count": 67,
   "id": "87ab0be2-046b-4eaf-b06c-027823a3f357",
   "metadata": {},
   "outputs": [],
   "source": [
    "perc_moda_pd_cols_mode_95 = pd.concat([perc_moda_pd_cols_mode_95, cols_mode_95_tgt_0, cols_mode_95_tgt_1], axis=1)"
   ]
  },
  {
   "cell_type": "code",
   "execution_count": 68,
   "id": "502b9add-0343-4f36-9f38-8d0b6b13f63d",
   "metadata": {},
   "outputs": [],
   "source": [
    "perc_moda_pd_cols_mode_95.columns = ['var', 'perc_moda', 'perc_moda_tgt_0', 'perc_moda_tgt_1']"
   ]
  },
  {
   "cell_type": "code",
   "execution_count": 69,
   "id": "f3797cd0-7ee3-42bc-bcc8-f0d7033aa0f6",
   "metadata": {},
   "outputs": [
    {
     "data": {
      "text/html": [
       "<div>\n",
       "<style scoped>\n",
       "    .dataframe tbody tr th:only-of-type {\n",
       "        vertical-align: middle;\n",
       "    }\n",
       "\n",
       "    .dataframe tbody tr th {\n",
       "        vertical-align: top;\n",
       "    }\n",
       "\n",
       "    .dataframe thead th {\n",
       "        text-align: right;\n",
       "    }\n",
       "</style>\n",
       "<table border=\"1\" class=\"dataframe\">\n",
       "  <thead>\n",
       "    <tr style=\"text-align: right;\">\n",
       "      <th></th>\n",
       "      <th>var</th>\n",
       "      <th>perc_moda</th>\n",
       "      <th>perc_moda_tgt_0</th>\n",
       "      <th>perc_moda_tgt_1</th>\n",
       "    </tr>\n",
       "  </thead>\n",
       "  <tbody>\n",
       "    <tr>\n",
       "      <th>0</th>\n",
       "      <td>num_ent_var16_ult1</td>\n",
       "      <td>95</td>\n",
       "      <td>95</td>\n",
       "      <td>95</td>\n",
       "    </tr>\n",
       "    <tr>\n",
       "      <th>1</th>\n",
       "      <td>saldo_medio_var13_corto_ult3</td>\n",
       "      <td>95</td>\n",
       "      <td>95</td>\n",
       "      <td>99</td>\n",
       "    </tr>\n",
       "    <tr>\n",
       "      <th>2</th>\n",
       "      <td>imp_ent_var16_ult1</td>\n",
       "      <td>95</td>\n",
       "      <td>95</td>\n",
       "      <td>95</td>\n",
       "    </tr>\n",
       "    <tr>\n",
       "      <th>3</th>\n",
       "      <td>saldo_medio_var13_corto_ult1</td>\n",
       "      <td>95</td>\n",
       "      <td>95</td>\n",
       "      <td>99</td>\n",
       "    </tr>\n",
       "    <tr>\n",
       "      <th>4</th>\n",
       "      <td>num_var13_corto</td>\n",
       "      <td>95</td>\n",
       "      <td>95</td>\n",
       "      <td>99</td>\n",
       "    </tr>\n",
       "    <tr>\n",
       "      <th>...</th>\n",
       "      <td>...</td>\n",
       "      <td>...</td>\n",
       "      <td>...</td>\n",
       "      <td>...</td>\n",
       "    </tr>\n",
       "    <tr>\n",
       "      <th>283</th>\n",
       "      <td>saldo_var41</td>\n",
       "      <td>100</td>\n",
       "      <td>100</td>\n",
       "      <td>100</td>\n",
       "    </tr>\n",
       "    <tr>\n",
       "      <th>284</th>\n",
       "      <td>ind_var18_0</td>\n",
       "      <td>100</td>\n",
       "      <td>100</td>\n",
       "      <td>100</td>\n",
       "    </tr>\n",
       "    <tr>\n",
       "      <th>285</th>\n",
       "      <td>ind_var18</td>\n",
       "      <td>100</td>\n",
       "      <td>100</td>\n",
       "      <td>100</td>\n",
       "    </tr>\n",
       "    <tr>\n",
       "      <th>286</th>\n",
       "      <td>num_trasp_var17_in_hace3</td>\n",
       "      <td>100</td>\n",
       "      <td>100</td>\n",
       "      <td>100</td>\n",
       "    </tr>\n",
       "    <tr>\n",
       "      <th>287</th>\n",
       "      <td>imp_reemb_var33_hace3</td>\n",
       "      <td>100</td>\n",
       "      <td>100</td>\n",
       "      <td>100</td>\n",
       "    </tr>\n",
       "  </tbody>\n",
       "</table>\n",
       "<p>288 rows × 4 columns</p>\n",
       "</div>"
      ],
      "text/plain": [
       "                              var  perc_moda  perc_moda_tgt_0  perc_moda_tgt_1\n",
       "0              num_ent_var16_ult1         95               95               95\n",
       "1    saldo_medio_var13_corto_ult3         95               95               99\n",
       "2              imp_ent_var16_ult1         95               95               95\n",
       "3    saldo_medio_var13_corto_ult1         95               95               99\n",
       "4                 num_var13_corto         95               95               99\n",
       "..                            ...        ...              ...              ...\n",
       "283                   saldo_var41        100              100              100\n",
       "284                   ind_var18_0        100              100              100\n",
       "285                     ind_var18        100              100              100\n",
       "286      num_trasp_var17_in_hace3        100              100              100\n",
       "287         imp_reemb_var33_hace3        100              100              100\n",
       "\n",
       "[288 rows x 4 columns]"
      ]
     },
     "execution_count": 69,
     "metadata": {},
     "output_type": "execute_result"
    }
   ],
   "source": [
    "perc_moda_pd_cols_mode_95"
   ]
  },
  {
   "cell_type": "markdown",
   "id": "2a964cde-c00b-4161-95b0-931e6d83d1dd",
   "metadata": {},
   "source": [
    "Ótimo... Agora temos a representatividade da moda por classe... Vamos considerar o seguinte: se o mínimo entre as duas for maior ou igual a 95%, nós removemos a coluna. Ou seja, o número de colunas a serem removidas será menor ou igual a 291."
   ]
  },
  {
   "cell_type": "code",
   "execution_count": 70,
   "id": "80a6d9f2-6e1c-442e-babb-19dc7ae33a4e",
   "metadata": {},
   "outputs": [],
   "source": [
    "perc_moda_pd_cols_mode_95['min_perc_mode'] = perc_moda_pd_cols_mode_95.apply(lambda x: min(x['perc_moda_tgt_0'], x['perc_moda_tgt_1']), axis=1)"
   ]
  },
  {
   "cell_type": "code",
   "execution_count": 71,
   "id": "9ac30fad-bc37-4bfa-8ff7-4b8a4c5c86f4",
   "metadata": {},
   "outputs": [
    {
     "data": {
      "text/plain": [
       "278"
      ]
     },
     "execution_count": 71,
     "metadata": {},
     "output_type": "execute_result"
    }
   ],
   "source": [
    "perc_moda_pd_cols_mode_95[perc_moda_pd_cols_mode_95['min_perc_mode'] >= 95]['var'].nunique()"
   ]
  },
  {
   "cell_type": "code",
   "execution_count": 72,
   "id": "5c9feead-ef06-453e-9c42-3a380e1140ff",
   "metadata": {},
   "outputs": [
    {
     "data": {
      "text/plain": [
       "0.7533875338753387"
      ]
     },
     "execution_count": 72,
     "metadata": {},
     "output_type": "execute_result"
    }
   ],
   "source": [
    "278 / (df_t.shape[1] - 2)"
   ]
  },
  {
   "cell_type": "markdown",
   "id": "a0a1b83f-8023-4881-811d-96d336bb5feb",
   "metadata": {},
   "source": [
    "Conseguiremos reduzir 278 features do nosso dataset. Isso equilave a mais de 75% das features que tínhamos no ínicio do projeto. Um grande passo!"
   ]
  },
  {
   "cell_type": "code",
   "execution_count": 73,
   "id": "7e951215-d9bc-45da-87a6-a6a0561a83ac",
   "metadata": {},
   "outputs": [
    {
     "data": {
      "text/html": [
       "<div>\n",
       "<style scoped>\n",
       "    .dataframe tbody tr th:only-of-type {\n",
       "        vertical-align: middle;\n",
       "    }\n",
       "\n",
       "    .dataframe tbody tr th {\n",
       "        vertical-align: top;\n",
       "    }\n",
       "\n",
       "    .dataframe thead th {\n",
       "        text-align: right;\n",
       "    }\n",
       "</style>\n",
       "<table border=\"1\" class=\"dataframe\">\n",
       "  <thead>\n",
       "    <tr style=\"text-align: right;\">\n",
       "      <th></th>\n",
       "      <th>ID</th>\n",
       "      <th>var3</th>\n",
       "      <th>var15</th>\n",
       "      <th>imp_ent_var16_ult1</th>\n",
       "      <th>imp_op_var39_comer_ult1</th>\n",
       "      <th>imp_op_var39_comer_ult3</th>\n",
       "      <th>imp_op_var40_comer_ult1</th>\n",
       "      <th>imp_op_var40_comer_ult3</th>\n",
       "      <th>imp_op_var40_efect_ult1</th>\n",
       "      <th>imp_op_var40_efect_ult3</th>\n",
       "      <th>imp_op_var40_ult1</th>\n",
       "      <th>imp_op_var41_comer_ult1</th>\n",
       "      <th>imp_op_var41_comer_ult3</th>\n",
       "      <th>imp_op_var41_efect_ult1</th>\n",
       "      <th>imp_op_var41_efect_ult3</th>\n",
       "      <th>...</th>\n",
       "      <th>saldo_medio_var17_ult3</th>\n",
       "      <th>saldo_medio_var29_hace2</th>\n",
       "      <th>saldo_medio_var29_hace3</th>\n",
       "      <th>saldo_medio_var29_ult1</th>\n",
       "      <th>saldo_medio_var29_ult3</th>\n",
       "      <th>saldo_medio_var33_hace2</th>\n",
       "      <th>saldo_medio_var33_hace3</th>\n",
       "      <th>saldo_medio_var33_ult1</th>\n",
       "      <th>saldo_medio_var33_ult3</th>\n",
       "      <th>saldo_medio_var44_hace2</th>\n",
       "      <th>saldo_medio_var44_hace3</th>\n",
       "      <th>saldo_medio_var44_ult1</th>\n",
       "      <th>saldo_medio_var44_ult3</th>\n",
       "      <th>var38</th>\n",
       "      <th>TARGET</th>\n",
       "    </tr>\n",
       "  </thead>\n",
       "  <tbody>\n",
       "    <tr>\n",
       "      <th>0</th>\n",
       "      <td>114261</td>\n",
       "      <td>2</td>\n",
       "      <td>23</td>\n",
       "      <td>0.0</td>\n",
       "      <td>788.16</td>\n",
       "      <td>788.16</td>\n",
       "      <td>0.0</td>\n",
       "      <td>0.0</td>\n",
       "      <td>0.0</td>\n",
       "      <td>0.0</td>\n",
       "      <td>0.0</td>\n",
       "      <td>788.16</td>\n",
       "      <td>788.16</td>\n",
       "      <td>0.0</td>\n",
       "      <td>0.0</td>\n",
       "      <td>...</td>\n",
       "      <td>0.0</td>\n",
       "      <td>0.0</td>\n",
       "      <td>0.0</td>\n",
       "      <td>0.0</td>\n",
       "      <td>0.0</td>\n",
       "      <td>0.0</td>\n",
       "      <td>0.0</td>\n",
       "      <td>0.0</td>\n",
       "      <td>0.0</td>\n",
       "      <td>0.0</td>\n",
       "      <td>0.0</td>\n",
       "      <td>0.0</td>\n",
       "      <td>0.0</td>\n",
       "      <td>71172.390000</td>\n",
       "      <td>0</td>\n",
       "    </tr>\n",
       "    <tr>\n",
       "      <th>1</th>\n",
       "      <td>72619</td>\n",
       "      <td>2</td>\n",
       "      <td>37</td>\n",
       "      <td>0.0</td>\n",
       "      <td>0.00</td>\n",
       "      <td>0.00</td>\n",
       "      <td>0.0</td>\n",
       "      <td>0.0</td>\n",
       "      <td>0.0</td>\n",
       "      <td>0.0</td>\n",
       "      <td>0.0</td>\n",
       "      <td>0.00</td>\n",
       "      <td>0.00</td>\n",
       "      <td>0.0</td>\n",
       "      <td>0.0</td>\n",
       "      <td>...</td>\n",
       "      <td>0.0</td>\n",
       "      <td>0.0</td>\n",
       "      <td>0.0</td>\n",
       "      <td>0.0</td>\n",
       "      <td>0.0</td>\n",
       "      <td>0.0</td>\n",
       "      <td>0.0</td>\n",
       "      <td>0.0</td>\n",
       "      <td>0.0</td>\n",
       "      <td>0.0</td>\n",
       "      <td>0.0</td>\n",
       "      <td>0.0</td>\n",
       "      <td>0.0</td>\n",
       "      <td>117310.979016</td>\n",
       "      <td>0</td>\n",
       "    </tr>\n",
       "    <tr>\n",
       "      <th>2</th>\n",
       "      <td>32245</td>\n",
       "      <td>2</td>\n",
       "      <td>32</td>\n",
       "      <td>0.0</td>\n",
       "      <td>568.83</td>\n",
       "      <td>644.73</td>\n",
       "      <td>0.0</td>\n",
       "      <td>0.0</td>\n",
       "      <td>0.0</td>\n",
       "      <td>0.0</td>\n",
       "      <td>0.0</td>\n",
       "      <td>568.83</td>\n",
       "      <td>644.73</td>\n",
       "      <td>0.0</td>\n",
       "      <td>0.0</td>\n",
       "      <td>...</td>\n",
       "      <td>0.0</td>\n",
       "      <td>0.0</td>\n",
       "      <td>0.0</td>\n",
       "      <td>0.0</td>\n",
       "      <td>0.0</td>\n",
       "      <td>0.0</td>\n",
       "      <td>0.0</td>\n",
       "      <td>0.0</td>\n",
       "      <td>0.0</td>\n",
       "      <td>0.0</td>\n",
       "      <td>0.0</td>\n",
       "      <td>0.0</td>\n",
       "      <td>0.0</td>\n",
       "      <td>117310.979016</td>\n",
       "      <td>0</td>\n",
       "    </tr>\n",
       "    <tr>\n",
       "      <th>3</th>\n",
       "      <td>103618</td>\n",
       "      <td>2</td>\n",
       "      <td>44</td>\n",
       "      <td>0.0</td>\n",
       "      <td>0.00</td>\n",
       "      <td>0.00</td>\n",
       "      <td>0.0</td>\n",
       "      <td>0.0</td>\n",
       "      <td>0.0</td>\n",
       "      <td>0.0</td>\n",
       "      <td>0.0</td>\n",
       "      <td>0.00</td>\n",
       "      <td>0.00</td>\n",
       "      <td>0.0</td>\n",
       "      <td>0.0</td>\n",
       "      <td>...</td>\n",
       "      <td>0.0</td>\n",
       "      <td>0.0</td>\n",
       "      <td>0.0</td>\n",
       "      <td>0.0</td>\n",
       "      <td>0.0</td>\n",
       "      <td>0.0</td>\n",
       "      <td>0.0</td>\n",
       "      <td>0.0</td>\n",
       "      <td>0.0</td>\n",
       "      <td>0.0</td>\n",
       "      <td>0.0</td>\n",
       "      <td>0.0</td>\n",
       "      <td>0.0</td>\n",
       "      <td>46100.040000</td>\n",
       "      <td>0</td>\n",
       "    </tr>\n",
       "    <tr>\n",
       "      <th>4</th>\n",
       "      <td>5000</td>\n",
       "      <td>2</td>\n",
       "      <td>33</td>\n",
       "      <td>0.0</td>\n",
       "      <td>508.14</td>\n",
       "      <td>819.33</td>\n",
       "      <td>0.0</td>\n",
       "      <td>0.0</td>\n",
       "      <td>0.0</td>\n",
       "      <td>0.0</td>\n",
       "      <td>0.0</td>\n",
       "      <td>508.14</td>\n",
       "      <td>819.33</td>\n",
       "      <td>60.0</td>\n",
       "      <td>120.0</td>\n",
       "      <td>...</td>\n",
       "      <td>0.0</td>\n",
       "      <td>0.0</td>\n",
       "      <td>0.0</td>\n",
       "      <td>0.0</td>\n",
       "      <td>0.0</td>\n",
       "      <td>0.0</td>\n",
       "      <td>0.0</td>\n",
       "      <td>0.0</td>\n",
       "      <td>0.0</td>\n",
       "      <td>0.0</td>\n",
       "      <td>0.0</td>\n",
       "      <td>0.0</td>\n",
       "      <td>0.0</td>\n",
       "      <td>97857.750000</td>\n",
       "      <td>0</td>\n",
       "    </tr>\n",
       "  </tbody>\n",
       "</table>\n",
       "<p>5 rows × 371 columns</p>\n",
       "</div>"
      ],
      "text/plain": [
       "       ID  var3  var15  imp_ent_var16_ult1  imp_op_var39_comer_ult1  \\\n",
       "0  114261     2     23                 0.0                   788.16   \n",
       "1   72619     2     37                 0.0                     0.00   \n",
       "2   32245     2     32                 0.0                   568.83   \n",
       "3  103618     2     44                 0.0                     0.00   \n",
       "4    5000     2     33                 0.0                   508.14   \n",
       "\n",
       "   imp_op_var39_comer_ult3  imp_op_var40_comer_ult1  imp_op_var40_comer_ult3  \\\n",
       "0                   788.16                      0.0                      0.0   \n",
       "1                     0.00                      0.0                      0.0   \n",
       "2                   644.73                      0.0                      0.0   \n",
       "3                     0.00                      0.0                      0.0   \n",
       "4                   819.33                      0.0                      0.0   \n",
       "\n",
       "   imp_op_var40_efect_ult1  imp_op_var40_efect_ult3  imp_op_var40_ult1  \\\n",
       "0                      0.0                      0.0                0.0   \n",
       "1                      0.0                      0.0                0.0   \n",
       "2                      0.0                      0.0                0.0   \n",
       "3                      0.0                      0.0                0.0   \n",
       "4                      0.0                      0.0                0.0   \n",
       "\n",
       "   imp_op_var41_comer_ult1  imp_op_var41_comer_ult3  imp_op_var41_efect_ult1  \\\n",
       "0                   788.16                   788.16                      0.0   \n",
       "1                     0.00                     0.00                      0.0   \n",
       "2                   568.83                   644.73                      0.0   \n",
       "3                     0.00                     0.00                      0.0   \n",
       "4                   508.14                   819.33                     60.0   \n",
       "\n",
       "   imp_op_var41_efect_ult3  ...  saldo_medio_var17_ult3  \\\n",
       "0                      0.0  ...                     0.0   \n",
       "1                      0.0  ...                     0.0   \n",
       "2                      0.0  ...                     0.0   \n",
       "3                      0.0  ...                     0.0   \n",
       "4                    120.0  ...                     0.0   \n",
       "\n",
       "   saldo_medio_var29_hace2  saldo_medio_var29_hace3  saldo_medio_var29_ult1  \\\n",
       "0                      0.0                      0.0                     0.0   \n",
       "1                      0.0                      0.0                     0.0   \n",
       "2                      0.0                      0.0                     0.0   \n",
       "3                      0.0                      0.0                     0.0   \n",
       "4                      0.0                      0.0                     0.0   \n",
       "\n",
       "   saldo_medio_var29_ult3  saldo_medio_var33_hace2  saldo_medio_var33_hace3  \\\n",
       "0                     0.0                      0.0                      0.0   \n",
       "1                     0.0                      0.0                      0.0   \n",
       "2                     0.0                      0.0                      0.0   \n",
       "3                     0.0                      0.0                      0.0   \n",
       "4                     0.0                      0.0                      0.0   \n",
       "\n",
       "   saldo_medio_var33_ult1  saldo_medio_var33_ult3  saldo_medio_var44_hace2  \\\n",
       "0                     0.0                     0.0                      0.0   \n",
       "1                     0.0                     0.0                      0.0   \n",
       "2                     0.0                     0.0                      0.0   \n",
       "3                     0.0                     0.0                      0.0   \n",
       "4                     0.0                     0.0                      0.0   \n",
       "\n",
       "   saldo_medio_var44_hace3  saldo_medio_var44_ult1  saldo_medio_var44_ult3  \\\n",
       "0                      0.0                     0.0                     0.0   \n",
       "1                      0.0                     0.0                     0.0   \n",
       "2                      0.0                     0.0                     0.0   \n",
       "3                      0.0                     0.0                     0.0   \n",
       "4                      0.0                     0.0                     0.0   \n",
       "\n",
       "           var38  TARGET  \n",
       "0   71172.390000       0  \n",
       "1  117310.979016       0  \n",
       "2  117310.979016       0  \n",
       "3   46100.040000       0  \n",
       "4   97857.750000       0  \n",
       "\n",
       "[5 rows x 371 columns]"
      ]
     },
     "execution_count": 73,
     "metadata": {},
     "output_type": "execute_result"
    }
   ],
   "source": [
    "df_t.head()"
   ]
  },
  {
   "cell_type": "code",
   "execution_count": 74,
   "id": "24ef010d-97c8-4632-915b-09897e0d271c",
   "metadata": {},
   "outputs": [],
   "source": [
    "feat_remove = perc_moda_pd_cols_mode_95[perc_moda_pd_cols_mode_95['min_perc_mode'] >= 95]['var'].tolist()\n",
    "\n",
    "# Não quero remover a Target e o ID nesta etapa... Por isso, excluo eles da lista caso tenham sido selecionados\n",
    "try:\n",
    "    feat_remove.remove('TARGET')\n",
    "    feat_remove.remove('ID')\n",
    "except:\n",
    "    pass"
   ]
  },
  {
   "cell_type": "code",
   "execution_count": 75,
   "id": "6565dc8e-aed2-49ab-8dd1-313a8dc65346",
   "metadata": {},
   "outputs": [],
   "source": [
    "df_t.drop(feat_remove, axis=1, inplace=True)"
   ]
  },
  {
   "cell_type": "code",
   "execution_count": 76,
   "id": "3669b1d4-769c-454a-aead-c662f7de2d52",
   "metadata": {},
   "outputs": [
    {
     "data": {
      "text/plain": [
       "(39910, 94)"
      ]
     },
     "execution_count": 76,
     "metadata": {},
     "output_type": "execute_result"
    }
   ],
   "source": [
    "df_t.shape"
   ]
  },
  {
   "cell_type": "markdown",
   "id": "83018d77-2f31-4d88-bc4b-ae9d2995daed",
   "metadata": {},
   "source": [
    "Ficamos com 92 features (94 menos a TARGET e o ID. Vamos ver se o modelo já apresentou alguma melhora apenas com essa redução de features..."
   ]
  },
  {
   "cell_type": "code",
   "execution_count": 77,
   "id": "1b250fa5-fabe-46a7-912e-4cc004848860",
   "metadata": {},
   "outputs": [
    {
     "data": {
      "text/html": [
       "<div>\n",
       "<style scoped>\n",
       "    .dataframe tbody tr th:only-of-type {\n",
       "        vertical-align: middle;\n",
       "    }\n",
       "\n",
       "    .dataframe tbody tr th {\n",
       "        vertical-align: top;\n",
       "    }\n",
       "\n",
       "    .dataframe thead th {\n",
       "        text-align: right;\n",
       "    }\n",
       "</style>\n",
       "<table border=\"1\" class=\"dataframe\">\n",
       "  <thead>\n",
       "    <tr style=\"text-align: right;\">\n",
       "      <th></th>\n",
       "      <th>ID</th>\n",
       "      <th>var15</th>\n",
       "      <th>imp_op_var39_comer_ult1</th>\n",
       "      <th>imp_op_var39_comer_ult3</th>\n",
       "      <th>imp_op_var41_comer_ult1</th>\n",
       "      <th>imp_op_var41_comer_ult3</th>\n",
       "      <th>imp_op_var41_efect_ult1</th>\n",
       "      <th>imp_op_var41_efect_ult3</th>\n",
       "      <th>imp_op_var41_ult1</th>\n",
       "      <th>imp_op_var39_efect_ult1</th>\n",
       "      <th>imp_op_var39_efect_ult3</th>\n",
       "      <th>imp_op_var39_ult1</th>\n",
       "      <th>ind_var5_0</th>\n",
       "      <th>ind_var5</th>\n",
       "      <th>ind_var8_0</th>\n",
       "      <th>...</th>\n",
       "      <th>num_op_var39_efect_ult3</th>\n",
       "      <th>num_var43_emit_ult1</th>\n",
       "      <th>num_var43_recib_ult1</th>\n",
       "      <th>num_var45_hace2</th>\n",
       "      <th>num_var45_hace3</th>\n",
       "      <th>num_var45_ult1</th>\n",
       "      <th>num_var45_ult3</th>\n",
       "      <th>saldo_medio_var5_hace2</th>\n",
       "      <th>saldo_medio_var5_hace3</th>\n",
       "      <th>saldo_medio_var5_ult1</th>\n",
       "      <th>saldo_medio_var5_ult3</th>\n",
       "      <th>saldo_medio_var8_ult1</th>\n",
       "      <th>saldo_medio_var8_ult3</th>\n",
       "      <th>var38</th>\n",
       "      <th>TARGET</th>\n",
       "    </tr>\n",
       "  </thead>\n",
       "  <tbody>\n",
       "    <tr>\n",
       "      <th>0</th>\n",
       "      <td>114261</td>\n",
       "      <td>23</td>\n",
       "      <td>788.16</td>\n",
       "      <td>788.16</td>\n",
       "      <td>788.16</td>\n",
       "      <td>788.16</td>\n",
       "      <td>0.0</td>\n",
       "      <td>0.0</td>\n",
       "      <td>788.16</td>\n",
       "      <td>0.0</td>\n",
       "      <td>0.0</td>\n",
       "      <td>788.16</td>\n",
       "      <td>1</td>\n",
       "      <td>1</td>\n",
       "      <td>0</td>\n",
       "      <td>...</td>\n",
       "      <td>0</td>\n",
       "      <td>0</td>\n",
       "      <td>3</td>\n",
       "      <td>24</td>\n",
       "      <td>18</td>\n",
       "      <td>9</td>\n",
       "      <td>51</td>\n",
       "      <td>3979.29</td>\n",
       "      <td>1741.95</td>\n",
       "      <td>3922.11</td>\n",
       "      <td>3214.44</td>\n",
       "      <td>0.0</td>\n",
       "      <td>0.0</td>\n",
       "      <td>71172.390000</td>\n",
       "      <td>0</td>\n",
       "    </tr>\n",
       "    <tr>\n",
       "      <th>1</th>\n",
       "      <td>72619</td>\n",
       "      <td>37</td>\n",
       "      <td>0.00</td>\n",
       "      <td>0.00</td>\n",
       "      <td>0.00</td>\n",
       "      <td>0.00</td>\n",
       "      <td>0.0</td>\n",
       "      <td>0.0</td>\n",
       "      <td>0.00</td>\n",
       "      <td>0.0</td>\n",
       "      <td>0.0</td>\n",
       "      <td>0.00</td>\n",
       "      <td>1</td>\n",
       "      <td>1</td>\n",
       "      <td>0</td>\n",
       "      <td>...</td>\n",
       "      <td>0</td>\n",
       "      <td>0</td>\n",
       "      <td>0</td>\n",
       "      <td>9</td>\n",
       "      <td>3</td>\n",
       "      <td>15</td>\n",
       "      <td>27</td>\n",
       "      <td>894.63</td>\n",
       "      <td>0.00</td>\n",
       "      <td>12196.41</td>\n",
       "      <td>6545.52</td>\n",
       "      <td>0.0</td>\n",
       "      <td>0.0</td>\n",
       "      <td>117310.979016</td>\n",
       "      <td>0</td>\n",
       "    </tr>\n",
       "    <tr>\n",
       "      <th>2</th>\n",
       "      <td>32245</td>\n",
       "      <td>32</td>\n",
       "      <td>568.83</td>\n",
       "      <td>644.73</td>\n",
       "      <td>568.83</td>\n",
       "      <td>644.73</td>\n",
       "      <td>0.0</td>\n",
       "      <td>0.0</td>\n",
       "      <td>568.83</td>\n",
       "      <td>0.0</td>\n",
       "      <td>0.0</td>\n",
       "      <td>568.83</td>\n",
       "      <td>1</td>\n",
       "      <td>1</td>\n",
       "      <td>0</td>\n",
       "      <td>...</td>\n",
       "      <td>0</td>\n",
       "      <td>0</td>\n",
       "      <td>9</td>\n",
       "      <td>0</td>\n",
       "      <td>3</td>\n",
       "      <td>9</td>\n",
       "      <td>12</td>\n",
       "      <td>1305.27</td>\n",
       "      <td>0.81</td>\n",
       "      <td>1490.91</td>\n",
       "      <td>932.34</td>\n",
       "      <td>0.0</td>\n",
       "      <td>0.0</td>\n",
       "      <td>117310.979016</td>\n",
       "      <td>0</td>\n",
       "    </tr>\n",
       "    <tr>\n",
       "      <th>3</th>\n",
       "      <td>103618</td>\n",
       "      <td>44</td>\n",
       "      <td>0.00</td>\n",
       "      <td>0.00</td>\n",
       "      <td>0.00</td>\n",
       "      <td>0.00</td>\n",
       "      <td>0.0</td>\n",
       "      <td>0.0</td>\n",
       "      <td>0.00</td>\n",
       "      <td>0.0</td>\n",
       "      <td>0.0</td>\n",
       "      <td>0.00</td>\n",
       "      <td>1</td>\n",
       "      <td>1</td>\n",
       "      <td>0</td>\n",
       "      <td>...</td>\n",
       "      <td>0</td>\n",
       "      <td>0</td>\n",
       "      <td>0</td>\n",
       "      <td>21</td>\n",
       "      <td>15</td>\n",
       "      <td>3</td>\n",
       "      <td>39</td>\n",
       "      <td>22904.67</td>\n",
       "      <td>89.34</td>\n",
       "      <td>184.65</td>\n",
       "      <td>7726.23</td>\n",
       "      <td>0.0</td>\n",
       "      <td>0.0</td>\n",
       "      <td>46100.040000</td>\n",
       "      <td>0</td>\n",
       "    </tr>\n",
       "    <tr>\n",
       "      <th>4</th>\n",
       "      <td>5000</td>\n",
       "      <td>33</td>\n",
       "      <td>508.14</td>\n",
       "      <td>819.33</td>\n",
       "      <td>508.14</td>\n",
       "      <td>819.33</td>\n",
       "      <td>60.0</td>\n",
       "      <td>120.0</td>\n",
       "      <td>568.14</td>\n",
       "      <td>60.0</td>\n",
       "      <td>120.0</td>\n",
       "      <td>568.14</td>\n",
       "      <td>1</td>\n",
       "      <td>1</td>\n",
       "      <td>0</td>\n",
       "      <td>...</td>\n",
       "      <td>6</td>\n",
       "      <td>3</td>\n",
       "      <td>18</td>\n",
       "      <td>12</td>\n",
       "      <td>0</td>\n",
       "      <td>3</td>\n",
       "      <td>15</td>\n",
       "      <td>1003.38</td>\n",
       "      <td>39.00</td>\n",
       "      <td>1348.74</td>\n",
       "      <td>797.04</td>\n",
       "      <td>0.0</td>\n",
       "      <td>0.0</td>\n",
       "      <td>97857.750000</td>\n",
       "      <td>0</td>\n",
       "    </tr>\n",
       "  </tbody>\n",
       "</table>\n",
       "<p>5 rows × 94 columns</p>\n",
       "</div>"
      ],
      "text/plain": [
       "       ID  var15  imp_op_var39_comer_ult1  imp_op_var39_comer_ult3  \\\n",
       "0  114261     23                   788.16                   788.16   \n",
       "1   72619     37                     0.00                     0.00   \n",
       "2   32245     32                   568.83                   644.73   \n",
       "3  103618     44                     0.00                     0.00   \n",
       "4    5000     33                   508.14                   819.33   \n",
       "\n",
       "   imp_op_var41_comer_ult1  imp_op_var41_comer_ult3  imp_op_var41_efect_ult1  \\\n",
       "0                   788.16                   788.16                      0.0   \n",
       "1                     0.00                     0.00                      0.0   \n",
       "2                   568.83                   644.73                      0.0   \n",
       "3                     0.00                     0.00                      0.0   \n",
       "4                   508.14                   819.33                     60.0   \n",
       "\n",
       "   imp_op_var41_efect_ult3  imp_op_var41_ult1  imp_op_var39_efect_ult1  \\\n",
       "0                      0.0             788.16                      0.0   \n",
       "1                      0.0               0.00                      0.0   \n",
       "2                      0.0             568.83                      0.0   \n",
       "3                      0.0               0.00                      0.0   \n",
       "4                    120.0             568.14                     60.0   \n",
       "\n",
       "   imp_op_var39_efect_ult3  imp_op_var39_ult1  ind_var5_0  ind_var5  \\\n",
       "0                      0.0             788.16           1         1   \n",
       "1                      0.0               0.00           1         1   \n",
       "2                      0.0             568.83           1         1   \n",
       "3                      0.0               0.00           1         1   \n",
       "4                    120.0             568.14           1         1   \n",
       "\n",
       "   ind_var8_0  ...  num_op_var39_efect_ult3  num_var43_emit_ult1  \\\n",
       "0           0  ...                        0                    0   \n",
       "1           0  ...                        0                    0   \n",
       "2           0  ...                        0                    0   \n",
       "3           0  ...                        0                    0   \n",
       "4           0  ...                        6                    3   \n",
       "\n",
       "   num_var43_recib_ult1  num_var45_hace2  num_var45_hace3  num_var45_ult1  \\\n",
       "0                     3               24               18               9   \n",
       "1                     0                9                3              15   \n",
       "2                     9                0                3               9   \n",
       "3                     0               21               15               3   \n",
       "4                    18               12                0               3   \n",
       "\n",
       "   num_var45_ult3  saldo_medio_var5_hace2  saldo_medio_var5_hace3  \\\n",
       "0              51                 3979.29                 1741.95   \n",
       "1              27                  894.63                    0.00   \n",
       "2              12                 1305.27                    0.81   \n",
       "3              39                22904.67                   89.34   \n",
       "4              15                 1003.38                   39.00   \n",
       "\n",
       "   saldo_medio_var5_ult1  saldo_medio_var5_ult3  saldo_medio_var8_ult1  \\\n",
       "0                3922.11                3214.44                    0.0   \n",
       "1               12196.41                6545.52                    0.0   \n",
       "2                1490.91                 932.34                    0.0   \n",
       "3                 184.65                7726.23                    0.0   \n",
       "4                1348.74                 797.04                    0.0   \n",
       "\n",
       "   saldo_medio_var8_ult3          var38  TARGET  \n",
       "0                    0.0   71172.390000       0  \n",
       "1                    0.0  117310.979016       0  \n",
       "2                    0.0  117310.979016       0  \n",
       "3                    0.0   46100.040000       0  \n",
       "4                    0.0   97857.750000       0  \n",
       "\n",
       "[5 rows x 94 columns]"
      ]
     },
     "execution_count": 77,
     "metadata": {},
     "output_type": "execute_result"
    }
   ],
   "source": [
    "df_t.head()"
   ]
  },
  {
   "cell_type": "code",
   "execution_count": 78,
   "id": "e9d5dc5c-7e3b-4694-99de-dda52da40ffc",
   "metadata": {},
   "outputs": [],
   "source": [
    "cols_train = df_t.drop(['ID', 'TARGET'], axis=1).columns"
   ]
  },
  {
   "cell_type": "code",
   "execution_count": 79,
   "id": "11630fc3-0b84-40d2-b0e6-ad7c025a6172",
   "metadata": {},
   "outputs": [
    {
     "data": {
      "text/plain": [
       "RandomForestClassifier(random_state=123)"
      ]
     },
     "execution_count": 79,
     "metadata": {},
     "output_type": "execute_result"
    }
   ],
   "source": [
    "rf = RandomForestClassifier(random_state=123)\n",
    "rf.fit(df_t[cols_train], df_t['TARGET'])"
   ]
  },
  {
   "cell_type": "code",
   "execution_count": 133,
   "id": "2c78b607-e5f8-4184-8f73-c54f6458b227",
   "metadata": {},
   "outputs": [
    {
     "data": {
      "text/plain": [
       "820"
      ]
     },
     "execution_count": 133,
     "metadata": {},
     "output_type": "execute_result"
    }
   ],
   "source": [
    "cost(df_v['TARGET'], rf.predict(df_v[cols_train]))"
   ]
  },
  {
   "cell_type": "code",
   "execution_count": 82,
   "id": "a1a68eef-6b9f-4e48-9f07-4d3ad907e24d",
   "metadata": {},
   "outputs": [
    {
     "data": {
      "text/plain": [
       "(39910, 94)"
      ]
     },
     "execution_count": 82,
     "metadata": {},
     "output_type": "execute_result"
    }
   ],
   "source": [
    "df_t.shape"
   ]
  },
  {
   "cell_type": "markdown",
   "id": "8c4d00cb-f681-4873-b0e8-0f9482ab2f8d",
   "metadata": {},
   "source": [
    "Praticamente nenhuma melhoria ao utilizar exatamente o mesmo modelo do baseline. Isso até que faz sentido, visto que o Random Forest acaba desconsiderando as features irrelevantes. Quanto maior o número de features, mais features serão selecionadas por corte e, se a quantidade de variáveis relevantes for significativa, a chance de uma delas estar entre as escolhidas será maior e, portanto, tomará a frente em relação às features irrelevantes. E nesse caso, quanto maior o número de árvores, menor a chance de uma feature irrelevante ser escolhida para servir como ponto de corte. Isso já seria bem diferente se estivéssemos falando do algoritmo Extra Tree, que não seleciona a variável mais promissora (aquela com maior ganho de informação)."
   ]
  },
  {
   "cell_type": "markdown",
   "id": "3032b27b-5241-45da-bf27-505d16a1e920",
   "metadata": {},
   "source": [
    "3. Features altamente correlacionadas"
   ]
  },
  {
   "cell_type": "code",
   "execution_count": 83,
   "id": "e4307a0d-6b35-412a-9b1a-691eca398ef4",
   "metadata": {},
   "outputs": [],
   "source": [
    "corr_matrix = df_t.corr().abs()"
   ]
  },
  {
   "cell_type": "code",
   "execution_count": 84,
   "id": "326fee1c-d962-47f1-b026-0261ef0d7f36",
   "metadata": {},
   "outputs": [],
   "source": [
    "upper = corr_matrix.where(np.triu(np.ones(corr_matrix.shape), k=1).astype(np.bool))"
   ]
  },
  {
   "cell_type": "code",
   "execution_count": 85,
   "id": "db5df22d-d4ca-4fa5-a656-7323f173f0e4",
   "metadata": {},
   "outputs": [],
   "source": [
    "to_drop = [column for column in upper.columns if any(upper[column] > 0.90)]"
   ]
  },
  {
   "cell_type": "code",
   "execution_count": 86,
   "id": "a777cc1a-209c-45d7-a67d-88a57931eae6",
   "metadata": {},
   "outputs": [],
   "source": [
    "try:\n",
    "    to_drop.remove('TARGET')\n",
    "    to_drop.remove('ID')\n",
    "except:\n",
    "    pass"
   ]
  },
  {
   "cell_type": "code",
   "execution_count": 87,
   "id": "96423267-bb8e-475d-a113-df9f5bc04813",
   "metadata": {},
   "outputs": [
    {
     "data": {
      "text/plain": [
       "41"
      ]
     },
     "execution_count": 87,
     "metadata": {},
     "output_type": "execute_result"
    }
   ],
   "source": [
    "len(to_drop)"
   ]
  },
  {
   "cell_type": "markdown",
   "id": "e450ec67-a60a-468f-9754-319f4f18e1d7",
   "metadata": {},
   "source": [
    "41 features possuem uma correlação com outra variável de mais de 90%. Vamos remover essas features, pois seu poder preditivo já está sendo representado por outra informação."
   ]
  },
  {
   "cell_type": "code",
   "execution_count": 88,
   "id": "1973d6d5-4dfe-4e9e-abc4-ca8c22c80c01",
   "metadata": {},
   "outputs": [],
   "source": [
    "df_t.drop(to_drop, axis=1, inplace=True)"
   ]
  },
  {
   "cell_type": "code",
   "execution_count": 89,
   "id": "1f2901f2-0d98-49e0-9415-1724a9f3fe3f",
   "metadata": {},
   "outputs": [
    {
     "data": {
      "text/plain": [
       "(39910, 53)"
      ]
     },
     "execution_count": 89,
     "metadata": {},
     "output_type": "execute_result"
    }
   ],
   "source": [
    "df_t.shape"
   ]
  },
  {
   "cell_type": "markdown",
   "id": "a3419d36-2437-43da-871a-5b835399e2ed",
   "metadata": {},
   "source": [
    "Ficamos com 51 variáveis. Uma bela redução frente às quase 400 que tínhamos antes."
   ]
  },
  {
   "cell_type": "markdown",
   "id": "40228249-5c1a-431c-9d4f-a0279e688653",
   "metadata": {},
   "source": [
    "3. Eliminar features com poder preditivo menor do que uma feature aleatória."
   ]
  },
  {
   "cell_type": "code",
   "execution_count": 90,
   "id": "f7f9512d-ab77-4dae-bcd2-182897128f4e",
   "metadata": {},
   "outputs": [],
   "source": [
    "df_t['RANDOM_FEATURE'] = np.random.randint(10, size=df_t.shape[0])"
   ]
  },
  {
   "cell_type": "code",
   "execution_count": 91,
   "id": "157952a9-abbc-41e2-ac5a-a9588c2db46a",
   "metadata": {},
   "outputs": [
    {
     "data": {
      "text/html": [
       "<div>\n",
       "<style scoped>\n",
       "    .dataframe tbody tr th:only-of-type {\n",
       "        vertical-align: middle;\n",
       "    }\n",
       "\n",
       "    .dataframe tbody tr th {\n",
       "        vertical-align: top;\n",
       "    }\n",
       "\n",
       "    .dataframe thead th {\n",
       "        text-align: right;\n",
       "    }\n",
       "</style>\n",
       "<table border=\"1\" class=\"dataframe\">\n",
       "  <thead>\n",
       "    <tr style=\"text-align: right;\">\n",
       "      <th></th>\n",
       "      <th>ID</th>\n",
       "      <th>var15</th>\n",
       "      <th>imp_op_var39_comer_ult1</th>\n",
       "      <th>imp_op_var39_comer_ult3</th>\n",
       "      <th>imp_op_var41_efect_ult1</th>\n",
       "      <th>imp_op_var41_ult1</th>\n",
       "      <th>ind_var5_0</th>\n",
       "      <th>ind_var5</th>\n",
       "      <th>ind_var8_0</th>\n",
       "      <th>ind_var12_0</th>\n",
       "      <th>ind_var13_0</th>\n",
       "      <th>ind_var30</th>\n",
       "      <th>ind_var37_cte</th>\n",
       "      <th>ind_var39_0</th>\n",
       "      <th>num_var4</th>\n",
       "      <th>...</th>\n",
       "      <th>num_med_var45_ult3</th>\n",
       "      <th>num_meses_var39_vig_ult3</th>\n",
       "      <th>num_op_var41_efect_ult1</th>\n",
       "      <th>num_var43_emit_ult1</th>\n",
       "      <th>num_var43_recib_ult1</th>\n",
       "      <th>num_var45_hace3</th>\n",
       "      <th>num_var45_ult1</th>\n",
       "      <th>saldo_medio_var5_hace2</th>\n",
       "      <th>saldo_medio_var5_hace3</th>\n",
       "      <th>saldo_medio_var5_ult1</th>\n",
       "      <th>saldo_medio_var5_ult3</th>\n",
       "      <th>saldo_medio_var8_ult1</th>\n",
       "      <th>var38</th>\n",
       "      <th>TARGET</th>\n",
       "      <th>RANDOM_FEATURE</th>\n",
       "    </tr>\n",
       "  </thead>\n",
       "  <tbody>\n",
       "    <tr>\n",
       "      <th>0</th>\n",
       "      <td>114261</td>\n",
       "      <td>23</td>\n",
       "      <td>788.16</td>\n",
       "      <td>788.16</td>\n",
       "      <td>0.0</td>\n",
       "      <td>788.16</td>\n",
       "      <td>1</td>\n",
       "      <td>1</td>\n",
       "      <td>0</td>\n",
       "      <td>0</td>\n",
       "      <td>0</td>\n",
       "      <td>1</td>\n",
       "      <td>0</td>\n",
       "      <td>1</td>\n",
       "      <td>2</td>\n",
       "      <td>...</td>\n",
       "      <td>15</td>\n",
       "      <td>2</td>\n",
       "      <td>0</td>\n",
       "      <td>0</td>\n",
       "      <td>3</td>\n",
       "      <td>18</td>\n",
       "      <td>9</td>\n",
       "      <td>3979.29</td>\n",
       "      <td>1741.95</td>\n",
       "      <td>3922.11</td>\n",
       "      <td>3214.44</td>\n",
       "      <td>0.0</td>\n",
       "      <td>71172.390000</td>\n",
       "      <td>0</td>\n",
       "      <td>2</td>\n",
       "    </tr>\n",
       "    <tr>\n",
       "      <th>1</th>\n",
       "      <td>72619</td>\n",
       "      <td>37</td>\n",
       "      <td>0.00</td>\n",
       "      <td>0.00</td>\n",
       "      <td>0.0</td>\n",
       "      <td>0.00</td>\n",
       "      <td>1</td>\n",
       "      <td>1</td>\n",
       "      <td>0</td>\n",
       "      <td>0</td>\n",
       "      <td>0</td>\n",
       "      <td>1</td>\n",
       "      <td>1</td>\n",
       "      <td>1</td>\n",
       "      <td>2</td>\n",
       "      <td>...</td>\n",
       "      <td>9</td>\n",
       "      <td>2</td>\n",
       "      <td>0</td>\n",
       "      <td>0</td>\n",
       "      <td>0</td>\n",
       "      <td>3</td>\n",
       "      <td>15</td>\n",
       "      <td>894.63</td>\n",
       "      <td>0.00</td>\n",
       "      <td>12196.41</td>\n",
       "      <td>6545.52</td>\n",
       "      <td>0.0</td>\n",
       "      <td>117310.979016</td>\n",
       "      <td>0</td>\n",
       "      <td>4</td>\n",
       "    </tr>\n",
       "    <tr>\n",
       "      <th>2</th>\n",
       "      <td>32245</td>\n",
       "      <td>32</td>\n",
       "      <td>568.83</td>\n",
       "      <td>644.73</td>\n",
       "      <td>0.0</td>\n",
       "      <td>568.83</td>\n",
       "      <td>1</td>\n",
       "      <td>1</td>\n",
       "      <td>0</td>\n",
       "      <td>0</td>\n",
       "      <td>0</td>\n",
       "      <td>1</td>\n",
       "      <td>1</td>\n",
       "      <td>1</td>\n",
       "      <td>3</td>\n",
       "      <td>...</td>\n",
       "      <td>3</td>\n",
       "      <td>2</td>\n",
       "      <td>0</td>\n",
       "      <td>0</td>\n",
       "      <td>9</td>\n",
       "      <td>3</td>\n",
       "      <td>9</td>\n",
       "      <td>1305.27</td>\n",
       "      <td>0.81</td>\n",
       "      <td>1490.91</td>\n",
       "      <td>932.34</td>\n",
       "      <td>0.0</td>\n",
       "      <td>117310.979016</td>\n",
       "      <td>0</td>\n",
       "      <td>6</td>\n",
       "    </tr>\n",
       "    <tr>\n",
       "      <th>3</th>\n",
       "      <td>103618</td>\n",
       "      <td>44</td>\n",
       "      <td>0.00</td>\n",
       "      <td>0.00</td>\n",
       "      <td>0.0</td>\n",
       "      <td>0.00</td>\n",
       "      <td>1</td>\n",
       "      <td>1</td>\n",
       "      <td>0</td>\n",
       "      <td>0</td>\n",
       "      <td>1</td>\n",
       "      <td>1</td>\n",
       "      <td>0</td>\n",
       "      <td>1</td>\n",
       "      <td>2</td>\n",
       "      <td>...</td>\n",
       "      <td>12</td>\n",
       "      <td>1</td>\n",
       "      <td>0</td>\n",
       "      <td>0</td>\n",
       "      <td>0</td>\n",
       "      <td>15</td>\n",
       "      <td>3</td>\n",
       "      <td>22904.67</td>\n",
       "      <td>89.34</td>\n",
       "      <td>184.65</td>\n",
       "      <td>7726.23</td>\n",
       "      <td>0.0</td>\n",
       "      <td>46100.040000</td>\n",
       "      <td>0</td>\n",
       "      <td>3</td>\n",
       "    </tr>\n",
       "    <tr>\n",
       "      <th>4</th>\n",
       "      <td>5000</td>\n",
       "      <td>33</td>\n",
       "      <td>508.14</td>\n",
       "      <td>819.33</td>\n",
       "      <td>60.0</td>\n",
       "      <td>568.14</td>\n",
       "      <td>1</td>\n",
       "      <td>1</td>\n",
       "      <td>0</td>\n",
       "      <td>0</td>\n",
       "      <td>0</td>\n",
       "      <td>1</td>\n",
       "      <td>0</td>\n",
       "      <td>1</td>\n",
       "      <td>2</td>\n",
       "      <td>...</td>\n",
       "      <td>3</td>\n",
       "      <td>1</td>\n",
       "      <td>3</td>\n",
       "      <td>3</td>\n",
       "      <td>18</td>\n",
       "      <td>0</td>\n",
       "      <td>3</td>\n",
       "      <td>1003.38</td>\n",
       "      <td>39.00</td>\n",
       "      <td>1348.74</td>\n",
       "      <td>797.04</td>\n",
       "      <td>0.0</td>\n",
       "      <td>97857.750000</td>\n",
       "      <td>0</td>\n",
       "      <td>7</td>\n",
       "    </tr>\n",
       "  </tbody>\n",
       "</table>\n",
       "<p>5 rows × 54 columns</p>\n",
       "</div>"
      ],
      "text/plain": [
       "       ID  var15  imp_op_var39_comer_ult1  imp_op_var39_comer_ult3  \\\n",
       "0  114261     23                   788.16                   788.16   \n",
       "1   72619     37                     0.00                     0.00   \n",
       "2   32245     32                   568.83                   644.73   \n",
       "3  103618     44                     0.00                     0.00   \n",
       "4    5000     33                   508.14                   819.33   \n",
       "\n",
       "   imp_op_var41_efect_ult1  imp_op_var41_ult1  ind_var5_0  ind_var5  \\\n",
       "0                      0.0             788.16           1         1   \n",
       "1                      0.0               0.00           1         1   \n",
       "2                      0.0             568.83           1         1   \n",
       "3                      0.0               0.00           1         1   \n",
       "4                     60.0             568.14           1         1   \n",
       "\n",
       "   ind_var8_0  ind_var12_0  ind_var13_0  ind_var30  ind_var37_cte  \\\n",
       "0           0            0            0          1              0   \n",
       "1           0            0            0          1              1   \n",
       "2           0            0            0          1              1   \n",
       "3           0            0            1          1              0   \n",
       "4           0            0            0          1              0   \n",
       "\n",
       "   ind_var39_0  num_var4  ...  num_med_var45_ult3  num_meses_var39_vig_ult3  \\\n",
       "0            1         2  ...                  15                         2   \n",
       "1            1         2  ...                   9                         2   \n",
       "2            1         3  ...                   3                         2   \n",
       "3            1         2  ...                  12                         1   \n",
       "4            1         2  ...                   3                         1   \n",
       "\n",
       "   num_op_var41_efect_ult1  num_var43_emit_ult1  num_var43_recib_ult1  \\\n",
       "0                        0                    0                     3   \n",
       "1                        0                    0                     0   \n",
       "2                        0                    0                     9   \n",
       "3                        0                    0                     0   \n",
       "4                        3                    3                    18   \n",
       "\n",
       "   num_var45_hace3  num_var45_ult1  saldo_medio_var5_hace2  \\\n",
       "0               18               9                 3979.29   \n",
       "1                3              15                  894.63   \n",
       "2                3               9                 1305.27   \n",
       "3               15               3                22904.67   \n",
       "4                0               3                 1003.38   \n",
       "\n",
       "   saldo_medio_var5_hace3  saldo_medio_var5_ult1  saldo_medio_var5_ult3  \\\n",
       "0                 1741.95                3922.11                3214.44   \n",
       "1                    0.00               12196.41                6545.52   \n",
       "2                    0.81                1490.91                 932.34   \n",
       "3                   89.34                 184.65                7726.23   \n",
       "4                   39.00                1348.74                 797.04   \n",
       "\n",
       "   saldo_medio_var8_ult1          var38  TARGET  RANDOM_FEATURE  \n",
       "0                    0.0   71172.390000       0               2  \n",
       "1                    0.0  117310.979016       0               4  \n",
       "2                    0.0  117310.979016       0               6  \n",
       "3                    0.0   46100.040000       0               3  \n",
       "4                    0.0   97857.750000       0               7  \n",
       "\n",
       "[5 rows x 54 columns]"
      ]
     },
     "execution_count": 91,
     "metadata": {},
     "output_type": "execute_result"
    }
   ],
   "source": [
    "df_t.head()"
   ]
  },
  {
   "cell_type": "code",
   "execution_count": 92,
   "id": "613b1ce3-cd83-44e6-a0a5-c2f4b3cf61c7",
   "metadata": {},
   "outputs": [
    {
     "data": {
      "text/plain": [
       "RandomForestClassifier(max_depth=10, n_estimators=1000, random_state=123)"
      ]
     },
     "execution_count": 92,
     "metadata": {},
     "output_type": "execute_result"
    }
   ],
   "source": [
    "rf_random = RandomForestClassifier(n_estimators=1000, random_state=123, max_depth=10)\n",
    "rf_random.fit(df_t.drop(['ID', 'TARGET'], axis=1), df_t['TARGET'])"
   ]
  },
  {
   "cell_type": "code",
   "execution_count": 93,
   "id": "6887a9c6-7505-4064-a874-cf0202394e2f",
   "metadata": {},
   "outputs": [
    {
     "data": {
      "image/png": "[encoded data removed]",
      "text/plain": [
       "<Figure size 1080x720 with 1 Axes>"
      ]
     },
     "metadata": {
      "needs_background": "light"
     },
     "output_type": "display_data"
    }
   ],
   "source": [
    "# Plot importance\n",
    "features = df_t.drop(['ID', 'TARGET'], axis=1).columns\n",
    "importances = rf_random.feature_importances_\n",
    "indices = np.argsort(importances)[-20:]\n",
    "\n",
    "plt.title('Feature Importance', size=14)\n",
    "plt.barh(range(len(indices)), importances[indices], color='r', align='center')\n",
    "plt.yticks(range(len(indices)), [features[i] for i in indices])\n",
    "plt.xlabel('Importance')\n",
    "plt.show()"
   ]
  },
  {
   "cell_type": "markdown",
   "id": "9dd45ca3-d57f-452b-bf4b-47ac0216c6c5",
   "metadata": {},
   "source": [
    "Rapaz! Reduzimos para apenas 16 features. Isso vai tornar o processo de otimização de hiperparâmetros muito mais simples, pois o espaço de \"busca\" foi reduzido drasticamente."
   ]
  },
  {
   "cell_type": "code",
   "execution_count": 94,
   "id": "38e58bed-61dd-4778-9b4f-3fa917712bb9",
   "metadata": {},
   "outputs": [],
   "source": [
    "importance_random = importances[[i for i in indices if features[i] == 'RANDOM_FEATURE'][0]]"
   ]
  },
  {
   "cell_type": "code",
   "execution_count": 95,
   "id": "c88a7ba3-e5e4-43ab-b4a7-46bc8735f488",
   "metadata": {},
   "outputs": [],
   "source": [
    "final_cols = [features[i] for i in indices if importances[i] > importance_random]"
   ]
  },
  {
   "cell_type": "code",
   "execution_count": 96,
   "id": "f23f3de5-6401-4b8d-abff-d00e4bce6884",
   "metadata": {},
   "outputs": [
    {
     "data": {
      "text/plain": [
       "16"
      ]
     },
     "execution_count": 96,
     "metadata": {},
     "output_type": "execute_result"
    }
   ],
   "source": [
    "len(final_cols)"
   ]
  },
  {
   "cell_type": "code",
   "execution_count": 97,
   "id": "4de81bfc-f38b-4020-92cc-c47f8a65fb27",
   "metadata": {},
   "outputs": [
    {
     "data": {
      "text/plain": [
       "['imp_op_var41_ult1',\n",
       " 'imp_op_var41_efect_ult1',\n",
       " 'ind_var30',\n",
       " 'num_var30',\n",
       " 'saldo_medio_var5_hace3',\n",
       " 'num_var4',\n",
       " 'num_var45_hace3',\n",
       " 'num_var22_ult3',\n",
       " 'saldo_var5',\n",
       " 'saldo_medio_var5_ult3',\n",
       " 'saldo_medio_var5_ult1',\n",
       " 'saldo_medio_var5_hace2',\n",
       " 'saldo_var42',\n",
       " 'saldo_var30',\n",
       " 'var38',\n",
       " 'var15']"
      ]
     },
     "execution_count": 97,
     "metadata": {},
     "output_type": "execute_result"
    }
   ],
   "source": [
    "final_cols"
   ]
  },
  {
   "cell_type": "markdown",
   "id": "1232239e-01b9-4127-bc44-8e1a1a4c6b03",
   "metadata": {},
   "source": [
    "**Escalonamento das features**"
   ]
  },
  {
   "cell_type": "markdown",
   "id": "3d821a11-833e-4339-b8e6-95e7f94b6836",
   "metadata": {},
   "source": [
    "Como estamos trabalhando com um algoritmo baseado em árvore, não é necessário o escalonamento das features, pois a escala dos dados não tem importância. Isso seria extremamente necessário se tivéssemos utilizando algoritmos baseados em distância (kNN, SVM, por exemplos) ou então em modelos regressivos com regularização."
   ]
  },
  {
   "cell_type": "markdown",
   "id": "a86388da-7f5e-42bf-9ff4-e216ac667e76",
   "metadata": {},
   "source": [
    "**Balanceamento dos dados**"
   ]
  },
  {
   "cell_type": "markdown",
   "id": "12768579-3c86-4aad-a4eb-643537d2c7c9",
   "metadata": {},
   "source": [
    "Existem diversas formas de balancear os dados, mas podemos agrupá-las em basicamente dois tipos:\n",
    "\n",
    "- Resampling: Reamostramos nossos dados de forma que as classes fiquem mais balanceadas, seja aumentando as instâncias da classe minoritária (oversampling) ou reduzindo as da classe majoritária (undersampling). Há uma grande variedade de técnicas que permitem fazer isso. A mais comum é o SMOTE, que consiste em criar exemplos fictícios utilizando os vizinhos próximos (nearest neighbors), o que é mais sofistado do que simplesmente replicar as instâncias já existentes na base.\n",
    "\n",
    "- Class Weights: Essa estratégia consiste em dar mais importância (peso) para a classe minoritária, fazendo com que o algoritmo atribua uma punição maior para os erros desta classe. Isso não chega a ser um balanceamento da base, mas acaba funcionando como tal."
   ]
  },
  {
   "cell_type": "markdown",
   "id": "4b764914-0126-4fad-9315-9a03febcfd98",
   "metadata": {},
   "source": [
    "**Tuning dos Hiperparâmetros**"
   ]
  },
  {
   "cell_type": "markdown",
   "id": "92f837c0-9989-4782-a4c8-a8d200bd30d4",
   "metadata": {},
   "source": [
    "Nesta etapa, vamos criar um pipeline com estratégias de resampling e vários hiperparâmetros do Random Forest. Desta forma, conseguiremos otimizar nosso modelo não apenas pelos hiperparâmetos ótimos do algoritmo, mas também pela melhor estratégia de resampling, isto é, aquela que, combinada com o algoritmo, maximiza a perfomance do modelo."
   ]
  },
  {
   "cell_type": "code",
   "execution_count": 413,
   "id": "6befc49b-da83-4cff-ab40-d2cbcd3e7ddd",
   "metadata": {},
   "outputs": [],
   "source": [
    "pipe = Pipeline([\n",
    "    # ('sampling', SmoteMode()),\n",
    "    ('sampling', SMOTE()),\n",
    "    ('model', RandomForestClassifier(random_state=123))\n",
    "])"
   ]
  },
  {
   "cell_type": "code",
   "execution_count": 415,
   "id": "4be58744-0520-445d-8a47-7a1c80fe14dc",
   "metadata": {},
   "outputs": [],
   "source": [
    "params = [\n",
    "    {\n",
    "        # Balanceamento\n",
    "        # 'sampling__on': [True, False],\n",
    "        'sampling__sampling_strategy': np.linspace(0.1, 1.0, 5).tolist(),\n",
    "\n",
    "        # Random Forest\n",
    "        'model__n_estimators': [1000],\n",
    "        'model__max_depth': [5, 7, 10, 12],\n",
    "        'model__class_weight':[{0:1, 1:1}],\n",
    "        # 'model__criterion': ['gini', 'entropy'],\n",
    "#         'model__min_samples_split': [0.0, 0.05, 0.1],\n",
    "        'model__max_features': ['auto', 'sqrt']\n",
    "    },\n",
    "\n",
    "    {\n",
    "        # Random Forest\n",
    "        'model__n_estimators': [1000],\n",
    "        'model__max_depth': [5, 7, 10, 12],\n",
    "        'model__class_weight':['balanced', 'balanced_subsample', {0:1, 1:5}, {0:1, 1:10}],\n",
    "        # 'model__criterion': ['gini', 'entropy'],\n",
    "        # 'model__min_samples_split': [0.05, 0.1]\n",
    "        'model__max_features': ['auto', 'sqrt']\n",
    "    }\n",
    "]"
   ]
  },
  {
   "cell_type": "code",
   "execution_count": 416,
   "id": "b66728d1-42b0-416e-b47c-14c2de7f4924",
   "metadata": {},
   "outputs": [],
   "source": [
    "kf = StratifiedKFold(n_splits=4)"
   ]
  },
  {
   "cell_type": "code",
   "execution_count": 417,
   "id": "5c3cc1f7-d7d0-450a-b5e1-7474f18527a8",
   "metadata": {},
   "outputs": [],
   "source": [
    "grid = GridSearchCV(\n",
    "    estimator=pipe,\n",
    "    param_grid=params,\n",
    "    scoring=make_scorer(cost, greater_is_better=True),\n",
    "    cv=kf,\n",
    "    n_jobs=-1,\n",
    "    verbose=10\n",
    ")"
   ]
  },
  {
   "cell_type": "code",
   "execution_count": 418,
   "id": "889798b8-cc43-4444-9e8d-fc57b938d0dc",
   "metadata": {},
   "outputs": [],
   "source": [
    "X = df_t[final_cols]\n",
    "y = df_t['TARGET']"
   ]
  },
  {
   "cell_type": "code",
   "execution_count": 419,
   "id": "70acadba-e419-45e1-b59a-a7ce05fcd9ff",
   "metadata": {
    "collapsed": true,
    "jupyter": {
     "outputs_hidden": true
    },
    "tags": []
   },
   "outputs": [
    {
     "name": "stdout",
     "output_type": "stream",
     "text": [
      "Fitting 4 folds for each of 72 candidates, totalling 288 fits\n"
     ]
    },
    {
     "data": {
      "text/plain": [
       "GridSearchCV(cv=StratifiedKFold(n_splits=4, random_state=None, shuffle=False),\n",
       "             estimator=Pipeline(steps=[('sampling', SMOTE()),\n",
       "                                       ('model',\n",
       "                                        RandomForestClassifier(random_state=123))]),\n",
       "             n_jobs=-1,\n",
       "             param_grid=[{'model__class_weight': [{0: 1, 1: 1}],\n",
       "                          'model__max_depth': [5, 7, 10, 12],\n",
       "                          'model__max_features': ['auto', 'sqrt'],\n",
       "                          'model__n_estimators': [1000],\n",
       "                          'sampling__sampling_strategy': [0.1, 0.325, 0.55,\n",
       "                                                          0.775, 1.0]},\n",
       "                         {'model__class_weight': ['balanced',\n",
       "                                                  'balanced_subsample',\n",
       "                                                  {0: 1, 1: 5}, {0: 1, 1: 10}],\n",
       "                          'model__max_depth': [5, 7, 10, 12],\n",
       "                          'model__max_features': ['auto', 'sqrt'],\n",
       "                          'model__n_estimators': [1000]}],\n",
       "             scoring=make_scorer(cost), verbose=10)"
      ]
     },
     "execution_count": 419,
     "metadata": {},
     "output_type": "execute_result"
    }
   ],
   "source": [
    "grid.fit(X, y)"
   ]
  },
  {
   "cell_type": "code",
   "execution_count": 420,
   "id": "c58435d6-9720-42f7-8d1b-d139c39c0ea2",
   "metadata": {
    "collapsed": true,
    "jupyter": {
     "outputs_hidden": true
    },
    "tags": []
   },
   "outputs": [
    {
     "data": {
      "text/plain": [
       "8665.0"
      ]
     },
     "execution_count": 420,
     "metadata": {},
     "output_type": "execute_result"
    }
   ],
   "source": [
    "grid.best_score_"
   ]
  },
  {
   "cell_type": "code",
   "execution_count": 421,
   "id": "bf15ff36-9128-4242-8c70-6209314bc190",
   "metadata": {
    "collapsed": true,
    "jupyter": {
     "outputs_hidden": true
    },
    "tags": []
   },
   "outputs": [
    {
     "data": {
      "text/plain": [
       "Pipeline(steps=[('sampling', SMOTE(sampling_strategy=0.55)),\n",
       "                ('model',\n",
       "                 RandomForestClassifier(class_weight={0: 1, 1: 1}, max_depth=10,\n",
       "                                        n_estimators=1000, random_state=123))])"
      ]
     },
     "execution_count": 421,
     "metadata": {},
     "output_type": "execute_result"
    }
   ],
   "source": [
    "grid.best_estimator_"
   ]
  },
  {
   "cell_type": "code",
   "execution_count": 424,
   "id": "61fac25f-98a5-4b2d-8327-ce8b76b5612f",
   "metadata": {},
   "outputs": [],
   "source": [
    "best_estimator = grid.best_estimator_"
   ]
  },
  {
   "cell_type": "code",
   "execution_count": 426,
   "id": "32c3cfd4-637f-4137-90e8-3ec1c27434e3",
   "metadata": {},
   "outputs": [
    {
     "data": {
      "text/plain": [
       "10050"
      ]
     },
     "execution_count": 426,
     "metadata": {},
     "output_type": "execute_result"
    }
   ],
   "source": [
    "cost(df_v['TARGET'], best_estimator.predict(df_v[final_cols]))"
   ]
  },
  {
   "cell_type": "code",
   "execution_count": 427,
   "id": "acb7650a-7477-4db6-a79a-68666e4fdb34",
   "metadata": {},
   "outputs": [
    {
     "data": {
      "text/plain": [
       "'21.19%'"
      ]
     },
     "execution_count": 427,
     "metadata": {},
     "output_type": "execute_result"
    }
   ],
   "source": [
    "f'{(10050 / 47430) * 100:.2f}%'"
   ]
  },
  {
   "cell_type": "markdown",
   "id": "5bf5ffd5-f717-404d-99e4-106cd6bd70c9",
   "metadata": {},
   "source": [
    "Excelente! Saímos de 1.6% do lucro ideal, para mais de 21%."
   ]
  },
  {
   "cell_type": "markdown",
   "id": "7d9115f0-ba7c-46e5-a2a0-2d36b3f67767",
   "metadata": {},
   "source": [
    "[Sumário](#Sumário)"
   ]
  },
  {
   "cell_type": "markdown",
   "id": "a6b39d27-c4a0-4c74-93db-56b4581e525b",
   "metadata": {},
   "source": [
    "### 2.2.9. Ajustando o Modelo nos Dados de Treino e Validação"
   ]
  },
  {
   "cell_type": "markdown",
   "id": "17579485-3740-471e-9a33-93a915275f63",
   "metadata": {},
   "source": [
    "Para escorar o modelo na base de teste e calcular a performance final do nosso modelo, podemos ajustar o algoritmo em todo o conjunto treino + validação, com os mesmos hiperparâmetros encontrados na otimização."
   ]
  },
  {
   "cell_type": "code",
   "execution_count": 429,
   "id": "ecbaa788-051b-4b6f-983b-0022dc117886",
   "metadata": {},
   "outputs": [
    {
     "data": {
      "text/html": [
       "<div>\n",
       "<style scoped>\n",
       "    .dataframe tbody tr th:only-of-type {\n",
       "        vertical-align: middle;\n",
       "    }\n",
       "\n",
       "    .dataframe tbody tr th {\n",
       "        vertical-align: top;\n",
       "    }\n",
       "\n",
       "    .dataframe thead th {\n",
       "        text-align: right;\n",
       "    }\n",
       "</style>\n",
       "<table border=\"1\" class=\"dataframe\">\n",
       "  <thead>\n",
       "    <tr style=\"text-align: right;\">\n",
       "      <th></th>\n",
       "      <th>ID</th>\n",
       "      <th>var3</th>\n",
       "      <th>var15</th>\n",
       "      <th>imp_ent_var16_ult1</th>\n",
       "      <th>imp_op_var39_comer_ult1</th>\n",
       "      <th>imp_op_var39_comer_ult3</th>\n",
       "      <th>imp_op_var40_comer_ult1</th>\n",
       "      <th>imp_op_var40_comer_ult3</th>\n",
       "      <th>imp_op_var40_efect_ult1</th>\n",
       "      <th>imp_op_var40_efect_ult3</th>\n",
       "      <th>imp_op_var40_ult1</th>\n",
       "      <th>imp_op_var41_comer_ult1</th>\n",
       "      <th>imp_op_var41_comer_ult3</th>\n",
       "      <th>imp_op_var41_efect_ult1</th>\n",
       "      <th>imp_op_var41_efect_ult3</th>\n",
       "      <th>...</th>\n",
       "      <th>saldo_medio_var17_ult3</th>\n",
       "      <th>saldo_medio_var29_hace2</th>\n",
       "      <th>saldo_medio_var29_hace3</th>\n",
       "      <th>saldo_medio_var29_ult1</th>\n",
       "      <th>saldo_medio_var29_ult3</th>\n",
       "      <th>saldo_medio_var33_hace2</th>\n",
       "      <th>saldo_medio_var33_hace3</th>\n",
       "      <th>saldo_medio_var33_ult1</th>\n",
       "      <th>saldo_medio_var33_ult3</th>\n",
       "      <th>saldo_medio_var44_hace2</th>\n",
       "      <th>saldo_medio_var44_hace3</th>\n",
       "      <th>saldo_medio_var44_ult1</th>\n",
       "      <th>saldo_medio_var44_ult3</th>\n",
       "      <th>var38</th>\n",
       "      <th>TARGET</th>\n",
       "    </tr>\n",
       "  </thead>\n",
       "  <tbody>\n",
       "    <tr>\n",
       "      <th>0</th>\n",
       "      <td>131559</td>\n",
       "      <td>2</td>\n",
       "      <td>36</td>\n",
       "      <td>0.0</td>\n",
       "      <td>0.0</td>\n",
       "      <td>57.33</td>\n",
       "      <td>0.0</td>\n",
       "      <td>0.0</td>\n",
       "      <td>0.0</td>\n",
       "      <td>0.0</td>\n",
       "      <td>0.0</td>\n",
       "      <td>0.0</td>\n",
       "      <td>57.33</td>\n",
       "      <td>0.0</td>\n",
       "      <td>0.0</td>\n",
       "      <td>...</td>\n",
       "      <td>0.0</td>\n",
       "      <td>0.0</td>\n",
       "      <td>0.0</td>\n",
       "      <td>0.0</td>\n",
       "      <td>0.0</td>\n",
       "      <td>0.0</td>\n",
       "      <td>0.0</td>\n",
       "      <td>0.0</td>\n",
       "      <td>0.0</td>\n",
       "      <td>0.0</td>\n",
       "      <td>0.0</td>\n",
       "      <td>0.0</td>\n",
       "      <td>0.0</td>\n",
       "      <td>291260.700000</td>\n",
       "      <td>0</td>\n",
       "    </tr>\n",
       "    <tr>\n",
       "      <th>1</th>\n",
       "      <td>124579</td>\n",
       "      <td>2</td>\n",
       "      <td>38</td>\n",
       "      <td>0.0</td>\n",
       "      <td>0.0</td>\n",
       "      <td>0.00</td>\n",
       "      <td>0.0</td>\n",
       "      <td>0.0</td>\n",
       "      <td>0.0</td>\n",
       "      <td>0.0</td>\n",
       "      <td>0.0</td>\n",
       "      <td>0.0</td>\n",
       "      <td>0.00</td>\n",
       "      <td>0.0</td>\n",
       "      <td>0.0</td>\n",
       "      <td>...</td>\n",
       "      <td>0.0</td>\n",
       "      <td>0.0</td>\n",
       "      <td>0.0</td>\n",
       "      <td>0.0</td>\n",
       "      <td>0.0</td>\n",
       "      <td>0.0</td>\n",
       "      <td>0.0</td>\n",
       "      <td>0.0</td>\n",
       "      <td>0.0</td>\n",
       "      <td>0.0</td>\n",
       "      <td>0.0</td>\n",
       "      <td>0.0</td>\n",
       "      <td>0.0</td>\n",
       "      <td>117310.979016</td>\n",
       "      <td>0</td>\n",
       "    </tr>\n",
       "    <tr>\n",
       "      <th>2</th>\n",
       "      <td>46536</td>\n",
       "      <td>2</td>\n",
       "      <td>27</td>\n",
       "      <td>0.0</td>\n",
       "      <td>0.0</td>\n",
       "      <td>0.00</td>\n",
       "      <td>0.0</td>\n",
       "      <td>0.0</td>\n",
       "      <td>0.0</td>\n",
       "      <td>0.0</td>\n",
       "      <td>0.0</td>\n",
       "      <td>0.0</td>\n",
       "      <td>0.00</td>\n",
       "      <td>0.0</td>\n",
       "      <td>0.0</td>\n",
       "      <td>...</td>\n",
       "      <td>0.0</td>\n",
       "      <td>0.0</td>\n",
       "      <td>0.0</td>\n",
       "      <td>0.0</td>\n",
       "      <td>0.0</td>\n",
       "      <td>0.0</td>\n",
       "      <td>0.0</td>\n",
       "      <td>0.0</td>\n",
       "      <td>0.0</td>\n",
       "      <td>0.0</td>\n",
       "      <td>0.0</td>\n",
       "      <td>0.0</td>\n",
       "      <td>0.0</td>\n",
       "      <td>104330.460000</td>\n",
       "      <td>0</td>\n",
       "    </tr>\n",
       "    <tr>\n",
       "      <th>3</th>\n",
       "      <td>100068</td>\n",
       "      <td>2</td>\n",
       "      <td>23</td>\n",
       "      <td>0.0</td>\n",
       "      <td>0.0</td>\n",
       "      <td>0.00</td>\n",
       "      <td>0.0</td>\n",
       "      <td>0.0</td>\n",
       "      <td>0.0</td>\n",
       "      <td>0.0</td>\n",
       "      <td>0.0</td>\n",
       "      <td>0.0</td>\n",
       "      <td>0.00</td>\n",
       "      <td>0.0</td>\n",
       "      <td>0.0</td>\n",
       "      <td>...</td>\n",
       "      <td>0.0</td>\n",
       "      <td>0.0</td>\n",
       "      <td>0.0</td>\n",
       "      <td>0.0</td>\n",
       "      <td>0.0</td>\n",
       "      <td>0.0</td>\n",
       "      <td>0.0</td>\n",
       "      <td>0.0</td>\n",
       "      <td>0.0</td>\n",
       "      <td>0.0</td>\n",
       "      <td>0.0</td>\n",
       "      <td>0.0</td>\n",
       "      <td>0.0</td>\n",
       "      <td>117310.979016</td>\n",
       "      <td>0</td>\n",
       "    </tr>\n",
       "    <tr>\n",
       "      <th>4</th>\n",
       "      <td>100640</td>\n",
       "      <td>2</td>\n",
       "      <td>23</td>\n",
       "      <td>0.0</td>\n",
       "      <td>0.0</td>\n",
       "      <td>0.00</td>\n",
       "      <td>0.0</td>\n",
       "      <td>0.0</td>\n",
       "      <td>0.0</td>\n",
       "      <td>0.0</td>\n",
       "      <td>0.0</td>\n",
       "      <td>0.0</td>\n",
       "      <td>0.00</td>\n",
       "      <td>0.0</td>\n",
       "      <td>0.0</td>\n",
       "      <td>...</td>\n",
       "      <td>0.0</td>\n",
       "      <td>0.0</td>\n",
       "      <td>0.0</td>\n",
       "      <td>0.0</td>\n",
       "      <td>0.0</td>\n",
       "      <td>0.0</td>\n",
       "      <td>0.0</td>\n",
       "      <td>0.0</td>\n",
       "      <td>0.0</td>\n",
       "      <td>0.0</td>\n",
       "      <td>0.0</td>\n",
       "      <td>0.0</td>\n",
       "      <td>0.0</td>\n",
       "      <td>150614.760000</td>\n",
       "      <td>0</td>\n",
       "    </tr>\n",
       "  </tbody>\n",
       "</table>\n",
       "<p>5 rows × 371 columns</p>\n",
       "</div>"
      ],
      "text/plain": [
       "       ID  var3  var15  imp_ent_var16_ult1  imp_op_var39_comer_ult1  \\\n",
       "0  131559     2     36                 0.0                      0.0   \n",
       "1  124579     2     38                 0.0                      0.0   \n",
       "2   46536     2     27                 0.0                      0.0   \n",
       "3  100068     2     23                 0.0                      0.0   \n",
       "4  100640     2     23                 0.0                      0.0   \n",
       "\n",
       "   imp_op_var39_comer_ult3  imp_op_var40_comer_ult1  imp_op_var40_comer_ult3  \\\n",
       "0                    57.33                      0.0                      0.0   \n",
       "1                     0.00                      0.0                      0.0   \n",
       "2                     0.00                      0.0                      0.0   \n",
       "3                     0.00                      0.0                      0.0   \n",
       "4                     0.00                      0.0                      0.0   \n",
       "\n",
       "   imp_op_var40_efect_ult1  imp_op_var40_efect_ult3  imp_op_var40_ult1  \\\n",
       "0                      0.0                      0.0                0.0   \n",
       "1                      0.0                      0.0                0.0   \n",
       "2                      0.0                      0.0                0.0   \n",
       "3                      0.0                      0.0                0.0   \n",
       "4                      0.0                      0.0                0.0   \n",
       "\n",
       "   imp_op_var41_comer_ult1  imp_op_var41_comer_ult3  imp_op_var41_efect_ult1  \\\n",
       "0                      0.0                    57.33                      0.0   \n",
       "1                      0.0                     0.00                      0.0   \n",
       "2                      0.0                     0.00                      0.0   \n",
       "3                      0.0                     0.00                      0.0   \n",
       "4                      0.0                     0.00                      0.0   \n",
       "\n",
       "   imp_op_var41_efect_ult3  ...  saldo_medio_var17_ult3  \\\n",
       "0                      0.0  ...                     0.0   \n",
       "1                      0.0  ...                     0.0   \n",
       "2                      0.0  ...                     0.0   \n",
       "3                      0.0  ...                     0.0   \n",
       "4                      0.0  ...                     0.0   \n",
       "\n",
       "   saldo_medio_var29_hace2  saldo_medio_var29_hace3  saldo_medio_var29_ult1  \\\n",
       "0                      0.0                      0.0                     0.0   \n",
       "1                      0.0                      0.0                     0.0   \n",
       "2                      0.0                      0.0                     0.0   \n",
       "3                      0.0                      0.0                     0.0   \n",
       "4                      0.0                      0.0                     0.0   \n",
       "\n",
       "   saldo_medio_var29_ult3  saldo_medio_var33_hace2  saldo_medio_var33_hace3  \\\n",
       "0                     0.0                      0.0                      0.0   \n",
       "1                     0.0                      0.0                      0.0   \n",
       "2                     0.0                      0.0                      0.0   \n",
       "3                     0.0                      0.0                      0.0   \n",
       "4                     0.0                      0.0                      0.0   \n",
       "\n",
       "   saldo_medio_var33_ult1  saldo_medio_var33_ult3  saldo_medio_var44_hace2  \\\n",
       "0                     0.0                     0.0                      0.0   \n",
       "1                     0.0                     0.0                      0.0   \n",
       "2                     0.0                     0.0                      0.0   \n",
       "3                     0.0                     0.0                      0.0   \n",
       "4                     0.0                     0.0                      0.0   \n",
       "\n",
       "   saldo_medio_var44_hace3  saldo_medio_var44_ult1  saldo_medio_var44_ult3  \\\n",
       "0                      0.0                     0.0                     0.0   \n",
       "1                      0.0                     0.0                     0.0   \n",
       "2                      0.0                     0.0                     0.0   \n",
       "3                      0.0                     0.0                     0.0   \n",
       "4                      0.0                     0.0                     0.0   \n",
       "\n",
       "           var38  TARGET  \n",
       "0  291260.700000       0  \n",
       "1  117310.979016       0  \n",
       "2  104330.460000       0  \n",
       "3  117310.979016       0  \n",
       "4  150614.760000       0  \n",
       "\n",
       "[5 rows x 371 columns]"
      ]
     },
     "execution_count": 429,
     "metadata": {},
     "output_type": "execute_result"
    }
   ],
   "source": [
    "df_train.head()"
   ]
  },
  {
   "cell_type": "code",
   "execution_count": 430,
   "id": "84151bdb-de2a-4668-84ed-0bd0dd62894b",
   "metadata": {},
   "outputs": [
    {
     "data": {
      "text/plain": [
       "Pipeline(steps=[('sampling', SMOTE(sampling_strategy=0.55)),\n",
       "                ('model',\n",
       "                 RandomForestClassifier(class_weight={0: 1, 1: 1}, max_depth=10,\n",
       "                                        n_estimators=1000, random_state=123))])"
      ]
     },
     "execution_count": 430,
     "metadata": {},
     "output_type": "execute_result"
    }
   ],
   "source": [
    "best_estimator.fit(df_train[final_cols], df_train['TARGET'])"
   ]
  },
  {
   "cell_type": "markdown",
   "id": "d2c973e7-9568-4687-a1b4-0781ea8ad5d0",
   "metadata": {},
   "source": [
    "[Sumário](#Sumário)"
   ]
  },
  {
   "cell_type": "markdown",
   "id": "73badafd-9d75-4e4c-a17d-2bf9fb088168",
   "metadata": {},
   "source": [
    "### 2.2.10. Escorando o Modelo na Base de Teste"
   ]
  },
  {
   "cell_type": "code",
   "execution_count": 432,
   "id": "72af0a6d-2770-41c2-a90f-757c94cbbe00",
   "metadata": {},
   "outputs": [],
   "source": [
    "df_test = pd.read_csv(os.path.join(DATA, 'test_caique.csv'))"
   ]
  },
  {
   "cell_type": "code",
   "execution_count": 433,
   "id": "19640643-3a14-40ed-bcba-3561dffd0cdb",
   "metadata": {},
   "outputs": [
    {
     "data": {
      "text/html": [
       "<div>\n",
       "<style scoped>\n",
       "    .dataframe tbody tr th:only-of-type {\n",
       "        vertical-align: middle;\n",
       "    }\n",
       "\n",
       "    .dataframe tbody tr th {\n",
       "        vertical-align: top;\n",
       "    }\n",
       "\n",
       "    .dataframe thead th {\n",
       "        text-align: right;\n",
       "    }\n",
       "</style>\n",
       "<table border=\"1\" class=\"dataframe\">\n",
       "  <thead>\n",
       "    <tr style=\"text-align: right;\">\n",
       "      <th></th>\n",
       "      <th>ID</th>\n",
       "      <th>var3</th>\n",
       "      <th>var15</th>\n",
       "      <th>imp_ent_var16_ult1</th>\n",
       "      <th>imp_op_var39_comer_ult1</th>\n",
       "      <th>imp_op_var39_comer_ult3</th>\n",
       "      <th>imp_op_var40_comer_ult1</th>\n",
       "      <th>imp_op_var40_comer_ult3</th>\n",
       "      <th>imp_op_var40_efect_ult1</th>\n",
       "      <th>imp_op_var40_efect_ult3</th>\n",
       "      <th>imp_op_var40_ult1</th>\n",
       "      <th>imp_op_var41_comer_ult1</th>\n",
       "      <th>imp_op_var41_comer_ult3</th>\n",
       "      <th>imp_op_var41_efect_ult1</th>\n",
       "      <th>imp_op_var41_efect_ult3</th>\n",
       "      <th>...</th>\n",
       "      <th>saldo_medio_var17_ult3</th>\n",
       "      <th>saldo_medio_var29_hace2</th>\n",
       "      <th>saldo_medio_var29_hace3</th>\n",
       "      <th>saldo_medio_var29_ult1</th>\n",
       "      <th>saldo_medio_var29_ult3</th>\n",
       "      <th>saldo_medio_var33_hace2</th>\n",
       "      <th>saldo_medio_var33_hace3</th>\n",
       "      <th>saldo_medio_var33_ult1</th>\n",
       "      <th>saldo_medio_var33_ult3</th>\n",
       "      <th>saldo_medio_var44_hace2</th>\n",
       "      <th>saldo_medio_var44_hace3</th>\n",
       "      <th>saldo_medio_var44_ult1</th>\n",
       "      <th>saldo_medio_var44_ult3</th>\n",
       "      <th>var38</th>\n",
       "      <th>TARGET</th>\n",
       "    </tr>\n",
       "  </thead>\n",
       "  <tbody>\n",
       "    <tr>\n",
       "      <th>0</th>\n",
       "      <td>14836</td>\n",
       "      <td>2</td>\n",
       "      <td>24</td>\n",
       "      <td>0.0</td>\n",
       "      <td>0.00</td>\n",
       "      <td>0.00</td>\n",
       "      <td>0.0</td>\n",
       "      <td>0.0</td>\n",
       "      <td>0.0</td>\n",
       "      <td>0.0</td>\n",
       "      <td>0.0</td>\n",
       "      <td>0.00</td>\n",
       "      <td>0.00</td>\n",
       "      <td>0.0</td>\n",
       "      <td>0.0</td>\n",
       "      <td>...</td>\n",
       "      <td>0.0</td>\n",
       "      <td>0.0</td>\n",
       "      <td>0.0</td>\n",
       "      <td>0.0</td>\n",
       "      <td>0.0</td>\n",
       "      <td>0.0</td>\n",
       "      <td>0.0</td>\n",
       "      <td>0.0</td>\n",
       "      <td>0.0</td>\n",
       "      <td>0.0</td>\n",
       "      <td>0.0</td>\n",
       "      <td>0.0</td>\n",
       "      <td>0.0</td>\n",
       "      <td>73806.810000</td>\n",
       "      <td>0</td>\n",
       "    </tr>\n",
       "    <tr>\n",
       "      <th>1</th>\n",
       "      <td>141428</td>\n",
       "      <td>2</td>\n",
       "      <td>23</td>\n",
       "      <td>0.0</td>\n",
       "      <td>0.00</td>\n",
       "      <td>0.00</td>\n",
       "      <td>0.0</td>\n",
       "      <td>0.0</td>\n",
       "      <td>0.0</td>\n",
       "      <td>0.0</td>\n",
       "      <td>0.0</td>\n",
       "      <td>0.00</td>\n",
       "      <td>0.00</td>\n",
       "      <td>0.0</td>\n",
       "      <td>0.0</td>\n",
       "      <td>...</td>\n",
       "      <td>0.0</td>\n",
       "      <td>0.0</td>\n",
       "      <td>0.0</td>\n",
       "      <td>0.0</td>\n",
       "      <td>0.0</td>\n",
       "      <td>0.0</td>\n",
       "      <td>0.0</td>\n",
       "      <td>0.0</td>\n",
       "      <td>0.0</td>\n",
       "      <td>0.0</td>\n",
       "      <td>0.0</td>\n",
       "      <td>0.0</td>\n",
       "      <td>0.0</td>\n",
       "      <td>54606.780000</td>\n",
       "      <td>0</td>\n",
       "    </tr>\n",
       "    <tr>\n",
       "      <th>2</th>\n",
       "      <td>143561</td>\n",
       "      <td>2</td>\n",
       "      <td>23</td>\n",
       "      <td>0.0</td>\n",
       "      <td>0.00</td>\n",
       "      <td>0.00</td>\n",
       "      <td>0.0</td>\n",
       "      <td>0.0</td>\n",
       "      <td>0.0</td>\n",
       "      <td>0.0</td>\n",
       "      <td>0.0</td>\n",
       "      <td>0.00</td>\n",
       "      <td>0.00</td>\n",
       "      <td>0.0</td>\n",
       "      <td>0.0</td>\n",
       "      <td>...</td>\n",
       "      <td>0.0</td>\n",
       "      <td>0.0</td>\n",
       "      <td>0.0</td>\n",
       "      <td>0.0</td>\n",
       "      <td>0.0</td>\n",
       "      <td>0.0</td>\n",
       "      <td>0.0</td>\n",
       "      <td>0.0</td>\n",
       "      <td>0.0</td>\n",
       "      <td>0.0</td>\n",
       "      <td>0.0</td>\n",
       "      <td>0.0</td>\n",
       "      <td>0.0</td>\n",
       "      <td>117310.979016</td>\n",
       "      <td>0</td>\n",
       "    </tr>\n",
       "    <tr>\n",
       "      <th>3</th>\n",
       "      <td>29072</td>\n",
       "      <td>2</td>\n",
       "      <td>30</td>\n",
       "      <td>30.0</td>\n",
       "      <td>22.77</td>\n",
       "      <td>109.59</td>\n",
       "      <td>0.0</td>\n",
       "      <td>0.0</td>\n",
       "      <td>0.0</td>\n",
       "      <td>0.0</td>\n",
       "      <td>0.0</td>\n",
       "      <td>22.77</td>\n",
       "      <td>109.59</td>\n",
       "      <td>0.0</td>\n",
       "      <td>0.0</td>\n",
       "      <td>...</td>\n",
       "      <td>0.0</td>\n",
       "      <td>0.0</td>\n",
       "      <td>0.0</td>\n",
       "      <td>0.0</td>\n",
       "      <td>0.0</td>\n",
       "      <td>0.0</td>\n",
       "      <td>0.0</td>\n",
       "      <td>0.0</td>\n",
       "      <td>0.0</td>\n",
       "      <td>0.0</td>\n",
       "      <td>0.0</td>\n",
       "      <td>0.0</td>\n",
       "      <td>0.0</td>\n",
       "      <td>117310.979016</td>\n",
       "      <td>0</td>\n",
       "    </tr>\n",
       "    <tr>\n",
       "      <th>4</th>\n",
       "      <td>99366</td>\n",
       "      <td>2</td>\n",
       "      <td>24</td>\n",
       "      <td>0.0</td>\n",
       "      <td>0.00</td>\n",
       "      <td>0.00</td>\n",
       "      <td>0.0</td>\n",
       "      <td>0.0</td>\n",
       "      <td>0.0</td>\n",
       "      <td>0.0</td>\n",
       "      <td>0.0</td>\n",
       "      <td>0.00</td>\n",
       "      <td>0.00</td>\n",
       "      <td>0.0</td>\n",
       "      <td>0.0</td>\n",
       "      <td>...</td>\n",
       "      <td>0.0</td>\n",
       "      <td>0.0</td>\n",
       "      <td>0.0</td>\n",
       "      <td>0.0</td>\n",
       "      <td>0.0</td>\n",
       "      <td>0.0</td>\n",
       "      <td>0.0</td>\n",
       "      <td>0.0</td>\n",
       "      <td>0.0</td>\n",
       "      <td>0.0</td>\n",
       "      <td>0.0</td>\n",
       "      <td>0.0</td>\n",
       "      <td>0.0</td>\n",
       "      <td>117310.979016</td>\n",
       "      <td>0</td>\n",
       "    </tr>\n",
       "  </tbody>\n",
       "</table>\n",
       "<p>5 rows × 371 columns</p>\n",
       "</div>"
      ],
      "text/plain": [
       "       ID  var3  var15  imp_ent_var16_ult1  imp_op_var39_comer_ult1  \\\n",
       "0   14836     2     24                 0.0                     0.00   \n",
       "1  141428     2     23                 0.0                     0.00   \n",
       "2  143561     2     23                 0.0                     0.00   \n",
       "3   29072     2     30                30.0                    22.77   \n",
       "4   99366     2     24                 0.0                     0.00   \n",
       "\n",
       "   imp_op_var39_comer_ult3  imp_op_var40_comer_ult1  imp_op_var40_comer_ult3  \\\n",
       "0                     0.00                      0.0                      0.0   \n",
       "1                     0.00                      0.0                      0.0   \n",
       "2                     0.00                      0.0                      0.0   \n",
       "3                   109.59                      0.0                      0.0   \n",
       "4                     0.00                      0.0                      0.0   \n",
       "\n",
       "   imp_op_var40_efect_ult1  imp_op_var40_efect_ult3  imp_op_var40_ult1  \\\n",
       "0                      0.0                      0.0                0.0   \n",
       "1                      0.0                      0.0                0.0   \n",
       "2                      0.0                      0.0                0.0   \n",
       "3                      0.0                      0.0                0.0   \n",
       "4                      0.0                      0.0                0.0   \n",
       "\n",
       "   imp_op_var41_comer_ult1  imp_op_var41_comer_ult3  imp_op_var41_efect_ult1  \\\n",
       "0                     0.00                     0.00                      0.0   \n",
       "1                     0.00                     0.00                      0.0   \n",
       "2                     0.00                     0.00                      0.0   \n",
       "3                    22.77                   109.59                      0.0   \n",
       "4                     0.00                     0.00                      0.0   \n",
       "\n",
       "   imp_op_var41_efect_ult3  ...  saldo_medio_var17_ult3  \\\n",
       "0                      0.0  ...                     0.0   \n",
       "1                      0.0  ...                     0.0   \n",
       "2                      0.0  ...                     0.0   \n",
       "3                      0.0  ...                     0.0   \n",
       "4                      0.0  ...                     0.0   \n",
       "\n",
       "   saldo_medio_var29_hace2  saldo_medio_var29_hace3  saldo_medio_var29_ult1  \\\n",
       "0                      0.0                      0.0                     0.0   \n",
       "1                      0.0                      0.0                     0.0   \n",
       "2                      0.0                      0.0                     0.0   \n",
       "3                      0.0                      0.0                     0.0   \n",
       "4                      0.0                      0.0                     0.0   \n",
       "\n",
       "   saldo_medio_var29_ult3  saldo_medio_var33_hace2  saldo_medio_var33_hace3  \\\n",
       "0                     0.0                      0.0                      0.0   \n",
       "1                     0.0                      0.0                      0.0   \n",
       "2                     0.0                      0.0                      0.0   \n",
       "3                     0.0                      0.0                      0.0   \n",
       "4                     0.0                      0.0                      0.0   \n",
       "\n",
       "   saldo_medio_var33_ult1  saldo_medio_var33_ult3  saldo_medio_var44_hace2  \\\n",
       "0                     0.0                     0.0                      0.0   \n",
       "1                     0.0                     0.0                      0.0   \n",
       "2                     0.0                     0.0                      0.0   \n",
       "3                     0.0                     0.0                      0.0   \n",
       "4                     0.0                     0.0                      0.0   \n",
       "\n",
       "   saldo_medio_var44_hace3  saldo_medio_var44_ult1  saldo_medio_var44_ult3  \\\n",
       "0                      0.0                     0.0                     0.0   \n",
       "1                      0.0                     0.0                     0.0   \n",
       "2                      0.0                     0.0                     0.0   \n",
       "3                      0.0                     0.0                     0.0   \n",
       "4                      0.0                     0.0                     0.0   \n",
       "\n",
       "           var38  TARGET  \n",
       "0   73806.810000       0  \n",
       "1   54606.780000       0  \n",
       "2  117310.979016       0  \n",
       "3  117310.979016       0  \n",
       "4  117310.979016       0  \n",
       "\n",
       "[5 rows x 371 columns]"
      ]
     },
     "execution_count": 433,
     "metadata": {},
     "output_type": "execute_result"
    }
   ],
   "source": [
    "df_test.head()"
   ]
  },
  {
   "cell_type": "code",
   "execution_count": 435,
   "id": "ae039bd8-ab6a-406a-8f9b-1450e4a8f55c",
   "metadata": {},
   "outputs": [],
   "source": [
    "y_pred = best_estimator.predict(df_test[final_cols])"
   ]
  },
  {
   "cell_type": "code",
   "execution_count": 436,
   "id": "344ff51c-fe04-47d6-a25e-cb1db697a2f1",
   "metadata": {},
   "outputs": [],
   "source": [
    "y_true = df_test['TARGET']"
   ]
  },
  {
   "cell_type": "markdown",
   "id": "5f5bf3af-70ab-46ec-9d0b-4ed4aa22a3d9",
   "metadata": {},
   "source": [
    "[Sumário](#Sumário)"
   ]
  },
  {
   "cell_type": "markdown",
   "id": "5404381e-38b0-4554-8712-144b1daea1be",
   "metadata": {},
   "source": [
    "### 2.2.11. Calculando a Perfomance do Modelo"
   ]
  },
  {
   "cell_type": "code",
   "execution_count": 438,
   "id": "aea46795-6ef6-49b8-99cf-52154ba1fb3c",
   "metadata": {},
   "outputs": [
    {
     "name": "stdout",
     "output_type": "stream",
     "text": [
      "              precision    recall  f1-score   support\n",
      "\n",
      "           0       0.98      0.92      0.95     21904\n",
      "           1       0.19      0.46      0.27       902\n",
      "\n",
      "    accuracy                           0.90     22806\n",
      "   macro avg       0.58      0.69      0.61     22806\n",
      "weighted avg       0.95      0.90      0.92     22806\n",
      "\n"
     ]
    }
   ],
   "source": [
    "print(classification_report(y_true, y_pred))"
   ]
  },
  {
   "cell_type": "code",
   "execution_count": 439,
   "id": "37a49205-d156-45a6-82c0-8646f293b572",
   "metadata": {},
   "outputs": [
    {
     "data": {
      "text/plain": [
       "19920"
      ]
     },
     "execution_count": 439,
     "metadata": {},
     "output_type": "execute_result"
    }
   ],
   "source": [
    "cost(y_true, y_pred)"
   ]
  },
  {
   "cell_type": "code",
   "execution_count": 441,
   "id": "0aa0cd7b-6302-4f85-b6ea-c2298c5818e6",
   "metadata": {},
   "outputs": [],
   "source": [
    "perc_lucro_teste = cost(y_true, y_pred) / cost(y_true, y_true)"
   ]
  },
  {
   "cell_type": "code",
   "execution_count": 442,
   "id": "db2fb8ac-e966-4d32-a28b-3084c7d9817a",
   "metadata": {},
   "outputs": [
    {
     "data": {
      "text/plain": [
       "'24.54%'"
      ]
     },
     "execution_count": 442,
     "metadata": {},
     "output_type": "execute_result"
    }
   ],
   "source": [
    "f'{perc_lucro_teste * 100:.2f}%'"
   ]
  },
  {
   "cell_type": "markdown",
   "id": "8f9431f6-e0b4-4a70-bdee-df474621145a",
   "metadata": {},
   "source": [
    "Conseguimos criar um modelo que atinge mais de 24% do lucro ideal da base."
   ]
  },
  {
   "cell_type": "markdown",
   "id": "2cdf323d-6da8-4e42-ad35-61fb79bc1135",
   "metadata": {},
   "source": [
    "Essa é a performance final do nosso modelo. Este é o número que reportaremos nas nossas apresentações e servirá também como referência para os futuros retreinos."
   ]
  },
  {
   "cell_type": "markdown",
   "id": "d6e552b3-9019-4af3-a7b7-8cd156fa6b8e",
   "metadata": {},
   "source": [
    "[Sumário](#Sumário)"
   ]
  },
  {
   "cell_type": "markdown",
   "id": "3a0c8154-c223-48ce-a377-b47fcef485b9",
   "metadata": {
    "tags": []
   },
   "source": [
    "### 2.2.12. Ajustando o Modelo em todo o Conjunto de Dados"
   ]
  },
  {
   "cell_type": "markdown",
   "id": "6ae1bc17-bf4d-4181-a0a3-4dd96a31a3c0",
   "metadata": {},
   "source": [
    "Agora que calculamos a perfomance final do nosso modelo, podemos ajustá-lo a todos os dados que temos disponíveis para gerar o modelo que será colocado em produção. Note que apesar de estarmos retreinando nosso algoritmo, não estamos mais fazendo buscas por otimização. Nosso resultado já foi reportado com dados que o modelo nunca tinha visto. Para colocar o modelo em produção, podemos ajustar o algoritmo com os mesmos parâmetros definidos na etapa de otimização."
   ]
  },
  {
   "cell_type": "code",
   "execution_count": 443,
   "id": "b29bf1d3-ee96-4c64-99e1-9746f5da6c80",
   "metadata": {},
   "outputs": [],
   "source": [
    "df_full = pd.read_csv(TRAIN_DATA)"
   ]
  },
  {
   "cell_type": "code",
   "execution_count": 444,
   "id": "f1211faa-a7c3-45b4-9866-b78e67b8c71f",
   "metadata": {},
   "outputs": [],
   "source": [
    "final_estimator = best_estimator.fit(df_full[final_cols], df_full['TARGET'])"
   ]
  },
  {
   "cell_type": "markdown",
   "id": "cc5e35c1-b4c9-4175-b638-04456bb6f827",
   "metadata": {},
   "source": [
    "[Sumário](#Sumário)"
   ]
  },
  {
   "cell_type": "markdown",
   "id": "69c892c3-40f1-4d24-b80c-acc3fcd98366",
   "metadata": {},
   "source": [
    "### 2.2.13. Salvando o Modelo que será colocado em Produção"
   ]
  },
  {
   "cell_type": "markdown",
   "id": "33cb151d-0f70-412e-909b-5c885cb35162",
   "metadata": {},
   "source": [
    "Vamos salvar em um arquivo binário todo o pipeline do modelo, desde a seleção das features até a escoragem do modelo."
   ]
  },
  {
   "cell_type": "code",
   "execution_count": 446,
   "id": "0e2485a8-a4e5-4ed0-a7bc-34b02075de15",
   "metadata": {},
   "outputs": [],
   "source": [
    "full_pipe = {\n",
    "    'cols': final_cols,\n",
    "    'model': final_estimator\n",
    "}"
   ]
  },
  {
   "cell_type": "code",
   "execution_count": 449,
   "id": "417807ce-7838-4f13-aa16-144366d45416",
   "metadata": {},
   "outputs": [],
   "source": [
    "file_model = os.path.join(MODELS, 'model_v1.pkl')\n",
    "pickle.dump(full_pipe, open(file_model, 'wb'))"
   ]
  },
  {
   "cell_type": "markdown",
   "id": "ab569155-13af-43c2-b537-fa56f80f8812",
   "metadata": {},
   "source": [
    "[Sumário](#Sumário)"
   ]
  },
  {
   "cell_type": "markdown",
   "id": "48eefa32-b5ae-4019-a1c9-19a372b8907e",
   "metadata": {},
   "source": [
    "### 2.2.14. Criando uma função que Escora a Base"
   ]
  },
  {
   "cell_type": "markdown",
   "id": "693e7e23-d9b9-4a41-a7b2-fd637daffc10",
   "metadata": {},
   "source": [
    "Agora, criamos uma função que recebe a base, faz todo o tratamento, atribui o escore do modelo e salva em um diretório (poderia ser uma base SQL ou qualquer outra forma de output)."
   ]
  },
  {
   "cell_type": "code",
   "execution_count": 496,
   "id": "c1dbd4f8-bb41-4b0f-aaa9-cf0c28f1e79f",
   "metadata": {},
   "outputs": [],
   "source": [
    "def escora_base(df):\n",
    "    \n",
    "    # Carrega o modelo\n",
    "    model_archive = os.listdir(os.path.join(MODELS))[0] # Vai buscar o primeiro arquivo da pasta MODELS\n",
    "    filename = os.path.join(MODELS, model_archive)\n",
    "    loaded_model = pickle.load(open(filename, 'rb'))\n",
    "    \n",
    "    # Escora a base\n",
    "    X = df[loaded_model['cols']]\n",
    "    score = loaded_model['model'].predict(X)\n",
    "    df['score'] = score\n",
    "    \n",
    "    # Escreve a base com a data de hoje\n",
    "    today = datetime.date.today().strftime('%Y%m%d')\n",
    "    df_output_name = f'output_{today}.csv'\n",
    "    df.to_csv(os.path.join(DATA_OUTPUT, df_output_name), index=False)\n",
    "    \n",
    "    # return df"
   ]
  },
  {
   "cell_type": "code",
   "execution_count": 497,
   "id": "fff3f435-15e0-4bf5-a534-dc22711eaa37",
   "metadata": {},
   "outputs": [],
   "source": [
    "df_prod = pd.read_csv(TEST_DATA)"
   ]
  },
  {
   "cell_type": "code",
   "execution_count": 498,
   "id": "6204f57a-1b00-4df5-8629-3a7d661d185f",
   "metadata": {},
   "outputs": [
    {
     "data": {
      "text/html": [
       "<div>\n",
       "<style scoped>\n",
       "    .dataframe tbody tr th:only-of-type {\n",
       "        vertical-align: middle;\n",
       "    }\n",
       "\n",
       "    .dataframe tbody tr th {\n",
       "        vertical-align: top;\n",
       "    }\n",
       "\n",
       "    .dataframe thead th {\n",
       "        text-align: right;\n",
       "    }\n",
       "</style>\n",
       "<table border=\"1\" class=\"dataframe\">\n",
       "  <thead>\n",
       "    <tr style=\"text-align: right;\">\n",
       "      <th></th>\n",
       "      <th>ID</th>\n",
       "      <th>var3</th>\n",
       "      <th>var15</th>\n",
       "      <th>imp_ent_var16_ult1</th>\n",
       "      <th>imp_op_var39_comer_ult1</th>\n",
       "      <th>imp_op_var39_comer_ult3</th>\n",
       "      <th>imp_op_var40_comer_ult1</th>\n",
       "      <th>imp_op_var40_comer_ult3</th>\n",
       "      <th>imp_op_var40_efect_ult1</th>\n",
       "      <th>imp_op_var40_efect_ult3</th>\n",
       "      <th>imp_op_var40_ult1</th>\n",
       "      <th>imp_op_var41_comer_ult1</th>\n",
       "      <th>imp_op_var41_comer_ult3</th>\n",
       "      <th>imp_op_var41_efect_ult1</th>\n",
       "      <th>imp_op_var41_efect_ult3</th>\n",
       "      <th>...</th>\n",
       "      <th>saldo_medio_var17_ult1</th>\n",
       "      <th>saldo_medio_var17_ult3</th>\n",
       "      <th>saldo_medio_var29_hace2</th>\n",
       "      <th>saldo_medio_var29_hace3</th>\n",
       "      <th>saldo_medio_var29_ult1</th>\n",
       "      <th>saldo_medio_var29_ult3</th>\n",
       "      <th>saldo_medio_var33_hace2</th>\n",
       "      <th>saldo_medio_var33_hace3</th>\n",
       "      <th>saldo_medio_var33_ult1</th>\n",
       "      <th>saldo_medio_var33_ult3</th>\n",
       "      <th>saldo_medio_var44_hace2</th>\n",
       "      <th>saldo_medio_var44_hace3</th>\n",
       "      <th>saldo_medio_var44_ult1</th>\n",
       "      <th>saldo_medio_var44_ult3</th>\n",
       "      <th>var38</th>\n",
       "    </tr>\n",
       "  </thead>\n",
       "  <tbody>\n",
       "    <tr>\n",
       "      <th>0</th>\n",
       "      <td>2</td>\n",
       "      <td>2</td>\n",
       "      <td>32</td>\n",
       "      <td>0.0</td>\n",
       "      <td>0.0</td>\n",
       "      <td>0.0</td>\n",
       "      <td>0.0</td>\n",
       "      <td>0.0</td>\n",
       "      <td>0.0</td>\n",
       "      <td>0.0</td>\n",
       "      <td>0.0</td>\n",
       "      <td>0.0</td>\n",
       "      <td>0.0</td>\n",
       "      <td>0.0</td>\n",
       "      <td>0.0</td>\n",
       "      <td>...</td>\n",
       "      <td>0.0</td>\n",
       "      <td>0.0</td>\n",
       "      <td>0.0</td>\n",
       "      <td>0</td>\n",
       "      <td>0.0</td>\n",
       "      <td>0.0</td>\n",
       "      <td>0.0</td>\n",
       "      <td>0.0</td>\n",
       "      <td>0.0</td>\n",
       "      <td>0.0</td>\n",
       "      <td>0.0</td>\n",
       "      <td>0.0</td>\n",
       "      <td>0.0</td>\n",
       "      <td>0.0</td>\n",
       "      <td>40532.10</td>\n",
       "    </tr>\n",
       "    <tr>\n",
       "      <th>1</th>\n",
       "      <td>5</td>\n",
       "      <td>2</td>\n",
       "      <td>35</td>\n",
       "      <td>0.0</td>\n",
       "      <td>0.0</td>\n",
       "      <td>0.0</td>\n",
       "      <td>0.0</td>\n",
       "      <td>0.0</td>\n",
       "      <td>0.0</td>\n",
       "      <td>0.0</td>\n",
       "      <td>0.0</td>\n",
       "      <td>0.0</td>\n",
       "      <td>0.0</td>\n",
       "      <td>0.0</td>\n",
       "      <td>0.0</td>\n",
       "      <td>...</td>\n",
       "      <td>0.0</td>\n",
       "      <td>0.0</td>\n",
       "      <td>0.0</td>\n",
       "      <td>0</td>\n",
       "      <td>0.0</td>\n",
       "      <td>0.0</td>\n",
       "      <td>0.0</td>\n",
       "      <td>0.0</td>\n",
       "      <td>0.0</td>\n",
       "      <td>0.0</td>\n",
       "      <td>0.0</td>\n",
       "      <td>0.0</td>\n",
       "      <td>0.0</td>\n",
       "      <td>0.0</td>\n",
       "      <td>45486.72</td>\n",
       "    </tr>\n",
       "  </tbody>\n",
       "</table>\n",
       "<p>2 rows × 370 columns</p>\n",
       "</div>"
      ],
      "text/plain": [
       "   ID  var3  var15  imp_ent_var16_ult1  imp_op_var39_comer_ult1  \\\n",
       "0   2     2     32                 0.0                      0.0   \n",
       "1   5     2     35                 0.0                      0.0   \n",
       "\n",
       "   imp_op_var39_comer_ult3  imp_op_var40_comer_ult1  imp_op_var40_comer_ult3  \\\n",
       "0                      0.0                      0.0                      0.0   \n",
       "1                      0.0                      0.0                      0.0   \n",
       "\n",
       "   imp_op_var40_efect_ult1  imp_op_var40_efect_ult3  imp_op_var40_ult1  \\\n",
       "0                      0.0                      0.0                0.0   \n",
       "1                      0.0                      0.0                0.0   \n",
       "\n",
       "   imp_op_var41_comer_ult1  imp_op_var41_comer_ult3  imp_op_var41_efect_ult1  \\\n",
       "0                      0.0                      0.0                      0.0   \n",
       "1                      0.0                      0.0                      0.0   \n",
       "\n",
       "   imp_op_var41_efect_ult3  ...  saldo_medio_var17_ult1  \\\n",
       "0                      0.0  ...                     0.0   \n",
       "1                      0.0  ...                     0.0   \n",
       "\n",
       "   saldo_medio_var17_ult3  saldo_medio_var29_hace2  saldo_medio_var29_hace3  \\\n",
       "0                     0.0                      0.0                        0   \n",
       "1                     0.0                      0.0                        0   \n",
       "\n",
       "   saldo_medio_var29_ult1  saldo_medio_var29_ult3  saldo_medio_var33_hace2  \\\n",
       "0                     0.0                     0.0                      0.0   \n",
       "1                     0.0                     0.0                      0.0   \n",
       "\n",
       "   saldo_medio_var33_hace3  saldo_medio_var33_ult1  saldo_medio_var33_ult3  \\\n",
       "0                      0.0                     0.0                     0.0   \n",
       "1                      0.0                     0.0                     0.0   \n",
       "\n",
       "   saldo_medio_var44_hace2  saldo_medio_var44_hace3  saldo_medio_var44_ult1  \\\n",
       "0                      0.0                      0.0                     0.0   \n",
       "1                      0.0                      0.0                     0.0   \n",
       "\n",
       "   saldo_medio_var44_ult3     var38  \n",
       "0                     0.0  40532.10  \n",
       "1                     0.0  45486.72  \n",
       "\n",
       "[2 rows x 370 columns]"
      ]
     },
     "execution_count": 498,
     "metadata": {},
     "output_type": "execute_result"
    }
   ],
   "source": [
    "df_prod.head(2)"
   ]
  },
  {
   "cell_type": "code",
   "execution_count": 499,
   "id": "3d3d628b-65b8-465d-8817-8bd4e05b07ae",
   "metadata": {},
   "outputs": [],
   "source": [
    "escora_base(df)"
   ]
  },
  {
   "cell_type": "code",
   "execution_count": 502,
   "id": "d99a287d-8b70-4e5c-8177-44fa3a8b99e4",
   "metadata": {},
   "outputs": [],
   "source": [
    "df_output = pd.read_csv(os.path.join(DATA_OUTPUT, 'output_20220127.csv'))"
   ]
  },
  {
   "cell_type": "code",
   "execution_count": 503,
   "id": "8e751716-510c-4b27-8a6b-4ed19b1a5f6d",
   "metadata": {},
   "outputs": [
    {
     "data": {
      "text/html": [
       "<div>\n",
       "<style scoped>\n",
       "    .dataframe tbody tr th:only-of-type {\n",
       "        vertical-align: middle;\n",
       "    }\n",
       "\n",
       "    .dataframe tbody tr th {\n",
       "        vertical-align: top;\n",
       "    }\n",
       "\n",
       "    .dataframe thead th {\n",
       "        text-align: right;\n",
       "    }\n",
       "</style>\n",
       "<table border=\"1\" class=\"dataframe\">\n",
       "  <thead>\n",
       "    <tr style=\"text-align: right;\">\n",
       "      <th></th>\n",
       "      <th>ID</th>\n",
       "      <th>var3</th>\n",
       "      <th>var15</th>\n",
       "      <th>imp_ent_var16_ult1</th>\n",
       "      <th>imp_op_var39_comer_ult1</th>\n",
       "      <th>imp_op_var39_comer_ult3</th>\n",
       "      <th>imp_op_var40_comer_ult1</th>\n",
       "      <th>imp_op_var40_comer_ult3</th>\n",
       "      <th>imp_op_var40_efect_ult1</th>\n",
       "      <th>imp_op_var40_efect_ult3</th>\n",
       "      <th>imp_op_var40_ult1</th>\n",
       "      <th>imp_op_var41_comer_ult1</th>\n",
       "      <th>imp_op_var41_comer_ult3</th>\n",
       "      <th>imp_op_var41_efect_ult1</th>\n",
       "      <th>imp_op_var41_efect_ult3</th>\n",
       "      <th>...</th>\n",
       "      <th>saldo_medio_var17_ult3</th>\n",
       "      <th>saldo_medio_var29_hace2</th>\n",
       "      <th>saldo_medio_var29_hace3</th>\n",
       "      <th>saldo_medio_var29_ult1</th>\n",
       "      <th>saldo_medio_var29_ult3</th>\n",
       "      <th>saldo_medio_var33_hace2</th>\n",
       "      <th>saldo_medio_var33_hace3</th>\n",
       "      <th>saldo_medio_var33_ult1</th>\n",
       "      <th>saldo_medio_var33_ult3</th>\n",
       "      <th>saldo_medio_var44_hace2</th>\n",
       "      <th>saldo_medio_var44_hace3</th>\n",
       "      <th>saldo_medio_var44_ult1</th>\n",
       "      <th>saldo_medio_var44_ult3</th>\n",
       "      <th>var38</th>\n",
       "      <th>score</th>\n",
       "    </tr>\n",
       "  </thead>\n",
       "  <tbody>\n",
       "    <tr>\n",
       "      <th>0</th>\n",
       "      <td>2</td>\n",
       "      <td>2</td>\n",
       "      <td>32</td>\n",
       "      <td>0.0</td>\n",
       "      <td>0.0</td>\n",
       "      <td>0.0</td>\n",
       "      <td>0.0</td>\n",
       "      <td>0.0</td>\n",
       "      <td>0.0</td>\n",
       "      <td>0.0</td>\n",
       "      <td>0.0</td>\n",
       "      <td>0.0</td>\n",
       "      <td>0.0</td>\n",
       "      <td>0.0</td>\n",
       "      <td>0.0</td>\n",
       "      <td>...</td>\n",
       "      <td>0.0</td>\n",
       "      <td>0.0</td>\n",
       "      <td>0</td>\n",
       "      <td>0.0</td>\n",
       "      <td>0.0</td>\n",
       "      <td>0.0</td>\n",
       "      <td>0.0</td>\n",
       "      <td>0.0</td>\n",
       "      <td>0.0</td>\n",
       "      <td>0.0</td>\n",
       "      <td>0.0</td>\n",
       "      <td>0.0</td>\n",
       "      <td>0.0</td>\n",
       "      <td>40532.10</td>\n",
       "      <td>0</td>\n",
       "    </tr>\n",
       "    <tr>\n",
       "      <th>1</th>\n",
       "      <td>5</td>\n",
       "      <td>2</td>\n",
       "      <td>35</td>\n",
       "      <td>0.0</td>\n",
       "      <td>0.0</td>\n",
       "      <td>0.0</td>\n",
       "      <td>0.0</td>\n",
       "      <td>0.0</td>\n",
       "      <td>0.0</td>\n",
       "      <td>0.0</td>\n",
       "      <td>0.0</td>\n",
       "      <td>0.0</td>\n",
       "      <td>0.0</td>\n",
       "      <td>0.0</td>\n",
       "      <td>0.0</td>\n",
       "      <td>...</td>\n",
       "      <td>0.0</td>\n",
       "      <td>0.0</td>\n",
       "      <td>0</td>\n",
       "      <td>0.0</td>\n",
       "      <td>0.0</td>\n",
       "      <td>0.0</td>\n",
       "      <td>0.0</td>\n",
       "      <td>0.0</td>\n",
       "      <td>0.0</td>\n",
       "      <td>0.0</td>\n",
       "      <td>0.0</td>\n",
       "      <td>0.0</td>\n",
       "      <td>0.0</td>\n",
       "      <td>45486.72</td>\n",
       "      <td>0</td>\n",
       "    </tr>\n",
       "    <tr>\n",
       "      <th>2</th>\n",
       "      <td>6</td>\n",
       "      <td>2</td>\n",
       "      <td>23</td>\n",
       "      <td>0.0</td>\n",
       "      <td>0.0</td>\n",
       "      <td>0.0</td>\n",
       "      <td>0.0</td>\n",
       "      <td>0.0</td>\n",
       "      <td>0.0</td>\n",
       "      <td>0.0</td>\n",
       "      <td>0.0</td>\n",
       "      <td>0.0</td>\n",
       "      <td>0.0</td>\n",
       "      <td>60.0</td>\n",
       "      <td>60.0</td>\n",
       "      <td>...</td>\n",
       "      <td>0.0</td>\n",
       "      <td>0.0</td>\n",
       "      <td>0</td>\n",
       "      <td>0.0</td>\n",
       "      <td>0.0</td>\n",
       "      <td>0.0</td>\n",
       "      <td>0.0</td>\n",
       "      <td>0.0</td>\n",
       "      <td>0.0</td>\n",
       "      <td>0.0</td>\n",
       "      <td>0.0</td>\n",
       "      <td>0.0</td>\n",
       "      <td>0.0</td>\n",
       "      <td>46993.95</td>\n",
       "      <td>0</td>\n",
       "    </tr>\n",
       "    <tr>\n",
       "      <th>3</th>\n",
       "      <td>7</td>\n",
       "      <td>2</td>\n",
       "      <td>24</td>\n",
       "      <td>0.0</td>\n",
       "      <td>0.0</td>\n",
       "      <td>0.0</td>\n",
       "      <td>0.0</td>\n",
       "      <td>0.0</td>\n",
       "      <td>0.0</td>\n",
       "      <td>0.0</td>\n",
       "      <td>0.0</td>\n",
       "      <td>0.0</td>\n",
       "      <td>0.0</td>\n",
       "      <td>0.0</td>\n",
       "      <td>0.0</td>\n",
       "      <td>...</td>\n",
       "      <td>0.0</td>\n",
       "      <td>0.0</td>\n",
       "      <td>0</td>\n",
       "      <td>0.0</td>\n",
       "      <td>0.0</td>\n",
       "      <td>0.0</td>\n",
       "      <td>0.0</td>\n",
       "      <td>0.0</td>\n",
       "      <td>0.0</td>\n",
       "      <td>0.0</td>\n",
       "      <td>0.0</td>\n",
       "      <td>0.0</td>\n",
       "      <td>0.0</td>\n",
       "      <td>187898.61</td>\n",
       "      <td>0</td>\n",
       "    </tr>\n",
       "    <tr>\n",
       "      <th>4</th>\n",
       "      <td>9</td>\n",
       "      <td>2</td>\n",
       "      <td>23</td>\n",
       "      <td>0.0</td>\n",
       "      <td>0.0</td>\n",
       "      <td>0.0</td>\n",
       "      <td>0.0</td>\n",
       "      <td>0.0</td>\n",
       "      <td>0.0</td>\n",
       "      <td>0.0</td>\n",
       "      <td>0.0</td>\n",
       "      <td>0.0</td>\n",
       "      <td>0.0</td>\n",
       "      <td>0.0</td>\n",
       "      <td>0.0</td>\n",
       "      <td>...</td>\n",
       "      <td>0.0</td>\n",
       "      <td>0.0</td>\n",
       "      <td>0</td>\n",
       "      <td>0.0</td>\n",
       "      <td>0.0</td>\n",
       "      <td>0.0</td>\n",
       "      <td>0.0</td>\n",
       "      <td>0.0</td>\n",
       "      <td>0.0</td>\n",
       "      <td>0.0</td>\n",
       "      <td>0.0</td>\n",
       "      <td>0.0</td>\n",
       "      <td>0.0</td>\n",
       "      <td>73649.73</td>\n",
       "      <td>0</td>\n",
       "    </tr>\n",
       "  </tbody>\n",
       "</table>\n",
       "<p>5 rows × 371 columns</p>\n",
       "</div>"
      ],
      "text/plain": [
       "   ID  var3  var15  imp_ent_var16_ult1  imp_op_var39_comer_ult1  \\\n",
       "0   2     2     32                 0.0                      0.0   \n",
       "1   5     2     35                 0.0                      0.0   \n",
       "2   6     2     23                 0.0                      0.0   \n",
       "3   7     2     24                 0.0                      0.0   \n",
       "4   9     2     23                 0.0                      0.0   \n",
       "\n",
       "   imp_op_var39_comer_ult3  imp_op_var40_comer_ult1  imp_op_var40_comer_ult3  \\\n",
       "0                      0.0                      0.0                      0.0   \n",
       "1                      0.0                      0.0                      0.0   \n",
       "2                      0.0                      0.0                      0.0   \n",
       "3                      0.0                      0.0                      0.0   \n",
       "4                      0.0                      0.0                      0.0   \n",
       "\n",
       "   imp_op_var40_efect_ult1  imp_op_var40_efect_ult3  imp_op_var40_ult1  \\\n",
       "0                      0.0                      0.0                0.0   \n",
       "1                      0.0                      0.0                0.0   \n",
       "2                      0.0                      0.0                0.0   \n",
       "3                      0.0                      0.0                0.0   \n",
       "4                      0.0                      0.0                0.0   \n",
       "\n",
       "   imp_op_var41_comer_ult1  imp_op_var41_comer_ult3  imp_op_var41_efect_ult1  \\\n",
       "0                      0.0                      0.0                      0.0   \n",
       "1                      0.0                      0.0                      0.0   \n",
       "2                      0.0                      0.0                     60.0   \n",
       "3                      0.0                      0.0                      0.0   \n",
       "4                      0.0                      0.0                      0.0   \n",
       "\n",
       "   imp_op_var41_efect_ult3  ...  saldo_medio_var17_ult3  \\\n",
       "0                      0.0  ...                     0.0   \n",
       "1                      0.0  ...                     0.0   \n",
       "2                     60.0  ...                     0.0   \n",
       "3                      0.0  ...                     0.0   \n",
       "4                      0.0  ...                     0.0   \n",
       "\n",
       "   saldo_medio_var29_hace2  saldo_medio_var29_hace3  saldo_medio_var29_ult1  \\\n",
       "0                      0.0                        0                     0.0   \n",
       "1                      0.0                        0                     0.0   \n",
       "2                      0.0                        0                     0.0   \n",
       "3                      0.0                        0                     0.0   \n",
       "4                      0.0                        0                     0.0   \n",
       "\n",
       "   saldo_medio_var29_ult3  saldo_medio_var33_hace2  saldo_medio_var33_hace3  \\\n",
       "0                     0.0                      0.0                      0.0   \n",
       "1                     0.0                      0.0                      0.0   \n",
       "2                     0.0                      0.0                      0.0   \n",
       "3                     0.0                      0.0                      0.0   \n",
       "4                     0.0                      0.0                      0.0   \n",
       "\n",
       "   saldo_medio_var33_ult1  saldo_medio_var33_ult3  saldo_medio_var44_hace2  \\\n",
       "0                     0.0                     0.0                      0.0   \n",
       "1                     0.0                     0.0                      0.0   \n",
       "2                     0.0                     0.0                      0.0   \n",
       "3                     0.0                     0.0                      0.0   \n",
       "4                     0.0                     0.0                      0.0   \n",
       "\n",
       "   saldo_medio_var44_hace3  saldo_medio_var44_ult1  saldo_medio_var44_ult3  \\\n",
       "0                      0.0                     0.0                     0.0   \n",
       "1                      0.0                     0.0                     0.0   \n",
       "2                      0.0                     0.0                     0.0   \n",
       "3                      0.0                     0.0                     0.0   \n",
       "4                      0.0                     0.0                     0.0   \n",
       "\n",
       "       var38  score  \n",
       "0   40532.10      0  \n",
       "1   45486.72      0  \n",
       "2   46993.95      0  \n",
       "3  187898.61      0  \n",
       "4   73649.73      0  \n",
       "\n",
       "[5 rows x 371 columns]"
      ]
     },
     "execution_count": 503,
     "metadata": {},
     "output_type": "execute_result"
    }
   ],
   "source": [
    "df_output.head()"
   ]
  },
  {
   "cell_type": "code",
   "execution_count": 504,
   "id": "c160bcbd-f9b2-4043-bd80-00f8a0d58584",
   "metadata": {},
   "outputs": [
    {
     "data": {
      "text/plain": [
       "0    68411\n",
       "1     7407\n",
       "Name: score, dtype: int64"
      ]
     },
     "execution_count": 504,
     "metadata": {},
     "output_type": "execute_result"
    }
   ],
   "source": [
    "df_output['score'].value_counts()"
   ]
  },
  {
   "cell_type": "markdown",
   "id": "e616286f-311f-4669-bf0b-6fe99350649a",
   "metadata": {},
   "source": [
    "[Sumário](#Sumário)"
   ]
  },
  {
   "cell_type": "markdown",
   "id": "a22d8017-dcb1-485b-a014-aca9c78cdce6",
   "metadata": {},
   "source": [
    "### 2.2.15. Possíveis melhorias para a V2"
   ]
  },
  {
   "cell_type": "markdown",
   "id": "683bbc45-1029-41dd-b117-b945b4f242dd",
   "metadata": {},
   "source": [
    "- Usar estratégias de categorização de features numéricas (ex: qcut, target encoding, etc.)\n",
    "- Feature Engineering\n",
    "- Redução de Dimensionalidade (PCA, por exemplo)\n",
    "- Ensemble ou Stacking de Modelos com erros distintos"
   ]
  },
  {
   "cell_type": "markdown",
   "id": "e905724f-52d8-4e51-8e55-dbd44d0378d1",
   "metadata": {},
   "source": [
    "[Sumário](#Sumário)"
   ]
  },
  {
   "cell_type": "markdown",
   "id": "bb3470a1-fda4-4f9c-b0ec-79d3f09b2eef",
   "metadata": {},
   "source": [
    "***"
   ]
  },
  {
   "cell_type": "markdown",
   "id": "12d05da8-8d58-4124-8295-0d4dfa50c92b",
   "metadata": {
    "tags": []
   },
   "source": [
    "# <font color=green>3. Questão B</font>"
   ]
  },
  {
   "cell_type": "markdown",
   "id": "b28a6bb2-e85e-4203-a104-560d8f602d84",
   "metadata": {},
   "source": [
    "## 3.1. Enunciado"
   ]
  },
  {
   "cell_type": "markdown",
   "id": "a4445b7c-65ea-4381-a8f0-802747366adc",
   "metadata": {},
   "source": [
    "A segunda tarefa consiste em dar uma nota de 1 a 5 para cada cliente da base de teste, respeitando a variável 'TARGET', isto é, o seu nível de satisfação, sendo 1 o mais INSATISFEITO e 5 o mais SATISFEITO. Ao dar essa nota deve-se ter em mente que somente os clientes com nota 1 serão alvos de uma ação de retenção e que o objetivo dessa ação é maximizar o lucro esperado por cliente (usando os mesmos valores da primeira questão)."
   ]
  },
  {
   "cell_type": "markdown",
   "id": "211940eb-bba9-455b-b778-1ad05a868237",
   "metadata": {},
   "source": [
    "[Sumário](#Sumário)"
   ]
  },
  {
   "cell_type": "markdown",
   "id": "107c96b2-520e-49be-916c-ba87be3dcbd2",
   "metadata": {},
   "source": [
    "***"
   ]
  },
  {
   "cell_type": "markdown",
   "id": "33d79280-e070-4d1f-96a0-c932003d3990",
   "metadata": {},
   "source": [
    "## 3.2. Solução"
   ]
  },
  {
   "cell_type": "markdown",
   "id": "bd672c8f-b4a7-4aa2-b747-fd96073b06b7",
   "metadata": {},
   "source": [
    "Para resolver essa questão, vamos utilizar as probabilidades que o modelo nos fornece. Precisamos fazer o corte mais lucrativo. No fundo, os clientes com notas de 2 a 5 não serão diferentes do ponto de vista específico desta ação de retenção. Ou seja, na prática, precisamos encontrar dois grupos. Os que receberão a ação e os que não receberão. Para este último, dividimos depois em 4 grupos iguais apenas para atender o que o enunciado nos pede. Isso é possível porque o enunciado não limitou a quantidade de clientes que receberão a ação e também não disse que os grupos precisam ser de igual tamanho.<br><br>\n",
    "\n",
    "Se nosso objetivo é maximizar o lucro, precisamos ver qual é a probabilidade que, ao dividirmos a partir dela, os clientes que receberão a ação gerarão mais lucro.<br><br>\n",
    "\n",
    "Voltaremos a trabalhar com a base de validação e deixaremos a de teste (a nossa, não a do exercício) de lado. Usaremos ela para medir a real perfomance do nosso modelo de atribuição de notas.<br><br>\n",
    "\n",
    "E logo depois, vamos ler a base de teste do exercício e atribuir aos clientes as respectivas notas."
   ]
  },
  {
   "cell_type": "code",
   "execution_count": 506,
   "id": "c5a6f3f0-6fc6-4255-940a-4731e9197701",
   "metadata": {},
   "outputs": [
    {
     "data": {
      "text/html": [
       "<div>\n",
       "<style scoped>\n",
       "    .dataframe tbody tr th:only-of-type {\n",
       "        vertical-align: middle;\n",
       "    }\n",
       "\n",
       "    .dataframe tbody tr th {\n",
       "        vertical-align: top;\n",
       "    }\n",
       "\n",
       "    .dataframe thead th {\n",
       "        text-align: right;\n",
       "    }\n",
       "</style>\n",
       "<table border=\"1\" class=\"dataframe\">\n",
       "  <thead>\n",
       "    <tr style=\"text-align: right;\">\n",
       "      <th></th>\n",
       "      <th>ID</th>\n",
       "      <th>var3</th>\n",
       "      <th>var15</th>\n",
       "      <th>imp_ent_var16_ult1</th>\n",
       "      <th>imp_op_var39_comer_ult1</th>\n",
       "      <th>imp_op_var39_comer_ult3</th>\n",
       "      <th>imp_op_var40_comer_ult1</th>\n",
       "      <th>imp_op_var40_comer_ult3</th>\n",
       "      <th>imp_op_var40_efect_ult1</th>\n",
       "      <th>imp_op_var40_efect_ult3</th>\n",
       "      <th>imp_op_var40_ult1</th>\n",
       "      <th>imp_op_var41_comer_ult1</th>\n",
       "      <th>imp_op_var41_comer_ult3</th>\n",
       "      <th>imp_op_var41_efect_ult1</th>\n",
       "      <th>imp_op_var41_efect_ult3</th>\n",
       "      <th>...</th>\n",
       "      <th>saldo_medio_var17_ult3</th>\n",
       "      <th>saldo_medio_var29_hace2</th>\n",
       "      <th>saldo_medio_var29_hace3</th>\n",
       "      <th>saldo_medio_var29_ult1</th>\n",
       "      <th>saldo_medio_var29_ult3</th>\n",
       "      <th>saldo_medio_var33_hace2</th>\n",
       "      <th>saldo_medio_var33_hace3</th>\n",
       "      <th>saldo_medio_var33_ult1</th>\n",
       "      <th>saldo_medio_var33_ult3</th>\n",
       "      <th>saldo_medio_var44_hace2</th>\n",
       "      <th>saldo_medio_var44_hace3</th>\n",
       "      <th>saldo_medio_var44_ult1</th>\n",
       "      <th>saldo_medio_var44_ult3</th>\n",
       "      <th>var38</th>\n",
       "      <th>TARGET</th>\n",
       "    </tr>\n",
       "  </thead>\n",
       "  <tbody>\n",
       "    <tr>\n",
       "      <th>0</th>\n",
       "      <td>131559</td>\n",
       "      <td>2</td>\n",
       "      <td>36</td>\n",
       "      <td>0.0</td>\n",
       "      <td>0.0</td>\n",
       "      <td>57.33</td>\n",
       "      <td>0.0</td>\n",
       "      <td>0.0</td>\n",
       "      <td>0.0</td>\n",
       "      <td>0.0</td>\n",
       "      <td>0.0</td>\n",
       "      <td>0.0</td>\n",
       "      <td>57.33</td>\n",
       "      <td>0.0</td>\n",
       "      <td>0.0</td>\n",
       "      <td>...</td>\n",
       "      <td>0.0</td>\n",
       "      <td>0.0</td>\n",
       "      <td>0.0</td>\n",
       "      <td>0.0</td>\n",
       "      <td>0.0</td>\n",
       "      <td>0.0</td>\n",
       "      <td>0.0</td>\n",
       "      <td>0.0</td>\n",
       "      <td>0.0</td>\n",
       "      <td>0.0</td>\n",
       "      <td>0.0</td>\n",
       "      <td>0.0</td>\n",
       "      <td>0.0</td>\n",
       "      <td>291260.700000</td>\n",
       "      <td>0</td>\n",
       "    </tr>\n",
       "    <tr>\n",
       "      <th>1</th>\n",
       "      <td>124579</td>\n",
       "      <td>2</td>\n",
       "      <td>38</td>\n",
       "      <td>0.0</td>\n",
       "      <td>0.0</td>\n",
       "      <td>0.00</td>\n",
       "      <td>0.0</td>\n",
       "      <td>0.0</td>\n",
       "      <td>0.0</td>\n",
       "      <td>0.0</td>\n",
       "      <td>0.0</td>\n",
       "      <td>0.0</td>\n",
       "      <td>0.00</td>\n",
       "      <td>0.0</td>\n",
       "      <td>0.0</td>\n",
       "      <td>...</td>\n",
       "      <td>0.0</td>\n",
       "      <td>0.0</td>\n",
       "      <td>0.0</td>\n",
       "      <td>0.0</td>\n",
       "      <td>0.0</td>\n",
       "      <td>0.0</td>\n",
       "      <td>0.0</td>\n",
       "      <td>0.0</td>\n",
       "      <td>0.0</td>\n",
       "      <td>0.0</td>\n",
       "      <td>0.0</td>\n",
       "      <td>0.0</td>\n",
       "      <td>0.0</td>\n",
       "      <td>117310.979016</td>\n",
       "      <td>0</td>\n",
       "    </tr>\n",
       "    <tr>\n",
       "      <th>2</th>\n",
       "      <td>46536</td>\n",
       "      <td>2</td>\n",
       "      <td>27</td>\n",
       "      <td>0.0</td>\n",
       "      <td>0.0</td>\n",
       "      <td>0.00</td>\n",
       "      <td>0.0</td>\n",
       "      <td>0.0</td>\n",
       "      <td>0.0</td>\n",
       "      <td>0.0</td>\n",
       "      <td>0.0</td>\n",
       "      <td>0.0</td>\n",
       "      <td>0.00</td>\n",
       "      <td>0.0</td>\n",
       "      <td>0.0</td>\n",
       "      <td>...</td>\n",
       "      <td>0.0</td>\n",
       "      <td>0.0</td>\n",
       "      <td>0.0</td>\n",
       "      <td>0.0</td>\n",
       "      <td>0.0</td>\n",
       "      <td>0.0</td>\n",
       "      <td>0.0</td>\n",
       "      <td>0.0</td>\n",
       "      <td>0.0</td>\n",
       "      <td>0.0</td>\n",
       "      <td>0.0</td>\n",
       "      <td>0.0</td>\n",
       "      <td>0.0</td>\n",
       "      <td>104330.460000</td>\n",
       "      <td>0</td>\n",
       "    </tr>\n",
       "    <tr>\n",
       "      <th>3</th>\n",
       "      <td>100068</td>\n",
       "      <td>2</td>\n",
       "      <td>23</td>\n",
       "      <td>0.0</td>\n",
       "      <td>0.0</td>\n",
       "      <td>0.00</td>\n",
       "      <td>0.0</td>\n",
       "      <td>0.0</td>\n",
       "      <td>0.0</td>\n",
       "      <td>0.0</td>\n",
       "      <td>0.0</td>\n",
       "      <td>0.0</td>\n",
       "      <td>0.00</td>\n",
       "      <td>0.0</td>\n",
       "      <td>0.0</td>\n",
       "      <td>...</td>\n",
       "      <td>0.0</td>\n",
       "      <td>0.0</td>\n",
       "      <td>0.0</td>\n",
       "      <td>0.0</td>\n",
       "      <td>0.0</td>\n",
       "      <td>0.0</td>\n",
       "      <td>0.0</td>\n",
       "      <td>0.0</td>\n",
       "      <td>0.0</td>\n",
       "      <td>0.0</td>\n",
       "      <td>0.0</td>\n",
       "      <td>0.0</td>\n",
       "      <td>0.0</td>\n",
       "      <td>117310.979016</td>\n",
       "      <td>0</td>\n",
       "    </tr>\n",
       "    <tr>\n",
       "      <th>4</th>\n",
       "      <td>100640</td>\n",
       "      <td>2</td>\n",
       "      <td>23</td>\n",
       "      <td>0.0</td>\n",
       "      <td>0.0</td>\n",
       "      <td>0.00</td>\n",
       "      <td>0.0</td>\n",
       "      <td>0.0</td>\n",
       "      <td>0.0</td>\n",
       "      <td>0.0</td>\n",
       "      <td>0.0</td>\n",
       "      <td>0.0</td>\n",
       "      <td>0.00</td>\n",
       "      <td>0.0</td>\n",
       "      <td>0.0</td>\n",
       "      <td>...</td>\n",
       "      <td>0.0</td>\n",
       "      <td>0.0</td>\n",
       "      <td>0.0</td>\n",
       "      <td>0.0</td>\n",
       "      <td>0.0</td>\n",
       "      <td>0.0</td>\n",
       "      <td>0.0</td>\n",
       "      <td>0.0</td>\n",
       "      <td>0.0</td>\n",
       "      <td>0.0</td>\n",
       "      <td>0.0</td>\n",
       "      <td>0.0</td>\n",
       "      <td>0.0</td>\n",
       "      <td>150614.760000</td>\n",
       "      <td>0</td>\n",
       "    </tr>\n",
       "  </tbody>\n",
       "</table>\n",
       "<p>5 rows × 371 columns</p>\n",
       "</div>"
      ],
      "text/plain": [
       "       ID  var3  var15  imp_ent_var16_ult1  imp_op_var39_comer_ult1  \\\n",
       "0  131559     2     36                 0.0                      0.0   \n",
       "1  124579     2     38                 0.0                      0.0   \n",
       "2   46536     2     27                 0.0                      0.0   \n",
       "3  100068     2     23                 0.0                      0.0   \n",
       "4  100640     2     23                 0.0                      0.0   \n",
       "\n",
       "   imp_op_var39_comer_ult3  imp_op_var40_comer_ult1  imp_op_var40_comer_ult3  \\\n",
       "0                    57.33                      0.0                      0.0   \n",
       "1                     0.00                      0.0                      0.0   \n",
       "2                     0.00                      0.0                      0.0   \n",
       "3                     0.00                      0.0                      0.0   \n",
       "4                     0.00                      0.0                      0.0   \n",
       "\n",
       "   imp_op_var40_efect_ult1  imp_op_var40_efect_ult3  imp_op_var40_ult1  \\\n",
       "0                      0.0                      0.0                0.0   \n",
       "1                      0.0                      0.0                0.0   \n",
       "2                      0.0                      0.0                0.0   \n",
       "3                      0.0                      0.0                0.0   \n",
       "4                      0.0                      0.0                0.0   \n",
       "\n",
       "   imp_op_var41_comer_ult1  imp_op_var41_comer_ult3  imp_op_var41_efect_ult1  \\\n",
       "0                      0.0                    57.33                      0.0   \n",
       "1                      0.0                     0.00                      0.0   \n",
       "2                      0.0                     0.00                      0.0   \n",
       "3                      0.0                     0.00                      0.0   \n",
       "4                      0.0                     0.00                      0.0   \n",
       "\n",
       "   imp_op_var41_efect_ult3  ...  saldo_medio_var17_ult3  \\\n",
       "0                      0.0  ...                     0.0   \n",
       "1                      0.0  ...                     0.0   \n",
       "2                      0.0  ...                     0.0   \n",
       "3                      0.0  ...                     0.0   \n",
       "4                      0.0  ...                     0.0   \n",
       "\n",
       "   saldo_medio_var29_hace2  saldo_medio_var29_hace3  saldo_medio_var29_ult1  \\\n",
       "0                      0.0                      0.0                     0.0   \n",
       "1                      0.0                      0.0                     0.0   \n",
       "2                      0.0                      0.0                     0.0   \n",
       "3                      0.0                      0.0                     0.0   \n",
       "4                      0.0                      0.0                     0.0   \n",
       "\n",
       "   saldo_medio_var29_ult3  saldo_medio_var33_hace2  saldo_medio_var33_hace3  \\\n",
       "0                     0.0                      0.0                      0.0   \n",
       "1                     0.0                      0.0                      0.0   \n",
       "2                     0.0                      0.0                      0.0   \n",
       "3                     0.0                      0.0                      0.0   \n",
       "4                     0.0                      0.0                      0.0   \n",
       "\n",
       "   saldo_medio_var33_ult1  saldo_medio_var33_ult3  saldo_medio_var44_hace2  \\\n",
       "0                     0.0                     0.0                      0.0   \n",
       "1                     0.0                     0.0                      0.0   \n",
       "2                     0.0                     0.0                      0.0   \n",
       "3                     0.0                     0.0                      0.0   \n",
       "4                     0.0                     0.0                      0.0   \n",
       "\n",
       "   saldo_medio_var44_hace3  saldo_medio_var44_ult1  saldo_medio_var44_ult3  \\\n",
       "0                      0.0                     0.0                     0.0   \n",
       "1                      0.0                     0.0                     0.0   \n",
       "2                      0.0                     0.0                     0.0   \n",
       "3                      0.0                     0.0                     0.0   \n",
       "4                      0.0                     0.0                     0.0   \n",
       "\n",
       "           var38  TARGET  \n",
       "0  291260.700000       0  \n",
       "1  117310.979016       0  \n",
       "2  104330.460000       0  \n",
       "3  117310.979016       0  \n",
       "4  150614.760000       0  \n",
       "\n",
       "[5 rows x 371 columns]"
      ]
     },
     "execution_count": 506,
     "metadata": {},
     "output_type": "execute_result"
    }
   ],
   "source": [
    "df_train.head()"
   ]
  },
  {
   "cell_type": "markdown",
   "id": "b2206501-f026-48ee-a99b-2034cb6cc7bc",
   "metadata": {},
   "source": [
    "A 'df_train' é nossa base de treino + validação. Ou seja, é a base de treino que o próprio exercício nos forneceu MENOS o subset que separamos para TESTE."
   ]
  },
  {
   "cell_type": "markdown",
   "id": "523e9595-41ad-4fb3-bfa5-f326f2307db4",
   "metadata": {},
   "source": [
    "Da solução anterior saiu o nosso modelo. Ele está pronto! É o 'best_estimator'. Vamos utilizá-lo para fazer um 'predict_proba' nessa base. \"Ah Caíque, mas esse modelo já pronto foi ajustado com a fatia de teste também. Não deveríamos ajustar novamente apenas com os dados de treino + validação?\" Não! Isso não faria o menor sentido. O nosso modelo está pronto e a função dele é \"prever\" se o cliente está ou não insatisfeito. Ele funciona bem para isso. O nosso objetivo agora é criar um novo \"modelo\" de corte, utilizando a saída desse modelo anterior que criamos. É como se essa variável output do modelo que criamos já fosse dada para nós e nossa função fosse apenas organizá-la de forma a maximizar o lucro. Não há vazamento de dados da forma como estamos fazendo."
   ]
  },
  {
   "cell_type": "markdown",
   "id": "b9909fed-0cdd-4d84-8dd7-59eef6ea6ced",
   "metadata": {},
   "source": [
    "[Sumário](#Sumário)"
   ]
  },
  {
   "cell_type": "markdown",
   "id": "f61d410e-32d6-41a3-936d-79bf42d0888b",
   "metadata": {},
   "source": [
    "### 3.2.1. Definindo o Ponto de Corte Ótimo"
   ]
  },
  {
   "cell_type": "code",
   "execution_count": 770,
   "id": "519afddf-29ab-4cc4-9969-2c5be96bd747",
   "metadata": {},
   "outputs": [],
   "source": [
    "# Ajustando a função de escoragem para que retorne a probabilidade ao invés da previsão\n",
    "\n",
    "def escora_base_proba(df):\n",
    "    \n",
    "    # Carrega o modelo\n",
    "    model_archive = os.listdir(os.path.join(MODELS))[0] # Vai buscar o primeiro arquivo da pasta MODELS\n",
    "    filename = os.path.join(MODELS, model_archive)\n",
    "    loaded_model = pickle.load(open(filename, 'rb'))\n",
    "    \n",
    "    # Escora a base\n",
    "    X = df[loaded_model['cols']]\n",
    "    probs = loaded_model['model'].predict_proba(X)[:, 1]\n",
    "    df['probs'] = probs\n",
    "    \n",
    "    # Escreve a base com a data de hoje\n",
    "    # today = datetime.date.today().strftime('%Y%m%d')\n",
    "    # df_output_name = f'output_{today}.csv'\n",
    "    # df.to_csv(os.path.join(DATA_OUTPUT, df_output_name), index=False)\n",
    "    \n",
    "    return df"
   ]
  },
  {
   "cell_type": "code",
   "execution_count": 508,
   "id": "c82cdfe4-2427-47f8-a35e-6fe629ed1c14",
   "metadata": {},
   "outputs": [],
   "source": [
    "df_train_probs = escora_base_proba(df_train)"
   ]
  },
  {
   "cell_type": "code",
   "execution_count": 510,
   "id": "87ceae7f-5888-427f-98ec-0bd85e4c1262",
   "metadata": {},
   "outputs": [
    {
     "data": {
      "text/html": [
       "<div>\n",
       "<style scoped>\n",
       "    .dataframe tbody tr th:only-of-type {\n",
       "        vertical-align: middle;\n",
       "    }\n",
       "\n",
       "    .dataframe tbody tr th {\n",
       "        vertical-align: top;\n",
       "    }\n",
       "\n",
       "    .dataframe thead th {\n",
       "        text-align: right;\n",
       "    }\n",
       "</style>\n",
       "<table border=\"1\" class=\"dataframe\">\n",
       "  <thead>\n",
       "    <tr style=\"text-align: right;\">\n",
       "      <th></th>\n",
       "      <th>ID</th>\n",
       "      <th>var3</th>\n",
       "      <th>var15</th>\n",
       "      <th>imp_ent_var16_ult1</th>\n",
       "      <th>imp_op_var39_comer_ult1</th>\n",
       "      <th>imp_op_var39_comer_ult3</th>\n",
       "      <th>imp_op_var40_comer_ult1</th>\n",
       "      <th>imp_op_var40_comer_ult3</th>\n",
       "      <th>imp_op_var40_efect_ult1</th>\n",
       "      <th>imp_op_var40_efect_ult3</th>\n",
       "      <th>imp_op_var40_ult1</th>\n",
       "      <th>imp_op_var41_comer_ult1</th>\n",
       "      <th>imp_op_var41_comer_ult3</th>\n",
       "      <th>imp_op_var41_efect_ult1</th>\n",
       "      <th>imp_op_var41_efect_ult3</th>\n",
       "      <th>...</th>\n",
       "      <th>saldo_medio_var29_hace2</th>\n",
       "      <th>saldo_medio_var29_hace3</th>\n",
       "      <th>saldo_medio_var29_ult1</th>\n",
       "      <th>saldo_medio_var29_ult3</th>\n",
       "      <th>saldo_medio_var33_hace2</th>\n",
       "      <th>saldo_medio_var33_hace3</th>\n",
       "      <th>saldo_medio_var33_ult1</th>\n",
       "      <th>saldo_medio_var33_ult3</th>\n",
       "      <th>saldo_medio_var44_hace2</th>\n",
       "      <th>saldo_medio_var44_hace3</th>\n",
       "      <th>saldo_medio_var44_ult1</th>\n",
       "      <th>saldo_medio_var44_ult3</th>\n",
       "      <th>var38</th>\n",
       "      <th>TARGET</th>\n",
       "      <th>probs</th>\n",
       "    </tr>\n",
       "  </thead>\n",
       "  <tbody>\n",
       "    <tr>\n",
       "      <th>101</th>\n",
       "      <td>28792</td>\n",
       "      <td>2</td>\n",
       "      <td>41</td>\n",
       "      <td>0.0</td>\n",
       "      <td>0.0</td>\n",
       "      <td>0.0</td>\n",
       "      <td>0.0</td>\n",
       "      <td>0.0</td>\n",
       "      <td>0.0</td>\n",
       "      <td>0.0</td>\n",
       "      <td>0.0</td>\n",
       "      <td>0.0</td>\n",
       "      <td>0.0</td>\n",
       "      <td>0.0</td>\n",
       "      <td>0.0</td>\n",
       "      <td>...</td>\n",
       "      <td>0.0</td>\n",
       "      <td>0.0</td>\n",
       "      <td>0.0</td>\n",
       "      <td>0.0</td>\n",
       "      <td>0.0</td>\n",
       "      <td>0.0</td>\n",
       "      <td>0.0</td>\n",
       "      <td>0.0</td>\n",
       "      <td>0.0</td>\n",
       "      <td>0.0</td>\n",
       "      <td>0.0</td>\n",
       "      <td>0.0</td>\n",
       "      <td>73574.76</td>\n",
       "      <td>1</td>\n",
       "      <td>0.713711</td>\n",
       "    </tr>\n",
       "    <tr>\n",
       "      <th>109</th>\n",
       "      <td>26841</td>\n",
       "      <td>2</td>\n",
       "      <td>48</td>\n",
       "      <td>0.0</td>\n",
       "      <td>0.0</td>\n",
       "      <td>0.0</td>\n",
       "      <td>0.0</td>\n",
       "      <td>0.0</td>\n",
       "      <td>0.0</td>\n",
       "      <td>0.0</td>\n",
       "      <td>0.0</td>\n",
       "      <td>0.0</td>\n",
       "      <td>0.0</td>\n",
       "      <td>0.0</td>\n",
       "      <td>0.0</td>\n",
       "      <td>...</td>\n",
       "      <td>0.0</td>\n",
       "      <td>0.0</td>\n",
       "      <td>0.0</td>\n",
       "      <td>0.0</td>\n",
       "      <td>0.0</td>\n",
       "      <td>0.0</td>\n",
       "      <td>0.0</td>\n",
       "      <td>0.0</td>\n",
       "      <td>0.0</td>\n",
       "      <td>0.0</td>\n",
       "      <td>0.0</td>\n",
       "      <td>0.0</td>\n",
       "      <td>102391.71</td>\n",
       "      <td>1</td>\n",
       "      <td>0.703886</td>\n",
       "    </tr>\n",
       "  </tbody>\n",
       "</table>\n",
       "<p>2 rows × 372 columns</p>\n",
       "</div>"
      ],
      "text/plain": [
       "        ID  var3  var15  imp_ent_var16_ult1  imp_op_var39_comer_ult1  \\\n",
       "101  28792     2     41                 0.0                      0.0   \n",
       "109  26841     2     48                 0.0                      0.0   \n",
       "\n",
       "     imp_op_var39_comer_ult3  imp_op_var40_comer_ult1  \\\n",
       "101                      0.0                      0.0   \n",
       "109                      0.0                      0.0   \n",
       "\n",
       "     imp_op_var40_comer_ult3  imp_op_var40_efect_ult1  \\\n",
       "101                      0.0                      0.0   \n",
       "109                      0.0                      0.0   \n",
       "\n",
       "     imp_op_var40_efect_ult3  imp_op_var40_ult1  imp_op_var41_comer_ult1  \\\n",
       "101                      0.0                0.0                      0.0   \n",
       "109                      0.0                0.0                      0.0   \n",
       "\n",
       "     imp_op_var41_comer_ult3  imp_op_var41_efect_ult1  \\\n",
       "101                      0.0                      0.0   \n",
       "109                      0.0                      0.0   \n",
       "\n",
       "     imp_op_var41_efect_ult3  ...  saldo_medio_var29_hace2  \\\n",
       "101                      0.0  ...                      0.0   \n",
       "109                      0.0  ...                      0.0   \n",
       "\n",
       "     saldo_medio_var29_hace3  saldo_medio_var29_ult1  saldo_medio_var29_ult3  \\\n",
       "101                      0.0                     0.0                     0.0   \n",
       "109                      0.0                     0.0                     0.0   \n",
       "\n",
       "     saldo_medio_var33_hace2  saldo_medio_var33_hace3  saldo_medio_var33_ult1  \\\n",
       "101                      0.0                      0.0                     0.0   \n",
       "109                      0.0                      0.0                     0.0   \n",
       "\n",
       "     saldo_medio_var33_ult3  saldo_medio_var44_hace2  saldo_medio_var44_hace3  \\\n",
       "101                     0.0                      0.0                      0.0   \n",
       "109                     0.0                      0.0                      0.0   \n",
       "\n",
       "     saldo_medio_var44_ult1  saldo_medio_var44_ult3      var38  TARGET  \\\n",
       "101                     0.0                     0.0   73574.76       1   \n",
       "109                     0.0                     0.0  102391.71       1   \n",
       "\n",
       "        probs  \n",
       "101  0.713711  \n",
       "109  0.703886  \n",
       "\n",
       "[2 rows x 372 columns]"
      ]
     },
     "execution_count": 510,
     "metadata": {},
     "output_type": "execute_result"
    }
   ],
   "source": [
    "df_train_probs[df_train_probs['TARGET'] == 1].head(2)"
   ]
  },
  {
   "cell_type": "markdown",
   "id": "a742a13d-930a-4790-92e4-83183df8819e",
   "metadata": {},
   "source": [
    "Agora podemos calcular o lucro a cada delta de corte (vamos usar 5 p.p) e escolher o ponto que maximixar o lucro."
   ]
  },
  {
   "cell_type": "code",
   "execution_count": 517,
   "id": "a3e521e0-4e33-45f5-a915-0048b68f2dbc",
   "metadata": {},
   "outputs": [],
   "source": [
    "def calcula_cost_per_cut(y_true, y_proba):\n",
    "    \n",
    "    dict_profit = dict()\n",
    "    cut = 0.0\n",
    "    \n",
    "    while cut <= 1.0:\n",
    "        \n",
    "        y_pred = [p >= cut for p in y_proba]\n",
    "        profit = cost(y_true, y_pred)\n",
    "        dict_profit[cut] = profit\n",
    "        \n",
    "        cut += .05\n",
    "\n",
    "    return dict_profit"
   ]
  },
  {
   "cell_type": "code",
   "execution_count": 518,
   "id": "91c428ae-4042-45c7-b979-dc969c4ca3cc",
   "metadata": {},
   "outputs": [],
   "source": [
    "y_true = df_train_probs['TARGET']\n",
    "y_proba = df_train_probs['probs']\n",
    "\n",
    "profits = calcula_cost_per_cut(y_true, y_proba)"
   ]
  },
  {
   "cell_type": "code",
   "execution_count": 523,
   "id": "0cb5b15f-c850-44b8-9010-3961c8d39b72",
   "metadata": {},
   "outputs": [
    {
     "data": {
      "text/html": [
       "<div>\n",
       "<style scoped>\n",
       "    .dataframe tbody tr th:only-of-type {\n",
       "        vertical-align: middle;\n",
       "    }\n",
       "\n",
       "    .dataframe tbody tr th {\n",
       "        vertical-align: top;\n",
       "    }\n",
       "\n",
       "    .dataframe thead th {\n",
       "        text-align: right;\n",
       "    }\n",
       "</style>\n",
       "<table border=\"1\" class=\"dataframe\">\n",
       "  <thead>\n",
       "    <tr style=\"text-align: right;\">\n",
       "      <th></th>\n",
       "      <th>cut</th>\n",
       "      <th>profit</th>\n",
       "    </tr>\n",
       "  </thead>\n",
       "  <tbody>\n",
       "    <tr>\n",
       "      <th>0</th>\n",
       "      <td>0.00</td>\n",
       "      <td>-321540</td>\n",
       "    </tr>\n",
       "    <tr>\n",
       "      <th>1</th>\n",
       "      <td>0.05</td>\n",
       "      <td>-145890</td>\n",
       "    </tr>\n",
       "    <tr>\n",
       "      <th>2</th>\n",
       "      <td>0.10</td>\n",
       "      <td>-70030</td>\n",
       "    </tr>\n",
       "    <tr>\n",
       "      <th>3</th>\n",
       "      <td>0.15</td>\n",
       "      <td>-7820</td>\n",
       "    </tr>\n",
       "    <tr>\n",
       "      <th>4</th>\n",
       "      <td>0.20</td>\n",
       "      <td>19960</td>\n",
       "    </tr>\n",
       "    <tr>\n",
       "      <th>5</th>\n",
       "      <td>0.25</td>\n",
       "      <td>45090</td>\n",
       "    </tr>\n",
       "    <tr>\n",
       "      <th>6</th>\n",
       "      <td>0.30</td>\n",
       "      <td>55250</td>\n",
       "    </tr>\n",
       "    <tr>\n",
       "      <th>7</th>\n",
       "      <td>0.35</td>\n",
       "      <td>57730</td>\n",
       "    </tr>\n",
       "    <tr>\n",
       "      <th>8</th>\n",
       "      <td>0.40</td>\n",
       "      <td>57520</td>\n",
       "    </tr>\n",
       "    <tr>\n",
       "      <th>9</th>\n",
       "      <td>0.45</td>\n",
       "      <td>56530</td>\n",
       "    </tr>\n",
       "    <tr>\n",
       "      <th>10</th>\n",
       "      <td>0.50</td>\n",
       "      <td>54260</td>\n",
       "    </tr>\n",
       "    <tr>\n",
       "      <th>11</th>\n",
       "      <td>0.55</td>\n",
       "      <td>52110</td>\n",
       "    </tr>\n",
       "    <tr>\n",
       "      <th>12</th>\n",
       "      <td>0.60</td>\n",
       "      <td>46440</td>\n",
       "    </tr>\n",
       "    <tr>\n",
       "      <th>13</th>\n",
       "      <td>0.65</td>\n",
       "      <td>41540</td>\n",
       "    </tr>\n",
       "    <tr>\n",
       "      <th>14</th>\n",
       "      <td>0.70</td>\n",
       "      <td>36620</td>\n",
       "    </tr>\n",
       "    <tr>\n",
       "      <th>15</th>\n",
       "      <td>0.75</td>\n",
       "      <td>2330</td>\n",
       "    </tr>\n",
       "    <tr>\n",
       "      <th>16</th>\n",
       "      <td>0.80</td>\n",
       "      <td>720</td>\n",
       "    </tr>\n",
       "    <tr>\n",
       "      <th>17</th>\n",
       "      <td>0.85</td>\n",
       "      <td>90</td>\n",
       "    </tr>\n",
       "    <tr>\n",
       "      <th>18</th>\n",
       "      <td>0.90</td>\n",
       "      <td>0</td>\n",
       "    </tr>\n",
       "    <tr>\n",
       "      <th>19</th>\n",
       "      <td>0.95</td>\n",
       "      <td>0</td>\n",
       "    </tr>\n",
       "  </tbody>\n",
       "</table>\n",
       "</div>"
      ],
      "text/plain": [
       "     cut  profit\n",
       "0   0.00 -321540\n",
       "1   0.05 -145890\n",
       "2   0.10  -70030\n",
       "3   0.15   -7820\n",
       "4   0.20   19960\n",
       "5   0.25   45090\n",
       "6   0.30   55250\n",
       "7   0.35   57730\n",
       "8   0.40   57520\n",
       "9   0.45   56530\n",
       "10  0.50   54260\n",
       "11  0.55   52110\n",
       "12  0.60   46440\n",
       "13  0.65   41540\n",
       "14  0.70   36620\n",
       "15  0.75    2330\n",
       "16  0.80     720\n",
       "17  0.85      90\n",
       "18  0.90       0\n",
       "19  0.95       0"
      ]
     },
     "execution_count": 523,
     "metadata": {},
     "output_type": "execute_result"
    }
   ],
   "source": [
    "profits_per_cut = pd.DataFrame(data=profits.values(), index=profits.keys()).reset_index()\n",
    "profits_per_cut.columns = ['cut', 'profit']\n",
    "profits_per_cut"
   ]
  },
  {
   "cell_type": "code",
   "execution_count": 584,
   "id": "23c3d0af-0b8f-40e5-8aa1-e3571e31f17f",
   "metadata": {},
   "outputs": [],
   "source": [
    "max_profit = cost(df_train_probs['TARGET'], df_train_probs['TARGET'])\n",
    "profits_per_cut['perc_profit'] = [float(f'{profit / max_profit:.2f}') for profit in profits_per_cut['profit']]"
   ]
  },
  {
   "cell_type": "code",
   "execution_count": 585,
   "id": "69a9bc97-dbd1-4a30-bedb-8d5afdb5f7d3",
   "metadata": {},
   "outputs": [
    {
     "data": {
      "text/html": [
       "<div>\n",
       "<style scoped>\n",
       "    .dataframe tbody tr th:only-of-type {\n",
       "        vertical-align: middle;\n",
       "    }\n",
       "\n",
       "    .dataframe tbody tr th {\n",
       "        vertical-align: top;\n",
       "    }\n",
       "\n",
       "    .dataframe thead th {\n",
       "        text-align: right;\n",
       "    }\n",
       "</style>\n",
       "<table border=\"1\" class=\"dataframe\">\n",
       "  <thead>\n",
       "    <tr style=\"text-align: right;\">\n",
       "      <th></th>\n",
       "      <th>cut</th>\n",
       "      <th>profit</th>\n",
       "      <th>perc_profit</th>\n",
       "    </tr>\n",
       "  </thead>\n",
       "  <tbody>\n",
       "    <tr>\n",
       "      <th>0</th>\n",
       "      <td>0.00</td>\n",
       "      <td>-321540</td>\n",
       "      <td>-1.70</td>\n",
       "    </tr>\n",
       "    <tr>\n",
       "      <th>1</th>\n",
       "      <td>0.05</td>\n",
       "      <td>-145890</td>\n",
       "      <td>-0.77</td>\n",
       "    </tr>\n",
       "    <tr>\n",
       "      <th>2</th>\n",
       "      <td>0.10</td>\n",
       "      <td>-70030</td>\n",
       "      <td>-0.37</td>\n",
       "    </tr>\n",
       "    <tr>\n",
       "      <th>3</th>\n",
       "      <td>0.15</td>\n",
       "      <td>-7820</td>\n",
       "      <td>-0.04</td>\n",
       "    </tr>\n",
       "    <tr>\n",
       "      <th>4</th>\n",
       "      <td>0.20</td>\n",
       "      <td>19960</td>\n",
       "      <td>0.11</td>\n",
       "    </tr>\n",
       "    <tr>\n",
       "      <th>5</th>\n",
       "      <td>0.25</td>\n",
       "      <td>45090</td>\n",
       "      <td>0.24</td>\n",
       "    </tr>\n",
       "    <tr>\n",
       "      <th>6</th>\n",
       "      <td>0.30</td>\n",
       "      <td>55250</td>\n",
       "      <td>0.29</td>\n",
       "    </tr>\n",
       "    <tr>\n",
       "      <th>7</th>\n",
       "      <td>0.35</td>\n",
       "      <td>57730</td>\n",
       "      <td>0.30</td>\n",
       "    </tr>\n",
       "    <tr>\n",
       "      <th>8</th>\n",
       "      <td>0.40</td>\n",
       "      <td>57520</td>\n",
       "      <td>0.30</td>\n",
       "    </tr>\n",
       "    <tr>\n",
       "      <th>9</th>\n",
       "      <td>0.45</td>\n",
       "      <td>56530</td>\n",
       "      <td>0.30</td>\n",
       "    </tr>\n",
       "    <tr>\n",
       "      <th>10</th>\n",
       "      <td>0.50</td>\n",
       "      <td>54260</td>\n",
       "      <td>0.29</td>\n",
       "    </tr>\n",
       "    <tr>\n",
       "      <th>11</th>\n",
       "      <td>0.55</td>\n",
       "      <td>52110</td>\n",
       "      <td>0.27</td>\n",
       "    </tr>\n",
       "    <tr>\n",
       "      <th>12</th>\n",
       "      <td>0.60</td>\n",
       "      <td>46440</td>\n",
       "      <td>0.25</td>\n",
       "    </tr>\n",
       "    <tr>\n",
       "      <th>13</th>\n",
       "      <td>0.65</td>\n",
       "      <td>41540</td>\n",
       "      <td>0.22</td>\n",
       "    </tr>\n",
       "    <tr>\n",
       "      <th>14</th>\n",
       "      <td>0.70</td>\n",
       "      <td>36620</td>\n",
       "      <td>0.19</td>\n",
       "    </tr>\n",
       "    <tr>\n",
       "      <th>15</th>\n",
       "      <td>0.75</td>\n",
       "      <td>2330</td>\n",
       "      <td>0.01</td>\n",
       "    </tr>\n",
       "    <tr>\n",
       "      <th>16</th>\n",
       "      <td>0.80</td>\n",
       "      <td>720</td>\n",
       "      <td>0.00</td>\n",
       "    </tr>\n",
       "    <tr>\n",
       "      <th>17</th>\n",
       "      <td>0.85</td>\n",
       "      <td>90</td>\n",
       "      <td>0.00</td>\n",
       "    </tr>\n",
       "    <tr>\n",
       "      <th>18</th>\n",
       "      <td>0.90</td>\n",
       "      <td>0</td>\n",
       "      <td>0.00</td>\n",
       "    </tr>\n",
       "    <tr>\n",
       "      <th>19</th>\n",
       "      <td>0.95</td>\n",
       "      <td>0</td>\n",
       "      <td>0.00</td>\n",
       "    </tr>\n",
       "  </tbody>\n",
       "</table>\n",
       "</div>"
      ],
      "text/plain": [
       "     cut  profit  perc_profit\n",
       "0   0.00 -321540        -1.70\n",
       "1   0.05 -145890        -0.77\n",
       "2   0.10  -70030        -0.37\n",
       "3   0.15   -7820        -0.04\n",
       "4   0.20   19960         0.11\n",
       "5   0.25   45090         0.24\n",
       "6   0.30   55250         0.29\n",
       "7   0.35   57730         0.30\n",
       "8   0.40   57520         0.30\n",
       "9   0.45   56530         0.30\n",
       "10  0.50   54260         0.29\n",
       "11  0.55   52110         0.27\n",
       "12  0.60   46440         0.25\n",
       "13  0.65   41540         0.22\n",
       "14  0.70   36620         0.19\n",
       "15  0.75    2330         0.01\n",
       "16  0.80     720         0.00\n",
       "17  0.85      90         0.00\n",
       "18  0.90       0         0.00\n",
       "19  0.95       0         0.00"
      ]
     },
     "execution_count": 585,
     "metadata": {},
     "output_type": "execute_result"
    }
   ],
   "source": [
    "profits_per_cut"
   ]
  },
  {
   "cell_type": "markdown",
   "id": "e72ecef6-25de-475f-abe9-d6f1ef890285",
   "metadata": {},
   "source": [
    "Como a escala dos dados percorre os números negativos e positivos, esse percentual que acabamos de calcular precisa de um ajuste. Vamos considerar o tamanho do intervalo como referência e calcular a posição relativa dos lucros nesse intervalo. Desta forma, os valores serão comparáveis, além de nosso gráfico ficar com uma aparência muito melhor."
   ]
  },
  {
   "cell_type": "code",
   "execution_count": 593,
   "id": "47827ea8-7009-442c-ba0c-4b8ab22df711",
   "metadata": {},
   "outputs": [],
   "source": [
    "profit_min = cost(df_train_probs['TARGET'], (df_train_probs['TARGET']-1) * (-1))\n",
    "profit_max = cost(df_train_probs['TARGET'], df_train_probs['TARGET'])\n",
    "\n",
    "diff = profit_max - profit_min"
   ]
  },
  {
   "cell_type": "code",
   "execution_count": 597,
   "id": "c76de09d-65c1-41d6-b7fd-7443b54687e8",
   "metadata": {},
   "outputs": [],
   "source": [
    "profits_per_cut['diff_to_min'] = [abs(profit_min - profit) for profit in profits_per_cut['profit']]"
   ]
  },
  {
   "cell_type": "code",
   "execution_count": 599,
   "id": "06e2ae45-47bc-46ef-a05a-53c163840bfe",
   "metadata": {},
   "outputs": [],
   "source": [
    "profits_per_cut['perc_ajustado'] = [float(f'{diff_local / diff:.2f}') for diff_local in profits_per_cut['diff_to_min']]"
   ]
  },
  {
   "cell_type": "code",
   "execution_count": 600,
   "id": "697379a1-2e68-41a7-9959-8a1b6ce88f37",
   "metadata": {},
   "outputs": [
    {
     "data": {
      "text/html": [
       "<div>\n",
       "<style scoped>\n",
       "    .dataframe tbody tr th:only-of-type {\n",
       "        vertical-align: middle;\n",
       "    }\n",
       "\n",
       "    .dataframe tbody tr th {\n",
       "        vertical-align: top;\n",
       "    }\n",
       "\n",
       "    .dataframe thead th {\n",
       "        text-align: right;\n",
       "    }\n",
       "</style>\n",
       "<table border=\"1\" class=\"dataframe\">\n",
       "  <thead>\n",
       "    <tr style=\"text-align: right;\">\n",
       "      <th></th>\n",
       "      <th>cut</th>\n",
       "      <th>profit</th>\n",
       "      <th>perc_profit</th>\n",
       "      <th>diff_to_min</th>\n",
       "      <th>perc_ajustado</th>\n",
       "    </tr>\n",
       "  </thead>\n",
       "  <tbody>\n",
       "    <tr>\n",
       "      <th>0</th>\n",
       "      <td>0.00</td>\n",
       "      <td>-321540</td>\n",
       "      <td>-1.70</td>\n",
       "      <td>189540</td>\n",
       "      <td>0.27</td>\n",
       "    </tr>\n",
       "    <tr>\n",
       "      <th>1</th>\n",
       "      <td>0.05</td>\n",
       "      <td>-145890</td>\n",
       "      <td>-0.77</td>\n",
       "      <td>365190</td>\n",
       "      <td>0.52</td>\n",
       "    </tr>\n",
       "    <tr>\n",
       "      <th>2</th>\n",
       "      <td>0.10</td>\n",
       "      <td>-70030</td>\n",
       "      <td>-0.37</td>\n",
       "      <td>441050</td>\n",
       "      <td>0.63</td>\n",
       "    </tr>\n",
       "    <tr>\n",
       "      <th>3</th>\n",
       "      <td>0.15</td>\n",
       "      <td>-7820</td>\n",
       "      <td>-0.04</td>\n",
       "      <td>503260</td>\n",
       "      <td>0.72</td>\n",
       "    </tr>\n",
       "    <tr>\n",
       "      <th>4</th>\n",
       "      <td>0.20</td>\n",
       "      <td>19960</td>\n",
       "      <td>0.11</td>\n",
       "      <td>531040</td>\n",
       "      <td>0.76</td>\n",
       "    </tr>\n",
       "    <tr>\n",
       "      <th>5</th>\n",
       "      <td>0.25</td>\n",
       "      <td>45090</td>\n",
       "      <td>0.24</td>\n",
       "      <td>556170</td>\n",
       "      <td>0.79</td>\n",
       "    </tr>\n",
       "    <tr>\n",
       "      <th>6</th>\n",
       "      <td>0.30</td>\n",
       "      <td>55250</td>\n",
       "      <td>0.29</td>\n",
       "      <td>566330</td>\n",
       "      <td>0.81</td>\n",
       "    </tr>\n",
       "    <tr>\n",
       "      <th>7</th>\n",
       "      <td>0.35</td>\n",
       "      <td>57730</td>\n",
       "      <td>0.30</td>\n",
       "      <td>568810</td>\n",
       "      <td>0.81</td>\n",
       "    </tr>\n",
       "    <tr>\n",
       "      <th>8</th>\n",
       "      <td>0.40</td>\n",
       "      <td>57520</td>\n",
       "      <td>0.30</td>\n",
       "      <td>568600</td>\n",
       "      <td>0.81</td>\n",
       "    </tr>\n",
       "    <tr>\n",
       "      <th>9</th>\n",
       "      <td>0.45</td>\n",
       "      <td>56530</td>\n",
       "      <td>0.30</td>\n",
       "      <td>567610</td>\n",
       "      <td>0.81</td>\n",
       "    </tr>\n",
       "    <tr>\n",
       "      <th>10</th>\n",
       "      <td>0.50</td>\n",
       "      <td>54260</td>\n",
       "      <td>0.29</td>\n",
       "      <td>565340</td>\n",
       "      <td>0.81</td>\n",
       "    </tr>\n",
       "    <tr>\n",
       "      <th>11</th>\n",
       "      <td>0.55</td>\n",
       "      <td>52110</td>\n",
       "      <td>0.27</td>\n",
       "      <td>563190</td>\n",
       "      <td>0.80</td>\n",
       "    </tr>\n",
       "    <tr>\n",
       "      <th>12</th>\n",
       "      <td>0.60</td>\n",
       "      <td>46440</td>\n",
       "      <td>0.25</td>\n",
       "      <td>557520</td>\n",
       "      <td>0.80</td>\n",
       "    </tr>\n",
       "    <tr>\n",
       "      <th>13</th>\n",
       "      <td>0.65</td>\n",
       "      <td>41540</td>\n",
       "      <td>0.22</td>\n",
       "      <td>552620</td>\n",
       "      <td>0.79</td>\n",
       "    </tr>\n",
       "    <tr>\n",
       "      <th>14</th>\n",
       "      <td>0.70</td>\n",
       "      <td>36620</td>\n",
       "      <td>0.19</td>\n",
       "      <td>547700</td>\n",
       "      <td>0.78</td>\n",
       "    </tr>\n",
       "    <tr>\n",
       "      <th>15</th>\n",
       "      <td>0.75</td>\n",
       "      <td>2330</td>\n",
       "      <td>0.01</td>\n",
       "      <td>513410</td>\n",
       "      <td>0.73</td>\n",
       "    </tr>\n",
       "    <tr>\n",
       "      <th>16</th>\n",
       "      <td>0.80</td>\n",
       "      <td>720</td>\n",
       "      <td>0.00</td>\n",
       "      <td>511800</td>\n",
       "      <td>0.73</td>\n",
       "    </tr>\n",
       "    <tr>\n",
       "      <th>17</th>\n",
       "      <td>0.85</td>\n",
       "      <td>90</td>\n",
       "      <td>0.00</td>\n",
       "      <td>511170</td>\n",
       "      <td>0.73</td>\n",
       "    </tr>\n",
       "    <tr>\n",
       "      <th>18</th>\n",
       "      <td>0.90</td>\n",
       "      <td>0</td>\n",
       "      <td>0.00</td>\n",
       "      <td>511080</td>\n",
       "      <td>0.73</td>\n",
       "    </tr>\n",
       "    <tr>\n",
       "      <th>19</th>\n",
       "      <td>0.95</td>\n",
       "      <td>0</td>\n",
       "      <td>0.00</td>\n",
       "      <td>511080</td>\n",
       "      <td>0.73</td>\n",
       "    </tr>\n",
       "  </tbody>\n",
       "</table>\n",
       "</div>"
      ],
      "text/plain": [
       "     cut  profit  perc_profit  diff_to_min  perc_ajustado\n",
       "0   0.00 -321540        -1.70       189540           0.27\n",
       "1   0.05 -145890        -0.77       365190           0.52\n",
       "2   0.10  -70030        -0.37       441050           0.63\n",
       "3   0.15   -7820        -0.04       503260           0.72\n",
       "4   0.20   19960         0.11       531040           0.76\n",
       "5   0.25   45090         0.24       556170           0.79\n",
       "6   0.30   55250         0.29       566330           0.81\n",
       "7   0.35   57730         0.30       568810           0.81\n",
       "8   0.40   57520         0.30       568600           0.81\n",
       "9   0.45   56530         0.30       567610           0.81\n",
       "10  0.50   54260         0.29       565340           0.81\n",
       "11  0.55   52110         0.27       563190           0.80\n",
       "12  0.60   46440         0.25       557520           0.80\n",
       "13  0.65   41540         0.22       552620           0.79\n",
       "14  0.70   36620         0.19       547700           0.78\n",
       "15  0.75    2330         0.01       513410           0.73\n",
       "16  0.80     720         0.00       511800           0.73\n",
       "17  0.85      90         0.00       511170           0.73\n",
       "18  0.90       0         0.00       511080           0.73\n",
       "19  0.95       0         0.00       511080           0.73"
      ]
     },
     "execution_count": 600,
     "metadata": {},
     "output_type": "execute_result"
    }
   ],
   "source": [
    "profits_per_cut"
   ]
  },
  {
   "cell_type": "markdown",
   "id": "7e8fbcdd-92e4-4a48-8d12-f130302188a3",
   "metadata": {},
   "source": [
    "Vamos plotar isso num gráfico pra ficar mais bonitinho e também pra parecermos mais inteligentes 🤓"
   ]
  },
  {
   "cell_type": "code",
   "execution_count": 601,
   "id": "b933926b-c5b5-4483-b14b-7e5ed95aecd9",
   "metadata": {},
   "outputs": [],
   "source": [
    "x, y = profits_per_cut.iloc[:,0].values, profits_per_cut.iloc[:,4].values"
   ]
  },
  {
   "cell_type": "code",
   "execution_count": 602,
   "id": "146bb15e-3b2f-4e81-a6a1-036f06247ca1",
   "metadata": {},
   "outputs": [],
   "source": [
    "cut_max = profits_per_cut.iloc[profits_per_cut['profit'].argmax()]"
   ]
  },
  {
   "cell_type": "code",
   "execution_count": 652,
   "id": "1cdb80d2-5c36-4bde-8edb-ced4b83482cc",
   "metadata": {},
   "outputs": [
    {
     "data": {
      "image/png": "[encoded data removed]",
      "text/plain": [
       "<Figure size 1224x576 with 1 Axes>"
      ]
     },
     "metadata": {},
     "output_type": "display_data"
    }
   ],
   "source": [
    "plt.figure(figsize=(17, 8))\n",
    "plt.style.use('ggplot')\n",
    "plt.plot(x, y)\n",
    "plt.vlines(x=cut_max[0], ymin=0, ymax=cut_max[4], color='b', linestyles='dotted')\n",
    "plt.title('Percentual de Lucro por Ponto de Corte', fontsize=14)\n",
    "plt.ylabel('Percentual de Lucro')\n",
    "plt.xlabel('Ponto de Corte')\n",
    "plt.xticks(np.linspace(0, 1, 11))\n",
    "plt.xlim([0, 1])\n",
    "plt.yticks(np.linspace(.1, 1, 10))\n",
    "plt.ylim([0, 1])\n",
    "plt.annotate(text=f'  Melhor ponto de corte: {cut_max[0]}',\n",
    "             xy=(0.35, 0.45),\n",
    "             color='b', \n",
    "             xycoords='data',\n",
    "             xytext=(0.4, 0.4),\n",
    "             textcoords='data',\n",
    "             horizontalalignment='left',\n",
    "             verticalalignment='center',\n",
    "             arrowprops=dict(color='b', lw=4));"
   ]
  },
  {
   "cell_type": "markdown",
   "id": "82e7b3fa-168b-41f0-80c3-9ddeb0d288a3",
   "metadata": {},
   "source": [
    "Temos então que o melhor ponto de corte (mais lucrativo) é o 0.35. Ou seja, todos os clientes com escore maior ou igual a 0.35, terão nota 1. Os demais, agruparemos nas notas de 2 a 5."
   ]
  },
  {
   "cell_type": "code",
   "execution_count": 659,
   "id": "195e8db5-c662-4685-815d-4ccb7e526fe3",
   "metadata": {},
   "outputs": [
    {
     "data": {
      "text/plain": [
       "0.15"
      ]
     },
     "execution_count": 659,
     "metadata": {},
     "output_type": "execute_result"
    }
   ],
   "source": [
    "np.round((df_train['probs'] >= .35).sum() / len(df_train), 2)"
   ]
  },
  {
   "cell_type": "markdown",
   "id": "dd56b3f6-b5b6-4305-bd67-b3473f17e4e3",
   "metadata": {},
   "source": [
    "Considerando essa base, faremos a ação de retenção para 15% dos nossos clientes."
   ]
  },
  {
   "cell_type": "code",
   "execution_count": 660,
   "id": "395f65e8-2a7d-4d93-a687-12546c91a830",
   "metadata": {},
   "outputs": [],
   "source": [
    "df_train['probs'] = np.round(df_train['probs'], 2)"
   ]
  },
  {
   "cell_type": "code",
   "execution_count": 712,
   "id": "636d9e00-039a-4f6b-b364-0e9de44b0ef6",
   "metadata": {},
   "outputs": [],
   "source": [
    "notas = ['nota_2', 'nota_3', 'nota_4', 'nota_5']\n",
    "notas.reverse()\n",
    "\n",
    "_, cuts = pd.qcut(x=df_train[df_train['probs'] < 0.35]['probs'], q=4, labels=notas, retbins=True, precision=2. )"
   ]
  },
  {
   "cell_type": "code",
   "execution_count": 724,
   "id": "111966fc-ca3c-41a9-999d-724af8968f94",
   "metadata": {},
   "outputs": [
    {
     "data": {
      "text/plain": [
       "['nota_5', 'nota_4', 'nota_3', 'nota_2']"
      ]
     },
     "execution_count": 724,
     "metadata": {},
     "output_type": "execute_result"
    }
   ],
   "source": [
    "notas"
   ]
  },
  {
   "cell_type": "code",
   "execution_count": 713,
   "id": "e6c3990c-cd35-4e29-9c0c-16d02c072b04",
   "metadata": {},
   "outputs": [
    {
     "data": {
      "text/plain": [
       "array([0.  , 0.03, 0.07, 0.15, 0.34])"
      ]
     },
     "execution_count": 713,
     "metadata": {},
     "output_type": "execute_result"
    }
   ],
   "source": [
    "cuts"
   ]
  },
  {
   "cell_type": "code",
   "execution_count": 715,
   "id": "57139cb5-3f9a-4189-971d-8721b071fb76",
   "metadata": {},
   "outputs": [],
   "source": [
    "df_train['notas'] = pd.cut(df_train['probs'], bins=cuts, labels=notas, include_lowest=True)"
   ]
  },
  {
   "cell_type": "code",
   "execution_count": 716,
   "id": "cf7da466-cd36-49ff-a795-9674f3f10351",
   "metadata": {},
   "outputs": [],
   "source": [
    "df_train['notas'] = df_train['notas'].cat.add_categories('nota_1')"
   ]
  },
  {
   "cell_type": "code",
   "execution_count": 717,
   "id": "72486601-e813-46cd-a114-87fbecdbebcb",
   "metadata": {},
   "outputs": [],
   "source": [
    "df_train['notas'].fillna('nota_1', inplace=True)"
   ]
  },
  {
   "cell_type": "code",
   "execution_count": 718,
   "id": "a115f16d-003b-4535-8f56-5136132fe7b9",
   "metadata": {},
   "outputs": [
    {
     "data": {
      "text/html": [
       "<div>\n",
       "<style scoped>\n",
       "    .dataframe tbody tr th:only-of-type {\n",
       "        vertical-align: middle;\n",
       "    }\n",
       "\n",
       "    .dataframe tbody tr th {\n",
       "        vertical-align: top;\n",
       "    }\n",
       "\n",
       "    .dataframe thead th {\n",
       "        text-align: right;\n",
       "    }\n",
       "</style>\n",
       "<table border=\"1\" class=\"dataframe\">\n",
       "  <thead>\n",
       "    <tr style=\"text-align: right;\">\n",
       "      <th></th>\n",
       "      <th>probs</th>\n",
       "      <th>notas</th>\n",
       "    </tr>\n",
       "  </thead>\n",
       "  <tbody>\n",
       "    <tr>\n",
       "      <th>0</th>\n",
       "      <td>0.37</td>\n",
       "      <td>nota_1</td>\n",
       "    </tr>\n",
       "    <tr>\n",
       "      <th>1</th>\n",
       "      <td>0.06</td>\n",
       "      <td>nota_4</td>\n",
       "    </tr>\n",
       "    <tr>\n",
       "      <th>2</th>\n",
       "      <td>0.11</td>\n",
       "      <td>nota_3</td>\n",
       "    </tr>\n",
       "    <tr>\n",
       "      <th>3</th>\n",
       "      <td>0.02</td>\n",
       "      <td>nota_5</td>\n",
       "    </tr>\n",
       "    <tr>\n",
       "      <th>4</th>\n",
       "      <td>0.05</td>\n",
       "      <td>nota_4</td>\n",
       "    </tr>\n",
       "    <tr>\n",
       "      <th>5</th>\n",
       "      <td>0.72</td>\n",
       "      <td>nota_1</td>\n",
       "    </tr>\n",
       "    <tr>\n",
       "      <th>6</th>\n",
       "      <td>0.28</td>\n",
       "      <td>nota_2</td>\n",
       "    </tr>\n",
       "    <tr>\n",
       "      <th>7</th>\n",
       "      <td>0.03</td>\n",
       "      <td>nota_5</td>\n",
       "    </tr>\n",
       "    <tr>\n",
       "      <th>8</th>\n",
       "      <td>0.02</td>\n",
       "      <td>nota_5</td>\n",
       "    </tr>\n",
       "    <tr>\n",
       "      <th>9</th>\n",
       "      <td>0.11</td>\n",
       "      <td>nota_3</td>\n",
       "    </tr>\n",
       "  </tbody>\n",
       "</table>\n",
       "</div>"
      ],
      "text/plain": [
       "   probs   notas\n",
       "0   0.37  nota_1\n",
       "1   0.06  nota_4\n",
       "2   0.11  nota_3\n",
       "3   0.02  nota_5\n",
       "4   0.05  nota_4\n",
       "5   0.72  nota_1\n",
       "6   0.28  nota_2\n",
       "7   0.03  nota_5\n",
       "8   0.02  nota_5\n",
       "9   0.11  nota_3"
      ]
     },
     "execution_count": 718,
     "metadata": {},
     "output_type": "execute_result"
    }
   ],
   "source": [
    "df_train[['probs', 'notas']].head(10)"
   ]
  },
  {
   "cell_type": "markdown",
   "id": "f2fdcf5b-2ff7-4449-ab14-0116e5aa126a",
   "metadata": {},
   "source": [
    "Para ter certeza se fizemos a classificação em ordem correta, vamos tirar a média das probabilidades para cada nota."
   ]
  },
  {
   "cell_type": "code",
   "execution_count": 719,
   "id": "e709e847-8f59-4bf7-ac8a-b6766b49a39e",
   "metadata": {},
   "outputs": [
    {
     "data": {
      "text/plain": [
       "notas\n",
       "nota_5    0.017322\n",
       "nota_4    0.053439\n",
       "nota_3    0.113121\n",
       "nota_2    0.229660\n",
       "nota_1    0.588173\n",
       "Name: probs, dtype: float64"
      ]
     },
     "execution_count": 719,
     "metadata": {},
     "output_type": "execute_result"
    }
   ],
   "source": [
    "df_train.groupby('notas')['probs'].mean()"
   ]
  },
  {
   "cell_type": "markdown",
   "id": "9d909161-43b5-4e48-a522-7c68a173fc94",
   "metadata": {},
   "source": [
    "Perfeito, o cliente com a menor probabilidade de estar insatisfeito (ou maior probabilidade de estar satisfeito) está com a menor nota. Era exatamente essa a ideia."
   ]
  },
  {
   "cell_type": "markdown",
   "id": "9e3b53d6-9d1c-4721-a3b6-542417a184ce",
   "metadata": {},
   "source": [
    "[Sumário](#Sumário)"
   ]
  },
  {
   "cell_type": "markdown",
   "id": "f93b54e5-0e65-4dcd-855c-7e7d1f8a413f",
   "metadata": {},
   "source": [
    "### 3.2.2. Atribuindo as Notas na Base de Teste"
   ]
  },
  {
   "cell_type": "markdown",
   "id": "3a7949a7-5409-4aca-84c8-6d6474c7ff39",
   "metadata": {},
   "source": [
    "Primeiro, vamos adicionar os cuts no nosso arquivo pickle e adaptar nossa função..."
   ]
  },
  {
   "cell_type": "code",
   "execution_count": 725,
   "id": "fecee665-98e0-4f7c-90c9-9782a8f93b48",
   "metadata": {},
   "outputs": [],
   "source": [
    "full_pipe['cuts_notas'] = cuts\n",
    "full_pipe['label_notas'] = notas"
   ]
  },
  {
   "cell_type": "code",
   "execution_count": 726,
   "id": "24c30827-eaf0-4a6d-a99d-d915c4ebf634",
   "metadata": {},
   "outputs": [],
   "source": [
    "file_model = os.path.join(MODELS, 'model_v1.pkl')\n",
    "pickle.dump(full_pipe, open(file_model, 'wb'))"
   ]
  },
  {
   "cell_type": "code",
   "execution_count": 748,
   "id": "b0ffeab8-2386-4ffe-94ce-50a0dc55c84f",
   "metadata": {},
   "outputs": [],
   "source": [
    "def escora_base(df):\n",
    "    \n",
    "    # Carrega o modelo\n",
    "    model_archive = os.listdir(os.path.join(MODELS))[0] # Vai buscar o primeiro arquivo da pasta MODELS\n",
    "    filename = os.path.join(MODELS, model_archive)\n",
    "    loaded_model = pickle.load(open(filename, 'rb'))\n",
    "    \n",
    "    # Escora a base\n",
    "    X = df[loaded_model['cols']]\n",
    "    score = loaded_model['model'].predict_proba(X)[:, 1]\n",
    "    df['score'] = score\n",
    "    \n",
    "    # Calcula as notas\n",
    "    cuts = loaded_model['cuts_notas']\n",
    "    notas = loaded_model['label_notas']\n",
    "    df['nota'] = pd.cut(df['score'], bins=cuts, labels=notas, include_lowest=True)\n",
    "    try:\n",
    "        df['nota'] = df['nota'].cat.add_categories('nota_1')\n",
    "    except:\n",
    "        pass\n",
    "    df['nota'].fillna('nota_1', inplace=True)\n",
    "    \n",
    "    # Escreve a base com a data de hoje\n",
    "    today = datetime.date.today().strftime('%Y%m%d')\n",
    "    df_output_name = f'output_{today}.csv'\n",
    "    df.to_csv(os.path.join(DATA_OUTPUT, df_output_name), index=False)\n",
    "    \n",
    "    # return df"
   ]
  },
  {
   "cell_type": "markdown",
   "id": "ad7a69f9-0516-4e5f-b95c-9a149fc8ab27",
   "metadata": {},
   "source": [
    "Agora bora testar na base de teste (a do exercício, não a que criamos) para ver se funcionou..."
   ]
  },
  {
   "cell_type": "code",
   "execution_count": 749,
   "id": "56665648-5092-4ea2-9d7c-da08bfe005e5",
   "metadata": {},
   "outputs": [],
   "source": [
    "df_teste_ex = pd.read_csv(TEST_DATA)"
   ]
  },
  {
   "cell_type": "code",
   "execution_count": 750,
   "id": "53ab9efe-2bcc-480a-9781-5168c41df171",
   "metadata": {},
   "outputs": [
    {
     "data": {
      "text/html": [
       "<div>\n",
       "<style scoped>\n",
       "    .dataframe tbody tr th:only-of-type {\n",
       "        vertical-align: middle;\n",
       "    }\n",
       "\n",
       "    .dataframe tbody tr th {\n",
       "        vertical-align: top;\n",
       "    }\n",
       "\n",
       "    .dataframe thead th {\n",
       "        text-align: right;\n",
       "    }\n",
       "</style>\n",
       "<table border=\"1\" class=\"dataframe\">\n",
       "  <thead>\n",
       "    <tr style=\"text-align: right;\">\n",
       "      <th></th>\n",
       "      <th>ID</th>\n",
       "      <th>var3</th>\n",
       "      <th>var15</th>\n",
       "      <th>imp_ent_var16_ult1</th>\n",
       "      <th>imp_op_var39_comer_ult1</th>\n",
       "      <th>imp_op_var39_comer_ult3</th>\n",
       "      <th>imp_op_var40_comer_ult1</th>\n",
       "      <th>imp_op_var40_comer_ult3</th>\n",
       "      <th>imp_op_var40_efect_ult1</th>\n",
       "      <th>imp_op_var40_efect_ult3</th>\n",
       "      <th>imp_op_var40_ult1</th>\n",
       "      <th>imp_op_var41_comer_ult1</th>\n",
       "      <th>imp_op_var41_comer_ult3</th>\n",
       "      <th>imp_op_var41_efect_ult1</th>\n",
       "      <th>imp_op_var41_efect_ult3</th>\n",
       "      <th>...</th>\n",
       "      <th>saldo_medio_var17_ult1</th>\n",
       "      <th>saldo_medio_var17_ult3</th>\n",
       "      <th>saldo_medio_var29_hace2</th>\n",
       "      <th>saldo_medio_var29_hace3</th>\n",
       "      <th>saldo_medio_var29_ult1</th>\n",
       "      <th>saldo_medio_var29_ult3</th>\n",
       "      <th>saldo_medio_var33_hace2</th>\n",
       "      <th>saldo_medio_var33_hace3</th>\n",
       "      <th>saldo_medio_var33_ult1</th>\n",
       "      <th>saldo_medio_var33_ult3</th>\n",
       "      <th>saldo_medio_var44_hace2</th>\n",
       "      <th>saldo_medio_var44_hace3</th>\n",
       "      <th>saldo_medio_var44_ult1</th>\n",
       "      <th>saldo_medio_var44_ult3</th>\n",
       "      <th>var38</th>\n",
       "    </tr>\n",
       "  </thead>\n",
       "  <tbody>\n",
       "    <tr>\n",
       "      <th>0</th>\n",
       "      <td>2</td>\n",
       "      <td>2</td>\n",
       "      <td>32</td>\n",
       "      <td>0.0</td>\n",
       "      <td>0.0</td>\n",
       "      <td>0.0</td>\n",
       "      <td>0.0</td>\n",
       "      <td>0.0</td>\n",
       "      <td>0.0</td>\n",
       "      <td>0.0</td>\n",
       "      <td>0.0</td>\n",
       "      <td>0.0</td>\n",
       "      <td>0.0</td>\n",
       "      <td>0.0</td>\n",
       "      <td>0.0</td>\n",
       "      <td>...</td>\n",
       "      <td>0.0</td>\n",
       "      <td>0.0</td>\n",
       "      <td>0.0</td>\n",
       "      <td>0</td>\n",
       "      <td>0.0</td>\n",
       "      <td>0.0</td>\n",
       "      <td>0.0</td>\n",
       "      <td>0.0</td>\n",
       "      <td>0.0</td>\n",
       "      <td>0.0</td>\n",
       "      <td>0.0</td>\n",
       "      <td>0.0</td>\n",
       "      <td>0.0</td>\n",
       "      <td>0.0</td>\n",
       "      <td>40532.10</td>\n",
       "    </tr>\n",
       "    <tr>\n",
       "      <th>1</th>\n",
       "      <td>5</td>\n",
       "      <td>2</td>\n",
       "      <td>35</td>\n",
       "      <td>0.0</td>\n",
       "      <td>0.0</td>\n",
       "      <td>0.0</td>\n",
       "      <td>0.0</td>\n",
       "      <td>0.0</td>\n",
       "      <td>0.0</td>\n",
       "      <td>0.0</td>\n",
       "      <td>0.0</td>\n",
       "      <td>0.0</td>\n",
       "      <td>0.0</td>\n",
       "      <td>0.0</td>\n",
       "      <td>0.0</td>\n",
       "      <td>...</td>\n",
       "      <td>0.0</td>\n",
       "      <td>0.0</td>\n",
       "      <td>0.0</td>\n",
       "      <td>0</td>\n",
       "      <td>0.0</td>\n",
       "      <td>0.0</td>\n",
       "      <td>0.0</td>\n",
       "      <td>0.0</td>\n",
       "      <td>0.0</td>\n",
       "      <td>0.0</td>\n",
       "      <td>0.0</td>\n",
       "      <td>0.0</td>\n",
       "      <td>0.0</td>\n",
       "      <td>0.0</td>\n",
       "      <td>45486.72</td>\n",
       "    </tr>\n",
       "    <tr>\n",
       "      <th>2</th>\n",
       "      <td>6</td>\n",
       "      <td>2</td>\n",
       "      <td>23</td>\n",
       "      <td>0.0</td>\n",
       "      <td>0.0</td>\n",
       "      <td>0.0</td>\n",
       "      <td>0.0</td>\n",
       "      <td>0.0</td>\n",
       "      <td>0.0</td>\n",
       "      <td>0.0</td>\n",
       "      <td>0.0</td>\n",
       "      <td>0.0</td>\n",
       "      <td>0.0</td>\n",
       "      <td>60.0</td>\n",
       "      <td>60.0</td>\n",
       "      <td>...</td>\n",
       "      <td>0.0</td>\n",
       "      <td>0.0</td>\n",
       "      <td>0.0</td>\n",
       "      <td>0</td>\n",
       "      <td>0.0</td>\n",
       "      <td>0.0</td>\n",
       "      <td>0.0</td>\n",
       "      <td>0.0</td>\n",
       "      <td>0.0</td>\n",
       "      <td>0.0</td>\n",
       "      <td>0.0</td>\n",
       "      <td>0.0</td>\n",
       "      <td>0.0</td>\n",
       "      <td>0.0</td>\n",
       "      <td>46993.95</td>\n",
       "    </tr>\n",
       "    <tr>\n",
       "      <th>3</th>\n",
       "      <td>7</td>\n",
       "      <td>2</td>\n",
       "      <td>24</td>\n",
       "      <td>0.0</td>\n",
       "      <td>0.0</td>\n",
       "      <td>0.0</td>\n",
       "      <td>0.0</td>\n",
       "      <td>0.0</td>\n",
       "      <td>0.0</td>\n",
       "      <td>0.0</td>\n",
       "      <td>0.0</td>\n",
       "      <td>0.0</td>\n",
       "      <td>0.0</td>\n",
       "      <td>0.0</td>\n",
       "      <td>0.0</td>\n",
       "      <td>...</td>\n",
       "      <td>0.0</td>\n",
       "      <td>0.0</td>\n",
       "      <td>0.0</td>\n",
       "      <td>0</td>\n",
       "      <td>0.0</td>\n",
       "      <td>0.0</td>\n",
       "      <td>0.0</td>\n",
       "      <td>0.0</td>\n",
       "      <td>0.0</td>\n",
       "      <td>0.0</td>\n",
       "      <td>0.0</td>\n",
       "      <td>0.0</td>\n",
       "      <td>0.0</td>\n",
       "      <td>0.0</td>\n",
       "      <td>187898.61</td>\n",
       "    </tr>\n",
       "    <tr>\n",
       "      <th>4</th>\n",
       "      <td>9</td>\n",
       "      <td>2</td>\n",
       "      <td>23</td>\n",
       "      <td>0.0</td>\n",
       "      <td>0.0</td>\n",
       "      <td>0.0</td>\n",
       "      <td>0.0</td>\n",
       "      <td>0.0</td>\n",
       "      <td>0.0</td>\n",
       "      <td>0.0</td>\n",
       "      <td>0.0</td>\n",
       "      <td>0.0</td>\n",
       "      <td>0.0</td>\n",
       "      <td>0.0</td>\n",
       "      <td>0.0</td>\n",
       "      <td>...</td>\n",
       "      <td>0.0</td>\n",
       "      <td>0.0</td>\n",
       "      <td>0.0</td>\n",
       "      <td>0</td>\n",
       "      <td>0.0</td>\n",
       "      <td>0.0</td>\n",
       "      <td>0.0</td>\n",
       "      <td>0.0</td>\n",
       "      <td>0.0</td>\n",
       "      <td>0.0</td>\n",
       "      <td>0.0</td>\n",
       "      <td>0.0</td>\n",
       "      <td>0.0</td>\n",
       "      <td>0.0</td>\n",
       "      <td>73649.73</td>\n",
       "    </tr>\n",
       "  </tbody>\n",
       "</table>\n",
       "<p>5 rows × 370 columns</p>\n",
       "</div>"
      ],
      "text/plain": [
       "   ID  var3  var15  imp_ent_var16_ult1  imp_op_var39_comer_ult1  \\\n",
       "0   2     2     32                 0.0                      0.0   \n",
       "1   5     2     35                 0.0                      0.0   \n",
       "2   6     2     23                 0.0                      0.0   \n",
       "3   7     2     24                 0.0                      0.0   \n",
       "4   9     2     23                 0.0                      0.0   \n",
       "\n",
       "   imp_op_var39_comer_ult3  imp_op_var40_comer_ult1  imp_op_var40_comer_ult3  \\\n",
       "0                      0.0                      0.0                      0.0   \n",
       "1                      0.0                      0.0                      0.0   \n",
       "2                      0.0                      0.0                      0.0   \n",
       "3                      0.0                      0.0                      0.0   \n",
       "4                      0.0                      0.0                      0.0   \n",
       "\n",
       "   imp_op_var40_efect_ult1  imp_op_var40_efect_ult3  imp_op_var40_ult1  \\\n",
       "0                      0.0                      0.0                0.0   \n",
       "1                      0.0                      0.0                0.0   \n",
       "2                      0.0                      0.0                0.0   \n",
       "3                      0.0                      0.0                0.0   \n",
       "4                      0.0                      0.0                0.0   \n",
       "\n",
       "   imp_op_var41_comer_ult1  imp_op_var41_comer_ult3  imp_op_var41_efect_ult1  \\\n",
       "0                      0.0                      0.0                      0.0   \n",
       "1                      0.0                      0.0                      0.0   \n",
       "2                      0.0                      0.0                     60.0   \n",
       "3                      0.0                      0.0                      0.0   \n",
       "4                      0.0                      0.0                      0.0   \n",
       "\n",
       "   imp_op_var41_efect_ult3  ...  saldo_medio_var17_ult1  \\\n",
       "0                      0.0  ...                     0.0   \n",
       "1                      0.0  ...                     0.0   \n",
       "2                     60.0  ...                     0.0   \n",
       "3                      0.0  ...                     0.0   \n",
       "4                      0.0  ...                     0.0   \n",
       "\n",
       "   saldo_medio_var17_ult3  saldo_medio_var29_hace2  saldo_medio_var29_hace3  \\\n",
       "0                     0.0                      0.0                        0   \n",
       "1                     0.0                      0.0                        0   \n",
       "2                     0.0                      0.0                        0   \n",
       "3                     0.0                      0.0                        0   \n",
       "4                     0.0                      0.0                        0   \n",
       "\n",
       "   saldo_medio_var29_ult1  saldo_medio_var29_ult3  saldo_medio_var33_hace2  \\\n",
       "0                     0.0                     0.0                      0.0   \n",
       "1                     0.0                     0.0                      0.0   \n",
       "2                     0.0                     0.0                      0.0   \n",
       "3                     0.0                     0.0                      0.0   \n",
       "4                     0.0                     0.0                      0.0   \n",
       "\n",
       "   saldo_medio_var33_hace3  saldo_medio_var33_ult1  saldo_medio_var33_ult3  \\\n",
       "0                      0.0                     0.0                     0.0   \n",
       "1                      0.0                     0.0                     0.0   \n",
       "2                      0.0                     0.0                     0.0   \n",
       "3                      0.0                     0.0                     0.0   \n",
       "4                      0.0                     0.0                     0.0   \n",
       "\n",
       "   saldo_medio_var44_hace2  saldo_medio_var44_hace3  saldo_medio_var44_ult1  \\\n",
       "0                      0.0                      0.0                     0.0   \n",
       "1                      0.0                      0.0                     0.0   \n",
       "2                      0.0                      0.0                     0.0   \n",
       "3                      0.0                      0.0                     0.0   \n",
       "4                      0.0                      0.0                     0.0   \n",
       "\n",
       "   saldo_medio_var44_ult3      var38  \n",
       "0                     0.0   40532.10  \n",
       "1                     0.0   45486.72  \n",
       "2                     0.0   46993.95  \n",
       "3                     0.0  187898.61  \n",
       "4                     0.0   73649.73  \n",
       "\n",
       "[5 rows x 370 columns]"
      ]
     },
     "execution_count": 750,
     "metadata": {},
     "output_type": "execute_result"
    }
   ],
   "source": [
    "df_teste_ex.head()"
   ]
  },
  {
   "cell_type": "markdown",
   "id": "5176c6a8-eea3-452f-a75c-b3011f13f3e7",
   "metadata": {},
   "source": [
    "Boa... note que ela realmente não possui a TARGET, então é a base de teste do exercício mesmo. Bora escorar ela..."
   ]
  },
  {
   "cell_type": "code",
   "execution_count": 751,
   "id": "4be2795e-7045-4de9-82c5-5b90bce9ea46",
   "metadata": {},
   "outputs": [],
   "source": [
    "escora_base(df_teste_ex) # Não retorna nada, apenas escreve a base na pasta de output"
   ]
  },
  {
   "cell_type": "markdown",
   "id": "2345cf09-e9c3-4e8d-a543-6b22bc343ad1",
   "metadata": {},
   "source": [
    "Prontin... Agora vamos ler a base que a função acima acabou de escorar e ver se deu tudo certo..."
   ]
  },
  {
   "cell_type": "code",
   "execution_count": 752,
   "id": "3d28df37-644b-4222-804b-a8b4cfe03e97",
   "metadata": {},
   "outputs": [],
   "source": [
    "df_output_notas = pd.read_csv(os.path.join(DATA_OUTPUT, 'output_20220128.csv'))"
   ]
  },
  {
   "cell_type": "code",
   "execution_count": 753,
   "id": "6fab9ded-2750-48f7-b9e7-732863d354c0",
   "metadata": {},
   "outputs": [
    {
     "data": {
      "text/html": [
       "<div>\n",
       "<style scoped>\n",
       "    .dataframe tbody tr th:only-of-type {\n",
       "        vertical-align: middle;\n",
       "    }\n",
       "\n",
       "    .dataframe tbody tr th {\n",
       "        vertical-align: top;\n",
       "    }\n",
       "\n",
       "    .dataframe thead th {\n",
       "        text-align: right;\n",
       "    }\n",
       "</style>\n",
       "<table border=\"1\" class=\"dataframe\">\n",
       "  <thead>\n",
       "    <tr style=\"text-align: right;\">\n",
       "      <th></th>\n",
       "      <th>ID</th>\n",
       "      <th>var3</th>\n",
       "      <th>var15</th>\n",
       "      <th>imp_ent_var16_ult1</th>\n",
       "      <th>imp_op_var39_comer_ult1</th>\n",
       "      <th>imp_op_var39_comer_ult3</th>\n",
       "      <th>imp_op_var40_comer_ult1</th>\n",
       "      <th>imp_op_var40_comer_ult3</th>\n",
       "      <th>imp_op_var40_efect_ult1</th>\n",
       "      <th>imp_op_var40_efect_ult3</th>\n",
       "      <th>imp_op_var40_ult1</th>\n",
       "      <th>imp_op_var41_comer_ult1</th>\n",
       "      <th>imp_op_var41_comer_ult3</th>\n",
       "      <th>imp_op_var41_efect_ult1</th>\n",
       "      <th>imp_op_var41_efect_ult3</th>\n",
       "      <th>...</th>\n",
       "      <th>saldo_medio_var29_hace2</th>\n",
       "      <th>saldo_medio_var29_hace3</th>\n",
       "      <th>saldo_medio_var29_ult1</th>\n",
       "      <th>saldo_medio_var29_ult3</th>\n",
       "      <th>saldo_medio_var33_hace2</th>\n",
       "      <th>saldo_medio_var33_hace3</th>\n",
       "      <th>saldo_medio_var33_ult1</th>\n",
       "      <th>saldo_medio_var33_ult3</th>\n",
       "      <th>saldo_medio_var44_hace2</th>\n",
       "      <th>saldo_medio_var44_hace3</th>\n",
       "      <th>saldo_medio_var44_ult1</th>\n",
       "      <th>saldo_medio_var44_ult3</th>\n",
       "      <th>var38</th>\n",
       "      <th>score</th>\n",
       "      <th>nota</th>\n",
       "    </tr>\n",
       "  </thead>\n",
       "  <tbody>\n",
       "    <tr>\n",
       "      <th>0</th>\n",
       "      <td>2</td>\n",
       "      <td>2</td>\n",
       "      <td>32</td>\n",
       "      <td>0.0</td>\n",
       "      <td>0.0</td>\n",
       "      <td>0.0</td>\n",
       "      <td>0.0</td>\n",
       "      <td>0.0</td>\n",
       "      <td>0.0</td>\n",
       "      <td>0.0</td>\n",
       "      <td>0.0</td>\n",
       "      <td>0.0</td>\n",
       "      <td>0.0</td>\n",
       "      <td>0.0</td>\n",
       "      <td>0.0</td>\n",
       "      <td>...</td>\n",
       "      <td>0.0</td>\n",
       "      <td>0</td>\n",
       "      <td>0.0</td>\n",
       "      <td>0.0</td>\n",
       "      <td>0.0</td>\n",
       "      <td>0.0</td>\n",
       "      <td>0.0</td>\n",
       "      <td>0.0</td>\n",
       "      <td>0.0</td>\n",
       "      <td>0.0</td>\n",
       "      <td>0.0</td>\n",
       "      <td>0.0</td>\n",
       "      <td>40532.10</td>\n",
       "      <td>0.297239</td>\n",
       "      <td>nota_2</td>\n",
       "    </tr>\n",
       "    <tr>\n",
       "      <th>1</th>\n",
       "      <td>5</td>\n",
       "      <td>2</td>\n",
       "      <td>35</td>\n",
       "      <td>0.0</td>\n",
       "      <td>0.0</td>\n",
       "      <td>0.0</td>\n",
       "      <td>0.0</td>\n",
       "      <td>0.0</td>\n",
       "      <td>0.0</td>\n",
       "      <td>0.0</td>\n",
       "      <td>0.0</td>\n",
       "      <td>0.0</td>\n",
       "      <td>0.0</td>\n",
       "      <td>0.0</td>\n",
       "      <td>0.0</td>\n",
       "      <td>...</td>\n",
       "      <td>0.0</td>\n",
       "      <td>0</td>\n",
       "      <td>0.0</td>\n",
       "      <td>0.0</td>\n",
       "      <td>0.0</td>\n",
       "      <td>0.0</td>\n",
       "      <td>0.0</td>\n",
       "      <td>0.0</td>\n",
       "      <td>0.0</td>\n",
       "      <td>0.0</td>\n",
       "      <td>0.0</td>\n",
       "      <td>0.0</td>\n",
       "      <td>45486.72</td>\n",
       "      <td>0.196125</td>\n",
       "      <td>nota_2</td>\n",
       "    </tr>\n",
       "    <tr>\n",
       "      <th>2</th>\n",
       "      <td>6</td>\n",
       "      <td>2</td>\n",
       "      <td>23</td>\n",
       "      <td>0.0</td>\n",
       "      <td>0.0</td>\n",
       "      <td>0.0</td>\n",
       "      <td>0.0</td>\n",
       "      <td>0.0</td>\n",
       "      <td>0.0</td>\n",
       "      <td>0.0</td>\n",
       "      <td>0.0</td>\n",
       "      <td>0.0</td>\n",
       "      <td>0.0</td>\n",
       "      <td>60.0</td>\n",
       "      <td>60.0</td>\n",
       "      <td>...</td>\n",
       "      <td>0.0</td>\n",
       "      <td>0</td>\n",
       "      <td>0.0</td>\n",
       "      <td>0.0</td>\n",
       "      <td>0.0</td>\n",
       "      <td>0.0</td>\n",
       "      <td>0.0</td>\n",
       "      <td>0.0</td>\n",
       "      <td>0.0</td>\n",
       "      <td>0.0</td>\n",
       "      <td>0.0</td>\n",
       "      <td>0.0</td>\n",
       "      <td>46993.95</td>\n",
       "      <td>0.019511</td>\n",
       "      <td>nota_5</td>\n",
       "    </tr>\n",
       "    <tr>\n",
       "      <th>3</th>\n",
       "      <td>7</td>\n",
       "      <td>2</td>\n",
       "      <td>24</td>\n",
       "      <td>0.0</td>\n",
       "      <td>0.0</td>\n",
       "      <td>0.0</td>\n",
       "      <td>0.0</td>\n",
       "      <td>0.0</td>\n",
       "      <td>0.0</td>\n",
       "      <td>0.0</td>\n",
       "      <td>0.0</td>\n",
       "      <td>0.0</td>\n",
       "      <td>0.0</td>\n",
       "      <td>0.0</td>\n",
       "      <td>0.0</td>\n",
       "      <td>...</td>\n",
       "      <td>0.0</td>\n",
       "      <td>0</td>\n",
       "      <td>0.0</td>\n",
       "      <td>0.0</td>\n",
       "      <td>0.0</td>\n",
       "      <td>0.0</td>\n",
       "      <td>0.0</td>\n",
       "      <td>0.0</td>\n",
       "      <td>0.0</td>\n",
       "      <td>0.0</td>\n",
       "      <td>0.0</td>\n",
       "      <td>0.0</td>\n",
       "      <td>187898.61</td>\n",
       "      <td>0.056449</td>\n",
       "      <td>nota_4</td>\n",
       "    </tr>\n",
       "    <tr>\n",
       "      <th>4</th>\n",
       "      <td>9</td>\n",
       "      <td>2</td>\n",
       "      <td>23</td>\n",
       "      <td>0.0</td>\n",
       "      <td>0.0</td>\n",
       "      <td>0.0</td>\n",
       "      <td>0.0</td>\n",
       "      <td>0.0</td>\n",
       "      <td>0.0</td>\n",
       "      <td>0.0</td>\n",
       "      <td>0.0</td>\n",
       "      <td>0.0</td>\n",
       "      <td>0.0</td>\n",
       "      <td>0.0</td>\n",
       "      <td>0.0</td>\n",
       "      <td>...</td>\n",
       "      <td>0.0</td>\n",
       "      <td>0</td>\n",
       "      <td>0.0</td>\n",
       "      <td>0.0</td>\n",
       "      <td>0.0</td>\n",
       "      <td>0.0</td>\n",
       "      <td>0.0</td>\n",
       "      <td>0.0</td>\n",
       "      <td>0.0</td>\n",
       "      <td>0.0</td>\n",
       "      <td>0.0</td>\n",
       "      <td>0.0</td>\n",
       "      <td>73649.73</td>\n",
       "      <td>0.007608</td>\n",
       "      <td>nota_5</td>\n",
       "    </tr>\n",
       "  </tbody>\n",
       "</table>\n",
       "<p>5 rows × 372 columns</p>\n",
       "</div>"
      ],
      "text/plain": [
       "   ID  var3  var15  imp_ent_var16_ult1  imp_op_var39_comer_ult1  \\\n",
       "0   2     2     32                 0.0                      0.0   \n",
       "1   5     2     35                 0.0                      0.0   \n",
       "2   6     2     23                 0.0                      0.0   \n",
       "3   7     2     24                 0.0                      0.0   \n",
       "4   9     2     23                 0.0                      0.0   \n",
       "\n",
       "   imp_op_var39_comer_ult3  imp_op_var40_comer_ult1  imp_op_var40_comer_ult3  \\\n",
       "0                      0.0                      0.0                      0.0   \n",
       "1                      0.0                      0.0                      0.0   \n",
       "2                      0.0                      0.0                      0.0   \n",
       "3                      0.0                      0.0                      0.0   \n",
       "4                      0.0                      0.0                      0.0   \n",
       "\n",
       "   imp_op_var40_efect_ult1  imp_op_var40_efect_ult3  imp_op_var40_ult1  \\\n",
       "0                      0.0                      0.0                0.0   \n",
       "1                      0.0                      0.0                0.0   \n",
       "2                      0.0                      0.0                0.0   \n",
       "3                      0.0                      0.0                0.0   \n",
       "4                      0.0                      0.0                0.0   \n",
       "\n",
       "   imp_op_var41_comer_ult1  imp_op_var41_comer_ult3  imp_op_var41_efect_ult1  \\\n",
       "0                      0.0                      0.0                      0.0   \n",
       "1                      0.0                      0.0                      0.0   \n",
       "2                      0.0                      0.0                     60.0   \n",
       "3                      0.0                      0.0                      0.0   \n",
       "4                      0.0                      0.0                      0.0   \n",
       "\n",
       "   imp_op_var41_efect_ult3  ...  saldo_medio_var29_hace2  \\\n",
       "0                      0.0  ...                      0.0   \n",
       "1                      0.0  ...                      0.0   \n",
       "2                     60.0  ...                      0.0   \n",
       "3                      0.0  ...                      0.0   \n",
       "4                      0.0  ...                      0.0   \n",
       "\n",
       "   saldo_medio_var29_hace3  saldo_medio_var29_ult1  saldo_medio_var29_ult3  \\\n",
       "0                        0                     0.0                     0.0   \n",
       "1                        0                     0.0                     0.0   \n",
       "2                        0                     0.0                     0.0   \n",
       "3                        0                     0.0                     0.0   \n",
       "4                        0                     0.0                     0.0   \n",
       "\n",
       "   saldo_medio_var33_hace2  saldo_medio_var33_hace3  saldo_medio_var33_ult1  \\\n",
       "0                      0.0                      0.0                     0.0   \n",
       "1                      0.0                      0.0                     0.0   \n",
       "2                      0.0                      0.0                     0.0   \n",
       "3                      0.0                      0.0                     0.0   \n",
       "4                      0.0                      0.0                     0.0   \n",
       "\n",
       "   saldo_medio_var33_ult3  saldo_medio_var44_hace2  saldo_medio_var44_hace3  \\\n",
       "0                     0.0                      0.0                      0.0   \n",
       "1                     0.0                      0.0                      0.0   \n",
       "2                     0.0                      0.0                      0.0   \n",
       "3                     0.0                      0.0                      0.0   \n",
       "4                     0.0                      0.0                      0.0   \n",
       "\n",
       "   saldo_medio_var44_ult1  saldo_medio_var44_ult3      var38     score    nota  \n",
       "0                     0.0                     0.0   40532.10  0.297239  nota_2  \n",
       "1                     0.0                     0.0   45486.72  0.196125  nota_2  \n",
       "2                     0.0                     0.0   46993.95  0.019511  nota_5  \n",
       "3                     0.0                     0.0  187898.61  0.056449  nota_4  \n",
       "4                     0.0                     0.0   73649.73  0.007608  nota_5  \n",
       "\n",
       "[5 rows x 372 columns]"
      ]
     },
     "execution_count": 753,
     "metadata": {},
     "output_type": "execute_result"
    }
   ],
   "source": [
    "df_output_notas.head()"
   ]
  },
  {
   "cell_type": "markdown",
   "id": "4ab95918-ab2e-4050-bfc3-f67a07ae4f33",
   "metadata": {},
   "source": [
    "Show... A base de output está correta. Possui a probabilidade de o cliente estar insatisfeito e sua respectiva nota. Agora, o processo que vem depois desta escoragem poderá filtrar os clientes com 'nota_1' e enviá-los para a ação de retenção."
   ]
  },
  {
   "cell_type": "code",
   "execution_count": 755,
   "id": "23d53af0-c9ff-478c-97e8-5265c3e0379f",
   "metadata": {},
   "outputs": [
    {
     "data": {
      "text/plain": [
       "nota_5    16929\n",
       "nota_3    16532\n",
       "nota_2    15960\n",
       "nota_4    15080\n",
       "nota_1    11317\n",
       "Name: nota, dtype: int64"
      ]
     },
     "execution_count": 755,
     "metadata": {},
     "output_type": "execute_result"
    }
   ],
   "source": [
    "df_output_notas['nota'].value_counts()"
   ]
  },
  {
   "cell_type": "code",
   "execution_count": 756,
   "id": "b91efd8c-4202-44ff-888c-725a8e00b33d",
   "metadata": {},
   "outputs": [
    {
     "data": {
      "text/plain": [
       "nota_5    0.223285\n",
       "nota_3    0.218048\n",
       "nota_2    0.210504\n",
       "nota_4    0.198897\n",
       "nota_1    0.149265\n",
       "Name: nota, dtype: float64"
      ]
     },
     "execution_count": 756,
     "metadata": {},
     "output_type": "execute_result"
    }
   ],
   "source": [
    "df_output_notas['nota'].value_counts(normalize=True)"
   ]
  },
  {
   "cell_type": "markdown",
   "id": "5590870d-d1ff-4e49-9704-8d1792e1575a",
   "metadata": {},
   "source": [
    "Vemos aqui que na nossa base de produção (a de 'teste' do exercício), aproximadamente 15% dos clientes, equivalente a cerca de 11 mil clientes, receberá a ação de retenção."
   ]
  },
  {
   "cell_type": "markdown",
   "id": "733c773a-c919-408c-901d-a025d14ecc18",
   "metadata": {},
   "source": [
    "[Sumário](#Sumário)"
   ]
  },
  {
   "cell_type": "markdown",
   "id": "ab50e9ac-dd9c-4354-b8e3-26ae977bece0",
   "metadata": {},
   "source": [
    "### 3.2.3. Calculando o Benefício Esperado da Ação de Retenção"
   ]
  },
  {
   "cell_type": "markdown",
   "id": "076f43b8-46f0-4db1-ae4f-ae4a6c89356d",
   "metadata": {},
   "source": [
    "Vamos ver qual o resultado dessa nossa estratégia de corte na nossa base de teste, para calcular o benefício esperado da nossa ação..."
   ]
  },
  {
   "cell_type": "markdown",
   "id": "6cd07005-7d72-41aa-9007-f924767b165b",
   "metadata": {},
   "source": [
    "Para isso, vamos adaptar nossa função abaixo para retornar o resultado, e não escrevê-la em uma pasta."
   ]
  },
  {
   "cell_type": "code",
   "execution_count": 758,
   "id": "bff1f4d2-e02d-4b98-a488-975b3ea61bdc",
   "metadata": {},
   "outputs": [],
   "source": [
    "def escora_base_retorna(df):\n",
    "    \n",
    "    # Carrega o modelo\n",
    "    model_archive = os.listdir(os.path.join(MODELS))[0] # Vai buscar o primeiro arquivo da pasta MODELS\n",
    "    filename = os.path.join(MODELS, model_archive)\n",
    "    loaded_model = pickle.load(open(filename, 'rb'))\n",
    "    \n",
    "    # Escora a base\n",
    "    X = df[loaded_model['cols']]\n",
    "    score = loaded_model['model'].predict_proba(X)[:, 1]\n",
    "    df['score'] = score\n",
    "    \n",
    "    # Calcula as notas\n",
    "    cuts = loaded_model['cuts_notas']\n",
    "    notas = loaded_model['label_notas']\n",
    "    df['nota'] = pd.cut(df['score'], bins=cuts, labels=notas, include_lowest=True)\n",
    "    try:\n",
    "        df['nota'] = df['nota'].cat.add_categories('nota_1')\n",
    "    except:\n",
    "        pass\n",
    "    df['nota'].fillna('nota_1', inplace=True)\n",
    "    \n",
    "    # Escreve a base com a data de hoje\n",
    "    # today = datetime.date.today().strftime('%Y%m%d')\n",
    "    # df_output_name = f'output_{today}.csv'\n",
    "    # df.to_csv(os.path.join(DATA_OUTPUT, df_output_name), index=False)\n",
    "    \n",
    "    return df"
   ]
  },
  {
   "cell_type": "code",
   "execution_count": 759,
   "id": "d3a867a9-97d8-41e6-9258-f9a05619d339",
   "metadata": {},
   "outputs": [],
   "source": [
    "df_resultado = escora_base_retorna(df=df_test)"
   ]
  },
  {
   "cell_type": "code",
   "execution_count": 760,
   "id": "215be229-0d47-4622-ba84-4f405079d290",
   "metadata": {},
   "outputs": [
    {
     "data": {
      "text/html": [
       "<div>\n",
       "<style scoped>\n",
       "    .dataframe tbody tr th:only-of-type {\n",
       "        vertical-align: middle;\n",
       "    }\n",
       "\n",
       "    .dataframe tbody tr th {\n",
       "        vertical-align: top;\n",
       "    }\n",
       "\n",
       "    .dataframe thead th {\n",
       "        text-align: right;\n",
       "    }\n",
       "</style>\n",
       "<table border=\"1\" class=\"dataframe\">\n",
       "  <thead>\n",
       "    <tr style=\"text-align: right;\">\n",
       "      <th></th>\n",
       "      <th>ID</th>\n",
       "      <th>var3</th>\n",
       "      <th>var15</th>\n",
       "      <th>imp_ent_var16_ult1</th>\n",
       "      <th>imp_op_var39_comer_ult1</th>\n",
       "      <th>imp_op_var39_comer_ult3</th>\n",
       "      <th>imp_op_var40_comer_ult1</th>\n",
       "      <th>imp_op_var40_comer_ult3</th>\n",
       "      <th>imp_op_var40_efect_ult1</th>\n",
       "      <th>imp_op_var40_efect_ult3</th>\n",
       "      <th>imp_op_var40_ult1</th>\n",
       "      <th>imp_op_var41_comer_ult1</th>\n",
       "      <th>imp_op_var41_comer_ult3</th>\n",
       "      <th>imp_op_var41_efect_ult1</th>\n",
       "      <th>imp_op_var41_efect_ult3</th>\n",
       "      <th>...</th>\n",
       "      <th>saldo_medio_var29_hace3</th>\n",
       "      <th>saldo_medio_var29_ult1</th>\n",
       "      <th>saldo_medio_var29_ult3</th>\n",
       "      <th>saldo_medio_var33_hace2</th>\n",
       "      <th>saldo_medio_var33_hace3</th>\n",
       "      <th>saldo_medio_var33_ult1</th>\n",
       "      <th>saldo_medio_var33_ult3</th>\n",
       "      <th>saldo_medio_var44_hace2</th>\n",
       "      <th>saldo_medio_var44_hace3</th>\n",
       "      <th>saldo_medio_var44_ult1</th>\n",
       "      <th>saldo_medio_var44_ult3</th>\n",
       "      <th>var38</th>\n",
       "      <th>TARGET</th>\n",
       "      <th>score</th>\n",
       "      <th>nota</th>\n",
       "    </tr>\n",
       "  </thead>\n",
       "  <tbody>\n",
       "    <tr>\n",
       "      <th>0</th>\n",
       "      <td>14836</td>\n",
       "      <td>2</td>\n",
       "      <td>24</td>\n",
       "      <td>0.0</td>\n",
       "      <td>0.00</td>\n",
       "      <td>0.00</td>\n",
       "      <td>0.0</td>\n",
       "      <td>0.0</td>\n",
       "      <td>0.0</td>\n",
       "      <td>0.0</td>\n",
       "      <td>0.0</td>\n",
       "      <td>0.00</td>\n",
       "      <td>0.00</td>\n",
       "      <td>0.0</td>\n",
       "      <td>0.0</td>\n",
       "      <td>...</td>\n",
       "      <td>0.0</td>\n",
       "      <td>0.0</td>\n",
       "      <td>0.0</td>\n",
       "      <td>0.0</td>\n",
       "      <td>0.0</td>\n",
       "      <td>0.0</td>\n",
       "      <td>0.0</td>\n",
       "      <td>0.0</td>\n",
       "      <td>0.0</td>\n",
       "      <td>0.0</td>\n",
       "      <td>0.0</td>\n",
       "      <td>73806.810000</td>\n",
       "      <td>0</td>\n",
       "      <td>0.029534</td>\n",
       "      <td>nota_5</td>\n",
       "    </tr>\n",
       "    <tr>\n",
       "      <th>1</th>\n",
       "      <td>141428</td>\n",
       "      <td>2</td>\n",
       "      <td>23</td>\n",
       "      <td>0.0</td>\n",
       "      <td>0.00</td>\n",
       "      <td>0.00</td>\n",
       "      <td>0.0</td>\n",
       "      <td>0.0</td>\n",
       "      <td>0.0</td>\n",
       "      <td>0.0</td>\n",
       "      <td>0.0</td>\n",
       "      <td>0.00</td>\n",
       "      <td>0.00</td>\n",
       "      <td>0.0</td>\n",
       "      <td>0.0</td>\n",
       "      <td>...</td>\n",
       "      <td>0.0</td>\n",
       "      <td>0.0</td>\n",
       "      <td>0.0</td>\n",
       "      <td>0.0</td>\n",
       "      <td>0.0</td>\n",
       "      <td>0.0</td>\n",
       "      <td>0.0</td>\n",
       "      <td>0.0</td>\n",
       "      <td>0.0</td>\n",
       "      <td>0.0</td>\n",
       "      <td>0.0</td>\n",
       "      <td>54606.780000</td>\n",
       "      <td>0</td>\n",
       "      <td>0.131123</td>\n",
       "      <td>nota_3</td>\n",
       "    </tr>\n",
       "    <tr>\n",
       "      <th>2</th>\n",
       "      <td>143561</td>\n",
       "      <td>2</td>\n",
       "      <td>23</td>\n",
       "      <td>0.0</td>\n",
       "      <td>0.00</td>\n",
       "      <td>0.00</td>\n",
       "      <td>0.0</td>\n",
       "      <td>0.0</td>\n",
       "      <td>0.0</td>\n",
       "      <td>0.0</td>\n",
       "      <td>0.0</td>\n",
       "      <td>0.00</td>\n",
       "      <td>0.00</td>\n",
       "      <td>0.0</td>\n",
       "      <td>0.0</td>\n",
       "      <td>...</td>\n",
       "      <td>0.0</td>\n",
       "      <td>0.0</td>\n",
       "      <td>0.0</td>\n",
       "      <td>0.0</td>\n",
       "      <td>0.0</td>\n",
       "      <td>0.0</td>\n",
       "      <td>0.0</td>\n",
       "      <td>0.0</td>\n",
       "      <td>0.0</td>\n",
       "      <td>0.0</td>\n",
       "      <td>0.0</td>\n",
       "      <td>117310.979016</td>\n",
       "      <td>0</td>\n",
       "      <td>0.005700</td>\n",
       "      <td>nota_5</td>\n",
       "    </tr>\n",
       "    <tr>\n",
       "      <th>3</th>\n",
       "      <td>29072</td>\n",
       "      <td>2</td>\n",
       "      <td>30</td>\n",
       "      <td>30.0</td>\n",
       "      <td>22.77</td>\n",
       "      <td>109.59</td>\n",
       "      <td>0.0</td>\n",
       "      <td>0.0</td>\n",
       "      <td>0.0</td>\n",
       "      <td>0.0</td>\n",
       "      <td>0.0</td>\n",
       "      <td>22.77</td>\n",
       "      <td>109.59</td>\n",
       "      <td>0.0</td>\n",
       "      <td>0.0</td>\n",
       "      <td>...</td>\n",
       "      <td>0.0</td>\n",
       "      <td>0.0</td>\n",
       "      <td>0.0</td>\n",
       "      <td>0.0</td>\n",
       "      <td>0.0</td>\n",
       "      <td>0.0</td>\n",
       "      <td>0.0</td>\n",
       "      <td>0.0</td>\n",
       "      <td>0.0</td>\n",
       "      <td>0.0</td>\n",
       "      <td>0.0</td>\n",
       "      <td>117310.979016</td>\n",
       "      <td>0</td>\n",
       "      <td>0.354038</td>\n",
       "      <td>nota_1</td>\n",
       "    </tr>\n",
       "    <tr>\n",
       "      <th>4</th>\n",
       "      <td>99366</td>\n",
       "      <td>2</td>\n",
       "      <td>24</td>\n",
       "      <td>0.0</td>\n",
       "      <td>0.00</td>\n",
       "      <td>0.00</td>\n",
       "      <td>0.0</td>\n",
       "      <td>0.0</td>\n",
       "      <td>0.0</td>\n",
       "      <td>0.0</td>\n",
       "      <td>0.0</td>\n",
       "      <td>0.00</td>\n",
       "      <td>0.00</td>\n",
       "      <td>0.0</td>\n",
       "      <td>0.0</td>\n",
       "      <td>...</td>\n",
       "      <td>0.0</td>\n",
       "      <td>0.0</td>\n",
       "      <td>0.0</td>\n",
       "      <td>0.0</td>\n",
       "      <td>0.0</td>\n",
       "      <td>0.0</td>\n",
       "      <td>0.0</td>\n",
       "      <td>0.0</td>\n",
       "      <td>0.0</td>\n",
       "      <td>0.0</td>\n",
       "      <td>0.0</td>\n",
       "      <td>117310.979016</td>\n",
       "      <td>0</td>\n",
       "      <td>0.035913</td>\n",
       "      <td>nota_4</td>\n",
       "    </tr>\n",
       "  </tbody>\n",
       "</table>\n",
       "<p>5 rows × 373 columns</p>\n",
       "</div>"
      ],
      "text/plain": [
       "       ID  var3  var15  imp_ent_var16_ult1  imp_op_var39_comer_ult1  \\\n",
       "0   14836     2     24                 0.0                     0.00   \n",
       "1  141428     2     23                 0.0                     0.00   \n",
       "2  143561     2     23                 0.0                     0.00   \n",
       "3   29072     2     30                30.0                    22.77   \n",
       "4   99366     2     24                 0.0                     0.00   \n",
       "\n",
       "   imp_op_var39_comer_ult3  imp_op_var40_comer_ult1  imp_op_var40_comer_ult3  \\\n",
       "0                     0.00                      0.0                      0.0   \n",
       "1                     0.00                      0.0                      0.0   \n",
       "2                     0.00                      0.0                      0.0   \n",
       "3                   109.59                      0.0                      0.0   \n",
       "4                     0.00                      0.0                      0.0   \n",
       "\n",
       "   imp_op_var40_efect_ult1  imp_op_var40_efect_ult3  imp_op_var40_ult1  \\\n",
       "0                      0.0                      0.0                0.0   \n",
       "1                      0.0                      0.0                0.0   \n",
       "2                      0.0                      0.0                0.0   \n",
       "3                      0.0                      0.0                0.0   \n",
       "4                      0.0                      0.0                0.0   \n",
       "\n",
       "   imp_op_var41_comer_ult1  imp_op_var41_comer_ult3  imp_op_var41_efect_ult1  \\\n",
       "0                     0.00                     0.00                      0.0   \n",
       "1                     0.00                     0.00                      0.0   \n",
       "2                     0.00                     0.00                      0.0   \n",
       "3                    22.77                   109.59                      0.0   \n",
       "4                     0.00                     0.00                      0.0   \n",
       "\n",
       "   imp_op_var41_efect_ult3  ...  saldo_medio_var29_hace3  \\\n",
       "0                      0.0  ...                      0.0   \n",
       "1                      0.0  ...                      0.0   \n",
       "2                      0.0  ...                      0.0   \n",
       "3                      0.0  ...                      0.0   \n",
       "4                      0.0  ...                      0.0   \n",
       "\n",
       "   saldo_medio_var29_ult1  saldo_medio_var29_ult3  saldo_medio_var33_hace2  \\\n",
       "0                     0.0                     0.0                      0.0   \n",
       "1                     0.0                     0.0                      0.0   \n",
       "2                     0.0                     0.0                      0.0   \n",
       "3                     0.0                     0.0                      0.0   \n",
       "4                     0.0                     0.0                      0.0   \n",
       "\n",
       "   saldo_medio_var33_hace3  saldo_medio_var33_ult1  saldo_medio_var33_ult3  \\\n",
       "0                      0.0                     0.0                     0.0   \n",
       "1                      0.0                     0.0                     0.0   \n",
       "2                      0.0                     0.0                     0.0   \n",
       "3                      0.0                     0.0                     0.0   \n",
       "4                      0.0                     0.0                     0.0   \n",
       "\n",
       "   saldo_medio_var44_hace2  saldo_medio_var44_hace3  saldo_medio_var44_ult1  \\\n",
       "0                      0.0                      0.0                     0.0   \n",
       "1                      0.0                      0.0                     0.0   \n",
       "2                      0.0                      0.0                     0.0   \n",
       "3                      0.0                      0.0                     0.0   \n",
       "4                      0.0                      0.0                     0.0   \n",
       "\n",
       "   saldo_medio_var44_ult3          var38  TARGET     score    nota  \n",
       "0                     0.0   73806.810000       0  0.029534  nota_5  \n",
       "1                     0.0   54606.780000       0  0.131123  nota_3  \n",
       "2                     0.0  117310.979016       0  0.005700  nota_5  \n",
       "3                     0.0  117310.979016       0  0.354038  nota_1  \n",
       "4                     0.0  117310.979016       0  0.035913  nota_4  \n",
       "\n",
       "[5 rows x 373 columns]"
      ]
     },
     "execution_count": 760,
     "metadata": {},
     "output_type": "execute_result"
    }
   ],
   "source": [
    "df_resultado.head()"
   ]
  },
  {
   "cell_type": "code",
   "execution_count": 761,
   "id": "fe1672b2-1eed-4a9a-ad02-615a244c4763",
   "metadata": {},
   "outputs": [],
   "source": [
    "df_resultado['pred_final'] = df_resultado['score'] >= 0.35"
   ]
  },
  {
   "cell_type": "code",
   "execution_count": 762,
   "id": "9b9845f7-318f-4c54-83e3-0ac30a21c37a",
   "metadata": {},
   "outputs": [
    {
     "data": {
      "text/plain": [
       "24880"
      ]
     },
     "execution_count": 762,
     "metadata": {},
     "output_type": "execute_result"
    }
   ],
   "source": [
    "cost(df_resultado['TARGET'], df_resultado['pred_final']) # Lucro da ação na base de teste, com base no nosso modelo e estratégia de corte (0.35)"
   ]
  },
  {
   "cell_type": "code",
   "execution_count": 763,
   "id": "b78b170d-a0a7-40fb-b6e4-6e18375422af",
   "metadata": {},
   "outputs": [
    {
     "data": {
      "text/plain": [
       "81180"
      ]
     },
     "execution_count": 763,
     "metadata": {},
     "output_type": "execute_result"
    }
   ],
   "source": [
    "cost(df_resultado['TARGET'], df_resultado['TARGET']) # Máximo lucro possível na base de teste"
   ]
  },
  {
   "cell_type": "code",
   "execution_count": 764,
   "id": "dd0aebc7-52c2-4e8e-9f36-1f6ff2301f32",
   "metadata": {},
   "outputs": [
    {
     "data": {
      "text/plain": [
       "0.30647942843064796"
      ]
     },
     "execution_count": 764,
     "metadata": {},
     "output_type": "execute_result"
    }
   ],
   "source": [
    "24880 / 81180"
   ]
  },
  {
   "cell_type": "markdown",
   "id": "ae0c3eb0-06d6-43cb-abb0-2053c2cf575c",
   "metadata": {},
   "source": [
    "Lucro de quase 25 mil no nosso conjunto de teste, que representa 30% do lucro possível nesta base..."
   ]
  },
  {
   "cell_type": "markdown",
   "id": "7c9f4362-5446-44f8-9641-7aed55b9aa8f",
   "metadata": {},
   "source": [
    "Para calcular a estimativa de benefício, precisamos saber a precisão do nosso modelo:"
   ]
  },
  {
   "cell_type": "code",
   "execution_count": 767,
   "id": "5e045f56-e70b-4924-8020-3d45963a51d5",
   "metadata": {},
   "outputs": [
    {
     "name": "stdout",
     "output_type": "stream",
     "text": [
      "              precision    recall  f1-score   support\n",
      "\n",
      "           0       0.98      0.87      0.93     21904\n",
      "           1       0.17      0.65      0.27       902\n",
      "\n",
      "    accuracy                           0.86     22806\n",
      "   macro avg       0.58      0.76      0.60     22806\n",
      "weighted avg       0.95      0.86      0.90     22806\n",
      "\n"
     ]
    }
   ],
   "source": [
    "print(classification_report(df_resultado['TARGET'], df_resultado['pred_final']))"
   ]
  },
  {
   "cell_type": "markdown",
   "id": "76f1ac48-e570-4730-91b5-ba89409431db",
   "metadata": {},
   "source": [
    "Nossa precisão com essa estratégia de corte é de 17%. Ou seja, a cada 100 clientes que nosso modelo afirmar estarem INSATISFEITOS, 17 de fato estarão (Verdadeiros Positivos. Lucro de 90). Os outros 83 serão Falsos Positivos (Prejuízo de 10), ou seja, na realidade estarão SATISFEITOS."
   ]
  },
  {
   "cell_type": "code",
   "execution_count": 769,
   "id": "4e5d48a7-7f2f-4dbe-8b87-d498d0c35036",
   "metadata": {},
   "outputs": [
    {
     "data": {
      "text/plain": [
       "79219.00000000001"
      ]
     },
     "execution_count": 769,
     "metadata": {},
     "output_type": "execute_result"
    }
   ],
   "source": [
    "# Calculando o benefício esperado da nossa ação da base de produção (teste do exercício)\n",
    "(17/100 * 11317 * 90) - (83/100 * 11317 * 10)\n",
    "\n",
    "# 11317 é a quantidade de clientes que receberão a ação\n",
    "# 17/100 é a precisão do modelo (taxa de verdadeiros positivos)\n",
    "# 83/100 é a taxa de falsos positivos"
   ]
  },
  {
   "cell_type": "markdown",
   "id": "2692181b-974d-4706-bc6c-dcd8e4db3d94",
   "metadata": {},
   "source": [
    "A estimativa de benefício na base de 'produção', portanto, é de quase 80 mil reais!!!"
   ]
  },
  {
   "cell_type": "markdown",
   "id": "0ab49236-196f-4162-a258-091e98b0cf4e",
   "metadata": {},
   "source": [
    "[Sumário](#Sumário)"
   ]
  },
  {
   "cell_type": "markdown",
   "id": "097ac60d-937c-424a-825c-697a39cc81cd",
   "metadata": {},
   "source": [
    "### 3.2.4. Possíveis melhorias para a V2"
   ]
  },
  {
   "cell_type": "markdown",
   "id": "b74b80f1-4e8b-4d7a-b7ad-76dd174d9d5e",
   "metadata": {},
   "source": [
    "- Abordagem com inferência causal para personalizar as ações de retenção por cliente\n",
    "- Como estamos querendo otimizar o corte, o ideal seria que nosso modelo ordenasse da melhor maneira possível. Nesse sentido, na primeira questão, a AUC seria mais indicada do que a função objetivo que criamos. Isso porque nosso função faz com que o algoritmo otimize o custo já levando em consideração o corte de 0.5. Ao otimizar por AUC, garantiríamos ter o modelo que mais ordena bem e o ponto de corte ficaria a cargo da nossa própria escolha. O que acabou acontecendo aqui é que estamos utilizando o modelo que maximiza o lucro a partir do corte 0.5 para definir outro ponto de corte."
   ]
  },
  {
   "cell_type": "markdown",
   "id": "9e2c865f-6c77-4c64-a4c4-9ff5b4e7aa87",
   "metadata": {},
   "source": [
    "[Sumário](#Sumário)"
   ]
  },
  {
   "cell_type": "markdown",
   "id": "e7a5e713-259f-43b3-be15-8dd61fd7afe6",
   "metadata": {},
   "source": [
    "***"
   ]
  },
  {
   "cell_type": "markdown",
   "id": "810b37d7-7bab-48df-a2b2-e551d6556fb2",
   "metadata": {
    "tags": []
   },
   "source": [
    "# <font color=green>4. Questão C</font>"
   ]
  },
  {
   "cell_type": "markdown",
   "id": "42ae3350-033b-4789-ad17-7f9168350658",
   "metadata": {},
   "source": [
    "## 4.1. Enunciado"
   ]
  },
  {
   "cell_type": "markdown",
   "id": "7072f3af-7c9b-471a-9917-98d9057c7d21",
   "metadata": {},
   "source": [
    "Todo o conjunto de dados é passível de ser divididos em grupos coesos, conhecidos como agrupamentos naturais. A terceira tarefa é encontrar os três grupos naturais que possuem os maiores lucros esperados por cliente (usando os mesmos valores da primeira questão)."
   ]
  },
  {
   "cell_type": "markdown",
   "id": "d85e4e97-1053-49e1-b358-65041c87621b",
   "metadata": {},
   "source": [
    "[Sumário](#Sumário)"
   ]
  },
  {
   "cell_type": "markdown",
   "id": "e2e69033-f7eb-4f88-b7ec-fe23ec2b9f52",
   "metadata": {},
   "source": [
    "***"
   ]
  },
  {
   "cell_type": "markdown",
   "id": "829a71b0-8ebd-427d-a283-7ac4aacc95c7",
   "metadata": {},
   "source": [
    "## 4.2. Solução"
   ]
  },
  {
   "cell_type": "markdown",
   "id": "2e5fe29b-b202-4aea-81ff-3c9e19ca633f",
   "metadata": {},
   "source": [
    "Vamos agrupar nossos clientes levando em conta as mesmas variáveis que utilizamos para criar nosso modelo preditivo. Isso não é uma obrigatoriedade, visto que agrupamentos naturais podem surgir de variáveis que não possuem poder preditivo para determinada classe e mesmo assim fornecer insights valiosos.<br><br>\n",
    "\n",
    "Contudo, os algoritmos de agrupamento em geral, sofrem bastante com bases em altas dimensões (muitas features), o que chamamos de *maldição da dimensionalidade*. Esse é um problema clássico de *Clustering* e acontece justamente qual o algoritmo acaba entendendo todos os pontos como equidistantes (mesma distância) devido ao alto numero de variáveis.<br><br>\n",
    "\n",
    "Para evitar esse problema, o ideal é trabalhar com dados em baixas dimensões. Há diversas formas de fazer isso. Poderíamos partir da base completa com quase 400 variáveis, remover as variáveis altamente correlacionadas, escalonar os dados e aplicar um PCA, por exemplo. Isso nos traria dados em baixas dimensões, mas também poderia tornar os clusters pouco interpretáveis.<br><br>\n",
    "\n",
    "Sendo assim, para manter uma certa conexão entre esta e as tarefas anteriores, vou utilizar as mesmas variáveis preditoras para criar os agrupamentos.<br><br>\n",
    "\n",
    "Sobre o algoritmo de clusterização, utilizarei o kMeans, que é um algoritmo simples, rápido e costuma funcionar bem na prática, gerando agrupamentos que fazem sentido. É claro que, como todo algoritmo, ele tem seus prós e contras. Poderíamos aqui testar outros algoritmos de clusterização, como os hierárquicos e os que trabalham com densidade. Ou até mesmo outros algoritmos da classe do kMeans (particionais). Contudo optei por seguir apenas com o kMeans e considerei os demais no plano de melhoria para a V2."
   ]
  },
  {
   "cell_type": "markdown",
   "id": "d5910c8e-d469-4627-85f6-4a31ad6ea0dd",
   "metadata": {},
   "source": [
    "[Sumário](#Sumário)"
   ]
  },
  {
   "cell_type": "markdown",
   "id": "fa69a64a-ea35-46fc-b61d-4b342cf7964c",
   "metadata": {},
   "source": [
    "### 4.2.1. Escalonando os Dados"
   ]
  },
  {
   "cell_type": "code",
   "execution_count": 771,
   "id": "dacd269b-e4bf-430b-89c5-bb29d1d624c3",
   "metadata": {},
   "outputs": [],
   "source": [
    "X_clusters = df_train[final_cols]"
   ]
  },
  {
   "cell_type": "code",
   "execution_count": 772,
   "id": "78ac9b02-779d-46c8-84f6-e753c7665a9a",
   "metadata": {},
   "outputs": [
    {
     "data": {
      "text/html": [
       "<div>\n",
       "<style scoped>\n",
       "    .dataframe tbody tr th:only-of-type {\n",
       "        vertical-align: middle;\n",
       "    }\n",
       "\n",
       "    .dataframe tbody tr th {\n",
       "        vertical-align: top;\n",
       "    }\n",
       "\n",
       "    .dataframe thead th {\n",
       "        text-align: right;\n",
       "    }\n",
       "</style>\n",
       "<table border=\"1\" class=\"dataframe\">\n",
       "  <thead>\n",
       "    <tr style=\"text-align: right;\">\n",
       "      <th></th>\n",
       "      <th>imp_op_var41_ult1</th>\n",
       "      <th>imp_op_var41_efect_ult1</th>\n",
       "      <th>ind_var30</th>\n",
       "      <th>num_var30</th>\n",
       "      <th>saldo_medio_var5_hace3</th>\n",
       "      <th>num_var4</th>\n",
       "      <th>num_var45_hace3</th>\n",
       "      <th>num_var22_ult3</th>\n",
       "      <th>saldo_var5</th>\n",
       "      <th>saldo_medio_var5_ult3</th>\n",
       "      <th>saldo_medio_var5_ult1</th>\n",
       "      <th>saldo_medio_var5_hace2</th>\n",
       "      <th>saldo_var42</th>\n",
       "      <th>saldo_var30</th>\n",
       "      <th>var38</th>\n",
       "      <th>var15</th>\n",
       "    </tr>\n",
       "  </thead>\n",
       "  <tbody>\n",
       "    <tr>\n",
       "      <th>0</th>\n",
       "      <td>0.0</td>\n",
       "      <td>0.0</td>\n",
       "      <td>1</td>\n",
       "      <td>3</td>\n",
       "      <td>7.80</td>\n",
       "      <td>2</td>\n",
       "      <td>0</td>\n",
       "      <td>6</td>\n",
       "      <td>20.67</td>\n",
       "      <td>28.47</td>\n",
       "      <td>20.67</td>\n",
       "      <td>56.94</td>\n",
       "      <td>20.67</td>\n",
       "      <td>20.67</td>\n",
       "      <td>291260.700000</td>\n",
       "      <td>36</td>\n",
       "    </tr>\n",
       "    <tr>\n",
       "      <th>1</th>\n",
       "      <td>0.0</td>\n",
       "      <td>0.0</td>\n",
       "      <td>1</td>\n",
       "      <td>6</td>\n",
       "      <td>3.84</td>\n",
       "      <td>2</td>\n",
       "      <td>18</td>\n",
       "      <td>9</td>\n",
       "      <td>15.00</td>\n",
       "      <td>11.28</td>\n",
       "      <td>15.00</td>\n",
       "      <td>15.00</td>\n",
       "      <td>15.00</td>\n",
       "      <td>66015.00</td>\n",
       "      <td>117310.979016</td>\n",
       "      <td>38</td>\n",
       "    </tr>\n",
       "    <tr>\n",
       "      <th>2</th>\n",
       "      <td>0.0</td>\n",
       "      <td>0.0</td>\n",
       "      <td>1</td>\n",
       "      <td>3</td>\n",
       "      <td>2.82</td>\n",
       "      <td>1</td>\n",
       "      <td>0</td>\n",
       "      <td>0</td>\n",
       "      <td>3.00</td>\n",
       "      <td>2.94</td>\n",
       "      <td>3.00</td>\n",
       "      <td>3.00</td>\n",
       "      <td>3.00</td>\n",
       "      <td>3.00</td>\n",
       "      <td>104330.460000</td>\n",
       "      <td>27</td>\n",
       "    </tr>\n",
       "    <tr>\n",
       "      <th>3</th>\n",
       "      <td>0.0</td>\n",
       "      <td>0.0</td>\n",
       "      <td>1</td>\n",
       "      <td>3</td>\n",
       "      <td>0.00</td>\n",
       "      <td>1</td>\n",
       "      <td>0</td>\n",
       "      <td>0</td>\n",
       "      <td>3.00</td>\n",
       "      <td>2.88</td>\n",
       "      <td>3.00</td>\n",
       "      <td>2.76</td>\n",
       "      <td>3.00</td>\n",
       "      <td>3.00</td>\n",
       "      <td>117310.979016</td>\n",
       "      <td>23</td>\n",
       "    </tr>\n",
       "    <tr>\n",
       "      <th>4</th>\n",
       "      <td>0.0</td>\n",
       "      <td>0.0</td>\n",
       "      <td>0</td>\n",
       "      <td>0</td>\n",
       "      <td>0.00</td>\n",
       "      <td>0</td>\n",
       "      <td>0</td>\n",
       "      <td>0</td>\n",
       "      <td>0.00</td>\n",
       "      <td>0.00</td>\n",
       "      <td>0.00</td>\n",
       "      <td>0.00</td>\n",
       "      <td>0.00</td>\n",
       "      <td>0.00</td>\n",
       "      <td>150614.760000</td>\n",
       "      <td>23</td>\n",
       "    </tr>\n",
       "  </tbody>\n",
       "</table>\n",
       "</div>"
      ],
      "text/plain": [
       "   imp_op_var41_ult1  imp_op_var41_efect_ult1  ind_var30  num_var30  \\\n",
       "0                0.0                      0.0          1          3   \n",
       "1                0.0                      0.0          1          6   \n",
       "2                0.0                      0.0          1          3   \n",
       "3                0.0                      0.0          1          3   \n",
       "4                0.0                      0.0          0          0   \n",
       "\n",
       "   saldo_medio_var5_hace3  num_var4  num_var45_hace3  num_var22_ult3  \\\n",
       "0                    7.80         2                0               6   \n",
       "1                    3.84         2               18               9   \n",
       "2                    2.82         1                0               0   \n",
       "3                    0.00         1                0               0   \n",
       "4                    0.00         0                0               0   \n",
       "\n",
       "   saldo_var5  saldo_medio_var5_ult3  saldo_medio_var5_ult1  \\\n",
       "0       20.67                  28.47                  20.67   \n",
       "1       15.00                  11.28                  15.00   \n",
       "2        3.00                   2.94                   3.00   \n",
       "3        3.00                   2.88                   3.00   \n",
       "4        0.00                   0.00                   0.00   \n",
       "\n",
       "   saldo_medio_var5_hace2  saldo_var42  saldo_var30          var38  var15  \n",
       "0                   56.94        20.67        20.67  291260.700000     36  \n",
       "1                   15.00        15.00     66015.00  117310.979016     38  \n",
       "2                    3.00         3.00         3.00  104330.460000     27  \n",
       "3                    2.76         3.00         3.00  117310.979016     23  \n",
       "4                    0.00         0.00         0.00  150614.760000     23  "
      ]
     },
     "execution_count": 772,
     "metadata": {},
     "output_type": "execute_result"
    }
   ],
   "source": [
    "X_clusters.head()"
   ]
  },
  {
   "cell_type": "code",
   "execution_count": 776,
   "id": "c2a952f2-d5e5-443b-9b5a-0468256da5c3",
   "metadata": {},
   "outputs": [],
   "source": [
    "scaler = StandardScaler()\n",
    "X_clusters_scaled = pd.DataFrame(scaler.fit_transform(X_clusters), columns=X_clusters.columns)"
   ]
  },
  {
   "cell_type": "code",
   "execution_count": 777,
   "id": "d673eaa5-1b0e-4a31-9cfa-4c574b4b1c0a",
   "metadata": {},
   "outputs": [
    {
     "data": {
      "text/html": [
       "<div>\n",
       "<style scoped>\n",
       "    .dataframe tbody tr th:only-of-type {\n",
       "        vertical-align: middle;\n",
       "    }\n",
       "\n",
       "    .dataframe tbody tr th {\n",
       "        vertical-align: top;\n",
       "    }\n",
       "\n",
       "    .dataframe thead th {\n",
       "        text-align: right;\n",
       "    }\n",
       "</style>\n",
       "<table border=\"1\" class=\"dataframe\">\n",
       "  <thead>\n",
       "    <tr style=\"text-align: right;\">\n",
       "      <th></th>\n",
       "      <th>imp_op_var41_ult1</th>\n",
       "      <th>imp_op_var41_efect_ult1</th>\n",
       "      <th>ind_var30</th>\n",
       "      <th>num_var30</th>\n",
       "      <th>saldo_medio_var5_hace3</th>\n",
       "      <th>num_var4</th>\n",
       "      <th>num_var45_hace3</th>\n",
       "      <th>num_var22_ult3</th>\n",
       "      <th>saldo_var5</th>\n",
       "      <th>saldo_medio_var5_ult3</th>\n",
       "      <th>saldo_medio_var5_ult1</th>\n",
       "      <th>saldo_medio_var5_hace2</th>\n",
       "      <th>saldo_var42</th>\n",
       "      <th>saldo_var30</th>\n",
       "      <th>var38</th>\n",
       "      <th>var15</th>\n",
       "    </tr>\n",
       "  </thead>\n",
       "  <tbody>\n",
       "    <tr>\n",
       "      <th>0</th>\n",
       "      <td>-0.193051</td>\n",
       "      <td>-0.123317</td>\n",
       "      <td>0.602374</td>\n",
       "      <td>0.373159</td>\n",
       "      <td>-0.083231</td>\n",
       "      <td>1.002265</td>\n",
       "      <td>-0.371474</td>\n",
       "      <td>0.475550</td>\n",
       "      <td>-0.101461</td>\n",
       "      <td>-0.125451</td>\n",
       "      <td>-0.109832</td>\n",
       "      <td>-0.128721</td>\n",
       "      <td>-0.146138</td>\n",
       "      <td>-0.214859</td>\n",
       "      <td>0.888636</td>\n",
       "      <td>0.212396</td>\n",
       "    </tr>\n",
       "    <tr>\n",
       "      <th>1</th>\n",
       "      <td>-0.193051</td>\n",
       "      <td>-0.123317</td>\n",
       "      <td>0.602374</td>\n",
       "      <td>2.197106</td>\n",
       "      <td>-0.083608</td>\n",
       "      <td>1.002265</td>\n",
       "      <td>1.336337</td>\n",
       "      <td>0.958184</td>\n",
       "      <td>-0.102036</td>\n",
       "      <td>-0.127625</td>\n",
       "      <td>-0.110435</td>\n",
       "      <td>-0.132334</td>\n",
       "      <td>-0.146253</td>\n",
       "      <td>0.828531</td>\n",
       "      <td>-0.000801</td>\n",
       "      <td>0.366752</td>\n",
       "    </tr>\n",
       "    <tr>\n",
       "      <th>2</th>\n",
       "      <td>-0.193051</td>\n",
       "      <td>-0.123317</td>\n",
       "      <td>0.602374</td>\n",
       "      <td>0.373159</td>\n",
       "      <td>-0.083705</td>\n",
       "      <td>-0.091889</td>\n",
       "      <td>-0.371474</td>\n",
       "      <td>-0.489717</td>\n",
       "      <td>-0.103253</td>\n",
       "      <td>-0.128679</td>\n",
       "      <td>-0.111714</td>\n",
       "      <td>-0.133368</td>\n",
       "      <td>-0.146497</td>\n",
       "      <td>-0.215138</td>\n",
       "      <td>-0.067172</td>\n",
       "      <td>-0.482207</td>\n",
       "    </tr>\n",
       "    <tr>\n",
       "      <th>3</th>\n",
       "      <td>-0.193051</td>\n",
       "      <td>-0.123317</td>\n",
       "      <td>0.602374</td>\n",
       "      <td>0.373159</td>\n",
       "      <td>-0.083974</td>\n",
       "      <td>-0.091889</td>\n",
       "      <td>-0.371474</td>\n",
       "      <td>-0.489717</td>\n",
       "      <td>-0.103253</td>\n",
       "      <td>-0.128687</td>\n",
       "      <td>-0.111714</td>\n",
       "      <td>-0.133389</td>\n",
       "      <td>-0.146497</td>\n",
       "      <td>-0.215138</td>\n",
       "      <td>-0.000801</td>\n",
       "      <td>-0.790919</td>\n",
       "    </tr>\n",
       "    <tr>\n",
       "      <th>4</th>\n",
       "      <td>-0.193051</td>\n",
       "      <td>-0.123317</td>\n",
       "      <td>-1.660099</td>\n",
       "      <td>-1.450787</td>\n",
       "      <td>-0.083974</td>\n",
       "      <td>-1.186043</td>\n",
       "      <td>-0.371474</td>\n",
       "      <td>-0.489717</td>\n",
       "      <td>-0.103557</td>\n",
       "      <td>-0.129051</td>\n",
       "      <td>-0.112033</td>\n",
       "      <td>-0.133627</td>\n",
       "      <td>-0.146558</td>\n",
       "      <td>-0.215185</td>\n",
       "      <td>0.169488</td>\n",
       "      <td>-0.790919</td>\n",
       "    </tr>\n",
       "  </tbody>\n",
       "</table>\n",
       "</div>"
      ],
      "text/plain": [
       "   imp_op_var41_ult1  imp_op_var41_efect_ult1  ind_var30  num_var30  \\\n",
       "0          -0.193051                -0.123317   0.602374   0.373159   \n",
       "1          -0.193051                -0.123317   0.602374   2.197106   \n",
       "2          -0.193051                -0.123317   0.602374   0.373159   \n",
       "3          -0.193051                -0.123317   0.602374   0.373159   \n",
       "4          -0.193051                -0.123317  -1.660099  -1.450787   \n",
       "\n",
       "   saldo_medio_var5_hace3  num_var4  num_var45_hace3  num_var22_ult3  \\\n",
       "0               -0.083231  1.002265        -0.371474        0.475550   \n",
       "1               -0.083608  1.002265         1.336337        0.958184   \n",
       "2               -0.083705 -0.091889        -0.371474       -0.489717   \n",
       "3               -0.083974 -0.091889        -0.371474       -0.489717   \n",
       "4               -0.083974 -1.186043        -0.371474       -0.489717   \n",
       "\n",
       "   saldo_var5  saldo_medio_var5_ult3  saldo_medio_var5_ult1  \\\n",
       "0   -0.101461              -0.125451              -0.109832   \n",
       "1   -0.102036              -0.127625              -0.110435   \n",
       "2   -0.103253              -0.128679              -0.111714   \n",
       "3   -0.103253              -0.128687              -0.111714   \n",
       "4   -0.103557              -0.129051              -0.112033   \n",
       "\n",
       "   saldo_medio_var5_hace2  saldo_var42  saldo_var30     var38     var15  \n",
       "0               -0.128721    -0.146138    -0.214859  0.888636  0.212396  \n",
       "1               -0.132334    -0.146253     0.828531 -0.000801  0.366752  \n",
       "2               -0.133368    -0.146497    -0.215138 -0.067172 -0.482207  \n",
       "3               -0.133389    -0.146497    -0.215138 -0.000801 -0.790919  \n",
       "4               -0.133627    -0.146558    -0.215185  0.169488 -0.790919  "
      ]
     },
     "execution_count": 777,
     "metadata": {},
     "output_type": "execute_result"
    }
   ],
   "source": [
    "X_clusters_scaled.head()"
   ]
  },
  {
   "cell_type": "code",
   "execution_count": 779,
   "id": "0077b804-19b2-4949-82c0-2bfa773d8846",
   "metadata": {},
   "outputs": [
    {
     "data": {
      "text/html": [
       "<div>\n",
       "<style scoped>\n",
       "    .dataframe tbody tr th:only-of-type {\n",
       "        vertical-align: middle;\n",
       "    }\n",
       "\n",
       "    .dataframe tbody tr th {\n",
       "        vertical-align: top;\n",
       "    }\n",
       "\n",
       "    .dataframe thead th {\n",
       "        text-align: right;\n",
       "    }\n",
       "</style>\n",
       "<table border=\"1\" class=\"dataframe\">\n",
       "  <thead>\n",
       "    <tr style=\"text-align: right;\">\n",
       "      <th></th>\n",
       "      <th>imp_op_var41_ult1</th>\n",
       "      <th>imp_op_var41_efect_ult1</th>\n",
       "      <th>ind_var30</th>\n",
       "      <th>num_var30</th>\n",
       "      <th>saldo_medio_var5_hace3</th>\n",
       "      <th>num_var4</th>\n",
       "      <th>num_var45_hace3</th>\n",
       "      <th>num_var22_ult3</th>\n",
       "      <th>saldo_var5</th>\n",
       "      <th>saldo_medio_var5_ult3</th>\n",
       "      <th>saldo_medio_var5_ult1</th>\n",
       "      <th>saldo_medio_var5_hace2</th>\n",
       "      <th>saldo_var42</th>\n",
       "      <th>saldo_var30</th>\n",
       "      <th>var38</th>\n",
       "      <th>var15</th>\n",
       "    </tr>\n",
       "  </thead>\n",
       "  <tbody>\n",
       "    <tr>\n",
       "      <th>mean</th>\n",
       "      <td>-6.257590e-16</td>\n",
       "      <td>-9.804946e-17</td>\n",
       "      <td>-1.246836e-16</td>\n",
       "      <td>1.661506e-15</td>\n",
       "      <td>1.756576e-15</td>\n",
       "      <td>-1.720435e-16</td>\n",
       "      <td>1.133676e-15</td>\n",
       "      <td>9.395273e-16</td>\n",
       "      <td>2.420072e-16</td>\n",
       "      <td>1.388848e-15</td>\n",
       "      <td>3.041753e-16</td>\n",
       "      <td>6.009916e-16</td>\n",
       "      <td>2.471776e-15</td>\n",
       "      <td>1.983158e-15</td>\n",
       "      <td>1.200615e-15</td>\n",
       "      <td>-1.565576e-15</td>\n",
       "    </tr>\n",
       "    <tr>\n",
       "      <th>std</th>\n",
       "      <td>1.000009e+00</td>\n",
       "      <td>1.000009e+00</td>\n",
       "      <td>1.000009e+00</td>\n",
       "      <td>1.000009e+00</td>\n",
       "      <td>1.000009e+00</td>\n",
       "      <td>1.000009e+00</td>\n",
       "      <td>1.000009e+00</td>\n",
       "      <td>1.000009e+00</td>\n",
       "      <td>1.000009e+00</td>\n",
       "      <td>1.000009e+00</td>\n",
       "      <td>1.000009e+00</td>\n",
       "      <td>1.000009e+00</td>\n",
       "      <td>1.000009e+00</td>\n",
       "      <td>1.000009e+00</td>\n",
       "      <td>1.000009e+00</td>\n",
       "      <td>1.000009e+00</td>\n",
       "    </tr>\n",
       "  </tbody>\n",
       "</table>\n",
       "</div>"
      ],
      "text/plain": [
       "      imp_op_var41_ult1  imp_op_var41_efect_ult1     ind_var30     num_var30  \\\n",
       "mean      -6.257590e-16            -9.804946e-17 -1.246836e-16  1.661506e-15   \n",
       "std        1.000009e+00             1.000009e+00  1.000009e+00  1.000009e+00   \n",
       "\n",
       "      saldo_medio_var5_hace3      num_var4  num_var45_hace3  num_var22_ult3  \\\n",
       "mean            1.756576e-15 -1.720435e-16     1.133676e-15    9.395273e-16   \n",
       "std             1.000009e+00  1.000009e+00     1.000009e+00    1.000009e+00   \n",
       "\n",
       "        saldo_var5  saldo_medio_var5_ult3  saldo_medio_var5_ult1  \\\n",
       "mean  2.420072e-16           1.388848e-15           3.041753e-16   \n",
       "std   1.000009e+00           1.000009e+00           1.000009e+00   \n",
       "\n",
       "      saldo_medio_var5_hace2   saldo_var42   saldo_var30         var38  \\\n",
       "mean            6.009916e-16  2.471776e-15  1.983158e-15  1.200615e-15   \n",
       "std             1.000009e+00  1.000009e+00  1.000009e+00  1.000009e+00   \n",
       "\n",
       "             var15  \n",
       "mean -1.565576e-15  \n",
       "std   1.000009e+00  "
      ]
     },
     "execution_count": 779,
     "metadata": {},
     "output_type": "execute_result"
    }
   ],
   "source": [
    "X_clusters_scaled.describe().loc[['mean', 'std'],:]"
   ]
  },
  {
   "cell_type": "markdown",
   "id": "adbbed77-f9e0-4d80-8810-7717b1460e4c",
   "metadata": {},
   "source": [
    "[Sumário](#Sumário)"
   ]
  },
  {
   "cell_type": "markdown",
   "id": "16bbd020-6c6a-495d-8a6b-60283041f368",
   "metadata": {},
   "source": [
    "### 4.2.2. Definindo a Quantidade Ideal de Clusters"
   ]
  },
  {
   "cell_type": "markdown",
   "id": "856504b3-6ea3-4d21-b53c-4438e62911a0",
   "metadata": {},
   "source": [
    "Vamos utilizar o método da Silhueta para calcular a quantidade ideal de clusters..."
   ]
  },
  {
   "cell_type": "code",
   "execution_count": null,
   "id": "bd12d792-4af6-46da-9a36-50d9f25b04f0",
   "metadata": {},
   "outputs": [],
   "source": [
    "clusterings = [KMeans(n_clusters=i,n_init=get_num_of_initialization(i),random_state=42, n_jobs=-1).fit(X_train) \n",
    "               for i in range(min_n_clusters,max_n_clusters+1)]"
   ]
  },
  {
   "cell_type": "code",
   "execution_count": 784,
   "id": "2d0e45f7-0905-4d26-a98d-7bdc6ee2ba9f",
   "metadata": {},
   "outputs": [],
   "source": [
    "models = [KMeans(n_clusters=k, n_init=10, random_state=123) for k in range(2, 21)]"
   ]
  },
  {
   "cell_type": "code",
   "execution_count": 789,
   "id": "dbd1f1eb-0e72-4d0c-ae38-7011a7ba642e",
   "metadata": {},
   "outputs": [],
   "source": [
    "silhouttes = [silhouette_score(X_clusters_scaled, model.fit_predict(X_clusters_scaled))\n",
    "              for model in models]"
   ]
  },
  {
   "cell_type": "code",
   "execution_count": 792,
   "id": "b019ccd8-0284-463d-8a21-c0dc1ce1b657",
   "metadata": {},
   "outputs": [],
   "source": [
    "x = range(2, 21)\n",
    "y = silhouttes"
   ]
  },
  {
   "cell_type": "code",
   "execution_count": 793,
   "id": "1db7076c-94c8-4e60-8798-080fa6b86488",
   "metadata": {},
   "outputs": [],
   "source": [
    "k_ideal = x[np.argmax(silhouttes)]"
   ]
  },
  {
   "cell_type": "code",
   "execution_count": 819,
   "id": "7fed0cd4-ff75-42e4-9081-f62a1cea42ba",
   "metadata": {},
   "outputs": [
    {
     "data": {
      "image/png": "[encoded data removed]",
      "text/plain": [
       "<Figure size 1224x576 with 1 Axes>"
      ]
     },
     "metadata": {},
     "output_type": "display_data"
    }
   ],
   "source": [
    "plt.figure(figsize=(17, 8))\n",
    "plt.style.use('ggplot')\n",
    "plt.plot(x, y)\n",
    "plt.vlines(x=k_ideal, ymin=-1, ymax=np.max(silhouttes), color='b', linestyles='dotted')\n",
    "plt.title('Silhouette Score', fontsize=14)\n",
    "plt.ylabel('Silhouette Score')\n",
    "plt.xlabel('k')\n",
    "plt.xticks(np.linspace(0, 20, 21))\n",
    "plt.xlim([0, 20])\n",
    "plt.yticks(np.linspace(.3, .5, 11))\n",
    "plt.ylim([0.3, .5])\n",
    "plt.annotate(text=f'  Quantidade Ideal de Clusters: {k_ideal}',\n",
    "             xy=(10, 0.3),\n",
    "             color='b', \n",
    "             xycoords='data',\n",
    "             xytext=(11, 0.32),\n",
    "             textcoords='data',\n",
    "             horizontalalignment='left',\n",
    "             verticalalignment='center',\n",
    "             arrowprops=dict(color='b', lw=4));\n",
    "plt.annotate(text=f'{np.max(silhouttes):.2f}', xy=(10, 0.485), color='r');"
   ]
  },
  {
   "cell_type": "markdown",
   "id": "8d424a45-f564-4be6-8d73-d30749da0e7c",
   "metadata": {},
   "source": [
    "[Sumário](#Sumário)"
   ]
  },
  {
   "cell_type": "markdown",
   "id": "0019ebbb-55f7-4201-ad8a-009179e7a84b",
   "metadata": {
    "tags": []
   },
   "source": [
    "### 4.2.3. Ajustando o Modelo Final"
   ]
  },
  {
   "cell_type": "code",
   "execution_count": 820,
   "id": "11a18378-1093-4b74-8766-0d55a0d4497f",
   "metadata": {},
   "outputs": [],
   "source": [
    "km_final = KMeans(n_clusters=10, n_init=10, random_state=123).fit(X_clusters_scaled)"
   ]
  },
  {
   "cell_type": "markdown",
   "id": "3fd101b4-3826-46b6-ab35-e9818b9aed43",
   "metadata": {},
   "source": [
    "[Sumário](#Sumário)"
   ]
  },
  {
   "cell_type": "markdown",
   "id": "0057dd5a-2f87-4f3c-8a7d-9be655605f6b",
   "metadata": {
    "tags": []
   },
   "source": [
    "### 4.2.4. Calculando o Lucro Esperado por Cliente de Cada Cluster"
   ]
  },
  {
   "cell_type": "code",
   "execution_count": 827,
   "id": "44f1e554-d628-42fa-a3ed-281661ab6dc1",
   "metadata": {},
   "outputs": [
    {
     "data": {
      "text/plain": [
       "(53214, 373)"
      ]
     },
     "execution_count": 827,
     "metadata": {},
     "output_type": "execute_result"
    }
   ],
   "source": [
    "df_train.shape"
   ]
  },
  {
   "cell_type": "code",
   "execution_count": 830,
   "id": "b12f73cd-0a07-4ced-aa1b-ed92a2f1d3b1",
   "metadata": {},
   "outputs": [],
   "source": [
    "df_test['cluster'] = km_final.predict(scaler.transform(df_test[final_cols]))"
   ]
  },
  {
   "cell_type": "code",
   "execution_count": 831,
   "id": "264bbdc9-5937-44bb-ace2-e7528568cafd",
   "metadata": {},
   "outputs": [
    {
     "data": {
      "text/html": [
       "<div>\n",
       "<style scoped>\n",
       "    .dataframe tbody tr th:only-of-type {\n",
       "        vertical-align: middle;\n",
       "    }\n",
       "\n",
       "    .dataframe tbody tr th {\n",
       "        vertical-align: top;\n",
       "    }\n",
       "\n",
       "    .dataframe thead th {\n",
       "        text-align: right;\n",
       "    }\n",
       "</style>\n",
       "<table border=\"1\" class=\"dataframe\">\n",
       "  <thead>\n",
       "    <tr style=\"text-align: right;\">\n",
       "      <th></th>\n",
       "      <th>ID</th>\n",
       "      <th>var3</th>\n",
       "      <th>var15</th>\n",
       "      <th>imp_ent_var16_ult1</th>\n",
       "      <th>imp_op_var39_comer_ult1</th>\n",
       "      <th>imp_op_var39_comer_ult3</th>\n",
       "      <th>imp_op_var40_comer_ult1</th>\n",
       "      <th>imp_op_var40_comer_ult3</th>\n",
       "      <th>imp_op_var40_efect_ult1</th>\n",
       "      <th>imp_op_var40_efect_ult3</th>\n",
       "      <th>imp_op_var40_ult1</th>\n",
       "      <th>imp_op_var41_comer_ult1</th>\n",
       "      <th>imp_op_var41_comer_ult3</th>\n",
       "      <th>imp_op_var41_efect_ult1</th>\n",
       "      <th>imp_op_var41_efect_ult3</th>\n",
       "      <th>...</th>\n",
       "      <th>saldo_medio_var29_ult3</th>\n",
       "      <th>saldo_medio_var33_hace2</th>\n",
       "      <th>saldo_medio_var33_hace3</th>\n",
       "      <th>saldo_medio_var33_ult1</th>\n",
       "      <th>saldo_medio_var33_ult3</th>\n",
       "      <th>saldo_medio_var44_hace2</th>\n",
       "      <th>saldo_medio_var44_hace3</th>\n",
       "      <th>saldo_medio_var44_ult1</th>\n",
       "      <th>saldo_medio_var44_ult3</th>\n",
       "      <th>var38</th>\n",
       "      <th>TARGET</th>\n",
       "      <th>score</th>\n",
       "      <th>nota</th>\n",
       "      <th>pred_final</th>\n",
       "      <th>cluster</th>\n",
       "    </tr>\n",
       "  </thead>\n",
       "  <tbody>\n",
       "    <tr>\n",
       "      <th>0</th>\n",
       "      <td>14836</td>\n",
       "      <td>2</td>\n",
       "      <td>24</td>\n",
       "      <td>0.0</td>\n",
       "      <td>0.00</td>\n",
       "      <td>0.00</td>\n",
       "      <td>0.0</td>\n",
       "      <td>0.0</td>\n",
       "      <td>0.0</td>\n",
       "      <td>0.0</td>\n",
       "      <td>0.0</td>\n",
       "      <td>0.00</td>\n",
       "      <td>0.00</td>\n",
       "      <td>0.0</td>\n",
       "      <td>0.0</td>\n",
       "      <td>...</td>\n",
       "      <td>0.0</td>\n",
       "      <td>0.0</td>\n",
       "      <td>0.0</td>\n",
       "      <td>0.0</td>\n",
       "      <td>0.0</td>\n",
       "      <td>0.0</td>\n",
       "      <td>0.0</td>\n",
       "      <td>0.0</td>\n",
       "      <td>0.0</td>\n",
       "      <td>73806.810000</td>\n",
       "      <td>0</td>\n",
       "      <td>0.029534</td>\n",
       "      <td>nota_5</td>\n",
       "      <td>False</td>\n",
       "      <td>0</td>\n",
       "    </tr>\n",
       "    <tr>\n",
       "      <th>1</th>\n",
       "      <td>141428</td>\n",
       "      <td>2</td>\n",
       "      <td>23</td>\n",
       "      <td>0.0</td>\n",
       "      <td>0.00</td>\n",
       "      <td>0.00</td>\n",
       "      <td>0.0</td>\n",
       "      <td>0.0</td>\n",
       "      <td>0.0</td>\n",
       "      <td>0.0</td>\n",
       "      <td>0.0</td>\n",
       "      <td>0.00</td>\n",
       "      <td>0.00</td>\n",
       "      <td>0.0</td>\n",
       "      <td>0.0</td>\n",
       "      <td>...</td>\n",
       "      <td>0.0</td>\n",
       "      <td>0.0</td>\n",
       "      <td>0.0</td>\n",
       "      <td>0.0</td>\n",
       "      <td>0.0</td>\n",
       "      <td>0.0</td>\n",
       "      <td>0.0</td>\n",
       "      <td>0.0</td>\n",
       "      <td>0.0</td>\n",
       "      <td>54606.780000</td>\n",
       "      <td>0</td>\n",
       "      <td>0.131123</td>\n",
       "      <td>nota_3</td>\n",
       "      <td>False</td>\n",
       "      <td>1</td>\n",
       "    </tr>\n",
       "    <tr>\n",
       "      <th>2</th>\n",
       "      <td>143561</td>\n",
       "      <td>2</td>\n",
       "      <td>23</td>\n",
       "      <td>0.0</td>\n",
       "      <td>0.00</td>\n",
       "      <td>0.00</td>\n",
       "      <td>0.0</td>\n",
       "      <td>0.0</td>\n",
       "      <td>0.0</td>\n",
       "      <td>0.0</td>\n",
       "      <td>0.0</td>\n",
       "      <td>0.00</td>\n",
       "      <td>0.00</td>\n",
       "      <td>0.0</td>\n",
       "      <td>0.0</td>\n",
       "      <td>...</td>\n",
       "      <td>0.0</td>\n",
       "      <td>0.0</td>\n",
       "      <td>0.0</td>\n",
       "      <td>0.0</td>\n",
       "      <td>0.0</td>\n",
       "      <td>0.0</td>\n",
       "      <td>0.0</td>\n",
       "      <td>0.0</td>\n",
       "      <td>0.0</td>\n",
       "      <td>117310.979016</td>\n",
       "      <td>0</td>\n",
       "      <td>0.005700</td>\n",
       "      <td>nota_5</td>\n",
       "      <td>False</td>\n",
       "      <td>0</td>\n",
       "    </tr>\n",
       "    <tr>\n",
       "      <th>3</th>\n",
       "      <td>29072</td>\n",
       "      <td>2</td>\n",
       "      <td>30</td>\n",
       "      <td>30.0</td>\n",
       "      <td>22.77</td>\n",
       "      <td>109.59</td>\n",
       "      <td>0.0</td>\n",
       "      <td>0.0</td>\n",
       "      <td>0.0</td>\n",
       "      <td>0.0</td>\n",
       "      <td>0.0</td>\n",
       "      <td>22.77</td>\n",
       "      <td>109.59</td>\n",
       "      <td>0.0</td>\n",
       "      <td>0.0</td>\n",
       "      <td>...</td>\n",
       "      <td>0.0</td>\n",
       "      <td>0.0</td>\n",
       "      <td>0.0</td>\n",
       "      <td>0.0</td>\n",
       "      <td>0.0</td>\n",
       "      <td>0.0</td>\n",
       "      <td>0.0</td>\n",
       "      <td>0.0</td>\n",
       "      <td>0.0</td>\n",
       "      <td>117310.979016</td>\n",
       "      <td>0</td>\n",
       "      <td>0.354038</td>\n",
       "      <td>nota_1</td>\n",
       "      <td>True</td>\n",
       "      <td>0</td>\n",
       "    </tr>\n",
       "    <tr>\n",
       "      <th>4</th>\n",
       "      <td>99366</td>\n",
       "      <td>2</td>\n",
       "      <td>24</td>\n",
       "      <td>0.0</td>\n",
       "      <td>0.00</td>\n",
       "      <td>0.00</td>\n",
       "      <td>0.0</td>\n",
       "      <td>0.0</td>\n",
       "      <td>0.0</td>\n",
       "      <td>0.0</td>\n",
       "      <td>0.0</td>\n",
       "      <td>0.00</td>\n",
       "      <td>0.00</td>\n",
       "      <td>0.0</td>\n",
       "      <td>0.0</td>\n",
       "      <td>...</td>\n",
       "      <td>0.0</td>\n",
       "      <td>0.0</td>\n",
       "      <td>0.0</td>\n",
       "      <td>0.0</td>\n",
       "      <td>0.0</td>\n",
       "      <td>0.0</td>\n",
       "      <td>0.0</td>\n",
       "      <td>0.0</td>\n",
       "      <td>0.0</td>\n",
       "      <td>117310.979016</td>\n",
       "      <td>0</td>\n",
       "      <td>0.035913</td>\n",
       "      <td>nota_4</td>\n",
       "      <td>False</td>\n",
       "      <td>0</td>\n",
       "    </tr>\n",
       "  </tbody>\n",
       "</table>\n",
       "<p>5 rows × 375 columns</p>\n",
       "</div>"
      ],
      "text/plain": [
       "       ID  var3  var15  imp_ent_var16_ult1  imp_op_var39_comer_ult1  \\\n",
       "0   14836     2     24                 0.0                     0.00   \n",
       "1  141428     2     23                 0.0                     0.00   \n",
       "2  143561     2     23                 0.0                     0.00   \n",
       "3   29072     2     30                30.0                    22.77   \n",
       "4   99366     2     24                 0.0                     0.00   \n",
       "\n",
       "   imp_op_var39_comer_ult3  imp_op_var40_comer_ult1  imp_op_var40_comer_ult3  \\\n",
       "0                     0.00                      0.0                      0.0   \n",
       "1                     0.00                      0.0                      0.0   \n",
       "2                     0.00                      0.0                      0.0   \n",
       "3                   109.59                      0.0                      0.0   \n",
       "4                     0.00                      0.0                      0.0   \n",
       "\n",
       "   imp_op_var40_efect_ult1  imp_op_var40_efect_ult3  imp_op_var40_ult1  \\\n",
       "0                      0.0                      0.0                0.0   \n",
       "1                      0.0                      0.0                0.0   \n",
       "2                      0.0                      0.0                0.0   \n",
       "3                      0.0                      0.0                0.0   \n",
       "4                      0.0                      0.0                0.0   \n",
       "\n",
       "   imp_op_var41_comer_ult1  imp_op_var41_comer_ult3  imp_op_var41_efect_ult1  \\\n",
       "0                     0.00                     0.00                      0.0   \n",
       "1                     0.00                     0.00                      0.0   \n",
       "2                     0.00                     0.00                      0.0   \n",
       "3                    22.77                   109.59                      0.0   \n",
       "4                     0.00                     0.00                      0.0   \n",
       "\n",
       "   imp_op_var41_efect_ult3  ...  saldo_medio_var29_ult3  \\\n",
       "0                      0.0  ...                     0.0   \n",
       "1                      0.0  ...                     0.0   \n",
       "2                      0.0  ...                     0.0   \n",
       "3                      0.0  ...                     0.0   \n",
       "4                      0.0  ...                     0.0   \n",
       "\n",
       "   saldo_medio_var33_hace2  saldo_medio_var33_hace3  saldo_medio_var33_ult1  \\\n",
       "0                      0.0                      0.0                     0.0   \n",
       "1                      0.0                      0.0                     0.0   \n",
       "2                      0.0                      0.0                     0.0   \n",
       "3                      0.0                      0.0                     0.0   \n",
       "4                      0.0                      0.0                     0.0   \n",
       "\n",
       "   saldo_medio_var33_ult3  saldo_medio_var44_hace2  saldo_medio_var44_hace3  \\\n",
       "0                     0.0                      0.0                      0.0   \n",
       "1                     0.0                      0.0                      0.0   \n",
       "2                     0.0                      0.0                      0.0   \n",
       "3                     0.0                      0.0                      0.0   \n",
       "4                     0.0                      0.0                      0.0   \n",
       "\n",
       "   saldo_medio_var44_ult1  saldo_medio_var44_ult3          var38  TARGET  \\\n",
       "0                     0.0                     0.0   73806.810000       0   \n",
       "1                     0.0                     0.0   54606.780000       0   \n",
       "2                     0.0                     0.0  117310.979016       0   \n",
       "3                     0.0                     0.0  117310.979016       0   \n",
       "4                     0.0                     0.0  117310.979016       0   \n",
       "\n",
       "      score    nota  pred_final  cluster  \n",
       "0  0.029534  nota_5       False        0  \n",
       "1  0.131123  nota_3       False        1  \n",
       "2  0.005700  nota_5       False        0  \n",
       "3  0.354038  nota_1        True        0  \n",
       "4  0.035913  nota_4       False        0  \n",
       "\n",
       "[5 rows x 375 columns]"
      ]
     },
     "execution_count": 831,
     "metadata": {},
     "output_type": "execute_result"
    }
   ],
   "source": [
    "df_test.head()"
   ]
  },
  {
   "cell_type": "code",
   "execution_count": 832,
   "id": "03ea29f1-4aa3-45c6-bfa1-bc5dd9e6ca84",
   "metadata": {},
   "outputs": [
    {
     "data": {
      "text/plain": [
       "0    11438\n",
       "1     6119\n",
       "4     4203\n",
       "3      522\n",
       "6      408\n",
       "2      102\n",
       "7       10\n",
       "8        3\n",
       "5        1\n",
       "Name: cluster, dtype: int64"
      ]
     },
     "execution_count": 832,
     "metadata": {},
     "output_type": "execute_result"
    }
   ],
   "source": [
    "df_test['cluster'].value_counts()"
   ]
  },
  {
   "cell_type": "markdown",
   "id": "4008b87f-c7cf-44c1-aa6d-3fced691b043",
   "metadata": {},
   "source": [
    "Como ficamos com grupos muito pequenos, vou reduzir o k para 5..."
   ]
  },
  {
   "cell_type": "code",
   "execution_count": 845,
   "id": "8aa2e8af-d595-4832-8a4d-bbdfc86972e8",
   "metadata": {},
   "outputs": [],
   "source": [
    "km_final = KMeans(n_clusters=5, n_init=10, random_state=123).fit(X_clusters_scaled)"
   ]
  },
  {
   "cell_type": "code",
   "execution_count": 846,
   "id": "8af50282-fed9-4666-92d6-a6f455d111bd",
   "metadata": {},
   "outputs": [],
   "source": [
    "df_test['cluster'] = km_final.predict(scaler.transform(df_test[final_cols]))"
   ]
  },
  {
   "cell_type": "code",
   "execution_count": 847,
   "id": "f3c1edd7-4b6a-4389-b011-d589f375bbd8",
   "metadata": {},
   "outputs": [
    {
     "data": {
      "text/html": [
       "<div>\n",
       "<style scoped>\n",
       "    .dataframe tbody tr th:only-of-type {\n",
       "        vertical-align: middle;\n",
       "    }\n",
       "\n",
       "    .dataframe tbody tr th {\n",
       "        vertical-align: top;\n",
       "    }\n",
       "\n",
       "    .dataframe thead th {\n",
       "        text-align: right;\n",
       "    }\n",
       "</style>\n",
       "<table border=\"1\" class=\"dataframe\">\n",
       "  <thead>\n",
       "    <tr style=\"text-align: right;\">\n",
       "      <th></th>\n",
       "      <th>ID</th>\n",
       "      <th>var3</th>\n",
       "      <th>var15</th>\n",
       "      <th>imp_ent_var16_ult1</th>\n",
       "      <th>imp_op_var39_comer_ult1</th>\n",
       "      <th>imp_op_var39_comer_ult3</th>\n",
       "      <th>imp_op_var40_comer_ult1</th>\n",
       "      <th>imp_op_var40_comer_ult3</th>\n",
       "      <th>imp_op_var40_efect_ult1</th>\n",
       "      <th>imp_op_var40_efect_ult3</th>\n",
       "      <th>imp_op_var40_ult1</th>\n",
       "      <th>imp_op_var41_comer_ult1</th>\n",
       "      <th>imp_op_var41_comer_ult3</th>\n",
       "      <th>imp_op_var41_efect_ult1</th>\n",
       "      <th>imp_op_var41_efect_ult3</th>\n",
       "      <th>...</th>\n",
       "      <th>saldo_medio_var29_ult3</th>\n",
       "      <th>saldo_medio_var33_hace2</th>\n",
       "      <th>saldo_medio_var33_hace3</th>\n",
       "      <th>saldo_medio_var33_ult1</th>\n",
       "      <th>saldo_medio_var33_ult3</th>\n",
       "      <th>saldo_medio_var44_hace2</th>\n",
       "      <th>saldo_medio_var44_hace3</th>\n",
       "      <th>saldo_medio_var44_ult1</th>\n",
       "      <th>saldo_medio_var44_ult3</th>\n",
       "      <th>var38</th>\n",
       "      <th>TARGET</th>\n",
       "      <th>score</th>\n",
       "      <th>nota</th>\n",
       "      <th>pred_final</th>\n",
       "      <th>cluster</th>\n",
       "    </tr>\n",
       "  </thead>\n",
       "  <tbody>\n",
       "    <tr>\n",
       "      <th>0</th>\n",
       "      <td>14836</td>\n",
       "      <td>2</td>\n",
       "      <td>24</td>\n",
       "      <td>0.0</td>\n",
       "      <td>0.00</td>\n",
       "      <td>0.00</td>\n",
       "      <td>0.0</td>\n",
       "      <td>0.0</td>\n",
       "      <td>0.0</td>\n",
       "      <td>0.0</td>\n",
       "      <td>0.0</td>\n",
       "      <td>0.00</td>\n",
       "      <td>0.00</td>\n",
       "      <td>0.0</td>\n",
       "      <td>0.0</td>\n",
       "      <td>...</td>\n",
       "      <td>0.0</td>\n",
       "      <td>0.0</td>\n",
       "      <td>0.0</td>\n",
       "      <td>0.0</td>\n",
       "      <td>0.0</td>\n",
       "      <td>0.0</td>\n",
       "      <td>0.0</td>\n",
       "      <td>0.0</td>\n",
       "      <td>0.0</td>\n",
       "      <td>73806.810000</td>\n",
       "      <td>0</td>\n",
       "      <td>0.029534</td>\n",
       "      <td>nota_5</td>\n",
       "      <td>False</td>\n",
       "      <td>1</td>\n",
       "    </tr>\n",
       "    <tr>\n",
       "      <th>1</th>\n",
       "      <td>141428</td>\n",
       "      <td>2</td>\n",
       "      <td>23</td>\n",
       "      <td>0.0</td>\n",
       "      <td>0.00</td>\n",
       "      <td>0.00</td>\n",
       "      <td>0.0</td>\n",
       "      <td>0.0</td>\n",
       "      <td>0.0</td>\n",
       "      <td>0.0</td>\n",
       "      <td>0.0</td>\n",
       "      <td>0.00</td>\n",
       "      <td>0.00</td>\n",
       "      <td>0.0</td>\n",
       "      <td>0.0</td>\n",
       "      <td>...</td>\n",
       "      <td>0.0</td>\n",
       "      <td>0.0</td>\n",
       "      <td>0.0</td>\n",
       "      <td>0.0</td>\n",
       "      <td>0.0</td>\n",
       "      <td>0.0</td>\n",
       "      <td>0.0</td>\n",
       "      <td>0.0</td>\n",
       "      <td>0.0</td>\n",
       "      <td>54606.780000</td>\n",
       "      <td>0</td>\n",
       "      <td>0.131123</td>\n",
       "      <td>nota_3</td>\n",
       "      <td>False</td>\n",
       "      <td>2</td>\n",
       "    </tr>\n",
       "    <tr>\n",
       "      <th>2</th>\n",
       "      <td>143561</td>\n",
       "      <td>2</td>\n",
       "      <td>23</td>\n",
       "      <td>0.0</td>\n",
       "      <td>0.00</td>\n",
       "      <td>0.00</td>\n",
       "      <td>0.0</td>\n",
       "      <td>0.0</td>\n",
       "      <td>0.0</td>\n",
       "      <td>0.0</td>\n",
       "      <td>0.0</td>\n",
       "      <td>0.00</td>\n",
       "      <td>0.00</td>\n",
       "      <td>0.0</td>\n",
       "      <td>0.0</td>\n",
       "      <td>...</td>\n",
       "      <td>0.0</td>\n",
       "      <td>0.0</td>\n",
       "      <td>0.0</td>\n",
       "      <td>0.0</td>\n",
       "      <td>0.0</td>\n",
       "      <td>0.0</td>\n",
       "      <td>0.0</td>\n",
       "      <td>0.0</td>\n",
       "      <td>0.0</td>\n",
       "      <td>117310.979016</td>\n",
       "      <td>0</td>\n",
       "      <td>0.005700</td>\n",
       "      <td>nota_5</td>\n",
       "      <td>False</td>\n",
       "      <td>1</td>\n",
       "    </tr>\n",
       "    <tr>\n",
       "      <th>3</th>\n",
       "      <td>29072</td>\n",
       "      <td>2</td>\n",
       "      <td>30</td>\n",
       "      <td>30.0</td>\n",
       "      <td>22.77</td>\n",
       "      <td>109.59</td>\n",
       "      <td>0.0</td>\n",
       "      <td>0.0</td>\n",
       "      <td>0.0</td>\n",
       "      <td>0.0</td>\n",
       "      <td>0.0</td>\n",
       "      <td>22.77</td>\n",
       "      <td>109.59</td>\n",
       "      <td>0.0</td>\n",
       "      <td>0.0</td>\n",
       "      <td>...</td>\n",
       "      <td>0.0</td>\n",
       "      <td>0.0</td>\n",
       "      <td>0.0</td>\n",
       "      <td>0.0</td>\n",
       "      <td>0.0</td>\n",
       "      <td>0.0</td>\n",
       "      <td>0.0</td>\n",
       "      <td>0.0</td>\n",
       "      <td>0.0</td>\n",
       "      <td>117310.979016</td>\n",
       "      <td>0</td>\n",
       "      <td>0.354038</td>\n",
       "      <td>nota_1</td>\n",
       "      <td>True</td>\n",
       "      <td>1</td>\n",
       "    </tr>\n",
       "    <tr>\n",
       "      <th>4</th>\n",
       "      <td>99366</td>\n",
       "      <td>2</td>\n",
       "      <td>24</td>\n",
       "      <td>0.0</td>\n",
       "      <td>0.00</td>\n",
       "      <td>0.00</td>\n",
       "      <td>0.0</td>\n",
       "      <td>0.0</td>\n",
       "      <td>0.0</td>\n",
       "      <td>0.0</td>\n",
       "      <td>0.0</td>\n",
       "      <td>0.00</td>\n",
       "      <td>0.00</td>\n",
       "      <td>0.0</td>\n",
       "      <td>0.0</td>\n",
       "      <td>...</td>\n",
       "      <td>0.0</td>\n",
       "      <td>0.0</td>\n",
       "      <td>0.0</td>\n",
       "      <td>0.0</td>\n",
       "      <td>0.0</td>\n",
       "      <td>0.0</td>\n",
       "      <td>0.0</td>\n",
       "      <td>0.0</td>\n",
       "      <td>0.0</td>\n",
       "      <td>117310.979016</td>\n",
       "      <td>0</td>\n",
       "      <td>0.035913</td>\n",
       "      <td>nota_4</td>\n",
       "      <td>False</td>\n",
       "      <td>1</td>\n",
       "    </tr>\n",
       "  </tbody>\n",
       "</table>\n",
       "<p>5 rows × 375 columns</p>\n",
       "</div>"
      ],
      "text/plain": [
       "       ID  var3  var15  imp_ent_var16_ult1  imp_op_var39_comer_ult1  \\\n",
       "0   14836     2     24                 0.0                     0.00   \n",
       "1  141428     2     23                 0.0                     0.00   \n",
       "2  143561     2     23                 0.0                     0.00   \n",
       "3   29072     2     30                30.0                    22.77   \n",
       "4   99366     2     24                 0.0                     0.00   \n",
       "\n",
       "   imp_op_var39_comer_ult3  imp_op_var40_comer_ult1  imp_op_var40_comer_ult3  \\\n",
       "0                     0.00                      0.0                      0.0   \n",
       "1                     0.00                      0.0                      0.0   \n",
       "2                     0.00                      0.0                      0.0   \n",
       "3                   109.59                      0.0                      0.0   \n",
       "4                     0.00                      0.0                      0.0   \n",
       "\n",
       "   imp_op_var40_efect_ult1  imp_op_var40_efect_ult3  imp_op_var40_ult1  \\\n",
       "0                      0.0                      0.0                0.0   \n",
       "1                      0.0                      0.0                0.0   \n",
       "2                      0.0                      0.0                0.0   \n",
       "3                      0.0                      0.0                0.0   \n",
       "4                      0.0                      0.0                0.0   \n",
       "\n",
       "   imp_op_var41_comer_ult1  imp_op_var41_comer_ult3  imp_op_var41_efect_ult1  \\\n",
       "0                     0.00                     0.00                      0.0   \n",
       "1                     0.00                     0.00                      0.0   \n",
       "2                     0.00                     0.00                      0.0   \n",
       "3                    22.77                   109.59                      0.0   \n",
       "4                     0.00                     0.00                      0.0   \n",
       "\n",
       "   imp_op_var41_efect_ult3  ...  saldo_medio_var29_ult3  \\\n",
       "0                      0.0  ...                     0.0   \n",
       "1                      0.0  ...                     0.0   \n",
       "2                      0.0  ...                     0.0   \n",
       "3                      0.0  ...                     0.0   \n",
       "4                      0.0  ...                     0.0   \n",
       "\n",
       "   saldo_medio_var33_hace2  saldo_medio_var33_hace3  saldo_medio_var33_ult1  \\\n",
       "0                      0.0                      0.0                     0.0   \n",
       "1                      0.0                      0.0                     0.0   \n",
       "2                      0.0                      0.0                     0.0   \n",
       "3                      0.0                      0.0                     0.0   \n",
       "4                      0.0                      0.0                     0.0   \n",
       "\n",
       "   saldo_medio_var33_ult3  saldo_medio_var44_hace2  saldo_medio_var44_hace3  \\\n",
       "0                     0.0                      0.0                      0.0   \n",
       "1                     0.0                      0.0                      0.0   \n",
       "2                     0.0                      0.0                      0.0   \n",
       "3                     0.0                      0.0                      0.0   \n",
       "4                     0.0                      0.0                      0.0   \n",
       "\n",
       "   saldo_medio_var44_ult1  saldo_medio_var44_ult3          var38  TARGET  \\\n",
       "0                     0.0                     0.0   73806.810000       0   \n",
       "1                     0.0                     0.0   54606.780000       0   \n",
       "2                     0.0                     0.0  117310.979016       0   \n",
       "3                     0.0                     0.0  117310.979016       0   \n",
       "4                     0.0                     0.0  117310.979016       0   \n",
       "\n",
       "      score    nota  pred_final  cluster  \n",
       "0  0.029534  nota_5       False        1  \n",
       "1  0.131123  nota_3       False        2  \n",
       "2  0.005700  nota_5       False        1  \n",
       "3  0.354038  nota_1        True        1  \n",
       "4  0.035913  nota_4       False        1  \n",
       "\n",
       "[5 rows x 375 columns]"
      ]
     },
     "execution_count": 847,
     "metadata": {},
     "output_type": "execute_result"
    }
   ],
   "source": [
    "df_test.head()"
   ]
  },
  {
   "cell_type": "code",
   "execution_count": 848,
   "id": "5e9654d7-2a35-4cb2-abef-403ced77f714",
   "metadata": {},
   "outputs": [
    {
     "data": {
      "text/plain": [
       "1    12193\n",
       "2     6119\n",
       "0     3784\n",
       "3      672\n",
       "4       38\n",
       "Name: cluster, dtype: int64"
      ]
     },
     "execution_count": 848,
     "metadata": {},
     "output_type": "execute_result"
    }
   ],
   "source": [
    "df_test['cluster'].value_counts()"
   ]
  },
  {
   "cell_type": "code",
   "execution_count": 854,
   "id": "e7a4aaab-a42d-47d2-a2f1-3212bcffc01d",
   "metadata": {},
   "outputs": [],
   "source": [
    "df_test['lucro'] = df_test.apply(lambda x: 90 if x['score'] >= 0.35 and x['TARGET'] == 1 else 0, axis=1)\n",
    "df_test['prejuizo'] = df_test.apply(lambda x: -10 if x['score'] >= 0.35 and x['TARGET'] == 0 else 0, axis=1)\n",
    "df_test['resultado'] = df_test['lucro'] + df_test['prejuizo']"
   ]
  },
  {
   "cell_type": "code",
   "execution_count": 855,
   "id": "5214ead0-7284-4fae-8c44-95dc6ecc5c0c",
   "metadata": {},
   "outputs": [
    {
     "data": {
      "text/html": [
       "<div>\n",
       "<style scoped>\n",
       "    .dataframe tbody tr th:only-of-type {\n",
       "        vertical-align: middle;\n",
       "    }\n",
       "\n",
       "    .dataframe tbody tr th {\n",
       "        vertical-align: top;\n",
       "    }\n",
       "\n",
       "    .dataframe thead th {\n",
       "        text-align: right;\n",
       "    }\n",
       "</style>\n",
       "<table border=\"1\" class=\"dataframe\">\n",
       "  <thead>\n",
       "    <tr style=\"text-align: right;\">\n",
       "      <th></th>\n",
       "      <th>ID</th>\n",
       "      <th>var3</th>\n",
       "      <th>var15</th>\n",
       "      <th>imp_ent_var16_ult1</th>\n",
       "      <th>imp_op_var39_comer_ult1</th>\n",
       "      <th>imp_op_var39_comer_ult3</th>\n",
       "      <th>imp_op_var40_comer_ult1</th>\n",
       "      <th>imp_op_var40_comer_ult3</th>\n",
       "      <th>imp_op_var40_efect_ult1</th>\n",
       "      <th>imp_op_var40_efect_ult3</th>\n",
       "      <th>imp_op_var40_ult1</th>\n",
       "      <th>imp_op_var41_comer_ult1</th>\n",
       "      <th>imp_op_var41_comer_ult3</th>\n",
       "      <th>imp_op_var41_efect_ult1</th>\n",
       "      <th>imp_op_var41_efect_ult3</th>\n",
       "      <th>...</th>\n",
       "      <th>saldo_medio_var33_ult1</th>\n",
       "      <th>saldo_medio_var33_ult3</th>\n",
       "      <th>saldo_medio_var44_hace2</th>\n",
       "      <th>saldo_medio_var44_hace3</th>\n",
       "      <th>saldo_medio_var44_ult1</th>\n",
       "      <th>saldo_medio_var44_ult3</th>\n",
       "      <th>var38</th>\n",
       "      <th>TARGET</th>\n",
       "      <th>score</th>\n",
       "      <th>nota</th>\n",
       "      <th>pred_final</th>\n",
       "      <th>cluster</th>\n",
       "      <th>lucro</th>\n",
       "      <th>prejuizo</th>\n",
       "      <th>resultado</th>\n",
       "    </tr>\n",
       "  </thead>\n",
       "  <tbody>\n",
       "    <tr>\n",
       "      <th>0</th>\n",
       "      <td>14836</td>\n",
       "      <td>2</td>\n",
       "      <td>24</td>\n",
       "      <td>0.0</td>\n",
       "      <td>0.00</td>\n",
       "      <td>0.00</td>\n",
       "      <td>0.0</td>\n",
       "      <td>0.0</td>\n",
       "      <td>0.0</td>\n",
       "      <td>0.0</td>\n",
       "      <td>0.0</td>\n",
       "      <td>0.00</td>\n",
       "      <td>0.00</td>\n",
       "      <td>0.0</td>\n",
       "      <td>0.0</td>\n",
       "      <td>...</td>\n",
       "      <td>0.0</td>\n",
       "      <td>0.0</td>\n",
       "      <td>0.0</td>\n",
       "      <td>0.0</td>\n",
       "      <td>0.0</td>\n",
       "      <td>0.0</td>\n",
       "      <td>73806.810000</td>\n",
       "      <td>0</td>\n",
       "      <td>0.029534</td>\n",
       "      <td>nota_5</td>\n",
       "      <td>False</td>\n",
       "      <td>1</td>\n",
       "      <td>0</td>\n",
       "      <td>0</td>\n",
       "      <td>0</td>\n",
       "    </tr>\n",
       "    <tr>\n",
       "      <th>1</th>\n",
       "      <td>141428</td>\n",
       "      <td>2</td>\n",
       "      <td>23</td>\n",
       "      <td>0.0</td>\n",
       "      <td>0.00</td>\n",
       "      <td>0.00</td>\n",
       "      <td>0.0</td>\n",
       "      <td>0.0</td>\n",
       "      <td>0.0</td>\n",
       "      <td>0.0</td>\n",
       "      <td>0.0</td>\n",
       "      <td>0.00</td>\n",
       "      <td>0.00</td>\n",
       "      <td>0.0</td>\n",
       "      <td>0.0</td>\n",
       "      <td>...</td>\n",
       "      <td>0.0</td>\n",
       "      <td>0.0</td>\n",
       "      <td>0.0</td>\n",
       "      <td>0.0</td>\n",
       "      <td>0.0</td>\n",
       "      <td>0.0</td>\n",
       "      <td>54606.780000</td>\n",
       "      <td>0</td>\n",
       "      <td>0.131123</td>\n",
       "      <td>nota_3</td>\n",
       "      <td>False</td>\n",
       "      <td>2</td>\n",
       "      <td>0</td>\n",
       "      <td>0</td>\n",
       "      <td>0</td>\n",
       "    </tr>\n",
       "    <tr>\n",
       "      <th>2</th>\n",
       "      <td>143561</td>\n",
       "      <td>2</td>\n",
       "      <td>23</td>\n",
       "      <td>0.0</td>\n",
       "      <td>0.00</td>\n",
       "      <td>0.00</td>\n",
       "      <td>0.0</td>\n",
       "      <td>0.0</td>\n",
       "      <td>0.0</td>\n",
       "      <td>0.0</td>\n",
       "      <td>0.0</td>\n",
       "      <td>0.00</td>\n",
       "      <td>0.00</td>\n",
       "      <td>0.0</td>\n",
       "      <td>0.0</td>\n",
       "      <td>...</td>\n",
       "      <td>0.0</td>\n",
       "      <td>0.0</td>\n",
       "      <td>0.0</td>\n",
       "      <td>0.0</td>\n",
       "      <td>0.0</td>\n",
       "      <td>0.0</td>\n",
       "      <td>117310.979016</td>\n",
       "      <td>0</td>\n",
       "      <td>0.005700</td>\n",
       "      <td>nota_5</td>\n",
       "      <td>False</td>\n",
       "      <td>1</td>\n",
       "      <td>0</td>\n",
       "      <td>0</td>\n",
       "      <td>0</td>\n",
       "    </tr>\n",
       "    <tr>\n",
       "      <th>3</th>\n",
       "      <td>29072</td>\n",
       "      <td>2</td>\n",
       "      <td>30</td>\n",
       "      <td>30.0</td>\n",
       "      <td>22.77</td>\n",
       "      <td>109.59</td>\n",
       "      <td>0.0</td>\n",
       "      <td>0.0</td>\n",
       "      <td>0.0</td>\n",
       "      <td>0.0</td>\n",
       "      <td>0.0</td>\n",
       "      <td>22.77</td>\n",
       "      <td>109.59</td>\n",
       "      <td>0.0</td>\n",
       "      <td>0.0</td>\n",
       "      <td>...</td>\n",
       "      <td>0.0</td>\n",
       "      <td>0.0</td>\n",
       "      <td>0.0</td>\n",
       "      <td>0.0</td>\n",
       "      <td>0.0</td>\n",
       "      <td>0.0</td>\n",
       "      <td>117310.979016</td>\n",
       "      <td>0</td>\n",
       "      <td>0.354038</td>\n",
       "      <td>nota_1</td>\n",
       "      <td>True</td>\n",
       "      <td>1</td>\n",
       "      <td>0</td>\n",
       "      <td>-10</td>\n",
       "      <td>-10</td>\n",
       "    </tr>\n",
       "    <tr>\n",
       "      <th>4</th>\n",
       "      <td>99366</td>\n",
       "      <td>2</td>\n",
       "      <td>24</td>\n",
       "      <td>0.0</td>\n",
       "      <td>0.00</td>\n",
       "      <td>0.00</td>\n",
       "      <td>0.0</td>\n",
       "      <td>0.0</td>\n",
       "      <td>0.0</td>\n",
       "      <td>0.0</td>\n",
       "      <td>0.0</td>\n",
       "      <td>0.00</td>\n",
       "      <td>0.00</td>\n",
       "      <td>0.0</td>\n",
       "      <td>0.0</td>\n",
       "      <td>...</td>\n",
       "      <td>0.0</td>\n",
       "      <td>0.0</td>\n",
       "      <td>0.0</td>\n",
       "      <td>0.0</td>\n",
       "      <td>0.0</td>\n",
       "      <td>0.0</td>\n",
       "      <td>117310.979016</td>\n",
       "      <td>0</td>\n",
       "      <td>0.035913</td>\n",
       "      <td>nota_4</td>\n",
       "      <td>False</td>\n",
       "      <td>1</td>\n",
       "      <td>0</td>\n",
       "      <td>0</td>\n",
       "      <td>0</td>\n",
       "    </tr>\n",
       "  </tbody>\n",
       "</table>\n",
       "<p>5 rows × 378 columns</p>\n",
       "</div>"
      ],
      "text/plain": [
       "       ID  var3  var15  imp_ent_var16_ult1  imp_op_var39_comer_ult1  \\\n",
       "0   14836     2     24                 0.0                     0.00   \n",
       "1  141428     2     23                 0.0                     0.00   \n",
       "2  143561     2     23                 0.0                     0.00   \n",
       "3   29072     2     30                30.0                    22.77   \n",
       "4   99366     2     24                 0.0                     0.00   \n",
       "\n",
       "   imp_op_var39_comer_ult3  imp_op_var40_comer_ult1  imp_op_var40_comer_ult3  \\\n",
       "0                     0.00                      0.0                      0.0   \n",
       "1                     0.00                      0.0                      0.0   \n",
       "2                     0.00                      0.0                      0.0   \n",
       "3                   109.59                      0.0                      0.0   \n",
       "4                     0.00                      0.0                      0.0   \n",
       "\n",
       "   imp_op_var40_efect_ult1  imp_op_var40_efect_ult3  imp_op_var40_ult1  \\\n",
       "0                      0.0                      0.0                0.0   \n",
       "1                      0.0                      0.0                0.0   \n",
       "2                      0.0                      0.0                0.0   \n",
       "3                      0.0                      0.0                0.0   \n",
       "4                      0.0                      0.0                0.0   \n",
       "\n",
       "   imp_op_var41_comer_ult1  imp_op_var41_comer_ult3  imp_op_var41_efect_ult1  \\\n",
       "0                     0.00                     0.00                      0.0   \n",
       "1                     0.00                     0.00                      0.0   \n",
       "2                     0.00                     0.00                      0.0   \n",
       "3                    22.77                   109.59                      0.0   \n",
       "4                     0.00                     0.00                      0.0   \n",
       "\n",
       "   imp_op_var41_efect_ult3  ...  saldo_medio_var33_ult1  \\\n",
       "0                      0.0  ...                     0.0   \n",
       "1                      0.0  ...                     0.0   \n",
       "2                      0.0  ...                     0.0   \n",
       "3                      0.0  ...                     0.0   \n",
       "4                      0.0  ...                     0.0   \n",
       "\n",
       "   saldo_medio_var33_ult3  saldo_medio_var44_hace2  saldo_medio_var44_hace3  \\\n",
       "0                     0.0                      0.0                      0.0   \n",
       "1                     0.0                      0.0                      0.0   \n",
       "2                     0.0                      0.0                      0.0   \n",
       "3                     0.0                      0.0                      0.0   \n",
       "4                     0.0                      0.0                      0.0   \n",
       "\n",
       "   saldo_medio_var44_ult1  saldo_medio_var44_ult3          var38  TARGET  \\\n",
       "0                     0.0                     0.0   73806.810000       0   \n",
       "1                     0.0                     0.0   54606.780000       0   \n",
       "2                     0.0                     0.0  117310.979016       0   \n",
       "3                     0.0                     0.0  117310.979016       0   \n",
       "4                     0.0                     0.0  117310.979016       0   \n",
       "\n",
       "      score    nota  pred_final  cluster  lucro  prejuizo  resultado  \n",
       "0  0.029534  nota_5       False        1      0         0          0  \n",
       "1  0.131123  nota_3       False        2      0         0          0  \n",
       "2  0.005700  nota_5       False        1      0         0          0  \n",
       "3  0.354038  nota_1        True        1      0       -10        -10  \n",
       "4  0.035913  nota_4       False        1      0         0          0  \n",
       "\n",
       "[5 rows x 378 columns]"
      ]
     },
     "execution_count": 855,
     "metadata": {},
     "output_type": "execute_result"
    }
   ],
   "source": [
    "df_test.head()"
   ]
  },
  {
   "cell_type": "code",
   "execution_count": 857,
   "id": "9bbc0e87-36a2-4210-a771-0dd7e227bf97",
   "metadata": {},
   "outputs": [
    {
     "data": {
      "text/plain": [
       "cluster\n",
       "4    0.000000\n",
       "1    0.041827\n",
       "3    0.267857\n",
       "0    1.337209\n",
       "2    3.126328\n",
       "Name: resultado, dtype: float64"
      ]
     },
     "execution_count": 857,
     "metadata": {},
     "output_type": "execute_result"
    }
   ],
   "source": [
    "df_test.groupby('cluster')['resultado'].mean().sort_values()"
   ]
  },
  {
   "cell_type": "markdown",
   "id": "76719223-301a-4238-9aab-0828175b570d",
   "metadata": {},
   "source": [
    "Os grupos 2, 0 e 3 possuem, respectivamente, maior lucro esperado por cliente, levando em consideração o output do nosso modelo e as notas atribuídas aos clientes nos exercícios anteriores."
   ]
  },
  {
   "cell_type": "markdown",
   "id": "e90cc6d5-8c48-4f3e-8b6e-889e032fa158",
   "metadata": {
    "tags": []
   },
   "source": [
    "### 4.2.5. Adaptando a Função para Escorar os Clusters"
   ]
  },
  {
   "cell_type": "code",
   "execution_count": 858,
   "id": "32431cf9-468a-4753-a460-2c650a35567f",
   "metadata": {},
   "outputs": [],
   "source": [
    "full_pipe['scaler_cluster'] = scaler\n",
    "full_pipe['model_cluster'] = km_final"
   ]
  },
  {
   "cell_type": "code",
   "execution_count": 859,
   "id": "115c0f06-ca55-46bd-af99-ad1e86f832b3",
   "metadata": {},
   "outputs": [],
   "source": [
    "file_model = os.path.join(MODELS, 'model_v1.pkl')\n",
    "pickle.dump(full_pipe, open(file_model, 'wb'))"
   ]
  },
  {
   "cell_type": "code",
   "execution_count": 865,
   "id": "12e39e7c-c7a9-43fd-8124-98d5f4a5e528",
   "metadata": {},
   "outputs": [],
   "source": [
    "def escora_base(df):\n",
    "    \n",
    "    # Carrega o modelo\n",
    "    model_archive = os.listdir(os.path.join(MODELS))[0] # Vai buscar o primeiro arquivo da pasta MODELS\n",
    "    filename = os.path.join(MODELS, model_archive)\n",
    "    loaded_model = pickle.load(open(filename, 'rb'))\n",
    "    \n",
    "    # Escora a base\n",
    "    X = df[loaded_model['cols']]\n",
    "    score = loaded_model['model'].predict_proba(X)[:, 1]\n",
    "    df['score'] = score\n",
    "    \n",
    "    # Calcula as notas\n",
    "    cuts = loaded_model['cuts_notas']\n",
    "    notas = loaded_model['label_notas']\n",
    "    df['nota'] = pd.cut(df['score'], bins=cuts, labels=notas, include_lowest=True)\n",
    "    try:\n",
    "        df['nota'] = df['nota'].cat.add_categories('nota_1')\n",
    "    except:\n",
    "        pass\n",
    "    df['nota'].fillna('nota_1', inplace=True)\n",
    "    \n",
    "    # Atribui os clusters\n",
    "    X_scaled = loaded_model['scaler_cluster'].transform(X)\n",
    "    clusters = loaded_model['model_cluster'].predict(X_scaled)\n",
    "    df['cluster'] = clusters\n",
    "    \n",
    "    # Escreve a base com a data de hoje\n",
    "    today = datetime.date.today().strftime('%Y%m%d')\n",
    "    df_output_name = f'output_{today}_with_clusters.csv'\n",
    "    df.to_csv(os.path.join(DATA_OUTPUT, df_output_name), index=False)\n",
    "    \n",
    "    # return df"
   ]
  },
  {
   "cell_type": "markdown",
   "id": "97cf8a85-b676-403b-94c3-5e3f5d7b4a6b",
   "metadata": {},
   "source": [
    "Vamos testar com a base de teste do exercício para ver se funcionou..."
   ]
  },
  {
   "cell_type": "code",
   "execution_count": 866,
   "id": "a57e0093-7fec-4ff2-8683-f10788154aa7",
   "metadata": {},
   "outputs": [],
   "source": [
    "escora_base(df_teste_ex)"
   ]
  },
  {
   "cell_type": "code",
   "execution_count": 867,
   "id": "6eff8f33-1865-46e2-8d94-b37353459f37",
   "metadata": {},
   "outputs": [],
   "source": [
    "df_output_clusters = pd.read_csv(os.path.join(DATA_OUTPUT, 'output_20220128_with_clusters.csv'))"
   ]
  },
  {
   "cell_type": "code",
   "execution_count": 868,
   "id": "21711f2e-4939-46c5-855b-8ee41e046181",
   "metadata": {},
   "outputs": [
    {
     "data": {
      "text/html": [
       "<div>\n",
       "<style scoped>\n",
       "    .dataframe tbody tr th:only-of-type {\n",
       "        vertical-align: middle;\n",
       "    }\n",
       "\n",
       "    .dataframe tbody tr th {\n",
       "        vertical-align: top;\n",
       "    }\n",
       "\n",
       "    .dataframe thead th {\n",
       "        text-align: right;\n",
       "    }\n",
       "</style>\n",
       "<table border=\"1\" class=\"dataframe\">\n",
       "  <thead>\n",
       "    <tr style=\"text-align: right;\">\n",
       "      <th></th>\n",
       "      <th>ID</th>\n",
       "      <th>var3</th>\n",
       "      <th>var15</th>\n",
       "      <th>imp_ent_var16_ult1</th>\n",
       "      <th>imp_op_var39_comer_ult1</th>\n",
       "      <th>imp_op_var39_comer_ult3</th>\n",
       "      <th>imp_op_var40_comer_ult1</th>\n",
       "      <th>imp_op_var40_comer_ult3</th>\n",
       "      <th>imp_op_var40_efect_ult1</th>\n",
       "      <th>imp_op_var40_efect_ult3</th>\n",
       "      <th>imp_op_var40_ult1</th>\n",
       "      <th>imp_op_var41_comer_ult1</th>\n",
       "      <th>imp_op_var41_comer_ult3</th>\n",
       "      <th>imp_op_var41_efect_ult1</th>\n",
       "      <th>imp_op_var41_efect_ult3</th>\n",
       "      <th>...</th>\n",
       "      <th>saldo_medio_var29_hace3</th>\n",
       "      <th>saldo_medio_var29_ult1</th>\n",
       "      <th>saldo_medio_var29_ult3</th>\n",
       "      <th>saldo_medio_var33_hace2</th>\n",
       "      <th>saldo_medio_var33_hace3</th>\n",
       "      <th>saldo_medio_var33_ult1</th>\n",
       "      <th>saldo_medio_var33_ult3</th>\n",
       "      <th>saldo_medio_var44_hace2</th>\n",
       "      <th>saldo_medio_var44_hace3</th>\n",
       "      <th>saldo_medio_var44_ult1</th>\n",
       "      <th>saldo_medio_var44_ult3</th>\n",
       "      <th>var38</th>\n",
       "      <th>score</th>\n",
       "      <th>nota</th>\n",
       "      <th>cluster</th>\n",
       "    </tr>\n",
       "  </thead>\n",
       "  <tbody>\n",
       "    <tr>\n",
       "      <th>0</th>\n",
       "      <td>2</td>\n",
       "      <td>2</td>\n",
       "      <td>32</td>\n",
       "      <td>0.0</td>\n",
       "      <td>0.0</td>\n",
       "      <td>0.0</td>\n",
       "      <td>0.0</td>\n",
       "      <td>0.0</td>\n",
       "      <td>0.0</td>\n",
       "      <td>0.0</td>\n",
       "      <td>0.0</td>\n",
       "      <td>0.0</td>\n",
       "      <td>0.0</td>\n",
       "      <td>0.0</td>\n",
       "      <td>0.0</td>\n",
       "      <td>...</td>\n",
       "      <td>0</td>\n",
       "      <td>0.0</td>\n",
       "      <td>0.0</td>\n",
       "      <td>0.0</td>\n",
       "      <td>0.0</td>\n",
       "      <td>0.0</td>\n",
       "      <td>0.0</td>\n",
       "      <td>0.0</td>\n",
       "      <td>0.0</td>\n",
       "      <td>0.0</td>\n",
       "      <td>0.0</td>\n",
       "      <td>40532.10</td>\n",
       "      <td>0.297239</td>\n",
       "      <td>nota_2</td>\n",
       "      <td>1</td>\n",
       "    </tr>\n",
       "    <tr>\n",
       "      <th>1</th>\n",
       "      <td>5</td>\n",
       "      <td>2</td>\n",
       "      <td>35</td>\n",
       "      <td>0.0</td>\n",
       "      <td>0.0</td>\n",
       "      <td>0.0</td>\n",
       "      <td>0.0</td>\n",
       "      <td>0.0</td>\n",
       "      <td>0.0</td>\n",
       "      <td>0.0</td>\n",
       "      <td>0.0</td>\n",
       "      <td>0.0</td>\n",
       "      <td>0.0</td>\n",
       "      <td>0.0</td>\n",
       "      <td>0.0</td>\n",
       "      <td>...</td>\n",
       "      <td>0</td>\n",
       "      <td>0.0</td>\n",
       "      <td>0.0</td>\n",
       "      <td>0.0</td>\n",
       "      <td>0.0</td>\n",
       "      <td>0.0</td>\n",
       "      <td>0.0</td>\n",
       "      <td>0.0</td>\n",
       "      <td>0.0</td>\n",
       "      <td>0.0</td>\n",
       "      <td>0.0</td>\n",
       "      <td>45486.72</td>\n",
       "      <td>0.196125</td>\n",
       "      <td>nota_2</td>\n",
       "      <td>1</td>\n",
       "    </tr>\n",
       "    <tr>\n",
       "      <th>2</th>\n",
       "      <td>6</td>\n",
       "      <td>2</td>\n",
       "      <td>23</td>\n",
       "      <td>0.0</td>\n",
       "      <td>0.0</td>\n",
       "      <td>0.0</td>\n",
       "      <td>0.0</td>\n",
       "      <td>0.0</td>\n",
       "      <td>0.0</td>\n",
       "      <td>0.0</td>\n",
       "      <td>0.0</td>\n",
       "      <td>0.0</td>\n",
       "      <td>0.0</td>\n",
       "      <td>60.0</td>\n",
       "      <td>60.0</td>\n",
       "      <td>...</td>\n",
       "      <td>0</td>\n",
       "      <td>0.0</td>\n",
       "      <td>0.0</td>\n",
       "      <td>0.0</td>\n",
       "      <td>0.0</td>\n",
       "      <td>0.0</td>\n",
       "      <td>0.0</td>\n",
       "      <td>0.0</td>\n",
       "      <td>0.0</td>\n",
       "      <td>0.0</td>\n",
       "      <td>0.0</td>\n",
       "      <td>46993.95</td>\n",
       "      <td>0.019511</td>\n",
       "      <td>nota_5</td>\n",
       "      <td>1</td>\n",
       "    </tr>\n",
       "    <tr>\n",
       "      <th>3</th>\n",
       "      <td>7</td>\n",
       "      <td>2</td>\n",
       "      <td>24</td>\n",
       "      <td>0.0</td>\n",
       "      <td>0.0</td>\n",
       "      <td>0.0</td>\n",
       "      <td>0.0</td>\n",
       "      <td>0.0</td>\n",
       "      <td>0.0</td>\n",
       "      <td>0.0</td>\n",
       "      <td>0.0</td>\n",
       "      <td>0.0</td>\n",
       "      <td>0.0</td>\n",
       "      <td>0.0</td>\n",
       "      <td>0.0</td>\n",
       "      <td>...</td>\n",
       "      <td>0</td>\n",
       "      <td>0.0</td>\n",
       "      <td>0.0</td>\n",
       "      <td>0.0</td>\n",
       "      <td>0.0</td>\n",
       "      <td>0.0</td>\n",
       "      <td>0.0</td>\n",
       "      <td>0.0</td>\n",
       "      <td>0.0</td>\n",
       "      <td>0.0</td>\n",
       "      <td>0.0</td>\n",
       "      <td>187898.61</td>\n",
       "      <td>0.056449</td>\n",
       "      <td>nota_4</td>\n",
       "      <td>2</td>\n",
       "    </tr>\n",
       "    <tr>\n",
       "      <th>4</th>\n",
       "      <td>9</td>\n",
       "      <td>2</td>\n",
       "      <td>23</td>\n",
       "      <td>0.0</td>\n",
       "      <td>0.0</td>\n",
       "      <td>0.0</td>\n",
       "      <td>0.0</td>\n",
       "      <td>0.0</td>\n",
       "      <td>0.0</td>\n",
       "      <td>0.0</td>\n",
       "      <td>0.0</td>\n",
       "      <td>0.0</td>\n",
       "      <td>0.0</td>\n",
       "      <td>0.0</td>\n",
       "      <td>0.0</td>\n",
       "      <td>...</td>\n",
       "      <td>0</td>\n",
       "      <td>0.0</td>\n",
       "      <td>0.0</td>\n",
       "      <td>0.0</td>\n",
       "      <td>0.0</td>\n",
       "      <td>0.0</td>\n",
       "      <td>0.0</td>\n",
       "      <td>0.0</td>\n",
       "      <td>0.0</td>\n",
       "      <td>0.0</td>\n",
       "      <td>0.0</td>\n",
       "      <td>73649.73</td>\n",
       "      <td>0.007608</td>\n",
       "      <td>nota_5</td>\n",
       "      <td>1</td>\n",
       "    </tr>\n",
       "  </tbody>\n",
       "</table>\n",
       "<p>5 rows × 373 columns</p>\n",
       "</div>"
      ],
      "text/plain": [
       "   ID  var3  var15  imp_ent_var16_ult1  imp_op_var39_comer_ult1  \\\n",
       "0   2     2     32                 0.0                      0.0   \n",
       "1   5     2     35                 0.0                      0.0   \n",
       "2   6     2     23                 0.0                      0.0   \n",
       "3   7     2     24                 0.0                      0.0   \n",
       "4   9     2     23                 0.0                      0.0   \n",
       "\n",
       "   imp_op_var39_comer_ult3  imp_op_var40_comer_ult1  imp_op_var40_comer_ult3  \\\n",
       "0                      0.0                      0.0                      0.0   \n",
       "1                      0.0                      0.0                      0.0   \n",
       "2                      0.0                      0.0                      0.0   \n",
       "3                      0.0                      0.0                      0.0   \n",
       "4                      0.0                      0.0                      0.0   \n",
       "\n",
       "   imp_op_var40_efect_ult1  imp_op_var40_efect_ult3  imp_op_var40_ult1  \\\n",
       "0                      0.0                      0.0                0.0   \n",
       "1                      0.0                      0.0                0.0   \n",
       "2                      0.0                      0.0                0.0   \n",
       "3                      0.0                      0.0                0.0   \n",
       "4                      0.0                      0.0                0.0   \n",
       "\n",
       "   imp_op_var41_comer_ult1  imp_op_var41_comer_ult3  imp_op_var41_efect_ult1  \\\n",
       "0                      0.0                      0.0                      0.0   \n",
       "1                      0.0                      0.0                      0.0   \n",
       "2                      0.0                      0.0                     60.0   \n",
       "3                      0.0                      0.0                      0.0   \n",
       "4                      0.0                      0.0                      0.0   \n",
       "\n",
       "   imp_op_var41_efect_ult3  ...  saldo_medio_var29_hace3  \\\n",
       "0                      0.0  ...                        0   \n",
       "1                      0.0  ...                        0   \n",
       "2                     60.0  ...                        0   \n",
       "3                      0.0  ...                        0   \n",
       "4                      0.0  ...                        0   \n",
       "\n",
       "   saldo_medio_var29_ult1  saldo_medio_var29_ult3  saldo_medio_var33_hace2  \\\n",
       "0                     0.0                     0.0                      0.0   \n",
       "1                     0.0                     0.0                      0.0   \n",
       "2                     0.0                     0.0                      0.0   \n",
       "3                     0.0                     0.0                      0.0   \n",
       "4                     0.0                     0.0                      0.0   \n",
       "\n",
       "   saldo_medio_var33_hace3  saldo_medio_var33_ult1  saldo_medio_var33_ult3  \\\n",
       "0                      0.0                     0.0                     0.0   \n",
       "1                      0.0                     0.0                     0.0   \n",
       "2                      0.0                     0.0                     0.0   \n",
       "3                      0.0                     0.0                     0.0   \n",
       "4                      0.0                     0.0                     0.0   \n",
       "\n",
       "   saldo_medio_var44_hace2  saldo_medio_var44_hace3  saldo_medio_var44_ult1  \\\n",
       "0                      0.0                      0.0                     0.0   \n",
       "1                      0.0                      0.0                     0.0   \n",
       "2                      0.0                      0.0                     0.0   \n",
       "3                      0.0                      0.0                     0.0   \n",
       "4                      0.0                      0.0                     0.0   \n",
       "\n",
       "   saldo_medio_var44_ult3      var38     score    nota  cluster  \n",
       "0                     0.0   40532.10  0.297239  nota_2        1  \n",
       "1                     0.0   45486.72  0.196125  nota_2        1  \n",
       "2                     0.0   46993.95  0.019511  nota_5        1  \n",
       "3                     0.0  187898.61  0.056449  nota_4        2  \n",
       "4                     0.0   73649.73  0.007608  nota_5        1  \n",
       "\n",
       "[5 rows x 373 columns]"
      ]
     },
     "execution_count": 868,
     "metadata": {},
     "output_type": "execute_result"
    }
   ],
   "source": [
    "df_output_clusters.head()"
   ]
  },
  {
   "cell_type": "code",
   "execution_count": 869,
   "id": "4fa9b9ac-e043-4830-9933-250931c17466",
   "metadata": {},
   "outputs": [
    {
     "data": {
      "text/plain": [
       "1    40647\n",
       "2    20082\n",
       "0    12804\n",
       "3     2166\n",
       "4      119\n",
       "Name: cluster, dtype: int64"
      ]
     },
     "execution_count": 869,
     "metadata": {},
     "output_type": "execute_result"
    }
   ],
   "source": [
    "df_output_clusters['cluster'].value_counts()"
   ]
  },
  {
   "cell_type": "markdown",
   "id": "e7709416-5a1e-451d-8d69-3537365239f8",
   "metadata": {},
   "source": [
    "Perfeito... Nossa função agora recebe a base e retorna o score (probabilidade de estar insatisfeito), a nota de 1 a 5 e o cluster ao qual o cliente pertence."
   ]
  },
  {
   "cell_type": "markdown",
   "id": "9be201dc-a210-49aa-8f9d-cb39602c3e69",
   "metadata": {},
   "source": [
    "[Sumário](#Sumário)"
   ]
  },
  {
   "cell_type": "markdown",
   "id": "a9cdf2a8-b934-4221-ad2f-3a3a14f3beb0",
   "metadata": {
    "tags": []
   },
   "source": [
    "### 4.2.6. Possíveis melhorias para a V2"
   ]
  },
  {
   "cell_type": "markdown",
   "id": "e11ef2d6-8f33-4a1b-aa56-e5a1e0c0b4c2",
   "metadata": {},
   "source": [
    "- Fazer um *feature selection* específico para a tarefa de *clustering*\n",
    "- Utilizar métodos de redução de dimensionalidade (PCA)\n",
    "- Testar outros algoritmos de *clustering* (GMM, DBSCAN, Hierárquicos, etc.)\n",
    "- Testar estratégias *soft* ao invés de *hard clustering*"
   ]
  },
  {
   "cell_type": "markdown",
   "id": "06e83274-eed6-48a9-976e-5ac69a24b63c",
   "metadata": {},
   "source": [
    "[Sumário](#Sumário)"
   ]
  },
  {
   "cell_type": "markdown",
   "id": "c7dfd09e-6efd-4fd0-88bb-77b3eb6c223e",
   "metadata": {},
   "source": [
    "***"
   ]
  },
  {
   "cell_type": "markdown",
   "id": "1b07d57d-c543-4bf8-8e44-1bb1cc8cb32a",
   "metadata": {},
   "source": [
    "Testes e Rascunhos"
   ]
  },
  {
   "cell_type": "markdown",
   "id": "3e989577-9b0e-49e6-a22f-b212b20d8147",
   "metadata": {},
   "source": [
    "Deixei aqui os códigos que fui testando ao longo do desenvolvimento. Grande parte deles não funcionou mesmo, mas ainda assim preferi guardá-los para preservar as ideias."
   ]
  },
  {
   "cell_type": "raw",
   "id": "25b49910-549f-45ff-a035-ab468f364122",
   "metadata": {},
   "source": [
    "params = {\n",
    "    # Random Forest\n",
    "    'n_estimators': [100, 500, 1000],\n",
    "    'max_depth': [3, 5, 7],\n",
    "    'class_weight':['balanced', 'balanced_subsample', {0:1, 1:1}, {0:1, 1:2}, {0:1, 1:3}],\n",
    "    'criterion': ['gini', 'entropy']\n",
    "    # 'min_samples_split': [0.05, 0.1]\n",
    "    # 'model__max_features': ['auto', 'sqrt', 'log2']\n",
    "}"
   ]
  },
  {
   "cell_type": "raw",
   "id": "7f991254-e061-47c6-b3cc-93f089577b1a",
   "metadata": {
    "tags": []
   },
   "source": [
    "class SmoteMode(BaseEstimator, TransformerMixin):\n",
    "    \n",
    "    def __init__(self, on=True, sampling_strategy='auto'):\n",
    "\n",
    "        self.on = on\n",
    "        self.sampling_strategy = sampling_strategy\n",
    "        \n",
    "    def fit(self, X, y):\n",
    "        \n",
    "        self.sm = SMOTE(sampling_strategy=self.sampling_strategy, random_state=123)\n",
    "        \n",
    "        return self\n",
    "    \n",
    "    def transform(self, X, y):\n",
    "        \n",
    "        if self.on:\n",
    "            \n",
    "            X_new, y_new = self.sm.fit_resample(X, y)\n",
    "        \n",
    "        else:\n",
    "            pass\n",
    "        \n",
    "        return X_new, y_new"
   ]
  },
  {
   "cell_type": "raw",
   "id": "36dbea4f-c9c5-43d9-86e7-74a4c82d7ad3",
   "metadata": {},
   "source": [
    "class BalancingDataFrame(BaseEstimator, TransformerMixin):\n",
    "    \n",
    "    def __init__(self, how='over', method='SMOTE', p=0.50, col_target):\n",
    "\n",
    "        self.how = how  # ['over', 'under']\n",
    "        self.method = method # ['SMOTE', 'simple']\n",
    "        self.p = p # {0.00; 0.50}\n",
    "        \n",
    "    def fit(self, X, y=None):\n",
    "        \n",
    "        self.minority_class = X[self.col_target].value_counts().index[1]\n",
    "        self.majority_class = X[self.col_target].value_counts().index[0]\n",
    "            \n",
    "        self.n_minority = X[self.col_target].value_counts()[1]\n",
    "        self.n_majority = X[self.col_target].value_counts()[0]\n",
    "            \n",
    "        self.new_n_minority = int((self.p * self.n_majority) / (1 - self.p))\n",
    "        self.new_n_majority = int(((1 - self.p) * self.n_minority) / (1 - (1 - self.p)))\n",
    "\n",
    "        return self\n",
    "    \n",
    "    def transform(self, X, y=None):\n",
    "        \n",
    "        if self.method == 'simple':\n",
    "\n",
    "            elif self.how == 'over':\n",
    "\n",
    "                rows_to_add = self.new_n_minority - self.n_minority\n",
    "                new_rows = X[X[self.col_target] == self.minority_class].sample(rows_to_add)\n",
    "                X_new = pd.concat([X, new_rows], ignore_index=True).reset_index(drop=True)\n",
    "\n",
    "            elif self.how == 'under':\n",
    "\n",
    "                rows_to_drop = self.n_majority - self.new_n_majority\n",
    "                index_to_drop = X[X[self.col_target] == self.majority_class].sample(rows_to_drop).index\n",
    "                X_new = X_new.drop(index_to_drop).reset_index(drop=True)\n",
    "\n",
    "        elif self.method == 'SMOTE':\n",
    "            \n",
    "            sampling_strategy = np.round(self.new_n_minority / self.n_majority, decimals=2)\n",
    "            sm = SMOTE(sampling_strategy=sampling_strategy, k_neighbors=5, random_state=123)\n",
    "            X_res, y_res = sm.fit_resample(X.drop(self.col_target, axis=1), X[self.col_target])\n",
    "            X_new = pd.concat([X_res, y_res], axis=1)\n",
    "        \n",
    "        return X_new"
   ]
  },
  {
   "cell_type": "raw",
   "id": "aaa42697-6ee2-4154-863b-d5c13b53fd7d",
   "metadata": {},
   "source": [
    "class RandomForestEstimator(BaseEstimator, TransformerMixin):\n",
    "    \n",
    "    def __init__(self, n_estimators, max_depth, class_weight, criterion, min_samples_split, max_features, random_state):\n",
    "\n",
    "        self.n_estimators = n_estimators\n",
    "        self.max_depth = max_depth\n",
    "        self.class_weight = class_weight\n",
    "        self.criterion = criterion\n",
    "        self.min_samples_split = min_samples_split\n",
    "        self.max_features = max_features\n",
    "        self.random_state = random_state\n",
    "        \n",
    "    def fit(self, X, y=None):\n",
    "\n",
    "        self.rf = RandomForestClassifier(\n",
    "            n_estimators = self.n_estimators,\n",
    "            max_depth = self.max_depth,\n",
    "            class_weight = self.class_weight,\n",
    "            criterion = self.criterion,\n",
    "            min_samples_split = self.min_samples_split,\n",
    "            max_features = self.max_features,\n",
    "            random_state = self.random_state\n",
    "        )\n",
    "        \n",
    "        cols_pred = X.drop(['ID', 'TARGET'], axis=1)\n",
    "    \n",
    "        self.rf.fit(X[cols_pred], X['TARGET'])\n",
    "    \n",
    "        return self\n",
    "    \n",
    "    def transform(self, X, y=None):\n",
    "        \n",
    "        preds = self.rf.predict(X)\n",
    "        X['pred'] = preds\n",
    "        \n",
    "        return X"
   ]
  },
  {
   "cell_type": "raw",
   "id": "ab6d9fa4-66d0-4f88-89f1-2470cefc0edf",
   "metadata": {},
   "source": [
    "model_estimator = RandomForestClassifier()"
   ]
  },
  {
   "cell_type": "raw",
   "id": "7bc44710-c91c-446f-a860-84ac4746b8ef",
   "metadata": {},
   "source": [
    "pipeline = Pipeline([\n",
    "    \n",
    "    # balanceamento\n",
    "    ('balancing', BalancingDataFrame(how='over', method='SMOTE', p=0.5)),\n",
    "    \n",
    "    # numéricos\n",
    "    ('model', RandomForestClassifier())\n",
    "    \n",
    "])"
   ]
  },
  {
   "cell_type": "raw",
   "id": "e95000ed-86e1-45e7-8778-1bd63cc6973d",
   "metadata": {},
   "source": [
    "# definindo o range de parâmetros\n",
    "\n",
    "pipe_params = [\n",
    "\n",
    "    {\n",
    "        # Balanceamento\n",
    "        'balancing__how': ['over', 'under'],\n",
    "        'balancing__method': ['SMOTE', 'simple'],\n",
    "        'balancing__p': [0.0, 0.1, 0.2, 0.3, 0.4, 0.5],\n",
    "        \n",
    "        # Random Forest\n",
    "        'model__n_estimators': [100, 500, 1000],\n",
    "        'model__max_depth': [5, 7, 10, 12, 15],\n",
    "        'model__class_weight':[{0:1, 1:1}],\n",
    "        'model__criterion': ['gini', 'entropy'],\n",
    "        'model__min_samples_split': [0, 0.05, 0.1]\n",
    "        'model__max_features': ['auto', 'sqrt', 'log2'],\n",
    "        'model__random_state': [123]\n",
    "    },\n",
    "    \n",
    "    {\n",
    "        # Random Forest\n",
    "        'model__n_estimators': [100, 500, 1000],\n",
    "        'model__max_depth': [5, 7, 10, 12, 15],\n",
    "        'model__class_weight':['balanced', 'balanced_subsample', {0:1, 1:1}, {0:1, 1:2}, {0:1, 1:3}],\n",
    "        'model__criterion': ['gini', 'entropy'],\n",
    "        'model__min_samples_split': [0, 0.05, 0.1]\n",
    "        'model__max_features': ['auto', 'sqrt', 'log2'],\n",
    "        'model__random_state': [123]\n",
    "    }"
   ]
  },
  {
   "cell_type": "raw",
   "id": "29bedc84-936a-4266-9695-252df50ff3c7",
   "metadata": {},
   "source": [
    "gs_pipe = GridSearchCV(\n",
    "    estimator=pipeline,\n",
    "    param_grid=pipe_params,\n",
    "    cv=4,\n",
    "    scoring=cost, # Nossa função objetivo\n",
    "    n_jobs=-1,\n",
    "    return_train_score=True,\n",
    "    verbose=4\n",
    ")"
   ]
  },
  {
   "cell_type": "raw",
   "id": "01aeb861-068a-48b4-ac7a-4acde9f55c11",
   "metadata": {},
   "source": [
    "gs_pipe.fit(df_train, y_train)"
   ]
  },
  {
   "cell_type": "raw",
   "id": "e572133d-8bc9-499d-a1a3-b7791fc6b7c4",
   "metadata": {},
   "source": [
    "gs_pipe.best_params_"
   ]
  },
  {
   "cell_type": "markdown",
   "id": "00d60de1-d1fd-407f-b773-5b17556ac7ac",
   "metadata": {},
   "source": [
    "[Sumário](#Sumário)"
   ]
  }
 ],
 "metadata": {
  "kernelspec": {
   "display_name": "Python 3 (ipykernel)",
   "language": "python",
   "name": "python3"
  },
  "language_info": {
   "codemirror_mode": {
    "name": "ipython",
    "version": 3
   },
   "file_extension": ".py",
   "mimetype": "text/x-python",
   "name": "python",
   "nbconvert_exporter": "python",
   "pygments_lexer": "ipython3",
   "version": "3.9.7"
  }
 },
 "nbformat": 4,
 "nbformat_minor": 5
}
